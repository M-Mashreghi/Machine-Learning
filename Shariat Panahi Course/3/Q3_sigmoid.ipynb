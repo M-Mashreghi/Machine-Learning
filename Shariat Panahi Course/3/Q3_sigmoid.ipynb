{
  "nbformat": 4,
  "nbformat_minor": 0,
  "metadata": {
    "colab": {
      "provenance": [],
      "collapsed_sections": [
        "svMgW8RjwLcq",
        "yQGmkrlRpw5r"
      ]
    },
    "kernelspec": {
      "name": "python3",
      "display_name": "Python 3"
    },
    "language_info": {
      "name": "python"
    }
  },
  "cells": [
    {
      "cell_type": "markdown",
      "source": [
        "#Q3"
      ],
      "metadata": {
        "id": "UQ4NtaWUCMy6"
      }
    },
    {
      "cell_type": "markdown",
      "source": [
        "##creating database"
      ],
      "metadata": {
        "id": "5pLogomhEw-K"
      }
    },
    {
      "cell_type": "markdown",
      "source": [
        "###imports"
      ],
      "metadata": {
        "id": "uGOYe3TsCUF4"
      }
    },
    {
      "cell_type": "code",
      "source": [
        "from numpy.random import uniform\n",
        "from numpy import array\n",
        "import numpy as np"
      ],
      "metadata": {
        "id": "-YNce5RyCcLS"
      },
      "execution_count": 22,
      "outputs": []
    },
    {
      "cell_type": "markdown",
      "source": [
        "###create first data base with uniform dis"
      ],
      "metadata": {
        "id": "FubMn1iLCdKB"
      }
    },
    {
      "cell_type": "code",
      "execution_count": 23,
      "metadata": {
        "id": "4FUnDjv02-re",
        "colab": {
          "base_uri": "https://localhost:8080/"
        },
        "outputId": "1aabd937-f021-4b59-90c0-23fcbb6f9ca1"
      },
      "outputs": [
        {
          "output_type": "stream",
          "name": "stdout",
          "text": [
            "[[-1.10238561 -0.43085603]\n",
            " [ 1.09827419 -0.27121937]\n",
            " [ 0.08447048 -1.25145605]\n",
            " [-0.32859095  1.25207137]\n",
            " [-0.91146689 -0.65506381]\n",
            " [ 1.38829493 -0.10283463]\n",
            " [-1.3112781  -0.17546642]\n",
            " [-1.07773129  0.90886012]\n",
            " [-0.72360473  0.70199589]\n",
            " [-0.70588087  1.1275113 ]\n",
            " [-0.98218557 -0.2549954 ]\n",
            " [ 0.02981684 -1.12500306]\n",
            " [ 1.01158621  0.87860119]\n",
            " [-0.65694822  0.81703544]\n",
            " [-0.39475151  1.00389107]\n",
            " [ 0.32443903  0.94889481]\n",
            " [-1.17475555 -0.4749789 ]\n",
            " [-0.73068202 -0.76439019]\n",
            " [-0.83086648  0.96839528]\n",
            " [-0.73667642  0.87324301]\n",
            " [ 0.16904602 -1.24343219]\n",
            " [-0.56396772 -1.1078386 ]\n",
            " [ 0.79867557  0.63384989]\n",
            " [-1.14067166  0.21492632]\n",
            " [ 1.25401499  0.17684617]\n",
            " [ 0.93801878  0.56247651]\n",
            " [ 0.52829221 -1.11293338]\n",
            " [ 1.17952136 -0.71737983]\n",
            " [-1.16001095  0.31471358]\n",
            " [-0.55149844  0.94952219]\n",
            " [ 1.27910371  0.54875238]\n",
            " [-0.92408233  1.00171244]\n",
            " [ 0.94751019  0.98500522]\n",
            " [-0.78018546 -0.64342053]\n",
            " [ 0.68118898  0.82539916]\n",
            " [ 1.03385753  0.569133  ]\n",
            " [ 0.39024304  1.26578923]\n",
            " [-0.44875986  1.19526775]\n",
            " [ 1.2643956   0.22079486]\n",
            " [-1.28606323  0.50021758]\n",
            " [ 0.68229088  1.238373  ]\n",
            " [-0.77753084  0.95498772]\n",
            " [-1.21593095  0.04871612]\n",
            " [ 0.13009486  1.0895705 ]\n",
            " [ 1.15687377  0.3828532 ]\n",
            " [-0.3068039   1.16822637]\n",
            " [-0.5578806   0.99449922]\n",
            " [-1.21541164  0.59774425]\n",
            " [ 1.07135731 -0.30045759]\n",
            " [ 0.99353499 -0.22942156]\n",
            " [ 0.15600166  1.15108547]\n",
            " [-0.60746228 -0.9952812 ]\n",
            " [ 0.47097355 -1.09769486]\n",
            " [ 0.47625388  1.24388725]\n",
            " [-1.23873669 -0.047309  ]\n",
            " [-1.02063939  0.48996461]\n",
            " [-0.93612909 -0.81157079]\n",
            " [ 1.2515582  -0.07126496]\n",
            " [-0.35379814  1.32730396]\n",
            " [ 0.20478213  1.35531022]\n",
            " [-0.2370878   1.13242644]\n",
            " [ 0.43616165  1.15174814]\n",
            " [-1.00470586 -0.34125709]\n",
            " [-0.63227505  1.22044442]\n",
            " [-0.37569159  1.00235649]\n",
            " [ 0.75939512 -0.72565899]\n",
            " [ 1.19735693  0.09814509]\n",
            " [ 0.25155657  1.17924244]\n",
            " [-1.28386694  0.13073503]\n",
            " [ 1.37094138 -0.27698114]\n",
            " [ 0.86881085  0.67407565]\n",
            " [ 1.22555071  0.31683152]\n",
            " [-0.36047062 -1.29852337]\n",
            " [-0.81372408 -0.94413376]\n",
            " [-0.88349799  0.72240237]\n",
            " [ 0.31946089  1.26663702]\n",
            " [-1.17993315 -0.61251261]\n",
            " [ 1.2271444  -0.47358318]\n",
            " [-1.35353069  0.22136007]\n",
            " [ 1.04578008 -0.42969622]\n",
            " [ 0.53938382  1.08363615]\n",
            " [-0.11969121  1.30974944]\n",
            " [ 1.06147718 -0.23388873]\n",
            " [-0.58342451  0.8968916 ]\n",
            " [-0.46409137 -1.32081252]\n",
            " [-0.69602038 -1.18578634]\n",
            " [ 0.23420459 -1.05468299]\n",
            " [-0.98070363 -0.40291773]\n",
            " [-0.37719776 -0.9270663 ]\n",
            " [-0.7512845  -1.09348219]\n",
            " [ 1.25985496  0.01321173]\n",
            " [-1.22730186  0.34133534]\n",
            " [-1.20682293  0.20288092]\n",
            " [-1.06684506 -0.01613448]\n",
            " [-0.28351697 -1.08039477]\n",
            " [ 1.03966182 -0.78224315]\n",
            " [-0.94804508 -0.71904553]\n",
            " [ 1.29892876 -0.09679905]\n",
            " [-0.81667909  0.58039907]\n",
            " [-1.01674795  0.31251153]]\n"
          ]
        }
      ],
      "source": [
        "import numpy as np\n",
        "\n",
        "samples = 100\n",
        "lower_bound = -2**0.5\n",
        "upper_bound = 2**0.5\n",
        "\n",
        "X1 = np.empty((samples, 2))\n",
        "\n",
        "count = 0\n",
        "while count < samples:\n",
        "    x1, x2 = np.random.uniform(lower_bound, upper_bound, 2)\n",
        "    if 1 < x1**2 + x2**2 < 2:\n",
        "        X1[count] = [x1, x2]\n",
        "        count += 1\n",
        "    \n",
        "print(X1)"
      ]
    },
    {
      "cell_type": "markdown",
      "source": [
        "###create second data base with uniform dis"
      ],
      "metadata": {
        "id": "Vibn0RUXCnwr"
      }
    },
    {
      "cell_type": "code",
      "source": [
        "import numpy as np\n",
        "\n",
        "samples = 100\n",
        "\n",
        "lower_bound = -5**0.5\n",
        "upper_bound = 5**0.5\n",
        "\n",
        "X2 = np.empty((samples, 2))\n",
        "\n",
        "count = 0\n",
        "while count < samples:\n",
        "    x1, x2 = np.random.uniform(lower_bound, upper_bound, 2)\n",
        "    if 4 < x1**2 + x2**2 < 5:\n",
        "        X2[count] = [x1, x2]\n",
        "        count += 1\n",
        "    \n",
        "print(X2)"
      ],
      "metadata": {
        "colab": {
          "base_uri": "https://localhost:8080/"
        },
        "id": "EVA_Q71WQCce",
        "outputId": "ef2c27f0-d8d1-4d3d-f7fb-3b5709135b90"
      },
      "execution_count": 24,
      "outputs": [
        {
          "output_type": "stream",
          "name": "stdout",
          "text": [
            "[[-1.7976529  -1.11275623]\n",
            " [ 1.78347274 -1.02718119]\n",
            " [ 0.98283503  1.79212789]\n",
            " [-1.45288271  1.56862901]\n",
            " [-2.07819348 -0.15437784]\n",
            " [ 1.06609597  1.75440914]\n",
            " [-2.1725257   0.23628625]\n",
            " [ 0.36475086  2.12962642]\n",
            " [-0.72747057 -2.0907503 ]\n",
            " [ 2.03975474 -0.68302945]\n",
            " [ 1.63977109 -1.27035621]\n",
            " [ 0.40576021  2.00376208]\n",
            " [ 0.36445976  2.20137768]\n",
            " [-2.2193112  -0.22109372]\n",
            " [ 0.83101506  2.00073719]\n",
            " [ 1.73013207 -1.26568284]\n",
            " [ 1.83574725  0.91067997]\n",
            " [ 1.68093737  1.20957634]\n",
            " [-1.56567005 -1.24895271]\n",
            " [-1.13612757 -1.73027162]\n",
            " [ 0.65881039 -1.91445508]\n",
            " [ 0.89915905  1.87430527]\n",
            " [ 1.44661261 -1.69232836]\n",
            " [-1.81216457  0.9610363 ]\n",
            " [ 0.24364309 -2.03358034]\n",
            " [-0.38349275 -1.99907681]\n",
            " [-0.84056348 -2.06543647]\n",
            " [ 1.8274024  -1.09300932]\n",
            " [-0.27647458  2.04787393]\n",
            " [-1.47803287  1.44458194]\n",
            " [ 0.59287995 -2.11044023]\n",
            " [ 2.12142773  0.41373236]\n",
            " [-0.73093412  1.98128017]\n",
            " [-1.15839859  1.87935697]\n",
            " [ 1.9265981  -0.7998133 ]\n",
            " [ 2.07405801  0.33370626]\n",
            " [ 2.07468972  0.66579104]\n",
            " [-1.97631207  0.62510657]\n",
            " [ 0.92811162  1.92751313]\n",
            " [-0.05270113  2.04579812]\n",
            " [ 1.23773903 -1.60718266]\n",
            " [-1.65001637 -1.22113014]\n",
            " [ 1.59892772  1.46133536]\n",
            " [-1.91244359  1.00027185]\n",
            " [ 0.93015162  2.02953827]\n",
            " [ 1.88374324  0.70178379]\n",
            " [-1.65582929 -1.43511162]\n",
            " [-1.83217723 -1.01205861]\n",
            " [-1.59921201  1.21578353]\n",
            " [-2.11837623  0.30927946]\n",
            " [-0.92913838  1.7841612 ]\n",
            " [-0.29342709  2.0017543 ]\n",
            " [ 0.39490561  2.02588181]\n",
            " [-1.88397585 -0.69805845]\n",
            " [-0.9025993   1.91693143]\n",
            " [-2.12033554  0.034844  ]\n",
            " [ 1.44062549  1.65916102]\n",
            " [-1.5018412   1.36238334]\n",
            " [ 0.07811401  2.16213995]\n",
            " [-1.83160281  1.18616071]\n",
            " [ 1.89807392  1.09415638]\n",
            " [-1.89668591 -0.87614033]\n",
            " [ 1.95745097 -0.92911958]\n",
            " [ 1.74409965  0.99157886]\n",
            " [ 1.25155002  1.70625342]\n",
            " [ 1.9893881   0.44306808]\n",
            " [ 2.16538987 -0.05400683]\n",
            " [ 2.02256731 -0.02756792]\n",
            " [ 1.78514394 -0.94848336]\n",
            " [ 1.87033517 -1.11950659]\n",
            " [ 0.84485072  1.86507141]\n",
            " [-2.16939479  0.50476262]\n",
            " [ 0.63158897 -2.00027856]\n",
            " [ 1.99199994 -0.18946321]\n",
            " [-1.79418912 -1.16377091]\n",
            " [-1.98205375  1.00155547]\n",
            " [-0.82518637  1.98302926]\n",
            " [ 1.58403474  1.52765059]\n",
            " [ 1.68512855 -1.36559192]\n",
            " [-1.02955699  1.95096486]\n",
            " [ 1.87642902  1.04779339]\n",
            " [ 2.01550899 -0.43516619]\n",
            " [-1.72384432 -1.33315259]\n",
            " [-0.46101709  2.00303128]\n",
            " [-1.77848648  0.99837039]\n",
            " [ 2.13143923 -0.47502825]\n",
            " [-2.03298455  0.17372376]\n",
            " [ 1.4194126  -1.59441572]\n",
            " [-1.38566649  1.74567942]\n",
            " [-1.90272119 -0.88736758]\n",
            " [ 2.03792381  0.67385573]\n",
            " [-1.04773528  1.77048124]\n",
            " [ 1.82820625  0.90155219]\n",
            " [-1.36646208  1.62571823]\n",
            " [ 1.90383734  0.6866226 ]\n",
            " [-2.13301523  0.51916927]\n",
            " [-2.0214747  -0.91714517]\n",
            " [ 0.63794291  1.89790317]\n",
            " [-2.23036503  0.1431242 ]\n",
            " [ 1.62574674 -1.46955158]]\n"
          ]
        }
      ]
    },
    {
      "cell_type": "markdown",
      "source": [
        "###create labels"
      ],
      "metadata": {
        "id": "F1Fv2-_mD4nh"
      }
    },
    {
      "cell_type": "code",
      "source": [
        "from numpy import concatenate\n",
        "SAMPLE = 100\n",
        "Y=[];\n",
        "for i in range(SAMPLE):\n",
        "  Y.append(0)\n",
        "for i in range(SAMPLE):\n",
        "  Y.append(1)\n",
        "Y =array(Y)\n",
        "\n",
        "X =concatenate((X1,X2), axis=0)\n",
        "#print(len(X))\n",
        "#print((X))\n",
        "#print(Y)"
      ],
      "metadata": {
        "id": "DwgHOjqh1p95"
      },
      "execution_count": 25,
      "outputs": []
    },
    {
      "cell_type": "markdown",
      "source": [
        "## Importing the libraries\n"
      ],
      "metadata": {
        "id": "svMgW8RjwLcq"
      }
    },
    {
      "cell_type": "code",
      "source": [
        "import numpy as np\n",
        "import matplotlib.pyplot as plt\n",
        "import pandas as pd"
      ],
      "metadata": {
        "id": "UDmx8kpnwL7r"
      },
      "execution_count": 26,
      "outputs": []
    },
    {
      "cell_type": "markdown",
      "source": [
        "## Splitting the dataset into the Training set and Test set\n"
      ],
      "metadata": {
        "id": "yQGmkrlRpw5r"
      }
    },
    {
      "cell_type": "code",
      "source": [
        "from sklearn.model_selection import train_test_split\n",
        "X_train, X_test, y_train, y_test = train_test_split(X, Y, test_size = 0.25, random_state = 0)\n"
      ],
      "metadata": {
        "id": "tfSoTHUVwAt0"
      },
      "execution_count": 27,
      "outputs": []
    },
    {
      "cell_type": "markdown",
      "source": [
        "## Feature Scaling\n"
      ],
      "metadata": {
        "id": "ZlCkOAulwr6S"
      }
    },
    {
      "cell_type": "code",
      "source": [
        "from sklearn.preprocessing import StandardScaler\n",
        "sc = StandardScaler()\n",
        "X_train = sc.fit_transform(X_train)\n",
        "X_test = sc.transform(X_test)"
      ],
      "metadata": {
        "id": "UK27vN5Iwt-7"
      },
      "execution_count": 28,
      "outputs": []
    },
    {
      "cell_type": "markdown",
      "source": [
        "## Fitting SVM to the Training set with diffrent C\n"
      ],
      "metadata": {
        "id": "Rgtqp7XvySKr"
      }
    },
    {
      "cell_type": "code",
      "source": [
        "from sklearn.svm import SVC\n",
        "from sklearn.model_selection import KFold\n",
        "from sklearn.model_selection import cross_val_score\n",
        "from sklearn.metrics import confusion_matrix, accuracy_score\n",
        "from sklearn.metrics import precision_score\n",
        "from sklearn.metrics import recall_score\n",
        "from numpy import mean\n",
        "from numpy import std\n",
        "\n",
        "best_C = 0\n",
        "highest_mean_scores = 0\n",
        "i=0.1\n",
        "\n",
        "cv = KFold(n_splits=10, random_state=1, shuffle=True)\n",
        "\n",
        "\n",
        "\n",
        "while(i < 50):\n",
        "  classifier = SVC(C=i,kernel = 'sigmoid', random_state = 0)\n",
        "  classifier.fit(X_train, y_train)\n",
        "  scores = cross_val_score(classifier, X, Y, scoring='accuracy', cv=cv, n_jobs=-1)\n",
        "  print(\"C = %.1f\" % i,'Accuracy: %.4f (the standard deviation : %.3f)' % (mean(scores), std(scores)))\n",
        "  if(highest_mean_scores < mean(scores)):\n",
        "      highest_mean_scores = mean(scores)\n",
        "      best_C = i\n",
        "  i += 0.1\n",
        "print(\"best valume of C = \",best_C,\"highest mean scores = \", highest_mean_scores)"
      ],
      "metadata": {
        "colab": {
          "base_uri": "https://localhost:8080/"
        },
        "id": "wARzumN8yTD5",
        "outputId": "2188126e-cde4-4a84-b025-e12ee35c7063"
      },
      "execution_count": 29,
      "outputs": [
        {
          "output_type": "stream",
          "name": "stdout",
          "text": [
            "C = 0.1 Accuracy: 0.4100 (the standard deviation : 0.099)\n",
            "C = 0.2 Accuracy: 0.4300 (the standard deviation : 0.147)\n",
            "C = 0.3 Accuracy: 0.4350 (the standard deviation : 0.155)\n",
            "C = 0.4 Accuracy: 0.4650 (the standard deviation : 0.110)\n",
            "C = 0.5 Accuracy: 0.4600 (the standard deviation : 0.094)\n",
            "C = 0.6 Accuracy: 0.5150 (the standard deviation : 0.071)\n",
            "C = 0.7 Accuracy: 0.5400 (the standard deviation : 0.073)\n",
            "C = 0.8 Accuracy: 0.5650 (the standard deviation : 0.084)\n",
            "C = 0.9 Accuracy: 0.5300 (the standard deviation : 0.090)\n",
            "C = 1.0 Accuracy: 0.5150 (the standard deviation : 0.095)\n",
            "C = 1.1 Accuracy: 0.4950 (the standard deviation : 0.091)\n",
            "C = 1.2 Accuracy: 0.5000 (the standard deviation : 0.089)\n",
            "C = 1.3 Accuracy: 0.4800 (the standard deviation : 0.108)\n",
            "C = 1.4 Accuracy: 0.4850 (the standard deviation : 0.100)\n",
            "C = 1.5 Accuracy: 0.4850 (the standard deviation : 0.100)\n",
            "C = 1.6 Accuracy: 0.4850 (the standard deviation : 0.095)\n",
            "C = 1.7 Accuracy: 0.4950 (the standard deviation : 0.096)\n",
            "C = 1.8 Accuracy: 0.4800 (the standard deviation : 0.103)\n",
            "C = 1.9 Accuracy: 0.4700 (the standard deviation : 0.103)\n",
            "C = 2.0 Accuracy: 0.4650 (the standard deviation : 0.103)\n",
            "C = 2.1 Accuracy: 0.4900 (the standard deviation : 0.092)\n",
            "C = 2.2 Accuracy: 0.4900 (the standard deviation : 0.089)\n",
            "C = 2.3 Accuracy: 0.4900 (the standard deviation : 0.122)\n",
            "C = 2.4 Accuracy: 0.4900 (the standard deviation : 0.089)\n",
            "C = 2.5 Accuracy: 0.4750 (the standard deviation : 0.081)\n",
            "C = 2.6 Accuracy: 0.4850 (the standard deviation : 0.105)\n",
            "C = 2.7 Accuracy: 0.4750 (the standard deviation : 0.087)\n",
            "C = 2.8 Accuracy: 0.4600 (the standard deviation : 0.099)\n",
            "C = 2.9 Accuracy: 0.4550 (the standard deviation : 0.101)\n",
            "C = 3.0 Accuracy: 0.4550 (the standard deviation : 0.101)\n",
            "C = 3.1 Accuracy: 0.4600 (the standard deviation : 0.094)\n",
            "C = 3.2 Accuracy: 0.4500 (the standard deviation : 0.087)\n",
            "C = 3.3 Accuracy: 0.4450 (the standard deviation : 0.093)\n",
            "C = 3.4 Accuracy: 0.4500 (the standard deviation : 0.095)\n",
            "C = 3.5 Accuracy: 0.4600 (the standard deviation : 0.126)\n",
            "C = 3.6 Accuracy: 0.4650 (the standard deviation : 0.132)\n",
            "C = 3.7 Accuracy: 0.4750 (the standard deviation : 0.127)\n",
            "C = 3.8 Accuracy: 0.4750 (the standard deviation : 0.127)\n",
            "C = 3.9 Accuracy: 0.4700 (the standard deviation : 0.127)\n",
            "C = 4.0 Accuracy: 0.4800 (the standard deviation : 0.125)\n",
            "C = 4.1 Accuracy: 0.4850 (the standard deviation : 0.121)\n",
            "C = 4.2 Accuracy: 0.4900 (the standard deviation : 0.118)\n",
            "C = 4.3 Accuracy: 0.4750 (the standard deviation : 0.127)\n",
            "C = 4.4 Accuracy: 0.4700 (the standard deviation : 0.125)\n",
            "C = 4.5 Accuracy: 0.4650 (the standard deviation : 0.125)\n",
            "C = 4.6 Accuracy: 0.4550 (the standard deviation : 0.123)\n",
            "C = 4.7 Accuracy: 0.4650 (the standard deviation : 0.129)\n",
            "C = 4.8 Accuracy: 0.4750 (the standard deviation : 0.123)\n",
            "C = 4.9 Accuracy: 0.4750 (the standard deviation : 0.123)\n",
            "C = 5.0 Accuracy: 0.4700 (the standard deviation : 0.121)\n",
            "C = 5.1 Accuracy: 0.4750 (the standard deviation : 0.121)\n",
            "C = 5.2 Accuracy: 0.4800 (the standard deviation : 0.123)\n",
            "C = 5.3 Accuracy: 0.4800 (the standard deviation : 0.123)\n",
            "C = 5.4 Accuracy: 0.4700 (the standard deviation : 0.125)\n",
            "C = 5.5 Accuracy: 0.4500 (the standard deviation : 0.092)\n",
            "C = 5.6 Accuracy: 0.4600 (the standard deviation : 0.122)\n",
            "C = 5.7 Accuracy: 0.4600 (the standard deviation : 0.122)\n",
            "C = 5.8 Accuracy: 0.4600 (the standard deviation : 0.122)\n",
            "C = 5.9 Accuracy: 0.4700 (the standard deviation : 0.119)\n",
            "C = 6.0 Accuracy: 0.4700 (the standard deviation : 0.119)\n",
            "C = 6.1 Accuracy: 0.4700 (the standard deviation : 0.119)\n",
            "C = 6.2 Accuracy: 0.4700 (the standard deviation : 0.119)\n",
            "C = 6.3 Accuracy: 0.4600 (the standard deviation : 0.116)\n",
            "C = 6.4 Accuracy: 0.4650 (the standard deviation : 0.118)\n",
            "C = 6.5 Accuracy: 0.4700 (the standard deviation : 0.119)\n",
            "C = 6.6 Accuracy: 0.4700 (the standard deviation : 0.119)\n",
            "C = 6.7 Accuracy: 0.4750 (the standard deviation : 0.119)\n",
            "C = 6.8 Accuracy: 0.4700 (the standard deviation : 0.119)\n",
            "C = 6.9 Accuracy: 0.4700 (the standard deviation : 0.119)\n",
            "C = 7.0 Accuracy: 0.4700 (the standard deviation : 0.125)\n",
            "C = 7.1 Accuracy: 0.4700 (the standard deviation : 0.125)\n",
            "C = 7.2 Accuracy: 0.4700 (the standard deviation : 0.125)\n",
            "C = 7.3 Accuracy: 0.4700 (the standard deviation : 0.125)\n",
            "C = 7.4 Accuracy: 0.4800 (the standard deviation : 0.114)\n",
            "C = 7.5 Accuracy: 0.4800 (the standard deviation : 0.114)\n",
            "C = 7.6 Accuracy: 0.4800 (the standard deviation : 0.114)\n",
            "C = 7.7 Accuracy: 0.4800 (the standard deviation : 0.114)\n",
            "C = 7.8 Accuracy: 0.4800 (the standard deviation : 0.114)\n",
            "C = 7.9 Accuracy: 0.4800 (the standard deviation : 0.114)\n",
            "C = 8.0 Accuracy: 0.4800 (the standard deviation : 0.114)\n",
            "C = 8.1 Accuracy: 0.4800 (the standard deviation : 0.114)\n",
            "C = 8.2 Accuracy: 0.4800 (the standard deviation : 0.114)\n",
            "C = 8.3 Accuracy: 0.4800 (the standard deviation : 0.112)\n",
            "C = 8.4 Accuracy: 0.4750 (the standard deviation : 0.115)\n",
            "C = 8.5 Accuracy: 0.4650 (the standard deviation : 0.081)\n",
            "C = 8.6 Accuracy: 0.4650 (the standard deviation : 0.081)\n",
            "C = 8.7 Accuracy: 0.4600 (the standard deviation : 0.083)\n",
            "C = 8.8 Accuracy: 0.4650 (the standard deviation : 0.081)\n",
            "C = 8.9 Accuracy: 0.4800 (the standard deviation : 0.112)\n",
            "C = 9.0 Accuracy: 0.4800 (the standard deviation : 0.112)\n",
            "C = 9.1 Accuracy: 0.4800 (the standard deviation : 0.112)\n",
            "C = 9.2 Accuracy: 0.4900 (the standard deviation : 0.114)\n",
            "C = 9.3 Accuracy: 0.4850 (the standard deviation : 0.116)\n",
            "C = 9.4 Accuracy: 0.4850 (the standard deviation : 0.116)\n",
            "C = 9.5 Accuracy: 0.4850 (the standard deviation : 0.116)\n",
            "C = 9.6 Accuracy: 0.4900 (the standard deviation : 0.114)\n",
            "C = 9.7 Accuracy: 0.4850 (the standard deviation : 0.112)\n",
            "C = 9.8 Accuracy: 0.4800 (the standard deviation : 0.119)\n",
            "C = 9.9 Accuracy: 0.4700 (the standard deviation : 0.098)\n",
            "C = 10.0 Accuracy: 0.4650 (the standard deviation : 0.100)\n",
            "C = 10.1 Accuracy: 0.4650 (the standard deviation : 0.100)\n",
            "C = 10.2 Accuracy: 0.4650 (the standard deviation : 0.090)\n",
            "C = 10.3 Accuracy: 0.4600 (the standard deviation : 0.086)\n",
            "C = 10.4 Accuracy: 0.4600 (the standard deviation : 0.086)\n",
            "C = 10.5 Accuracy: 0.4600 (the standard deviation : 0.086)\n",
            "C = 10.6 Accuracy: 0.4600 (the standard deviation : 0.086)\n",
            "C = 10.7 Accuracy: 0.4600 (the standard deviation : 0.086)\n",
            "C = 10.8 Accuracy: 0.4600 (the standard deviation : 0.086)\n",
            "C = 10.9 Accuracy: 0.4600 (the standard deviation : 0.086)\n",
            "C = 11.0 Accuracy: 0.4700 (the standard deviation : 0.078)\n",
            "C = 11.1 Accuracy: 0.4700 (the standard deviation : 0.078)\n",
            "C = 11.2 Accuracy: 0.4650 (the standard deviation : 0.081)\n",
            "C = 11.3 Accuracy: 0.4600 (the standard deviation : 0.083)\n",
            "C = 11.4 Accuracy: 0.4650 (the standard deviation : 0.081)\n",
            "C = 11.5 Accuracy: 0.4650 (the standard deviation : 0.081)\n",
            "C = 11.6 Accuracy: 0.4650 (the standard deviation : 0.081)\n",
            "C = 11.7 Accuracy: 0.4650 (the standard deviation : 0.081)\n",
            "C = 11.8 Accuracy: 0.4650 (the standard deviation : 0.081)\n",
            "C = 11.9 Accuracy: 0.4650 (the standard deviation : 0.081)\n",
            "C = 12.0 Accuracy: 0.4700 (the standard deviation : 0.084)\n",
            "C = 12.1 Accuracy: 0.4700 (the standard deviation : 0.084)\n",
            "C = 12.2 Accuracy: 0.4700 (the standard deviation : 0.084)\n",
            "C = 12.3 Accuracy: 0.4750 (the standard deviation : 0.093)\n",
            "C = 12.4 Accuracy: 0.4750 (the standard deviation : 0.093)\n",
            "C = 12.5 Accuracy: 0.4750 (the standard deviation : 0.093)\n",
            "C = 12.6 Accuracy: 0.4750 (the standard deviation : 0.093)\n",
            "C = 12.7 Accuracy: 0.4750 (the standard deviation : 0.093)\n",
            "C = 12.8 Accuracy: 0.4750 (the standard deviation : 0.087)\n",
            "C = 12.9 Accuracy: 0.4700 (the standard deviation : 0.078)\n",
            "C = 13.0 Accuracy: 0.4700 (the standard deviation : 0.078)\n",
            "C = 13.1 Accuracy: 0.4700 (the standard deviation : 0.078)\n",
            "C = 13.2 Accuracy: 0.4700 (the standard deviation : 0.078)\n",
            "C = 13.3 Accuracy: 0.4750 (the standard deviation : 0.075)\n",
            "C = 13.4 Accuracy: 0.4750 (the standard deviation : 0.075)\n",
            "C = 13.5 Accuracy: 0.4700 (the standard deviation : 0.078)\n",
            "C = 13.6 Accuracy: 0.4850 (the standard deviation : 0.110)\n",
            "C = 13.7 Accuracy: 0.4900 (the standard deviation : 0.107)\n",
            "C = 13.8 Accuracy: 0.4900 (the standard deviation : 0.107)\n",
            "C = 13.9 Accuracy: 0.4900 (the standard deviation : 0.107)\n",
            "C = 14.0 Accuracy: 0.4900 (the standard deviation : 0.107)\n",
            "C = 14.1 Accuracy: 0.4900 (the standard deviation : 0.107)\n",
            "C = 14.2 Accuracy: 0.4950 (the standard deviation : 0.106)\n",
            "C = 14.3 Accuracy: 0.4950 (the standard deviation : 0.106)\n",
            "C = 14.4 Accuracy: 0.4900 (the standard deviation : 0.107)\n",
            "C = 14.5 Accuracy: 0.4950 (the standard deviation : 0.106)\n",
            "C = 14.6 Accuracy: 0.4950 (the standard deviation : 0.106)\n",
            "C = 14.7 Accuracy: 0.4950 (the standard deviation : 0.106)\n",
            "C = 14.8 Accuracy: 0.4800 (the standard deviation : 0.114)\n",
            "C = 14.9 Accuracy: 0.4800 (the standard deviation : 0.110)\n",
            "C = 15.0 Accuracy: 0.4800 (the standard deviation : 0.110)\n",
            "C = 15.1 Accuracy: 0.4800 (the standard deviation : 0.112)\n",
            "C = 15.2 Accuracy: 0.4800 (the standard deviation : 0.112)\n",
            "C = 15.3 Accuracy: 0.4750 (the standard deviation : 0.117)\n",
            "C = 15.4 Accuracy: 0.4750 (the standard deviation : 0.117)\n",
            "C = 15.5 Accuracy: 0.4750 (the standard deviation : 0.117)\n",
            "C = 15.6 Accuracy: 0.4750 (the standard deviation : 0.117)\n",
            "C = 15.7 Accuracy: 0.4750 (the standard deviation : 0.117)\n",
            "C = 15.8 Accuracy: 0.4700 (the standard deviation : 0.117)\n",
            "C = 15.9 Accuracy: 0.4700 (the standard deviation : 0.117)\n",
            "C = 16.0 Accuracy: 0.4750 (the standard deviation : 0.117)\n",
            "C = 16.1 Accuracy: 0.4800 (the standard deviation : 0.114)\n",
            "C = 16.2 Accuracy: 0.4750 (the standard deviation : 0.112)\n",
            "C = 16.3 Accuracy: 0.4700 (the standard deviation : 0.112)\n",
            "C = 16.4 Accuracy: 0.4750 (the standard deviation : 0.112)\n",
            "C = 16.5 Accuracy: 0.4800 (the standard deviation : 0.114)\n",
            "C = 16.6 Accuracy: 0.4800 (the standard deviation : 0.114)\n",
            "C = 16.7 Accuracy: 0.4800 (the standard deviation : 0.114)\n",
            "C = 16.8 Accuracy: 0.4800 (the standard deviation : 0.114)\n",
            "C = 16.9 Accuracy: 0.4800 (the standard deviation : 0.114)\n",
            "C = 17.0 Accuracy: 0.4800 (the standard deviation : 0.114)\n",
            "C = 17.1 Accuracy: 0.4800 (the standard deviation : 0.114)\n",
            "C = 17.2 Accuracy: 0.4800 (the standard deviation : 0.114)\n",
            "C = 17.3 Accuracy: 0.4800 (the standard deviation : 0.114)\n",
            "C = 17.4 Accuracy: 0.4800 (the standard deviation : 0.114)\n",
            "C = 17.5 Accuracy: 0.4800 (the standard deviation : 0.114)\n",
            "C = 17.6 Accuracy: 0.4800 (the standard deviation : 0.114)\n",
            "C = 17.7 Accuracy: 0.4800 (the standard deviation : 0.114)\n",
            "C = 17.8 Accuracy: 0.4800 (the standard deviation : 0.114)\n",
            "C = 17.9 Accuracy: 0.4650 (the standard deviation : 0.084)\n",
            "C = 18.0 Accuracy: 0.4650 (the standard deviation : 0.084)\n",
            "C = 18.1 Accuracy: 0.4650 (the standard deviation : 0.084)\n",
            "C = 18.2 Accuracy: 0.4650 (the standard deviation : 0.084)\n",
            "C = 18.3 Accuracy: 0.4650 (the standard deviation : 0.084)\n",
            "C = 18.4 Accuracy: 0.4700 (the standard deviation : 0.093)\n",
            "C = 18.5 Accuracy: 0.4700 (the standard deviation : 0.093)\n",
            "C = 18.6 Accuracy: 0.4700 (the standard deviation : 0.093)\n",
            "C = 18.7 Accuracy: 0.4700 (the standard deviation : 0.093)\n",
            "C = 18.8 Accuracy: 0.4700 (the standard deviation : 0.093)\n",
            "C = 18.9 Accuracy: 0.4800 (the standard deviation : 0.114)\n",
            "C = 19.0 Accuracy: 0.4800 (the standard deviation : 0.114)\n",
            "C = 19.1 Accuracy: 0.4800 (the standard deviation : 0.114)\n",
            "C = 19.2 Accuracy: 0.4650 (the standard deviation : 0.084)\n",
            "C = 19.3 Accuracy: 0.4650 (the standard deviation : 0.084)\n",
            "C = 19.4 Accuracy: 0.4650 (the standard deviation : 0.084)\n",
            "C = 19.5 Accuracy: 0.4650 (the standard deviation : 0.084)\n",
            "C = 19.6 Accuracy: 0.4650 (the standard deviation : 0.084)\n",
            "C = 19.7 Accuracy: 0.4600 (the standard deviation : 0.080)\n",
            "C = 19.8 Accuracy: 0.4600 (the standard deviation : 0.080)\n",
            "C = 19.9 Accuracy: 0.4600 (the standard deviation : 0.080)\n",
            "C = 20.0 Accuracy: 0.4600 (the standard deviation : 0.080)\n",
            "C = 20.1 Accuracy: 0.4600 (the standard deviation : 0.080)\n",
            "C = 20.2 Accuracy: 0.4600 (the standard deviation : 0.080)\n",
            "C = 20.3 Accuracy: 0.4600 (the standard deviation : 0.080)\n",
            "C = 20.4 Accuracy: 0.4600 (the standard deviation : 0.080)\n",
            "C = 20.5 Accuracy: 0.4600 (the standard deviation : 0.080)\n",
            "C = 20.6 Accuracy: 0.4600 (the standard deviation : 0.080)\n",
            "C = 20.7 Accuracy: 0.4600 (the standard deviation : 0.080)\n",
            "C = 20.8 Accuracy: 0.4600 (the standard deviation : 0.080)\n",
            "C = 20.9 Accuracy: 0.4600 (the standard deviation : 0.080)\n",
            "C = 21.0 Accuracy: 0.4600 (the standard deviation : 0.080)\n",
            "C = 21.1 Accuracy: 0.4600 (the standard deviation : 0.080)\n",
            "C = 21.2 Accuracy: 0.4650 (the standard deviation : 0.078)\n",
            "C = 21.3 Accuracy: 0.4650 (the standard deviation : 0.078)\n",
            "C = 21.4 Accuracy: 0.4650 (the standard deviation : 0.078)\n",
            "C = 21.5 Accuracy: 0.4650 (the standard deviation : 0.078)\n",
            "C = 21.6 Accuracy: 0.4650 (the standard deviation : 0.078)\n",
            "C = 21.7 Accuracy: 0.4650 (the standard deviation : 0.078)\n",
            "C = 21.8 Accuracy: 0.4650 (the standard deviation : 0.078)\n",
            "C = 21.9 Accuracy: 0.4650 (the standard deviation : 0.078)\n",
            "C = 22.0 Accuracy: 0.4650 (the standard deviation : 0.078)\n",
            "C = 22.1 Accuracy: 0.4550 (the standard deviation : 0.091)\n",
            "C = 22.2 Accuracy: 0.4700 (the standard deviation : 0.121)\n",
            "C = 22.3 Accuracy: 0.4750 (the standard deviation : 0.123)\n",
            "C = 22.4 Accuracy: 0.4750 (the standard deviation : 0.123)\n",
            "C = 22.5 Accuracy: 0.4750 (the standard deviation : 0.123)\n",
            "C = 22.6 Accuracy: 0.4750 (the standard deviation : 0.123)\n",
            "C = 22.7 Accuracy: 0.4750 (the standard deviation : 0.123)\n",
            "C = 22.8 Accuracy: 0.4750 (the standard deviation : 0.123)\n",
            "C = 22.9 Accuracy: 0.4750 (the standard deviation : 0.123)\n",
            "C = 23.0 Accuracy: 0.4750 (the standard deviation : 0.123)\n",
            "C = 23.1 Accuracy: 0.4750 (the standard deviation : 0.123)\n",
            "C = 23.2 Accuracy: 0.4750 (the standard deviation : 0.123)\n",
            "C = 23.3 Accuracy: 0.4750 (the standard deviation : 0.123)\n",
            "C = 23.4 Accuracy: 0.4750 (the standard deviation : 0.123)\n",
            "C = 23.5 Accuracy: 0.4750 (the standard deviation : 0.123)\n",
            "C = 23.6 Accuracy: 0.4750 (the standard deviation : 0.123)\n",
            "C = 23.7 Accuracy: 0.4750 (the standard deviation : 0.123)\n",
            "C = 23.8 Accuracy: 0.4750 (the standard deviation : 0.123)\n",
            "C = 23.9 Accuracy: 0.4750 (the standard deviation : 0.123)\n",
            "C = 24.0 Accuracy: 0.4750 (the standard deviation : 0.123)\n",
            "C = 24.1 Accuracy: 0.4750 (the standard deviation : 0.123)\n",
            "C = 24.2 Accuracy: 0.4750 (the standard deviation : 0.123)\n",
            "C = 24.3 Accuracy: 0.4750 (the standard deviation : 0.123)\n",
            "C = 24.4 Accuracy: 0.4750 (the standard deviation : 0.123)\n",
            "C = 24.5 Accuracy: 0.4750 (the standard deviation : 0.123)\n",
            "C = 24.6 Accuracy: 0.4750 (the standard deviation : 0.123)\n",
            "C = 24.7 Accuracy: 0.4750 (the standard deviation : 0.123)\n",
            "C = 24.8 Accuracy: 0.4750 (the standard deviation : 0.123)\n",
            "C = 24.9 Accuracy: 0.4750 (the standard deviation : 0.123)\n",
            "C = 25.0 Accuracy: 0.4750 (the standard deviation : 0.123)\n",
            "C = 25.1 Accuracy: 0.4750 (the standard deviation : 0.123)\n",
            "C = 25.2 Accuracy: 0.4750 (the standard deviation : 0.123)\n",
            "C = 25.3 Accuracy: 0.4750 (the standard deviation : 0.123)\n",
            "C = 25.4 Accuracy: 0.4750 (the standard deviation : 0.123)\n",
            "C = 25.5 Accuracy: 0.4750 (the standard deviation : 0.123)\n",
            "C = 25.6 Accuracy: 0.4750 (the standard deviation : 0.123)\n",
            "C = 25.7 Accuracy: 0.4750 (the standard deviation : 0.123)\n",
            "C = 25.8 Accuracy: 0.4750 (the standard deviation : 0.123)\n",
            "C = 25.9 Accuracy: 0.4750 (the standard deviation : 0.123)\n",
            "C = 26.0 Accuracy: 0.4750 (the standard deviation : 0.123)\n",
            "C = 26.1 Accuracy: 0.4750 (the standard deviation : 0.123)\n",
            "C = 26.2 Accuracy: 0.4800 (the standard deviation : 0.123)\n",
            "C = 26.3 Accuracy: 0.4800 (the standard deviation : 0.123)\n",
            "C = 26.4 Accuracy: 0.4800 (the standard deviation : 0.123)\n",
            "C = 26.5 Accuracy: 0.4800 (the standard deviation : 0.123)\n",
            "C = 26.6 Accuracy: 0.4800 (the standard deviation : 0.123)\n",
            "C = 26.7 Accuracy: 0.4800 (the standard deviation : 0.123)\n",
            "C = 26.8 Accuracy: 0.4800 (the standard deviation : 0.123)\n",
            "C = 26.9 Accuracy: 0.4800 (the standard deviation : 0.123)\n",
            "C = 27.0 Accuracy: 0.4800 (the standard deviation : 0.123)\n",
            "C = 27.1 Accuracy: 0.4800 (the standard deviation : 0.123)\n",
            "C = 27.2 Accuracy: 0.4800 (the standard deviation : 0.123)\n",
            "C = 27.3 Accuracy: 0.4800 (the standard deviation : 0.123)\n",
            "C = 27.4 Accuracy: 0.4800 (the standard deviation : 0.123)\n",
            "C = 27.5 Accuracy: 0.4800 (the standard deviation : 0.123)\n",
            "C = 27.6 Accuracy: 0.4800 (the standard deviation : 0.123)\n",
            "C = 27.7 Accuracy: 0.4800 (the standard deviation : 0.123)\n",
            "C = 27.8 Accuracy: 0.4800 (the standard deviation : 0.123)\n",
            "C = 27.9 Accuracy: 0.4800 (the standard deviation : 0.123)\n",
            "C = 28.0 Accuracy: 0.4800 (the standard deviation : 0.123)\n",
            "C = 28.1 Accuracy: 0.4800 (the standard deviation : 0.123)\n",
            "C = 28.2 Accuracy: 0.4800 (the standard deviation : 0.123)\n",
            "C = 28.3 Accuracy: 0.4800 (the standard deviation : 0.123)\n",
            "C = 28.4 Accuracy: 0.4800 (the standard deviation : 0.123)\n",
            "C = 28.5 Accuracy: 0.4800 (the standard deviation : 0.123)\n",
            "C = 28.6 Accuracy: 0.4800 (the standard deviation : 0.123)\n",
            "C = 28.7 Accuracy: 0.4800 (the standard deviation : 0.123)\n",
            "C = 28.8 Accuracy: 0.4800 (the standard deviation : 0.123)\n",
            "C = 28.9 Accuracy: 0.4800 (the standard deviation : 0.123)\n",
            "C = 29.0 Accuracy: 0.4800 (the standard deviation : 0.123)\n",
            "C = 29.1 Accuracy: 0.4800 (the standard deviation : 0.123)\n",
            "C = 29.2 Accuracy: 0.4800 (the standard deviation : 0.123)\n",
            "C = 29.3 Accuracy: 0.4800 (the standard deviation : 0.123)\n",
            "C = 29.4 Accuracy: 0.4800 (the standard deviation : 0.123)\n",
            "C = 29.5 Accuracy: 0.4800 (the standard deviation : 0.123)\n",
            "C = 29.6 Accuracy: 0.4800 (the standard deviation : 0.123)\n",
            "C = 29.7 Accuracy: 0.4800 (the standard deviation : 0.123)\n",
            "C = 29.8 Accuracy: 0.4750 (the standard deviation : 0.123)\n",
            "C = 29.9 Accuracy: 0.4750 (the standard deviation : 0.123)\n",
            "C = 30.0 Accuracy: 0.4750 (the standard deviation : 0.123)\n",
            "C = 30.1 Accuracy: 0.4750 (the standard deviation : 0.123)\n",
            "C = 30.2 Accuracy: 0.4750 (the standard deviation : 0.123)\n",
            "C = 30.3 Accuracy: 0.4850 (the standard deviation : 0.112)\n",
            "C = 30.4 Accuracy: 0.4850 (the standard deviation : 0.112)\n",
            "C = 30.5 Accuracy: 0.4850 (the standard deviation : 0.112)\n",
            "C = 30.6 Accuracy: 0.4850 (the standard deviation : 0.112)\n",
            "C = 30.7 Accuracy: 0.4850 (the standard deviation : 0.112)\n",
            "C = 30.8 Accuracy: 0.4850 (the standard deviation : 0.112)\n",
            "C = 30.9 Accuracy: 0.4850 (the standard deviation : 0.112)\n",
            "C = 31.0 Accuracy: 0.5000 (the standard deviation : 0.102)\n",
            "C = 31.1 Accuracy: 0.5000 (the standard deviation : 0.102)\n",
            "C = 31.2 Accuracy: 0.5000 (the standard deviation : 0.102)\n",
            "C = 31.3 Accuracy: 0.5000 (the standard deviation : 0.102)\n",
            "C = 31.4 Accuracy: 0.5000 (the standard deviation : 0.102)\n",
            "C = 31.5 Accuracy: 0.5000 (the standard deviation : 0.102)\n",
            "C = 31.6 Accuracy: 0.5000 (the standard deviation : 0.102)\n",
            "C = 31.7 Accuracy: 0.5000 (the standard deviation : 0.102)\n",
            "C = 31.8 Accuracy: 0.5000 (the standard deviation : 0.102)\n",
            "C = 31.9 Accuracy: 0.5000 (the standard deviation : 0.102)\n",
            "C = 32.0 Accuracy: 0.5000 (the standard deviation : 0.102)\n",
            "C = 32.1 Accuracy: 0.5000 (the standard deviation : 0.102)\n",
            "C = 32.2 Accuracy: 0.5000 (the standard deviation : 0.102)\n",
            "C = 32.3 Accuracy: 0.5000 (the standard deviation : 0.102)\n",
            "C = 32.4 Accuracy: 0.5000 (the standard deviation : 0.102)\n",
            "C = 32.5 Accuracy: 0.5000 (the standard deviation : 0.102)\n",
            "C = 32.6 Accuracy: 0.5000 (the standard deviation : 0.102)\n",
            "C = 32.7 Accuracy: 0.4950 (the standard deviation : 0.106)\n",
            "C = 32.8 Accuracy: 0.4950 (the standard deviation : 0.106)\n",
            "C = 32.9 Accuracy: 0.5000 (the standard deviation : 0.102)\n",
            "C = 33.0 Accuracy: 0.5000 (the standard deviation : 0.102)\n",
            "C = 33.1 Accuracy: 0.5000 (the standard deviation : 0.102)\n",
            "C = 33.2 Accuracy: 0.5000 (the standard deviation : 0.102)\n",
            "C = 33.3 Accuracy: 0.5000 (the standard deviation : 0.102)\n",
            "C = 33.4 Accuracy: 0.5000 (the standard deviation : 0.102)\n",
            "C = 33.5 Accuracy: 0.4750 (the standard deviation : 0.123)\n",
            "C = 33.6 Accuracy: 0.4750 (the standard deviation : 0.123)\n",
            "C = 33.7 Accuracy: 0.4850 (the standard deviation : 0.112)\n",
            "C = 33.8 Accuracy: 0.4850 (the standard deviation : 0.112)\n",
            "C = 33.9 Accuracy: 0.4800 (the standard deviation : 0.114)\n",
            "C = 34.0 Accuracy: 0.4800 (the standard deviation : 0.114)\n",
            "C = 34.1 Accuracy: 0.4800 (the standard deviation : 0.114)\n",
            "C = 34.2 Accuracy: 0.4800 (the standard deviation : 0.114)\n",
            "C = 34.3 Accuracy: 0.4800 (the standard deviation : 0.114)\n",
            "C = 34.4 Accuracy: 0.4800 (the standard deviation : 0.114)\n",
            "C = 34.5 Accuracy: 0.4800 (the standard deviation : 0.114)\n",
            "C = 34.6 Accuracy: 0.4800 (the standard deviation : 0.114)\n",
            "C = 34.7 Accuracy: 0.4800 (the standard deviation : 0.075)\n",
            "C = 34.8 Accuracy: 0.4800 (the standard deviation : 0.075)\n",
            "C = 34.9 Accuracy: 0.4800 (the standard deviation : 0.075)\n",
            "C = 35.0 Accuracy: 0.4800 (the standard deviation : 0.075)\n",
            "C = 35.1 Accuracy: 0.4800 (the standard deviation : 0.075)\n",
            "C = 35.2 Accuracy: 0.4750 (the standard deviation : 0.081)\n",
            "C = 35.3 Accuracy: 0.4750 (the standard deviation : 0.081)\n",
            "C = 35.4 Accuracy: 0.4750 (the standard deviation : 0.081)\n",
            "C = 35.5 Accuracy: 0.4750 (the standard deviation : 0.081)\n",
            "C = 35.6 Accuracy: 0.4750 (the standard deviation : 0.081)\n",
            "C = 35.7 Accuracy: 0.4750 (the standard deviation : 0.081)\n",
            "C = 35.8 Accuracy: 0.4900 (the standard deviation : 0.111)\n",
            "C = 35.9 Accuracy: 0.4900 (the standard deviation : 0.111)\n",
            "C = 36.0 Accuracy: 0.4900 (the standard deviation : 0.111)\n",
            "C = 36.1 Accuracy: 0.4900 (the standard deviation : 0.111)\n",
            "C = 36.2 Accuracy: 0.4900 (the standard deviation : 0.111)\n",
            "C = 36.3 Accuracy: 0.4900 (the standard deviation : 0.111)\n",
            "C = 36.4 Accuracy: 0.4900 (the standard deviation : 0.111)\n",
            "C = 36.5 Accuracy: 0.4900 (the standard deviation : 0.111)\n",
            "C = 36.6 Accuracy: 0.4900 (the standard deviation : 0.111)\n",
            "C = 36.7 Accuracy: 0.4900 (the standard deviation : 0.111)\n",
            "C = 36.8 Accuracy: 0.4900 (the standard deviation : 0.111)\n",
            "C = 36.9 Accuracy: 0.4750 (the standard deviation : 0.119)\n",
            "C = 37.0 Accuracy: 0.4750 (the standard deviation : 0.119)\n",
            "C = 37.1 Accuracy: 0.4750 (the standard deviation : 0.119)\n",
            "C = 37.2 Accuracy: 0.4750 (the standard deviation : 0.119)\n",
            "C = 37.3 Accuracy: 0.4750 (the standard deviation : 0.119)\n",
            "C = 37.4 Accuracy: 0.4750 (the standard deviation : 0.119)\n",
            "C = 37.5 Accuracy: 0.4750 (the standard deviation : 0.119)\n",
            "C = 37.6 Accuracy: 0.4750 (the standard deviation : 0.119)\n",
            "C = 37.7 Accuracy: 0.4750 (the standard deviation : 0.119)\n",
            "C = 37.8 Accuracy: 0.4750 (the standard deviation : 0.119)\n",
            "C = 37.9 Accuracy: 0.4750 (the standard deviation : 0.119)\n",
            "C = 38.0 Accuracy: 0.4750 (the standard deviation : 0.119)\n",
            "C = 38.1 Accuracy: 0.4750 (the standard deviation : 0.119)\n",
            "C = 38.2 Accuracy: 0.4750 (the standard deviation : 0.119)\n",
            "C = 38.3 Accuracy: 0.4750 (the standard deviation : 0.119)\n",
            "C = 38.4 Accuracy: 0.4750 (the standard deviation : 0.119)\n",
            "C = 38.5 Accuracy: 0.4750 (the standard deviation : 0.119)\n",
            "C = 38.6 Accuracy: 0.4750 (the standard deviation : 0.119)\n",
            "C = 38.7 Accuracy: 0.4750 (the standard deviation : 0.119)\n",
            "C = 38.8 Accuracy: 0.4750 (the standard deviation : 0.119)\n",
            "C = 38.9 Accuracy: 0.4750 (the standard deviation : 0.119)\n",
            "C = 39.0 Accuracy: 0.4750 (the standard deviation : 0.119)\n",
            "C = 39.1 Accuracy: 0.4750 (the standard deviation : 0.119)\n",
            "C = 39.2 Accuracy: 0.4750 (the standard deviation : 0.119)\n",
            "C = 39.3 Accuracy: 0.4750 (the standard deviation : 0.119)\n",
            "C = 39.4 Accuracy: 0.4750 (the standard deviation : 0.119)\n",
            "C = 39.5 Accuracy: 0.4750 (the standard deviation : 0.119)\n",
            "C = 39.6 Accuracy: 0.4750 (the standard deviation : 0.119)\n",
            "C = 39.7 Accuracy: 0.4750 (the standard deviation : 0.119)\n",
            "C = 39.8 Accuracy: 0.4750 (the standard deviation : 0.119)\n",
            "C = 39.9 Accuracy: 0.4750 (the standard deviation : 0.119)\n",
            "C = 40.0 Accuracy: 0.4750 (the standard deviation : 0.119)\n",
            "C = 40.1 Accuracy: 0.4750 (the standard deviation : 0.119)\n",
            "C = 40.2 Accuracy: 0.4750 (the standard deviation : 0.119)\n",
            "C = 40.3 Accuracy: 0.4750 (the standard deviation : 0.119)\n",
            "C = 40.4 Accuracy: 0.4750 (the standard deviation : 0.119)\n",
            "C = 40.5 Accuracy: 0.4750 (the standard deviation : 0.119)\n",
            "C = 40.6 Accuracy: 0.4750 (the standard deviation : 0.119)\n",
            "C = 40.7 Accuracy: 0.4750 (the standard deviation : 0.119)\n",
            "C = 40.8 Accuracy: 0.4750 (the standard deviation : 0.119)\n",
            "C = 40.9 Accuracy: 0.4750 (the standard deviation : 0.119)\n",
            "C = 41.0 Accuracy: 0.4750 (the standard deviation : 0.119)\n",
            "C = 41.1 Accuracy: 0.4750 (the standard deviation : 0.119)\n",
            "C = 41.2 Accuracy: 0.4750 (the standard deviation : 0.119)\n",
            "C = 41.3 Accuracy: 0.4750 (the standard deviation : 0.119)\n",
            "C = 41.4 Accuracy: 0.4750 (the standard deviation : 0.119)\n",
            "C = 41.5 Accuracy: 0.4750 (the standard deviation : 0.119)\n",
            "C = 41.6 Accuracy: 0.4750 (the standard deviation : 0.119)\n",
            "C = 41.7 Accuracy: 0.4750 (the standard deviation : 0.119)\n",
            "C = 41.8 Accuracy: 0.4750 (the standard deviation : 0.119)\n",
            "C = 41.9 Accuracy: 0.4750 (the standard deviation : 0.119)\n",
            "C = 42.0 Accuracy: 0.4750 (the standard deviation : 0.119)\n",
            "C = 42.1 Accuracy: 0.4700 (the standard deviation : 0.117)\n",
            "C = 42.2 Accuracy: 0.4700 (the standard deviation : 0.117)\n",
            "C = 42.3 Accuracy: 0.4700 (the standard deviation : 0.117)\n",
            "C = 42.4 Accuracy: 0.4700 (the standard deviation : 0.117)\n",
            "C = 42.5 Accuracy: 0.4700 (the standard deviation : 0.117)\n",
            "C = 42.6 Accuracy: 0.4700 (the standard deviation : 0.117)\n",
            "C = 42.7 Accuracy: 0.4700 (the standard deviation : 0.117)\n",
            "C = 42.8 Accuracy: 0.4700 (the standard deviation : 0.117)\n",
            "C = 42.9 Accuracy: 0.4700 (the standard deviation : 0.117)\n",
            "C = 43.0 Accuracy: 0.4700 (the standard deviation : 0.117)\n",
            "C = 43.1 Accuracy: 0.4700 (the standard deviation : 0.117)\n",
            "C = 43.2 Accuracy: 0.4700 (the standard deviation : 0.117)\n",
            "C = 43.3 Accuracy: 0.4700 (the standard deviation : 0.117)\n",
            "C = 43.4 Accuracy: 0.4700 (the standard deviation : 0.117)\n",
            "C = 43.5 Accuracy: 0.4700 (the standard deviation : 0.117)\n",
            "C = 43.6 Accuracy: 0.4700 (the standard deviation : 0.117)\n",
            "C = 43.7 Accuracy: 0.4700 (the standard deviation : 0.117)\n",
            "C = 43.8 Accuracy: 0.4700 (the standard deviation : 0.117)\n",
            "C = 43.9 Accuracy: 0.4700 (the standard deviation : 0.117)\n",
            "C = 44.0 Accuracy: 0.4700 (the standard deviation : 0.117)\n",
            "C = 44.1 Accuracy: 0.4700 (the standard deviation : 0.117)\n",
            "C = 44.2 Accuracy: 0.4700 (the standard deviation : 0.117)\n",
            "C = 44.3 Accuracy: 0.4700 (the standard deviation : 0.117)\n",
            "C = 44.4 Accuracy: 0.4700 (the standard deviation : 0.117)\n",
            "C = 44.5 Accuracy: 0.4700 (the standard deviation : 0.117)\n",
            "C = 44.6 Accuracy: 0.4700 (the standard deviation : 0.117)\n",
            "C = 44.7 Accuracy: 0.4700 (the standard deviation : 0.117)\n",
            "C = 44.8 Accuracy: 0.4700 (the standard deviation : 0.117)\n",
            "C = 44.9 Accuracy: 0.4700 (the standard deviation : 0.117)\n",
            "C = 45.0 Accuracy: 0.4700 (the standard deviation : 0.117)\n",
            "C = 45.1 Accuracy: 0.4700 (the standard deviation : 0.117)\n",
            "C = 45.2 Accuracy: 0.4700 (the standard deviation : 0.117)\n",
            "C = 45.3 Accuracy: 0.4700 (the standard deviation : 0.117)\n",
            "C = 45.4 Accuracy: 0.4700 (the standard deviation : 0.117)\n",
            "C = 45.5 Accuracy: 0.4700 (the standard deviation : 0.117)\n",
            "C = 45.6 Accuracy: 0.4700 (the standard deviation : 0.117)\n",
            "C = 45.7 Accuracy: 0.4700 (the standard deviation : 0.117)\n",
            "C = 45.8 Accuracy: 0.4700 (the standard deviation : 0.117)\n",
            "C = 45.9 Accuracy: 0.4700 (the standard deviation : 0.117)\n",
            "C = 46.0 Accuracy: 0.4700 (the standard deviation : 0.117)\n",
            "C = 46.1 Accuracy: 0.4700 (the standard deviation : 0.117)\n",
            "C = 46.2 Accuracy: 0.4700 (the standard deviation : 0.117)\n",
            "C = 46.3 Accuracy: 0.4700 (the standard deviation : 0.117)\n",
            "C = 46.4 Accuracy: 0.4700 (the standard deviation : 0.117)\n",
            "C = 46.5 Accuracy: 0.4700 (the standard deviation : 0.117)\n",
            "C = 46.6 Accuracy: 0.4700 (the standard deviation : 0.117)\n",
            "C = 46.7 Accuracy: 0.4700 (the standard deviation : 0.117)\n",
            "C = 46.8 Accuracy: 0.4700 (the standard deviation : 0.117)\n",
            "C = 46.9 Accuracy: 0.4800 (the standard deviation : 0.110)\n",
            "C = 47.0 Accuracy: 0.4800 (the standard deviation : 0.110)\n",
            "C = 47.1 Accuracy: 0.4800 (the standard deviation : 0.110)\n",
            "C = 47.2 Accuracy: 0.4800 (the standard deviation : 0.110)\n",
            "C = 47.3 Accuracy: 0.4800 (the standard deviation : 0.110)\n",
            "C = 47.4 Accuracy: 0.4800 (the standard deviation : 0.110)\n",
            "C = 47.5 Accuracy: 0.4800 (the standard deviation : 0.110)\n",
            "C = 47.6 Accuracy: 0.4700 (the standard deviation : 0.117)\n",
            "C = 47.7 Accuracy: 0.4700 (the standard deviation : 0.117)\n",
            "C = 47.8 Accuracy: 0.4700 (the standard deviation : 0.117)\n",
            "C = 47.9 Accuracy: 0.4700 (the standard deviation : 0.117)\n",
            "C = 48.0 Accuracy: 0.4700 (the standard deviation : 0.117)\n",
            "C = 48.1 Accuracy: 0.4700 (the standard deviation : 0.117)\n",
            "C = 48.2 Accuracy: 0.4700 (the standard deviation : 0.117)\n",
            "C = 48.3 Accuracy: 0.4700 (the standard deviation : 0.117)\n",
            "C = 48.4 Accuracy: 0.4700 (the standard deviation : 0.117)\n",
            "C = 48.5 Accuracy: 0.4700 (the standard deviation : 0.117)\n",
            "C = 48.6 Accuracy: 0.4700 (the standard deviation : 0.117)\n",
            "C = 48.7 Accuracy: 0.4700 (the standard deviation : 0.117)\n",
            "C = 48.8 Accuracy: 0.4850 (the standard deviation : 0.110)\n",
            "C = 48.9 Accuracy: 0.4850 (the standard deviation : 0.110)\n",
            "C = 49.0 Accuracy: 0.4850 (the standard deviation : 0.110)\n",
            "C = 49.1 Accuracy: 0.4850 (the standard deviation : 0.110)\n",
            "C = 49.2 Accuracy: 0.4850 (the standard deviation : 0.110)\n",
            "C = 49.3 Accuracy: 0.4850 (the standard deviation : 0.110)\n",
            "C = 49.4 Accuracy: 0.4850 (the standard deviation : 0.110)\n",
            "C = 49.5 Accuracy: 0.4850 (the standard deviation : 0.110)\n",
            "C = 49.6 Accuracy: 0.4850 (the standard deviation : 0.110)\n",
            "C = 49.7 Accuracy: 0.4850 (the standard deviation : 0.110)\n",
            "C = 49.8 Accuracy: 0.4850 (the standard deviation : 0.110)\n",
            "C = 49.9 Accuracy: 0.4850 (the standard deviation : 0.110)\n",
            "best valume of C =  0.7999999999999999 highest mean scores =  0.5650000000000001\n"
          ]
        }
      ]
    },
    {
      "cell_type": "markdown",
      "source": [
        "## Fitting SVM to the Training set with choosen C\n"
      ],
      "metadata": {
        "id": "Eq-r6X9eXrs0"
      }
    },
    {
      "cell_type": "code",
      "source": [
        "classifier = SVC(C=best_C,kernel = 'sigmoid', random_state = 0)\n",
        "classifier.fit(X_train, y_train)"
      ],
      "metadata": {
        "colab": {
          "base_uri": "https://localhost:8080/"
        },
        "outputId": "accd14b1-33b9-44f6-be45-41da830b0d60",
        "id": "MQjRRJF5Xrs5"
      },
      "execution_count": 30,
      "outputs": [
        {
          "output_type": "execute_result",
          "data": {
            "text/plain": [
              "SVC(C=0.7999999999999999, kernel='sigmoid', random_state=0)"
            ]
          },
          "metadata": {},
          "execution_count": 30
        }
      ]
    },
    {
      "cell_type": "markdown",
      "source": [
        "## Predicting the Test set results\n"
      ],
      "metadata": {
        "id": "TeA6r3sIyY9S"
      }
    },
    {
      "cell_type": "code",
      "source": [
        "y_pred = classifier.predict(X_test)"
      ],
      "metadata": {
        "id": "izQ4d_f5yaG6"
      },
      "execution_count": 31,
      "outputs": []
    },
    {
      "cell_type": "markdown",
      "source": [
        "## Making the Confusion Matrix and score\n"
      ],
      "metadata": {
        "id": "wxCAWS_PyarT"
      }
    },
    {
      "cell_type": "code",
      "source": [
        "from sklearn.metrics import confusion_matrix, accuracy_score\n",
        "from sklearn.metrics import precision_score\n",
        "from sklearn.metrics import recall_score\n",
        "cm = confusion_matrix(y_test, y_pred)\n",
        "print(\"confusion matrix :\")\n",
        "print(cm)\n",
        "print(' accuracy_score =  %.3f    precision_score =  %.3f   recall_score =   %.3f '\n",
        "       %(accuracy_score(y_test, y_pred),precision_score(y_test, y_pred),recall_score(y_test, y_pred)))"
      ],
      "metadata": {
        "colab": {
          "base_uri": "https://localhost:8080/"
        },
        "id": "81EYRhm2ydLp",
        "outputId": "1a490c23-d463-40be-a468-d1c2580094d7"
      },
      "execution_count": 32,
      "outputs": [
        {
          "output_type": "stream",
          "name": "stdout",
          "text": [
            "confusion matrix :\n",
            "[[15  8]\n",
            " [13 14]]\n",
            " accuracy_score =  0.580    precision_score =  0.636   recall_score =   0.519 \n"
          ]
        }
      ]
    },
    {
      "cell_type": "markdown",
      "source": [
        "## Visualising the Training set results\n"
      ],
      "metadata": {
        "id": "In-rCqqdyd1y"
      }
    },
    {
      "cell_type": "code",
      "source": [
        "from matplotlib.colors import ListedColormap\n",
        "X_set, y_set = X_train, y_train\n",
        "X1, X2 = np.meshgrid(np.arange(start = X_set[:, 0].min() - 1, stop = X_set[:, 0].max() + 1, step = 0.01),\n",
        "                     np.arange(start = X_set[:, 1].min() - 1, stop = X_set[:, 1].max() + 1, step = 0.01))\n",
        "plt.contourf(X1, X2, classifier.predict(np.array([X1.ravel(), X2.ravel()]).T).reshape(X1.shape),\n",
        "             alpha = 0.75, cmap = ListedColormap(('red', 'blue')))\n",
        "plt.xlim(X1.min(), X1.max())\n",
        "plt.ylim(X2.min(), X2.max())\n",
        "for i, j in enumerate(np.unique(y_set)):\n",
        "    plt.scatter(X_set[y_set == j, 0], X_set[y_set == j, 1],\n",
        "                c = ListedColormap(('red', 'blue'))(i), label = j)\n",
        "plt.title('SVM (Training set)')\n",
        "plt.xlabel('X1')\n",
        "plt.ylabel('X2')\n",
        "plt.legend()\n",
        "plt.show()"
      ],
      "metadata": {
        "colab": {
          "base_uri": "https://localhost:8080/",
          "height": 350
        },
        "id": "yW7Z0jYKyg_K",
        "outputId": "be11a429-f159-49a0-f13f-e76a555fe33d"
      },
      "execution_count": 33,
      "outputs": [
        {
          "output_type": "stream",
          "name": "stderr",
          "text": [
            "WARNING:matplotlib.axes._axes:*c* argument looks like a single numeric RGB or RGBA sequence, which should be avoided as value-mapping will have precedence in case its length matches with *x* & *y*.  Please use the *color* keyword-argument or provide a 2-D array with a single row if you intend to specify the same RGB or RGBA value for all points.\n",
            "WARNING:matplotlib.axes._axes:*c* argument looks like a single numeric RGB or RGBA sequence, which should be avoided as value-mapping will have precedence in case its length matches with *x* & *y*.  Please use the *color* keyword-argument or provide a 2-D array with a single row if you intend to specify the same RGB or RGBA value for all points.\n"
          ]
        },
        {
          "output_type": "display_data",
          "data": {
            "text/plain": [
              "<Figure size 432x288 with 1 Axes>"
            ],
            "image/png": "[encoded data removed]"
          },
          "metadata": {
            "needs_background": "light"
          }
        }
      ]
    },
    {
      "cell_type": "markdown",
      "source": [
        "## Visualising the Test set results\n"
      ],
      "metadata": {
        "id": "4xgaQwuUzZ3b"
      }
    },
    {
      "cell_type": "code",
      "source": [
        "from matplotlib.colors import ListedColormap\n",
        "X_set, y_set = X_test, y_test\n",
        "X1, X2 = np.meshgrid(np.arange(start = X_set[:, 0].min() - 1, stop = X_set[:, 0].max() + 1, step = 0.01),\n",
        "                     np.arange(start = X_set[:, 1].min() - 1, stop = X_set[:, 1].max() + 1, step = 0.01))\n",
        "plt.contourf(X1, X2, classifier.predict(np.array([X1.ravel(), X2.ravel()]).T).reshape(X1.shape),\n",
        "             alpha = 0.75, cmap = ListedColormap(('red', 'blue')))\n",
        "plt.xlim(X1.min(), X1.max())\n",
        "plt.ylim(X2.min(), X2.max())\n",
        "for i, j in enumerate(np.unique(y_set)):\n",
        "    plt.scatter(X_set[y_set == j, 0], X_set[y_set == j, 1],\n",
        "                c = ListedColormap(('red', 'blue'))(i), label = j)\n",
        "plt.title('SVM (test set)')\n",
        "plt.xlabel('X1')\n",
        "plt.ylabel('X2')\n",
        "plt.legend()\n",
        "plt.show()"
      ],
      "metadata": {
        "colab": {
          "base_uri": "https://localhost:8080/",
          "height": 350
        },
        "id": "HNYeBgy5za5J",
        "outputId": "14995c73-aea5-4c3d-85c2-b8553410fafd"
      },
      "execution_count": 34,
      "outputs": [
        {
          "output_type": "stream",
          "name": "stderr",
          "text": [
            "WARNING:matplotlib.axes._axes:*c* argument looks like a single numeric RGB or RGBA sequence, which should be avoided as value-mapping will have precedence in case its length matches with *x* & *y*.  Please use the *color* keyword-argument or provide a 2-D array with a single row if you intend to specify the same RGB or RGBA value for all points.\n",
            "WARNING:matplotlib.axes._axes:*c* argument looks like a single numeric RGB or RGBA sequence, which should be avoided as value-mapping will have precedence in case its length matches with *x* & *y*.  Please use the *color* keyword-argument or provide a 2-D array with a single row if you intend to specify the same RGB or RGBA value for all points.\n"
          ]
        },
        {
          "output_type": "display_data",
          "data": {
            "text/plain": [
              "<Figure size 432x288 with 1 Axes>"
            ],
            "image/png": "[encoded data removed]"
          },
          "metadata": {
            "needs_background": "light"
          }
        }
      ]
    }
  ]
}