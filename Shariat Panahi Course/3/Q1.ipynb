{
  "nbformat": 4,
  "nbformat_minor": 0,
  "metadata": {
    "colab": {
      "provenance": [],
      "collapsed_sections": [
        "uGOYe3TsCUF4"
      ]
    },
    "kernelspec": {
      "name": "python3",
      "display_name": "Python 3"
    },
    "language_info": {
      "name": "python"
    }
  },
  "cells": [
    {
      "cell_type": "markdown",
      "source": [
        "#Q1"
      ],
      "metadata": {
        "id": "UQ4NtaWUCMy6"
      }
    },
    {
      "cell_type": "markdown",
      "source": [
        "##creating database"
      ],
      "metadata": {
        "id": "5pLogomhEw-K"
      }
    },
    {
      "cell_type": "markdown",
      "source": [
        "###imports"
      ],
      "metadata": {
        "id": "uGOYe3TsCUF4"
      }
    },
    {
      "cell_type": "code",
      "source": [
        "from numpy.random import uniform\n",
        "from numpy import array"
      ],
      "metadata": {
        "id": "-YNce5RyCcLS"
      },
      "execution_count": 15,
      "outputs": []
    },
    {
      "cell_type": "markdown",
      "source": [
        "###create first data base with uniform dis"
      ],
      "metadata": {
        "id": "FubMn1iLCdKB"
      }
    },
    {
      "cell_type": "code",
      "execution_count": 16,
      "metadata": {
        "id": "4FUnDjv02-re"
      },
      "outputs": [],
      "source": [
        "MAX_X1 = 1\n",
        "MIN_X1 = 0\n",
        "MAX_X2 = 1\n",
        "MIN_X2 = -1\n",
        "SAMPLE = 100\n",
        "x1 = uniform(MIN_X1, MAX_X1 ,SAMPLE)\n",
        "x2 = uniform(MIN_X2, MAX_X2 ,SAMPLE)\n",
        "X =[];\n",
        "for i in range(len(x1)):\n",
        "   X.append([x1[i], x2[i]])\n",
        "X1 =array(X)"
      ]
    },
    {
      "cell_type": "markdown",
      "source": [
        "###create second data base with uniform dis"
      ],
      "metadata": {
        "id": "Vibn0RUXCnwr"
      }
    },
    {
      "cell_type": "code",
      "execution_count": 17,
      "metadata": {
        "id": "SU-ea3edCnws"
      },
      "outputs": [],
      "source": [
        "MAX_X1 = 3\n",
        "MIN_X1 = 2\n",
        "MAX_X2 = 4\n",
        "MIN_X2 = 3\n",
        "SAMPLE = 100\n",
        "x1 = uniform(MIN_X1, MAX_X1 ,SAMPLE)\n",
        "x2 = uniform(MIN_X2, MAX_X2 ,SAMPLE)\n",
        "X =[];\n",
        "for i in range(len(x1)):\n",
        "   X.append([x1[i], x2[i]])\n",
        "X2 =array(X)"
      ]
    },
    {
      "cell_type": "markdown",
      "source": [
        "###create labels"
      ],
      "metadata": {
        "id": "F1Fv2-_mD4nh"
      }
    },
    {
      "cell_type": "code",
      "source": [
        "from numpy import concatenate\n",
        "SAMPLE = 100\n",
        "Y=[];\n",
        "for i in range(SAMPLE):\n",
        "  Y.append(0)\n",
        "for i in range(SAMPLE):\n",
        "  Y.append(1)\n",
        "Y =array(Y)\n",
        "X =concatenate((X1,X2), axis=0)\n",
        "#print(X)\n",
        "#print(Y)"
      ],
      "metadata": {
        "id": "DwgHOjqh1p95",
        "colab": {
          "base_uri": "https://localhost:8080/"
        },
        "outputId": "18a4cca7-fa68-4faa-a577-0d82ee06d3d2"
      },
      "execution_count": 37,
      "outputs": [
        {
          "output_type": "stream",
          "name": "stdout",
          "text": [
            "200\n"
          ]
        }
      ]
    },
    {
      "cell_type": "markdown",
      "source": [
        "# Importing the libraries\n"
      ],
      "metadata": {
        "id": "svMgW8RjwLcq"
      }
    },
    {
      "cell_type": "code",
      "source": [
        "import numpy as np\n",
        "import matplotlib.pyplot as plt\n",
        "import pandas as pd"
      ],
      "metadata": {
        "id": "UDmx8kpnwL7r"
      },
      "execution_count": 19,
      "outputs": []
    },
    {
      "cell_type": "markdown",
      "source": [
        "# Splitting the dataset into the Training set and Test set\n"
      ],
      "metadata": {
        "id": "yQGmkrlRpw5r"
      }
    },
    {
      "cell_type": "code",
      "source": [
        "from sklearn.model_selection import train_test_split\n",
        "X_train, X_test, y_train, y_test = train_test_split(X, Y, test_size = 0.25, random_state = 0)\n"
      ],
      "metadata": {
        "id": "tfSoTHUVwAt0"
      },
      "execution_count": 20,
      "outputs": []
    },
    {
      "cell_type": "markdown",
      "source": [
        "## Feature Scaling\n"
      ],
      "metadata": {
        "id": "ZlCkOAulwr6S"
      }
    },
    {
      "cell_type": "code",
      "source": [
        "from sklearn.preprocessing import StandardScaler\n",
        "sc = StandardScaler()\n",
        "X_train = sc.fit_transform(X_train)\n",
        "X_test = sc.transform(X_test)"
      ],
      "metadata": {
        "id": "UK27vN5Iwt-7"
      },
      "execution_count": 21,
      "outputs": []
    },
    {
      "cell_type": "markdown",
      "source": [
        "# Fitting SVM to the Training set\n"
      ],
      "metadata": {
        "id": "Rgtqp7XvySKr"
      }
    },
    {
      "cell_type": "code",
      "source": [
        "from sklearn.svm import SVC\n",
        "classifier = SVC(kernel = 'linear', random_state = 0)\n",
        "classifier.fit(X_train, y_train)"
      ],
      "metadata": {
        "colab": {
          "base_uri": "https://localhost:8080/"
        },
        "id": "wARzumN8yTD5",
        "outputId": "7d659888-0b80-4236-d05d-cfffd48c966d"
      },
      "execution_count": 22,
      "outputs": [
        {
          "output_type": "execute_result",
          "data": {
            "text/plain": [
              "SVC(kernel='linear', random_state=0)"
            ]
          },
          "metadata": {},
          "execution_count": 22
        }
      ]
    },
    {
      "cell_type": "markdown",
      "source": [
        "# Predicting the Test set results\n"
      ],
      "metadata": {
        "id": "TeA6r3sIyY9S"
      }
    },
    {
      "cell_type": "code",
      "source": [
        "y_pred = classifier.predict(X_test)"
      ],
      "metadata": {
        "id": "izQ4d_f5yaG6"
      },
      "execution_count": 23,
      "outputs": []
    },
    {
      "cell_type": "markdown",
      "source": [
        "# Making the Confusion Matrix and score\n"
      ],
      "metadata": {
        "id": "wxCAWS_PyarT"
      }
    },
    {
      "cell_type": "code",
      "source": [
        "from sklearn.metrics import confusion_matrix, accuracy_score\n",
        "from sklearn.metrics import precision_score\n",
        "from sklearn.metrics import recall_score\n",
        "cm = confusion_matrix(y_test, y_pred)\n",
        "print(\"confusion matrix :\")\n",
        "print(cm)\n",
        "print(' accuracy_score =  %.3f    precision_score =  %.3f   recall_score =   %.3f '\n",
        "       %(accuracy_score(y_test, y_pred),precision_score(y_test, y_pred),recall_score(y_test, y_pred)))"
      ],
      "metadata": {
        "colab": {
          "base_uri": "https://localhost:8080/"
        },
        "id": "81EYRhm2ydLp",
        "outputId": "5c4068ba-2ec2-417f-cb81-72d5246d1035"
      },
      "execution_count": 43,
      "outputs": [
        {
          "output_type": "stream",
          "name": "stdout",
          "text": [
            "confusion matrix :\n",
            "[[23  0]\n",
            " [ 0 27]]\n",
            " accuracy_score =  1.000    precision_score =  1.000   recall_score =   1.000 \n"
          ]
        }
      ]
    },
    {
      "cell_type": "markdown",
      "source": [
        "# Visualising the Training set results\n"
      ],
      "metadata": {
        "id": "In-rCqqdyd1y"
      }
    },
    {
      "cell_type": "code",
      "source": [
        "from matplotlib.colors import ListedColormap\n",
        "X_set, y_set = X_train, y_train\n",
        "X1, X2 = np.meshgrid(np.arange(start = X_set[:, 0].min() - 1, stop = X_set[:, 0].max() + 1, step = 0.01),\n",
        "                     np.arange(start = X_set[:, 1].min() - 1, stop = X_set[:, 1].max() + 1, step = 0.01))\n",
        "plt.contourf(X1, X2, classifier.predict(np.array([X1.ravel(), X2.ravel()]).T).reshape(X1.shape),\n",
        "             alpha = 0.75, cmap = ListedColormap(('red', 'blue')))\n",
        "plt.xlim(X1.min(), X1.max())\n",
        "plt.ylim(X2.min(), X2.max())\n",
        "for i, j in enumerate(np.unique(y_set)):\n",
        "    plt.scatter(X_set[y_set == j, 0], X_set[y_set == j, 1],\n",
        "                c = ListedColormap(('red', 'blue'))(i), label = j)\n",
        "plt.title('SVM (Training set)')\n",
        "plt.xlabel('X1')\n",
        "plt.ylabel('X2')\n",
        "plt.legend()\n",
        "plt.show()"
      ],
      "metadata": {
        "colab": {
          "base_uri": "https://localhost:8080/",
          "height": 350
        },
        "id": "yW7Z0jYKyg_K",
        "outputId": "35c11e93-e6b1-4cce-a764-80e03d17e304"
      },
      "execution_count": 42,
      "outputs": [
        {
          "output_type": "stream",
          "name": "stderr",
          "text": [
            "WARNING:matplotlib.axes._axes:*c* argument looks like a single numeric RGB or RGBA sequence, which should be avoided as value-mapping will have precedence in case its length matches with *x* & *y*.  Please use the *color* keyword-argument or provide a 2-D array with a single row if you intend to specify the same RGB or RGBA value for all points.\n",
            "WARNING:matplotlib.axes._axes:*c* argument looks like a single numeric RGB or RGBA sequence, which should be avoided as value-mapping will have precedence in case its length matches with *x* & *y*.  Please use the *color* keyword-argument or provide a 2-D array with a single row if you intend to specify the same RGB or RGBA value for all points.\n"
          ]
        },
        {
          "output_type": "display_data",
          "data": {
            "text/plain": [
              "<Figure size 432x288 with 1 Axes>"
            ],
            "image/png": "[encoded data removed]"
          },
          "metadata": {
            "needs_background": "light"
          }
        }
      ]
    },
    {
      "cell_type": "markdown",
      "source": [
        "# Visualising the Test set results\n"
      ],
      "metadata": {
        "id": "4xgaQwuUzZ3b"
      }
    },
    {
      "cell_type": "code",
      "source": [
        "from matplotlib.colors import ListedColormap\n",
        "X_set, y_set = X_test, y_test\n",
        "X1, X2 = np.meshgrid(np.arange(start = X_set[:, 0].min() - 1, stop = X_set[:, 0].max() + 1, step = 0.01),\n",
        "                     np.arange(start = X_set[:, 1].min() - 1, stop = X_set[:, 1].max() + 1, step = 0.01))\n",
        "plt.contourf(X1, X2, classifier.predict(np.array([X1.ravel(), X2.ravel()]).T).reshape(X1.shape),\n",
        "             alpha = 0.75, cmap = ListedColormap(('red', 'blue')))\n",
        "plt.xlim(X1.min(), X1.max())\n",
        "plt.ylim(X2.min(), X2.max())\n",
        "for i, j in enumerate(np.unique(y_set)):\n",
        "    plt.scatter(X_set[y_set == j, 0], X_set[y_set == j, 1],\n",
        "                c = ListedColormap(('red', 'blue'))(i), label = j)\n",
        "plt.title('SVM (test set)')\n",
        "plt.xlabel('X1')\n",
        "plt.ylabel('X2')\n",
        "plt.legend()\n",
        "plt.show()"
      ],
      "metadata": {
        "colab": {
          "base_uri": "https://localhost:8080/",
          "height": 350
        },
        "id": "HNYeBgy5za5J",
        "outputId": "05d7cd60-c481-46c0-cd42-251b4bf513ff"
      },
      "execution_count": 33,
      "outputs": [
        {
          "output_type": "stream",
          "name": "stderr",
          "text": [
            "WARNING:matplotlib.axes._axes:*c* argument looks like a single numeric RGB or RGBA sequence, which should be avoided as value-mapping will have precedence in case its length matches with *x* & *y*.  Please use the *color* keyword-argument or provide a 2-D array with a single row if you intend to specify the same RGB or RGBA value for all points.\n",
            "WARNING:matplotlib.axes._axes:*c* argument looks like a single numeric RGB or RGBA sequence, which should be avoided as value-mapping will have precedence in case its length matches with *x* & *y*.  Please use the *color* keyword-argument or provide a 2-D array with a single row if you intend to specify the same RGB or RGBA value for all points.\n"
          ]
        },
        {
          "output_type": "display_data",
          "data": {
            "text/plain": [
              "<Figure size 432x288 with 1 Axes>"
            ],
            "image/png": "[encoded data removed]"
          },
          "metadata": {
            "needs_background": "light"
          }
        }
      ]
    }
  ]
}