{
  "cells": [
    {
      "cell_type": "markdown",
      "metadata": {
        "id": "UQ4NtaWUCMy6"
      },
      "source": [
        "#Q2"
      ]
    },
    {
      "cell_type": "markdown",
      "metadata": {
        "id": "5pLogomhEw-K"
      },
      "source": [
        "##creating database"
      ]
    },
    {
      "cell_type": "markdown",
      "metadata": {
        "id": "uGOYe3TsCUF4"
      },
      "source": [
        "###imports"
      ]
    },
    {
      "cell_type": "code",
      "execution_count": 11,
      "metadata": {
        "id": "-YNce5RyCcLS"
      },
      "outputs": [],
      "source": [
        "from numpy.random import uniform\n",
        "from numpy import array"
      ]
    },
    {
      "cell_type": "markdown",
      "metadata": {
        "id": "FubMn1iLCdKB"
      },
      "source": [
        "###create first data base with uniform dis"
      ]
    },
    {
      "cell_type": "code",
      "execution_count": 12,
      "metadata": {
        "id": "4FUnDjv02-re"
      },
      "outputs": [],
      "source": [
        "MAX_X1 = 2\n",
        "MIN_X1 = 0\n",
        "MAX_X2 = 1\n",
        "MIN_X2 = -1\n",
        "SAMPLE = 100\n",
        "x1 = uniform(MIN_X1, MAX_X1 ,SAMPLE)\n",
        "x2 = uniform(MIN_X2, MAX_X2 ,SAMPLE)\n",
        "X =[];\n",
        "for i in range(len(x1)):\n",
        "   X.append([x1[i], x2[i]])\n",
        "X1 =array(X)"
      ]
    },
    {
      "cell_type": "markdown",
      "metadata": {
        "id": "Vibn0RUXCnwr"
      },
      "source": [
        "###create second data base with uniform dis"
      ]
    },
    {
      "cell_type": "code",
      "execution_count": 13,
      "metadata": {
        "id": "SU-ea3edCnws"
      },
      "outputs": [],
      "source": [
        "MAX_X1 = 3\n",
        "MIN_X1 = 1.75\n",
        "MAX_X2 = 1\n",
        "MIN_X2 = -1\n",
        "SAMPLE = 100\n",
        "x1 = uniform(MIN_X1, MAX_X1 ,SAMPLE)\n",
        "x2 = uniform(MIN_X2, MAX_X2 ,SAMPLE)\n",
        "X =[];\n",
        "for i in range(len(x1)):\n",
        "   X.append([x1[i], x2[i]])\n",
        "X2 =array(X)"
      ]
    },
    {
      "cell_type": "markdown",
      "metadata": {
        "id": "F1Fv2-_mD4nh"
      },
      "source": [
        "###create labels"
      ]
    },
    {
      "cell_type": "code",
      "execution_count": 14,
      "metadata": {
        "id": "DwgHOjqh1p95"
      },
      "outputs": [],
      "source": [
        "from numpy import concatenate\n",
        "SAMPLE = 100\n",
        "Y=[];\n",
        "for i in range(SAMPLE):\n",
        "  Y.append(0)\n",
        "for i in range(SAMPLE):\n",
        "  Y.append(1)\n",
        "Y =array(Y)\n",
        "X =concatenate((X1,X2), axis=0)\n",
        "#print(X)\n",
        "#print(Y)"
      ]
    },
    {
      "cell_type": "markdown",
      "metadata": {
        "id": "svMgW8RjwLcq"
      },
      "source": [
        "## Importing the libraries\n"
      ]
    },
    {
      "cell_type": "code",
      "execution_count": 15,
      "metadata": {
        "id": "UDmx8kpnwL7r"
      },
      "outputs": [
        {
          "ename": "ModuleNotFoundError",
          "evalue": "No module named 'matplotlib'",
          "output_type": "error",
          "traceback": [
            "\u001b[1;31m---------------------------------------------------------------------------\u001b[0m",
            "\u001b[1;31mModuleNotFoundError\u001b[0m                       Traceback (most recent call last)",
            "Cell \u001b[1;32mIn[15], line 2\u001b[0m\n\u001b[0;32m      1\u001b[0m \u001b[39mimport\u001b[39;00m \u001b[39mnumpy\u001b[39;00m \u001b[39mas\u001b[39;00m \u001b[39mnp\u001b[39;00m\n\u001b[1;32m----> 2\u001b[0m \u001b[39mimport\u001b[39;00m \u001b[39mmatplotlib\u001b[39;00m\u001b[39m.\u001b[39;00m\u001b[39mpyplot\u001b[39;00m \u001b[39mas\u001b[39;00m \u001b[39mplt\u001b[39;00m\n\u001b[0;32m      3\u001b[0m \u001b[39mimport\u001b[39;00m \u001b[39mpandas\u001b[39;00m \u001b[39mas\u001b[39;00m \u001b[39mpd\u001b[39;00m\n",
            "\u001b[1;31mModuleNotFoundError\u001b[0m: No module named 'matplotlib'"
          ]
        }
      ],
      "source": [
        "import numpy as np\n",
        "import matplotlib.pyplot as plt\n",
        "import pandas as pd"
      ]
    },
    {
      "cell_type": "markdown",
      "metadata": {
        "id": "yQGmkrlRpw5r"
      },
      "source": [
        "## Splitting the dataset into the Training set and Test set\n"
      ]
    },
    {
      "cell_type": "code",
      "execution_count": null,
      "metadata": {
        "id": "tfSoTHUVwAt0"
      },
      "outputs": [],
      "source": [
        "from sklearn.model_selection import train_test_split\n",
        "X_train, X_test, y_train, y_test = train_test_split(X, Y, test_size = 0.25, random_state = 0)\n"
      ]
    },
    {
      "cell_type": "markdown",
      "metadata": {
        "id": "ZlCkOAulwr6S"
      },
      "source": [
        "## Feature Scaling\n"
      ]
    },
    {
      "cell_type": "code",
      "execution_count": null,
      "metadata": {
        "id": "UK27vN5Iwt-7"
      },
      "outputs": [],
      "source": [
        "from sklearn.preprocessing import StandardScaler\n",
        "sc = StandardScaler()\n",
        "X_train = sc.fit_transform(X_train)\n",
        "X_test = sc.transform(X_test)"
      ]
    },
    {
      "cell_type": "markdown",
      "metadata": {
        "id": "Rgtqp7XvySKr"
      },
      "source": [
        "## Fitting SVM to the Training set with diffrent C\n"
      ]
    },
    {
      "cell_type": "code",
      "execution_count": null,
      "metadata": {
        "colab": {
          "base_uri": "https://localhost:8080/"
        },
        "id": "wARzumN8yTD5",
        "outputId": "b0e8fad5-f8d2-479e-8726-c63c8c26637f"
      },
      "outputs": [
        {
          "name": "stdout",
          "output_type": "stream",
          "text": [
            "C = 0.1 Accuracy: 0.9050 (the standard deviation : 0.079)\n",
            "C = 0.2 Accuracy: 0.9050 (the standard deviation : 0.079)\n",
            "C = 0.3 Accuracy: 0.9050 (the standard deviation : 0.079)\n",
            "C = 0.4 Accuracy: 0.9200 (the standard deviation : 0.051)\n",
            "C = 0.5 Accuracy: 0.9300 (the standard deviation : 0.051)\n",
            "C = 0.6 Accuracy: 0.9300 (the standard deviation : 0.051)\n",
            "C = 0.7 Accuracy: 0.9200 (the standard deviation : 0.040)\n",
            "C = 0.8 Accuracy: 0.9200 (the standard deviation : 0.046)\n",
            "C = 0.9 Accuracy: 0.9100 (the standard deviation : 0.049)\n",
            "C = 1.0 Accuracy: 0.9200 (the standard deviation : 0.051)\n",
            "C = 1.1 Accuracy: 0.9200 (the standard deviation : 0.051)\n",
            "C = 1.2 Accuracy: 0.9350 (the standard deviation : 0.050)\n",
            "C = 1.3 Accuracy: 0.9300 (the standard deviation : 0.051)\n",
            "C = 1.4 Accuracy: 0.9300 (the standard deviation : 0.051)\n",
            "C = 1.5 Accuracy: 0.9350 (the standard deviation : 0.055)\n",
            "C = 1.6 Accuracy: 0.9350 (the standard deviation : 0.055)\n",
            "C = 1.7 Accuracy: 0.9300 (the standard deviation : 0.056)\n",
            "C = 1.8 Accuracy: 0.9400 (the standard deviation : 0.054)\n",
            "C = 1.9 Accuracy: 0.9400 (the standard deviation : 0.054)\n",
            "C = 2.0 Accuracy: 0.9400 (the standard deviation : 0.054)\n",
            "C = 2.1 Accuracy: 0.9400 (the standard deviation : 0.054)\n",
            "C = 2.2 Accuracy: 0.9350 (the standard deviation : 0.055)\n",
            "C = 2.3 Accuracy: 0.9400 (the standard deviation : 0.054)\n",
            "C = 2.4 Accuracy: 0.9400 (the standard deviation : 0.054)\n",
            "C = 2.5 Accuracy: 0.9400 (the standard deviation : 0.054)\n",
            "C = 2.6 Accuracy: 0.9450 (the standard deviation : 0.057)\n",
            "C = 2.7 Accuracy: 0.9450 (the standard deviation : 0.057)\n",
            "C = 2.8 Accuracy: 0.9450 (the standard deviation : 0.057)\n",
            "C = 2.9 Accuracy: 0.9400 (the standard deviation : 0.054)\n",
            "C = 3.0 Accuracy: 0.9400 (the standard deviation : 0.054)\n",
            "C = 3.1 Accuracy: 0.9400 (the standard deviation : 0.054)\n",
            "C = 3.2 Accuracy: 0.9400 (the standard deviation : 0.054)\n",
            "C = 3.3 Accuracy: 0.9300 (the standard deviation : 0.060)\n",
            "C = 3.4 Accuracy: 0.9300 (the standard deviation : 0.060)\n",
            "C = 3.5 Accuracy: 0.9250 (the standard deviation : 0.060)\n",
            "C = 3.6 Accuracy: 0.9250 (the standard deviation : 0.060)\n",
            "C = 3.7 Accuracy: 0.9250 (the standard deviation : 0.060)\n",
            "C = 3.8 Accuracy: 0.9250 (the standard deviation : 0.060)\n",
            "C = 3.9 Accuracy: 0.9250 (the standard deviation : 0.060)\n",
            "C = 4.0 Accuracy: 0.9250 (the standard deviation : 0.060)\n",
            "C = 4.1 Accuracy: 0.9250 (the standard deviation : 0.060)\n",
            "C = 4.2 Accuracy: 0.9300 (the standard deviation : 0.051)\n",
            "C = 4.3 Accuracy: 0.9300 (the standard deviation : 0.051)\n",
            "C = 4.4 Accuracy: 0.9300 (the standard deviation : 0.051)\n",
            "C = 4.5 Accuracy: 0.9300 (the standard deviation : 0.051)\n",
            "C = 4.6 Accuracy: 0.9300 (the standard deviation : 0.051)\n",
            "C = 4.7 Accuracy: 0.9300 (the standard deviation : 0.051)\n",
            "C = 4.8 Accuracy: 0.9300 (the standard deviation : 0.051)\n",
            "C = 4.9 Accuracy: 0.9250 (the standard deviation : 0.051)\n",
            "C = 5.0 Accuracy: 0.9250 (the standard deviation : 0.051)\n",
            "C = 5.1 Accuracy: 0.9250 (the standard deviation : 0.051)\n",
            "C = 5.2 Accuracy: 0.9200 (the standard deviation : 0.056)\n",
            "C = 5.3 Accuracy: 0.9200 (the standard deviation : 0.056)\n",
            "C = 5.4 Accuracy: 0.9200 (the standard deviation : 0.056)\n",
            "C = 5.5 Accuracy: 0.9200 (the standard deviation : 0.056)\n",
            "C = 5.6 Accuracy: 0.9200 (the standard deviation : 0.056)\n",
            "C = 5.7 Accuracy: 0.9200 (the standard deviation : 0.056)\n",
            "C = 5.8 Accuracy: 0.9200 (the standard deviation : 0.056)\n",
            "C = 5.9 Accuracy: 0.9200 (the standard deviation : 0.056)\n",
            "C = 6.0 Accuracy: 0.9200 (the standard deviation : 0.056)\n",
            "C = 6.1 Accuracy: 0.9200 (the standard deviation : 0.056)\n",
            "C = 6.2 Accuracy: 0.9200 (the standard deviation : 0.056)\n",
            "C = 6.3 Accuracy: 0.9200 (the standard deviation : 0.056)\n",
            "C = 6.4 Accuracy: 0.9200 (the standard deviation : 0.056)\n",
            "C = 6.5 Accuracy: 0.9250 (the standard deviation : 0.051)\n",
            "C = 6.6 Accuracy: 0.9250 (the standard deviation : 0.051)\n",
            "C = 6.7 Accuracy: 0.9250 (the standard deviation : 0.051)\n",
            "C = 6.8 Accuracy: 0.9250 (the standard deviation : 0.051)\n",
            "C = 6.9 Accuracy: 0.9250 (the standard deviation : 0.051)\n",
            "C = 7.0 Accuracy: 0.9250 (the standard deviation : 0.051)\n",
            "C = 7.1 Accuracy: 0.9250 (the standard deviation : 0.051)\n",
            "C = 7.2 Accuracy: 0.9250 (the standard deviation : 0.051)\n",
            "C = 7.3 Accuracy: 0.9250 (the standard deviation : 0.051)\n",
            "C = 7.4 Accuracy: 0.9250 (the standard deviation : 0.051)\n",
            "C = 7.5 Accuracy: 0.9250 (the standard deviation : 0.051)\n",
            "C = 7.6 Accuracy: 0.9250 (the standard deviation : 0.051)\n",
            "C = 7.7 Accuracy: 0.9250 (the standard deviation : 0.051)\n",
            "C = 7.8 Accuracy: 0.9300 (the standard deviation : 0.056)\n",
            "C = 7.9 Accuracy: 0.9300 (the standard deviation : 0.056)\n",
            "C = 8.0 Accuracy: 0.9300 (the standard deviation : 0.056)\n",
            "C = 8.1 Accuracy: 0.9250 (the standard deviation : 0.060)\n",
            "C = 8.2 Accuracy: 0.9250 (the standard deviation : 0.060)\n",
            "C = 8.3 Accuracy: 0.9250 (the standard deviation : 0.060)\n",
            "C = 8.4 Accuracy: 0.9250 (the standard deviation : 0.060)\n",
            "C = 8.5 Accuracy: 0.9250 (the standard deviation : 0.060)\n",
            "C = 8.6 Accuracy: 0.9250 (the standard deviation : 0.060)\n",
            "C = 8.7 Accuracy: 0.9250 (the standard deviation : 0.060)\n",
            "C = 8.8 Accuracy: 0.9250 (the standard deviation : 0.060)\n",
            "C = 8.9 Accuracy: 0.9250 (the standard deviation : 0.060)\n",
            "C = 9.0 Accuracy: 0.9250 (the standard deviation : 0.060)\n",
            "C = 9.1 Accuracy: 0.9250 (the standard deviation : 0.060)\n",
            "C = 9.2 Accuracy: 0.9250 (the standard deviation : 0.060)\n",
            "C = 9.3 Accuracy: 0.9250 (the standard deviation : 0.060)\n",
            "C = 9.4 Accuracy: 0.9250 (the standard deviation : 0.060)\n",
            "C = 9.5 Accuracy: 0.9250 (the standard deviation : 0.060)\n",
            "C = 9.6 Accuracy: 0.9250 (the standard deviation : 0.060)\n",
            "C = 9.7 Accuracy: 0.9250 (the standard deviation : 0.060)\n",
            "C = 9.8 Accuracy: 0.9250 (the standard deviation : 0.060)\n",
            "C = 9.9 Accuracy: 0.9250 (the standard deviation : 0.060)\n",
            "C = 10.0 Accuracy: 0.9250 (the standard deviation : 0.060)\n",
            "C = 10.1 Accuracy: 0.9250 (the standard deviation : 0.060)\n",
            "C = 10.2 Accuracy: 0.9250 (the standard deviation : 0.060)\n",
            "C = 10.3 Accuracy: 0.9250 (the standard deviation : 0.060)\n",
            "C = 10.4 Accuracy: 0.9250 (the standard deviation : 0.060)\n",
            "C = 10.5 Accuracy: 0.9250 (the standard deviation : 0.060)\n",
            "C = 10.6 Accuracy: 0.9250 (the standard deviation : 0.060)\n",
            "C = 10.7 Accuracy: 0.9250 (the standard deviation : 0.060)\n",
            "C = 10.8 Accuracy: 0.9250 (the standard deviation : 0.060)\n",
            "C = 10.9 Accuracy: 0.9250 (the standard deviation : 0.060)\n",
            "C = 11.0 Accuracy: 0.9250 (the standard deviation : 0.060)\n",
            "C = 11.1 Accuracy: 0.9250 (the standard deviation : 0.060)\n",
            "C = 11.2 Accuracy: 0.9250 (the standard deviation : 0.060)\n",
            "C = 11.3 Accuracy: 0.9250 (the standard deviation : 0.060)\n",
            "C = 11.4 Accuracy: 0.9250 (the standard deviation : 0.060)\n",
            "C = 11.5 Accuracy: 0.9250 (the standard deviation : 0.060)\n",
            "C = 11.6 Accuracy: 0.9250 (the standard deviation : 0.060)\n",
            "C = 11.7 Accuracy: 0.9200 (the standard deviation : 0.056)\n",
            "C = 11.8 Accuracy: 0.9150 (the standard deviation : 0.055)\n",
            "C = 11.9 Accuracy: 0.9150 (the standard deviation : 0.055)\n",
            "C = 12.0 Accuracy: 0.9150 (the standard deviation : 0.055)\n",
            "C = 12.1 Accuracy: 0.9150 (the standard deviation : 0.055)\n",
            "C = 12.2 Accuracy: 0.9150 (the standard deviation : 0.055)\n",
            "C = 12.3 Accuracy: 0.9150 (the standard deviation : 0.055)\n",
            "C = 12.4 Accuracy: 0.9150 (the standard deviation : 0.055)\n",
            "C = 12.5 Accuracy: 0.9150 (the standard deviation : 0.055)\n",
            "C = 12.6 Accuracy: 0.9150 (the standard deviation : 0.055)\n",
            "C = 12.7 Accuracy: 0.9150 (the standard deviation : 0.055)\n",
            "C = 12.8 Accuracy: 0.9150 (the standard deviation : 0.055)\n",
            "C = 12.9 Accuracy: 0.9150 (the standard deviation : 0.055)\n",
            "C = 13.0 Accuracy: 0.9150 (the standard deviation : 0.055)\n",
            "C = 13.1 Accuracy: 0.9150 (the standard deviation : 0.055)\n",
            "C = 13.2 Accuracy: 0.9150 (the standard deviation : 0.055)\n",
            "C = 13.3 Accuracy: 0.9150 (the standard deviation : 0.055)\n",
            "C = 13.4 Accuracy: 0.9150 (the standard deviation : 0.055)\n",
            "C = 13.5 Accuracy: 0.9150 (the standard deviation : 0.055)\n",
            "C = 13.6 Accuracy: 0.9150 (the standard deviation : 0.055)\n",
            "C = 13.7 Accuracy: 0.9150 (the standard deviation : 0.055)\n",
            "C = 13.8 Accuracy: 0.9150 (the standard deviation : 0.055)\n",
            "C = 13.9 Accuracy: 0.9150 (the standard deviation : 0.055)\n",
            "C = 14.0 Accuracy: 0.9150 (the standard deviation : 0.055)\n",
            "C = 14.1 Accuracy: 0.9150 (the standard deviation : 0.055)\n",
            "C = 14.2 Accuracy: 0.9150 (the standard deviation : 0.055)\n",
            "C = 14.3 Accuracy: 0.9150 (the standard deviation : 0.055)\n",
            "C = 14.4 Accuracy: 0.9150 (the standard deviation : 0.055)\n",
            "C = 14.5 Accuracy: 0.9150 (the standard deviation : 0.055)\n",
            "C = 14.6 Accuracy: 0.9150 (the standard deviation : 0.055)\n",
            "C = 14.7 Accuracy: 0.9150 (the standard deviation : 0.055)\n",
            "C = 14.8 Accuracy: 0.9150 (the standard deviation : 0.055)\n",
            "C = 14.9 Accuracy: 0.9150 (the standard deviation : 0.055)\n",
            "C = 15.0 Accuracy: 0.9150 (the standard deviation : 0.055)\n",
            "C = 15.1 Accuracy: 0.9150 (the standard deviation : 0.055)\n",
            "C = 15.2 Accuracy: 0.9100 (the standard deviation : 0.049)\n",
            "C = 15.3 Accuracy: 0.9100 (the standard deviation : 0.049)\n",
            "C = 15.4 Accuracy: 0.9100 (the standard deviation : 0.049)\n",
            "C = 15.5 Accuracy: 0.9100 (the standard deviation : 0.049)\n",
            "C = 15.6 Accuracy: 0.9100 (the standard deviation : 0.049)\n",
            "C = 15.7 Accuracy: 0.9100 (the standard deviation : 0.049)\n",
            "C = 15.8 Accuracy: 0.9100 (the standard deviation : 0.049)\n",
            "C = 15.9 Accuracy: 0.9100 (the standard deviation : 0.049)\n",
            "C = 16.0 Accuracy: 0.9100 (the standard deviation : 0.049)\n",
            "C = 16.1 Accuracy: 0.9100 (the standard deviation : 0.049)\n",
            "C = 16.2 Accuracy: 0.9100 (the standard deviation : 0.049)\n",
            "C = 16.3 Accuracy: 0.9100 (the standard deviation : 0.049)\n",
            "C = 16.4 Accuracy: 0.9100 (the standard deviation : 0.049)\n",
            "C = 16.5 Accuracy: 0.9100 (the standard deviation : 0.049)\n",
            "C = 16.6 Accuracy: 0.9100 (the standard deviation : 0.049)\n",
            "C = 16.7 Accuracy: 0.9100 (the standard deviation : 0.049)\n",
            "C = 16.8 Accuracy: 0.9100 (the standard deviation : 0.049)\n",
            "C = 16.9 Accuracy: 0.9100 (the standard deviation : 0.049)\n",
            "C = 17.0 Accuracy: 0.9100 (the standard deviation : 0.049)\n",
            "C = 17.1 Accuracy: 0.9100 (the standard deviation : 0.049)\n",
            "C = 17.2 Accuracy: 0.9100 (the standard deviation : 0.049)\n",
            "C = 17.3 Accuracy: 0.9100 (the standard deviation : 0.049)\n",
            "C = 17.4 Accuracy: 0.9100 (the standard deviation : 0.049)\n",
            "C = 17.5 Accuracy: 0.9100 (the standard deviation : 0.049)\n",
            "C = 17.6 Accuracy: 0.9100 (the standard deviation : 0.049)\n",
            "C = 17.7 Accuracy: 0.9100 (the standard deviation : 0.049)\n",
            "C = 17.8 Accuracy: 0.9100 (the standard deviation : 0.049)\n",
            "C = 17.9 Accuracy: 0.9050 (the standard deviation : 0.057)\n",
            "C = 18.0 Accuracy: 0.9050 (the standard deviation : 0.057)\n",
            "C = 18.1 Accuracy: 0.9050 (the standard deviation : 0.057)\n",
            "C = 18.2 Accuracy: 0.9050 (the standard deviation : 0.057)\n",
            "C = 18.3 Accuracy: 0.9050 (the standard deviation : 0.057)\n",
            "C = 18.4 Accuracy: 0.9050 (the standard deviation : 0.057)\n",
            "C = 18.5 Accuracy: 0.9050 (the standard deviation : 0.057)\n",
            "C = 18.6 Accuracy: 0.9050 (the standard deviation : 0.057)\n",
            "C = 18.7 Accuracy: 0.9050 (the standard deviation : 0.057)\n",
            "C = 18.8 Accuracy: 0.9050 (the standard deviation : 0.057)\n",
            "C = 18.9 Accuracy: 0.9050 (the standard deviation : 0.057)\n",
            "C = 19.0 Accuracy: 0.9050 (the standard deviation : 0.057)\n",
            "C = 19.1 Accuracy: 0.9050 (the standard deviation : 0.057)\n",
            "C = 19.2 Accuracy: 0.9050 (the standard deviation : 0.057)\n",
            "C = 19.3 Accuracy: 0.9050 (the standard deviation : 0.057)\n",
            "C = 19.4 Accuracy: 0.9050 (the standard deviation : 0.057)\n",
            "C = 19.5 Accuracy: 0.9050 (the standard deviation : 0.057)\n",
            "C = 19.6 Accuracy: 0.9050 (the standard deviation : 0.057)\n",
            "C = 19.7 Accuracy: 0.9050 (the standard deviation : 0.057)\n",
            "C = 19.8 Accuracy: 0.9050 (the standard deviation : 0.057)\n",
            "C = 19.9 Accuracy: 0.9050 (the standard deviation : 0.057)\n",
            "C = 20.0 Accuracy: 0.9050 (the standard deviation : 0.057)\n",
            "C = 20.1 Accuracy: 0.9050 (the standard deviation : 0.057)\n",
            "C = 20.2 Accuracy: 0.9050 (the standard deviation : 0.057)\n",
            "C = 20.3 Accuracy: 0.9050 (the standard deviation : 0.057)\n",
            "C = 20.4 Accuracy: 0.9050 (the standard deviation : 0.057)\n",
            "C = 20.5 Accuracy: 0.9050 (the standard deviation : 0.057)\n",
            "C = 20.6 Accuracy: 0.9050 (the standard deviation : 0.057)\n",
            "C = 20.7 Accuracy: 0.9050 (the standard deviation : 0.057)\n",
            "C = 20.8 Accuracy: 0.9050 (the standard deviation : 0.057)\n",
            "C = 20.9 Accuracy: 0.9050 (the standard deviation : 0.057)\n",
            "C = 21.0 Accuracy: 0.9050 (the standard deviation : 0.057)\n",
            "C = 21.1 Accuracy: 0.9050 (the standard deviation : 0.057)\n",
            "C = 21.2 Accuracy: 0.9050 (the standard deviation : 0.057)\n",
            "C = 21.3 Accuracy: 0.9050 (the standard deviation : 0.057)\n",
            "C = 21.4 Accuracy: 0.9050 (the standard deviation : 0.057)\n",
            "C = 21.5 Accuracy: 0.9050 (the standard deviation : 0.057)\n",
            "C = 21.6 Accuracy: 0.9050 (the standard deviation : 0.057)\n",
            "C = 21.7 Accuracy: 0.9050 (the standard deviation : 0.057)\n",
            "C = 21.8 Accuracy: 0.9050 (the standard deviation : 0.057)\n",
            "C = 21.9 Accuracy: 0.9050 (the standard deviation : 0.057)\n",
            "C = 22.0 Accuracy: 0.9050 (the standard deviation : 0.057)\n",
            "C = 22.1 Accuracy: 0.9050 (the standard deviation : 0.057)\n",
            "C = 22.2 Accuracy: 0.9050 (the standard deviation : 0.057)\n",
            "C = 22.3 Accuracy: 0.9050 (the standard deviation : 0.057)\n",
            "C = 22.4 Accuracy: 0.9050 (the standard deviation : 0.057)\n",
            "C = 22.5 Accuracy: 0.9050 (the standard deviation : 0.057)\n",
            "C = 22.6 Accuracy: 0.9050 (the standard deviation : 0.057)\n",
            "C = 22.7 Accuracy: 0.9050 (the standard deviation : 0.057)\n",
            "C = 22.8 Accuracy: 0.9050 (the standard deviation : 0.057)\n",
            "C = 22.9 Accuracy: 0.9050 (the standard deviation : 0.057)\n",
            "C = 23.0 Accuracy: 0.9050 (the standard deviation : 0.057)\n",
            "C = 23.1 Accuracy: 0.9050 (the standard deviation : 0.057)\n",
            "C = 23.2 Accuracy: 0.9050 (the standard deviation : 0.057)\n",
            "C = 23.3 Accuracy: 0.9050 (the standard deviation : 0.057)\n",
            "C = 23.4 Accuracy: 0.9050 (the standard deviation : 0.057)\n",
            "C = 23.5 Accuracy: 0.9050 (the standard deviation : 0.057)\n",
            "C = 23.6 Accuracy: 0.9050 (the standard deviation : 0.057)\n",
            "C = 23.7 Accuracy: 0.9050 (the standard deviation : 0.057)\n",
            "C = 23.8 Accuracy: 0.9050 (the standard deviation : 0.057)\n",
            "C = 23.9 Accuracy: 0.9050 (the standard deviation : 0.057)\n",
            "C = 24.0 Accuracy: 0.9050 (the standard deviation : 0.057)\n",
            "C = 24.1 Accuracy: 0.9050 (the standard deviation : 0.057)\n",
            "C = 24.2 Accuracy: 0.9050 (the standard deviation : 0.057)\n",
            "C = 24.3 Accuracy: 0.9050 (the standard deviation : 0.057)\n",
            "C = 24.4 Accuracy: 0.9050 (the standard deviation : 0.057)\n",
            "C = 24.5 Accuracy: 0.9050 (the standard deviation : 0.057)\n",
            "C = 24.6 Accuracy: 0.9050 (the standard deviation : 0.057)\n",
            "C = 24.7 Accuracy: 0.9050 (the standard deviation : 0.057)\n",
            "C = 24.8 Accuracy: 0.9050 (the standard deviation : 0.057)\n",
            "C = 24.9 Accuracy: 0.9050 (the standard deviation : 0.057)\n",
            "C = 25.0 Accuracy: 0.9050 (the standard deviation : 0.057)\n",
            "C = 25.1 Accuracy: 0.9050 (the standard deviation : 0.057)\n",
            "C = 25.2 Accuracy: 0.9050 (the standard deviation : 0.057)\n",
            "C = 25.3 Accuracy: 0.9050 (the standard deviation : 0.057)\n",
            "C = 25.4 Accuracy: 0.9050 (the standard deviation : 0.057)\n",
            "C = 25.5 Accuracy: 0.9050 (the standard deviation : 0.057)\n",
            "C = 25.6 Accuracy: 0.9050 (the standard deviation : 0.057)\n",
            "C = 25.7 Accuracy: 0.9050 (the standard deviation : 0.057)\n",
            "C = 25.8 Accuracy: 0.9050 (the standard deviation : 0.057)\n",
            "C = 25.9 Accuracy: 0.9050 (the standard deviation : 0.057)\n",
            "C = 26.0 Accuracy: 0.9050 (the standard deviation : 0.057)\n",
            "C = 26.1 Accuracy: 0.9050 (the standard deviation : 0.057)\n",
            "C = 26.2 Accuracy: 0.9050 (the standard deviation : 0.057)\n",
            "C = 26.3 Accuracy: 0.9050 (the standard deviation : 0.057)\n",
            "C = 26.4 Accuracy: 0.9050 (the standard deviation : 0.057)\n",
            "C = 26.5 Accuracy: 0.9050 (the standard deviation : 0.057)\n",
            "C = 26.6 Accuracy: 0.9050 (the standard deviation : 0.057)\n",
            "C = 26.7 Accuracy: 0.9050 (the standard deviation : 0.057)\n",
            "C = 26.8 Accuracy: 0.9050 (the standard deviation : 0.057)\n",
            "C = 26.9 Accuracy: 0.9050 (the standard deviation : 0.057)\n",
            "C = 27.0 Accuracy: 0.9050 (the standard deviation : 0.057)\n",
            "C = 27.1 Accuracy: 0.9050 (the standard deviation : 0.057)\n",
            "C = 27.2 Accuracy: 0.9050 (the standard deviation : 0.057)\n",
            "C = 27.3 Accuracy: 0.9050 (the standard deviation : 0.057)\n",
            "C = 27.4 Accuracy: 0.9050 (the standard deviation : 0.057)\n",
            "C = 27.5 Accuracy: 0.9050 (the standard deviation : 0.057)\n",
            "C = 27.6 Accuracy: 0.9050 (the standard deviation : 0.057)\n",
            "C = 27.7 Accuracy: 0.9050 (the standard deviation : 0.057)\n",
            "C = 27.8 Accuracy: 0.9050 (the standard deviation : 0.057)\n",
            "C = 27.9 Accuracy: 0.9050 (the standard deviation : 0.057)\n",
            "C = 28.0 Accuracy: 0.9050 (the standard deviation : 0.057)\n",
            "C = 28.1 Accuracy: 0.9050 (the standard deviation : 0.057)\n",
            "C = 28.2 Accuracy: 0.9050 (the standard deviation : 0.057)\n",
            "C = 28.3 Accuracy: 0.9050 (the standard deviation : 0.057)\n",
            "C = 28.4 Accuracy: 0.9050 (the standard deviation : 0.057)\n",
            "C = 28.5 Accuracy: 0.9050 (the standard deviation : 0.057)\n",
            "C = 28.6 Accuracy: 0.9050 (the standard deviation : 0.057)\n",
            "C = 28.7 Accuracy: 0.9050 (the standard deviation : 0.057)\n",
            "C = 28.8 Accuracy: 0.9050 (the standard deviation : 0.057)\n",
            "C = 28.9 Accuracy: 0.9050 (the standard deviation : 0.057)\n",
            "C = 29.0 Accuracy: 0.9050 (the standard deviation : 0.057)\n",
            "C = 29.1 Accuracy: 0.9050 (the standard deviation : 0.057)\n",
            "C = 29.2 Accuracy: 0.9050 (the standard deviation : 0.057)\n",
            "C = 29.3 Accuracy: 0.9050 (the standard deviation : 0.057)\n",
            "C = 29.4 Accuracy: 0.9050 (the standard deviation : 0.057)\n",
            "C = 29.5 Accuracy: 0.9050 (the standard deviation : 0.057)\n",
            "C = 29.6 Accuracy: 0.9050 (the standard deviation : 0.057)\n",
            "C = 29.7 Accuracy: 0.9050 (the standard deviation : 0.057)\n",
            "C = 29.8 Accuracy: 0.9050 (the standard deviation : 0.057)\n",
            "C = 29.9 Accuracy: 0.9050 (the standard deviation : 0.057)\n",
            "C = 30.0 Accuracy: 0.9050 (the standard deviation : 0.057)\n",
            "C = 30.1 Accuracy: 0.9050 (the standard deviation : 0.057)\n",
            "C = 30.2 Accuracy: 0.9050 (the standard deviation : 0.057)\n",
            "C = 30.3 Accuracy: 0.9050 (the standard deviation : 0.057)\n",
            "C = 30.4 Accuracy: 0.9050 (the standard deviation : 0.057)\n",
            "C = 30.5 Accuracy: 0.9050 (the standard deviation : 0.057)\n",
            "C = 30.6 Accuracy: 0.9050 (the standard deviation : 0.057)\n",
            "C = 30.7 Accuracy: 0.9050 (the standard deviation : 0.057)\n",
            "C = 30.8 Accuracy: 0.9050 (the standard deviation : 0.057)\n",
            "C = 30.9 Accuracy: 0.9050 (the standard deviation : 0.057)\n",
            "C = 31.0 Accuracy: 0.9050 (the standard deviation : 0.057)\n",
            "C = 31.1 Accuracy: 0.9050 (the standard deviation : 0.057)\n",
            "C = 31.2 Accuracy: 0.9050 (the standard deviation : 0.057)\n",
            "C = 31.3 Accuracy: 0.9050 (the standard deviation : 0.057)\n",
            "C = 31.4 Accuracy: 0.9050 (the standard deviation : 0.057)\n",
            "C = 31.5 Accuracy: 0.9050 (the standard deviation : 0.057)\n",
            "C = 31.6 Accuracy: 0.9050 (the standard deviation : 0.057)\n",
            "C = 31.7 Accuracy: 0.9050 (the standard deviation : 0.057)\n",
            "C = 31.8 Accuracy: 0.9050 (the standard deviation : 0.057)\n",
            "C = 31.9 Accuracy: 0.9050 (the standard deviation : 0.057)\n",
            "C = 32.0 Accuracy: 0.9050 (the standard deviation : 0.057)\n",
            "C = 32.1 Accuracy: 0.9050 (the standard deviation : 0.057)\n",
            "C = 32.2 Accuracy: 0.9050 (the standard deviation : 0.057)\n",
            "C = 32.3 Accuracy: 0.9050 (the standard deviation : 0.057)\n",
            "C = 32.4 Accuracy: 0.9050 (the standard deviation : 0.057)\n",
            "C = 32.5 Accuracy: 0.9050 (the standard deviation : 0.057)\n",
            "C = 32.6 Accuracy: 0.9050 (the standard deviation : 0.057)\n",
            "C = 32.7 Accuracy: 0.9050 (the standard deviation : 0.057)\n",
            "C = 32.8 Accuracy: 0.9050 (the standard deviation : 0.057)\n",
            "C = 32.9 Accuracy: 0.9050 (the standard deviation : 0.057)\n",
            "C = 33.0 Accuracy: 0.9050 (the standard deviation : 0.057)\n",
            "C = 33.1 Accuracy: 0.9050 (the standard deviation : 0.057)\n",
            "C = 33.2 Accuracy: 0.9050 (the standard deviation : 0.057)\n",
            "C = 33.3 Accuracy: 0.9050 (the standard deviation : 0.057)\n",
            "C = 33.4 Accuracy: 0.9050 (the standard deviation : 0.057)\n",
            "C = 33.5 Accuracy: 0.9050 (the standard deviation : 0.057)\n",
            "C = 33.6 Accuracy: 0.9050 (the standard deviation : 0.057)\n",
            "C = 33.7 Accuracy: 0.9050 (the standard deviation : 0.057)\n",
            "C = 33.8 Accuracy: 0.9050 (the standard deviation : 0.057)\n",
            "C = 33.9 Accuracy: 0.9050 (the standard deviation : 0.057)\n",
            "C = 34.0 Accuracy: 0.9050 (the standard deviation : 0.057)\n",
            "C = 34.1 Accuracy: 0.9050 (the standard deviation : 0.057)\n",
            "C = 34.2 Accuracy: 0.9050 (the standard deviation : 0.057)\n",
            "C = 34.3 Accuracy: 0.9050 (the standard deviation : 0.057)\n",
            "C = 34.4 Accuracy: 0.9050 (the standard deviation : 0.057)\n",
            "C = 34.5 Accuracy: 0.9050 (the standard deviation : 0.057)\n",
            "C = 34.6 Accuracy: 0.9050 (the standard deviation : 0.057)\n",
            "C = 34.7 Accuracy: 0.9050 (the standard deviation : 0.057)\n",
            "C = 34.8 Accuracy: 0.9050 (the standard deviation : 0.057)\n",
            "C = 34.9 Accuracy: 0.9050 (the standard deviation : 0.057)\n",
            "C = 35.0 Accuracy: 0.9050 (the standard deviation : 0.057)\n",
            "C = 35.1 Accuracy: 0.9050 (the standard deviation : 0.057)\n",
            "C = 35.2 Accuracy: 0.9050 (the standard deviation : 0.057)\n",
            "C = 35.3 Accuracy: 0.9050 (the standard deviation : 0.057)\n",
            "C = 35.4 Accuracy: 0.9050 (the standard deviation : 0.057)\n",
            "C = 35.5 Accuracy: 0.9050 (the standard deviation : 0.057)\n",
            "C = 35.6 Accuracy: 0.9050 (the standard deviation : 0.057)\n",
            "C = 35.7 Accuracy: 0.9050 (the standard deviation : 0.057)\n",
            "C = 35.8 Accuracy: 0.9050 (the standard deviation : 0.057)\n",
            "C = 35.9 Accuracy: 0.9050 (the standard deviation : 0.057)\n",
            "C = 36.0 Accuracy: 0.9050 (the standard deviation : 0.057)\n",
            "C = 36.1 Accuracy: 0.9050 (the standard deviation : 0.057)\n",
            "C = 36.2 Accuracy: 0.9050 (the standard deviation : 0.057)\n",
            "C = 36.3 Accuracy: 0.9050 (the standard deviation : 0.057)\n",
            "C = 36.4 Accuracy: 0.9050 (the standard deviation : 0.057)\n",
            "C = 36.5 Accuracy: 0.9050 (the standard deviation : 0.057)\n",
            "C = 36.6 Accuracy: 0.9050 (the standard deviation : 0.057)\n",
            "C = 36.7 Accuracy: 0.9050 (the standard deviation : 0.057)\n",
            "C = 36.8 Accuracy: 0.9050 (the standard deviation : 0.057)\n",
            "C = 36.9 Accuracy: 0.9050 (the standard deviation : 0.057)\n",
            "C = 37.0 Accuracy: 0.9050 (the standard deviation : 0.057)\n",
            "C = 37.1 Accuracy: 0.9050 (the standard deviation : 0.057)\n",
            "C = 37.2 Accuracy: 0.9050 (the standard deviation : 0.057)\n",
            "C = 37.3 Accuracy: 0.9050 (the standard deviation : 0.057)\n",
            "C = 37.4 Accuracy: 0.9050 (the standard deviation : 0.057)\n",
            "C = 37.5 Accuracy: 0.9050 (the standard deviation : 0.057)\n",
            "C = 37.6 Accuracy: 0.9050 (the standard deviation : 0.057)\n",
            "C = 37.7 Accuracy: 0.9050 (the standard deviation : 0.057)\n",
            "C = 37.8 Accuracy: 0.9050 (the standard deviation : 0.057)\n",
            "C = 37.9 Accuracy: 0.9050 (the standard deviation : 0.057)\n",
            "C = 38.0 Accuracy: 0.9050 (the standard deviation : 0.057)\n",
            "C = 38.1 Accuracy: 0.9050 (the standard deviation : 0.057)\n",
            "C = 38.2 Accuracy: 0.9050 (the standard deviation : 0.057)\n",
            "C = 38.3 Accuracy: 0.9050 (the standard deviation : 0.057)\n",
            "C = 38.4 Accuracy: 0.9050 (the standard deviation : 0.057)\n",
            "C = 38.5 Accuracy: 0.9050 (the standard deviation : 0.057)\n",
            "C = 38.6 Accuracy: 0.9050 (the standard deviation : 0.057)\n",
            "C = 38.7 Accuracy: 0.9050 (the standard deviation : 0.057)\n",
            "C = 38.8 Accuracy: 0.9050 (the standard deviation : 0.057)\n",
            "C = 38.9 Accuracy: 0.9050 (the standard deviation : 0.057)\n",
            "C = 39.0 Accuracy: 0.9050 (the standard deviation : 0.057)\n",
            "C = 39.1 Accuracy: 0.9050 (the standard deviation : 0.057)\n",
            "C = 39.2 Accuracy: 0.9050 (the standard deviation : 0.057)\n",
            "C = 39.3 Accuracy: 0.9050 (the standard deviation : 0.057)\n",
            "C = 39.4 Accuracy: 0.9050 (the standard deviation : 0.057)\n",
            "C = 39.5 Accuracy: 0.9050 (the standard deviation : 0.057)\n",
            "C = 39.6 Accuracy: 0.9050 (the standard deviation : 0.057)\n",
            "C = 39.7 Accuracy: 0.9050 (the standard deviation : 0.057)\n",
            "C = 39.8 Accuracy: 0.9050 (the standard deviation : 0.057)\n",
            "C = 39.9 Accuracy: 0.9050 (the standard deviation : 0.057)\n",
            "C = 40.0 Accuracy: 0.9050 (the standard deviation : 0.057)\n",
            "C = 40.1 Accuracy: 0.9050 (the standard deviation : 0.057)\n",
            "C = 40.2 Accuracy: 0.9050 (the standard deviation : 0.057)\n",
            "C = 40.3 Accuracy: 0.9050 (the standard deviation : 0.057)\n",
            "C = 40.4 Accuracy: 0.9050 (the standard deviation : 0.057)\n",
            "C = 40.5 Accuracy: 0.9050 (the standard deviation : 0.057)\n",
            "C = 40.6 Accuracy: 0.9050 (the standard deviation : 0.057)\n",
            "C = 40.7 Accuracy: 0.9050 (the standard deviation : 0.057)\n",
            "C = 40.8 Accuracy: 0.9050 (the standard deviation : 0.057)\n",
            "C = 40.9 Accuracy: 0.9050 (the standard deviation : 0.057)\n",
            "C = 41.0 Accuracy: 0.9050 (the standard deviation : 0.057)\n",
            "C = 41.1 Accuracy: 0.9050 (the standard deviation : 0.057)\n",
            "C = 41.2 Accuracy: 0.9050 (the standard deviation : 0.057)\n",
            "C = 41.3 Accuracy: 0.9050 (the standard deviation : 0.057)\n",
            "C = 41.4 Accuracy: 0.9050 (the standard deviation : 0.057)\n",
            "C = 41.5 Accuracy: 0.9050 (the standard deviation : 0.057)\n",
            "C = 41.6 Accuracy: 0.9050 (the standard deviation : 0.057)\n",
            "C = 41.7 Accuracy: 0.9050 (the standard deviation : 0.057)\n",
            "C = 41.8 Accuracy: 0.9050 (the standard deviation : 0.057)\n",
            "C = 41.9 Accuracy: 0.9050 (the standard deviation : 0.057)\n",
            "C = 42.0 Accuracy: 0.9050 (the standard deviation : 0.057)\n",
            "C = 42.1 Accuracy: 0.9050 (the standard deviation : 0.057)\n",
            "C = 42.2 Accuracy: 0.9050 (the standard deviation : 0.057)\n",
            "C = 42.3 Accuracy: 0.9050 (the standard deviation : 0.057)\n",
            "C = 42.4 Accuracy: 0.9050 (the standard deviation : 0.057)\n",
            "C = 42.5 Accuracy: 0.9050 (the standard deviation : 0.057)\n",
            "C = 42.6 Accuracy: 0.9050 (the standard deviation : 0.057)\n",
            "C = 42.7 Accuracy: 0.9050 (the standard deviation : 0.057)\n",
            "C = 42.8 Accuracy: 0.9050 (the standard deviation : 0.057)\n",
            "C = 42.9 Accuracy: 0.9050 (the standard deviation : 0.057)\n",
            "C = 43.0 Accuracy: 0.9050 (the standard deviation : 0.057)\n",
            "C = 43.1 Accuracy: 0.9050 (the standard deviation : 0.057)\n",
            "C = 43.2 Accuracy: 0.9050 (the standard deviation : 0.057)\n",
            "C = 43.3 Accuracy: 0.9050 (the standard deviation : 0.057)\n",
            "C = 43.4 Accuracy: 0.9050 (the standard deviation : 0.057)\n",
            "C = 43.5 Accuracy: 0.9050 (the standard deviation : 0.057)\n",
            "C = 43.6 Accuracy: 0.9050 (the standard deviation : 0.057)\n",
            "C = 43.7 Accuracy: 0.9050 (the standard deviation : 0.057)\n",
            "C = 43.8 Accuracy: 0.9050 (the standard deviation : 0.057)\n",
            "C = 43.9 Accuracy: 0.9050 (the standard deviation : 0.057)\n",
            "C = 44.0 Accuracy: 0.9050 (the standard deviation : 0.057)\n",
            "C = 44.1 Accuracy: 0.9050 (the standard deviation : 0.057)\n",
            "C = 44.2 Accuracy: 0.9050 (the standard deviation : 0.057)\n",
            "C = 44.3 Accuracy: 0.9050 (the standard deviation : 0.057)\n",
            "C = 44.4 Accuracy: 0.9050 (the standard deviation : 0.057)\n",
            "C = 44.5 Accuracy: 0.9050 (the standard deviation : 0.057)\n",
            "C = 44.6 Accuracy: 0.9050 (the standard deviation : 0.057)\n",
            "C = 44.7 Accuracy: 0.9050 (the standard deviation : 0.057)\n",
            "C = 44.8 Accuracy: 0.9050 (the standard deviation : 0.057)\n",
            "C = 44.9 Accuracy: 0.9050 (the standard deviation : 0.057)\n",
            "C = 45.0 Accuracy: 0.9050 (the standard deviation : 0.057)\n",
            "C = 45.1 Accuracy: 0.9050 (the standard deviation : 0.057)\n",
            "C = 45.2 Accuracy: 0.9050 (the standard deviation : 0.057)\n",
            "C = 45.3 Accuracy: 0.9050 (the standard deviation : 0.057)\n",
            "C = 45.4 Accuracy: 0.9050 (the standard deviation : 0.057)\n",
            "C = 45.5 Accuracy: 0.9050 (the standard deviation : 0.057)\n",
            "C = 45.6 Accuracy: 0.9050 (the standard deviation : 0.057)\n",
            "C = 45.7 Accuracy: 0.9050 (the standard deviation : 0.057)\n",
            "C = 45.8 Accuracy: 0.9050 (the standard deviation : 0.057)\n",
            "C = 45.9 Accuracy: 0.9050 (the standard deviation : 0.057)\n",
            "C = 46.0 Accuracy: 0.9050 (the standard deviation : 0.057)\n",
            "C = 46.1 Accuracy: 0.9050 (the standard deviation : 0.057)\n",
            "C = 46.2 Accuracy: 0.9050 (the standard deviation : 0.057)\n",
            "C = 46.3 Accuracy: 0.9050 (the standard deviation : 0.057)\n",
            "C = 46.4 Accuracy: 0.9050 (the standard deviation : 0.057)\n",
            "C = 46.5 Accuracy: 0.9050 (the standard deviation : 0.057)\n",
            "C = 46.6 Accuracy: 0.9050 (the standard deviation : 0.057)\n",
            "C = 46.7 Accuracy: 0.9050 (the standard deviation : 0.057)\n",
            "C = 46.8 Accuracy: 0.9050 (the standard deviation : 0.057)\n",
            "C = 46.9 Accuracy: 0.9050 (the standard deviation : 0.057)\n",
            "C = 47.0 Accuracy: 0.9050 (the standard deviation : 0.057)\n",
            "C = 47.1 Accuracy: 0.9050 (the standard deviation : 0.057)\n",
            "C = 47.2 Accuracy: 0.9050 (the standard deviation : 0.057)\n",
            "C = 47.3 Accuracy: 0.9050 (the standard deviation : 0.057)\n",
            "C = 47.4 Accuracy: 0.9050 (the standard deviation : 0.057)\n",
            "C = 47.5 Accuracy: 0.9050 (the standard deviation : 0.057)\n",
            "C = 47.6 Accuracy: 0.9050 (the standard deviation : 0.057)\n",
            "C = 47.7 Accuracy: 0.9050 (the standard deviation : 0.057)\n",
            "C = 47.8 Accuracy: 0.9050 (the standard deviation : 0.057)\n",
            "C = 47.9 Accuracy: 0.9050 (the standard deviation : 0.057)\n",
            "C = 48.0 Accuracy: 0.9050 (the standard deviation : 0.057)\n",
            "C = 48.1 Accuracy: 0.9050 (the standard deviation : 0.057)\n",
            "C = 48.2 Accuracy: 0.9050 (the standard deviation : 0.057)\n",
            "C = 48.3 Accuracy: 0.9050 (the standard deviation : 0.057)\n",
            "C = 48.4 Accuracy: 0.9050 (the standard deviation : 0.057)\n",
            "C = 48.5 Accuracy: 0.9050 (the standard deviation : 0.057)\n",
            "C = 48.6 Accuracy: 0.9050 (the standard deviation : 0.057)\n",
            "C = 48.7 Accuracy: 0.9050 (the standard deviation : 0.057)\n",
            "C = 48.8 Accuracy: 0.9050 (the standard deviation : 0.057)\n",
            "C = 48.9 Accuracy: 0.9050 (the standard deviation : 0.057)\n",
            "C = 49.0 Accuracy: 0.9050 (the standard deviation : 0.057)\n",
            "C = 49.1 Accuracy: 0.9050 (the standard deviation : 0.057)\n",
            "C = 49.2 Accuracy: 0.9050 (the standard deviation : 0.057)\n",
            "C = 49.3 Accuracy: 0.9050 (the standard deviation : 0.057)\n",
            "C = 49.4 Accuracy: 0.9050 (the standard deviation : 0.057)\n",
            "C = 49.5 Accuracy: 0.9050 (the standard deviation : 0.057)\n",
            "C = 49.6 Accuracy: 0.9050 (the standard deviation : 0.057)\n",
            "C = 49.7 Accuracy: 0.9050 (the standard deviation : 0.057)\n",
            "C = 49.8 Accuracy: 0.9050 (the standard deviation : 0.057)\n",
            "C = 49.9 Accuracy: 0.9050 (the standard deviation : 0.057)\n",
            "best valume of C =  2.600000000000001 highest mean scores =  0.9450000000000001\n"
          ]
        }
      ],
      "source": [
        "from sklearn.svm import SVC\n",
        "from sklearn.model_selection import KFold\n",
        "from sklearn.model_selection import cross_val_score\n",
        "from sklearn.metrics import confusion_matrix, accuracy_score\n",
        "from sklearn.metrics import precision_score\n",
        "from sklearn.metrics import recall_score\n",
        "from numpy import mean\n",
        "from numpy import std\n",
        "\n",
        "best_C = 0\n",
        "highest_mean_scores = 0\n",
        "i=0.1\n",
        "\n",
        "cv = KFold(n_splits=10, random_state=1, shuffle=True)\n",
        "\n",
        "\n",
        "\n",
        "while(i < 50):\n",
        "  classifier = SVC(C=i,kernel = 'linear', random_state = 0)\n",
        "  classifier.fit(X_train, y_train)\n",
        "  scores = cross_val_score(classifier, X, Y, scoring='accuracy', cv=cv, n_jobs=-1)\n",
        "  print(\"C = %.1f\" % i,'Accuracy: %.4f (the standard deviation : %.3f)' % (mean(scores), std(scores)))\n",
        "  if(highest_mean_scores < mean(scores)):\n",
        "      highest_mean_scores = mean(scores)\n",
        "      best_C = i\n",
        "  i += 0.1\n",
        "print(\"best valume of C = \",best_C,\"highest mean scores = \", highest_mean_scores)"
      ]
    },
    {
      "cell_type": "markdown",
      "metadata": {
        "id": "Eq-r6X9eXrs0"
      },
      "source": [
        "## Fitting SVM to the Training set with choosen C\n"
      ]
    },
    {
      "cell_type": "code",
      "execution_count": null,
      "metadata": {
        "colab": {
          "base_uri": "https://localhost:8080/"
        },
        "id": "MQjRRJF5Xrs5",
        "outputId": "35c17b4a-cc8a-4864-aec9-af74bcf6b6cc"
      },
      "outputs": [
        {
          "data": {
            "text/plain": [
              "SVC(C=2.600000000000001, kernel='linear', random_state=0)"
            ]
          },
          "execution_count": 70,
          "metadata": {},
          "output_type": "execute_result"
        }
      ],
      "source": [
        "classifier = SVC(C=best_C,kernel = 'linear', random_state = 0)\n",
        "classifier.fit(X_train, y_train)"
      ]
    },
    {
      "cell_type": "markdown",
      "metadata": {
        "id": "TeA6r3sIyY9S"
      },
      "source": [
        "## Predicting the Test set results\n"
      ]
    },
    {
      "cell_type": "code",
      "execution_count": null,
      "metadata": {
        "id": "izQ4d_f5yaG6"
      },
      "outputs": [],
      "source": [
        "y_pred = classifier.predict(X_test)"
      ]
    },
    {
      "cell_type": "markdown",
      "metadata": {
        "id": "wxCAWS_PyarT"
      },
      "source": [
        "## Making the Confusion Matrix and score\n"
      ]
    },
    {
      "cell_type": "code",
      "execution_count": null,
      "metadata": {
        "colab": {
          "base_uri": "https://localhost:8080/"
        },
        "id": "81EYRhm2ydLp",
        "outputId": "5b06ace0-a3c1-4775-e051-388741f9ae01"
      },
      "outputs": [
        {
          "name": "stdout",
          "output_type": "stream",
          "text": [
            "confusion matrix :\n",
            "[[19  4]\n",
            " [ 2 25]]\n",
            " accuracy_score =  0.880    precision_score =  0.862   recall_score =   0.926 \n"
          ]
        }
      ],
      "source": [
        "from sklearn.metrics import confusion_matrix, accuracy_score\n",
        "from sklearn.metrics import precision_score\n",
        "from sklearn.metrics import recall_score\n",
        "cm = confusion_matrix(y_test, y_pred)\n",
        "print(\"confusion matrix :\")\n",
        "print(cm)\n",
        "print(' accuracy_score =  %.3f    precision_score =  %.3f   recall_score =   %.3f '\n",
        "       %(accuracy_score(y_test, y_pred),precision_score(y_test, y_pred),recall_score(y_test, y_pred)))"
      ]
    },
    {
      "cell_type": "markdown",
      "metadata": {
        "id": "In-rCqqdyd1y"
      },
      "source": [
        "## Visualising the Training set results\n"
      ]
    },
    {
      "cell_type": "code",
      "execution_count": null,
      "metadata": {
        "colab": {
          "base_uri": "https://localhost:8080/",
          "height": 350
        },
        "id": "yW7Z0jYKyg_K",
        "outputId": "854b6023-f8a2-4476-9ed5-c4951b74a750"
      },
      "outputs": [
        {
          "name": "stderr",
          "output_type": "stream",
          "text": [
            "WARNING:matplotlib.axes._axes:*c* argument looks like a single numeric RGB or RGBA sequence, which should be avoided as value-mapping will have precedence in case its length matches with *x* & *y*.  Please use the *color* keyword-argument or provide a 2-D array with a single row if you intend to specify the same RGB or RGBA value for all points.\n",
            "WARNING:matplotlib.axes._axes:*c* argument looks like a single numeric RGB or RGBA sequence, which should be avoided as value-mapping will have precedence in case its length matches with *x* & *y*.  Please use the *color* keyword-argument or provide a 2-D array with a single row if you intend to specify the same RGB or RGBA value for all points.\n"
          ]
        },
        {
          "data": {
            "image/png": "[encoded data removed]",
            "text/plain": [
              "<Figure size 432x288 with 1 Axes>"
            ]
          },
          "metadata": {
            "needs_background": "light"
          },
          "output_type": "display_data"
        }
      ],
      "source": [
        "from matplotlib.colors import ListedColormap\n",
        "X_set, y_set = X_train, y_train\n",
        "X1, X2 = np.meshgrid(np.arange(start = X_set[:, 0].min() - 1, stop = X_set[:, 0].max() + 1, step = 0.01),\n",
        "                     np.arange(start = X_set[:, 1].min() - 1, stop = X_set[:, 1].max() + 1, step = 0.01))\n",
        "plt.contourf(X1, X2, classifier.predict(np.array([X1.ravel(), X2.ravel()]).T).reshape(X1.shape),\n",
        "             alpha = 0.75, cmap = ListedColormap(('red', 'blue')))\n",
        "plt.xlim(X1.min(), X1.max())\n",
        "plt.ylim(X2.min(), X2.max())\n",
        "for i, j in enumerate(np.unique(y_set)):\n",
        "    plt.scatter(X_set[y_set == j, 0], X_set[y_set == j, 1],\n",
        "                c = ListedColormap(('red', 'blue'))(i), label = j)\n",
        "plt.title('SVM (Training set)')\n",
        "plt.xlabel('X1')\n",
        "plt.ylabel('X2')\n",
        "plt.legend()\n",
        "plt.show()"
      ]
    },
    {
      "cell_type": "markdown",
      "metadata": {
        "id": "4xgaQwuUzZ3b"
      },
      "source": [
        "## Visualising the Test set results\n"
      ]
    },
    {
      "cell_type": "code",
      "execution_count": 16,
      "metadata": {
        "colab": {
          "base_uri": "https://localhost:8080/",
          "height": 350
        },
        "id": "HNYeBgy5za5J",
        "outputId": "ef460563-75bd-4463-a850-c48ddfe56989"
      },
      "outputs": [
        {
          "ename": "ModuleNotFoundError",
          "evalue": "No module named 'matplotlib'",
          "output_type": "error",
          "traceback": [
            "\u001b[1;31m---------------------------------------------------------------------------\u001b[0m",
            "\u001b[1;31mModuleNotFoundError\u001b[0m                       Traceback (most recent call last)",
            "Cell \u001b[1;32mIn[16], line 1\u001b[0m\n\u001b[1;32m----> 1\u001b[0m \u001b[39mfrom\u001b[39;00m \u001b[39mmatplotlib\u001b[39;00m\u001b[39m.\u001b[39;00m\u001b[39mcolors\u001b[39;00m \u001b[39mimport\u001b[39;00m ListedColormap\n\u001b[0;32m      2\u001b[0m X_set, y_set \u001b[39m=\u001b[39m X_test, y_test\n\u001b[0;32m      3\u001b[0m X1, X2 \u001b[39m=\u001b[39m np\u001b[39m.\u001b[39mmeshgrid(np\u001b[39m.\u001b[39marange(start \u001b[39m=\u001b[39m X_set[:, \u001b[39m0\u001b[39m]\u001b[39m.\u001b[39mmin() \u001b[39m-\u001b[39m \u001b[39m1\u001b[39m, stop \u001b[39m=\u001b[39m X_set[:, \u001b[39m0\u001b[39m]\u001b[39m.\u001b[39mmax() \u001b[39m+\u001b[39m \u001b[39m1\u001b[39m, step \u001b[39m=\u001b[39m \u001b[39m0.01\u001b[39m),\n\u001b[0;32m      4\u001b[0m                      np\u001b[39m.\u001b[39marange(start \u001b[39m=\u001b[39m X_set[:, \u001b[39m1\u001b[39m]\u001b[39m.\u001b[39mmin() \u001b[39m-\u001b[39m \u001b[39m1\u001b[39m, stop \u001b[39m=\u001b[39m X_set[:, \u001b[39m1\u001b[39m]\u001b[39m.\u001b[39mmax() \u001b[39m+\u001b[39m \u001b[39m1\u001b[39m, step \u001b[39m=\u001b[39m \u001b[39m0.01\u001b[39m))\n",
            "\u001b[1;31mModuleNotFoundError\u001b[0m: No module named 'matplotlib'"
          ]
        }
      ],
      "source": [
        "from matplotlib.colors import ListedColormap\n",
        "X_set, y_set = X_test, y_test\n",
        "X1, X2 = np.meshgrid(np.arange(start = X_set[:, 0].min() - 1, stop = X_set[:, 0].max() + 1, step = 0.01),\n",
        "                     np.arange(start = X_set[:, 1].min() - 1, stop = X_set[:, 1].max() + 1, step = 0.01))\n",
        "plt.contourf(X1, X2, classifier.predict(np.array([X1.ravel(), X2.ravel()]).T).reshape(X1.shape),\n",
        "             alpha = 0.75, cmap = ListedColormap(('red', 'blue')))\n",
        "plt.xlim(X1.min(), X1.max())\n",
        "plt.ylim(X2.min(), X2.max())\n",
        "for i, j in enumerate(np.unique(y_set)):\n",
        "    plt.scatter(X_set[y_set == j, 0], X_set[y_set == j, 1],\n",
        "                c = ListedColormap(('red', 'blue'))(i), label = j)\n",
        "plt.title('SVM (te1st set)')\n",
        "plt.xlabel('X1')\n",
        "plt.ylabel('X2')\n",
        "plt.legend()\n",
        "plt.show()"
      ]
    }
  ],
  "metadata": {
    "colab": {
      "collapsed_sections": [
        "5pLogomhEw-K",
        "uGOYe3TsCUF4",
        "yQGmkrlRpw5r"
      ],
      "provenance": []
    },
    "kernelspec": {
      "display_name": "Python 3",
      "language": "python",
      "name": "python3"
    },
    "language_info": {
      "codemirror_mode": {
        "name": "ipython",
        "version": 3
      },
      "file_extension": ".py",
      "mimetype": "text/x-python",
      "name": "python",
      "nbconvert_exporter": "python",
      "pygments_lexer": "ipython3",
      "version": "3.11.0 (main, Oct 24 2022, 18:26:48) [MSC v.1933 64 bit (AMD64)]"
    },
    "vscode": {
      "interpreter": {
        "hash": "5238573367df39f7286bb46f9ff5f08f63a01a80960060ce41e3c79b190280fa"
      }
    }
  },
  "nbformat": 4,
  "nbformat_minor": 0
}
