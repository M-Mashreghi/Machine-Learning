{
  "nbformat": 4,
  "nbformat_minor": 0,
  "metadata": {
    "colab": {
      "provenance": [],
      "collapsed_sections": [
        "svMgW8RjwLcq",
        "yQGmkrlRpw5r"
      ]
    },
    "kernelspec": {
      "name": "python3",
      "display_name": "Python 3"
    },
    "language_info": {
      "name": "python"
    }
  },
  "cells": [
    {
      "cell_type": "markdown",
      "source": [
        "#Q3"
      ],
      "metadata": {
        "id": "UQ4NtaWUCMy6"
      }
    },
    {
      "cell_type": "markdown",
      "source": [
        "##creating database"
      ],
      "metadata": {
        "id": "5pLogomhEw-K"
      }
    },
    {
      "cell_type": "markdown",
      "source": [
        "###imports"
      ],
      "metadata": {
        "id": "uGOYe3TsCUF4"
      }
    },
    {
      "cell_type": "code",
      "source": [
        "from numpy.random import uniform\n",
        "from numpy import array\n",
        "import numpy as np"
      ],
      "metadata": {
        "id": "-YNce5RyCcLS"
      },
      "execution_count": 7,
      "outputs": []
    },
    {
      "cell_type": "markdown",
      "source": [
        "###create first data base with uniform dis"
      ],
      "metadata": {
        "id": "FubMn1iLCdKB"
      }
    },
    {
      "cell_type": "code",
      "execution_count": 20,
      "metadata": {
        "id": "4FUnDjv02-re",
        "colab": {
          "base_uri": "https://localhost:8080/"
        },
        "outputId": "f77cb040-027f-4a7a-8272-d884855a5490"
      },
      "outputs": [
        {
          "output_type": "stream",
          "name": "stdout",
          "text": [
            "[[ 1.1317944  -0.71107702]\n",
            " [ 0.37892105  1.31821535]\n",
            " [ 1.11879592  0.72208115]\n",
            " [ 1.02158524 -0.50255163]\n",
            " [ 1.09706298 -0.6231803 ]\n",
            " [-0.00367753  1.15769726]\n",
            " [ 1.09214599 -0.41363259]\n",
            " [ 0.82468561 -0.78625318]\n",
            " [ 0.9311148   0.72848606]\n",
            " [ 0.67378925 -0.80754405]\n",
            " [-0.65592596  0.87914714]\n",
            " [ 1.30511901 -0.07223915]\n",
            " [ 1.19844661  0.46714153]\n",
            " [ 1.02585096  0.44687105]\n",
            " [ 0.98349901 -0.50620875]\n",
            " [-1.02176285 -0.53921532]\n",
            " [ 1.09355228 -0.87007723]\n",
            " [ 1.39701611 -0.21307248]\n",
            " [-1.0129289  -0.04476069]\n",
            " [-0.62167438 -0.86929938]\n",
            " [-0.82617668  1.06012103]\n",
            " [ 0.25612443  1.06558434]\n",
            " [ 1.31204735  0.43427116]\n",
            " [-0.53742607  1.13792614]\n",
            " [-0.96272147  0.28724527]\n",
            " [-1.18451233  0.67426106]\n",
            " [ 0.88335555 -0.68414951]\n",
            " [-0.15457091  1.12112913]\n",
            " [ 0.45323514 -0.94791563]\n",
            " [-0.18355295  1.00604984]\n",
            " [-1.31956524  0.24085282]\n",
            " [-1.03230948  0.24010223]\n",
            " [ 1.05375983  0.82467671]\n",
            " [ 0.88937304 -0.76202479]\n",
            " [ 1.09968187  0.74848912]\n",
            " [ 0.7094597  -1.1276369 ]\n",
            " [ 1.245301    0.16112674]\n",
            " [ 1.04086406  0.5501278 ]\n",
            " [ 0.41509599 -1.33456834]\n",
            " [ 0.71451597  0.79192355]\n",
            " [-0.56283044  1.11297471]\n",
            " [-1.11425532  0.31889544]\n",
            " [-0.57773515 -1.2823516 ]\n",
            " [ 0.363998   -1.21449077]\n",
            " [ 0.98621648 -0.27993132]\n",
            " [-1.18856793  0.48020716]\n",
            " [ 1.05276737  0.36197403]\n",
            " [-0.11223634  1.02179339]\n",
            " [-0.83865287  0.8251954 ]\n",
            " [-1.2459822  -0.14258946]\n",
            " [-1.01554413  0.75354921]\n",
            " [ 0.34128042 -1.06144903]\n",
            " [ 1.14881863 -0.2155466 ]\n",
            " [-1.06239308 -0.29361006]\n",
            " [ 0.17064451  1.07775692]\n",
            " [ 0.7329151   1.14476426]\n",
            " [ 0.9039854   1.04980347]\n",
            " [ 1.24195797 -0.48615487]\n",
            " [-0.51912849 -1.17385281]\n",
            " [-0.39582682  0.97507843]\n",
            " [-1.14993188  0.64881732]\n",
            " [-1.12801802  0.21201664]\n",
            " [-0.81418877  0.66242322]\n",
            " [ 1.27224317  0.27729285]\n",
            " [ 0.32857556 -1.08152224]\n",
            " [ 0.63438926 -0.83899224]\n",
            " [ 0.98623475  0.77931956]\n",
            " [-0.43926     1.05260539]\n",
            " [ 0.02471895  1.12646713]\n",
            " [ 0.77890269 -1.11148207]\n",
            " [-0.5715705  -1.06555977]\n",
            " [-0.65261882 -1.12760912]\n",
            " [-0.85605885 -0.72959469]\n",
            " [ 0.87995324 -0.68708112]\n",
            " [-1.01666758  0.78319001]\n",
            " [-0.5017961  -1.18425767]\n",
            " [-1.03414399 -0.57334598]\n",
            " [ 0.54893618 -1.21797713]\n",
            " [ 0.86793795  1.00073222]\n",
            " [-1.00059969  0.84094099]\n",
            " [-0.59446893 -1.15633167]\n",
            " [ 0.34216855  1.33572298]\n",
            " [-0.17320508  1.24264813]\n",
            " [ 1.21795035  0.5794463 ]\n",
            " [ 1.27465974  0.48740441]\n",
            " [ 0.12929759 -1.01422932]\n",
            " [-0.9393923  -0.9236631 ]\n",
            " [ 1.33207116  0.2304267 ]\n",
            " [-1.02024643 -0.3329755 ]\n",
            " [ 0.314932    1.02642438]\n",
            " [-1.18587153 -0.15032129]\n",
            " [-0.06869831 -1.36264476]\n",
            " [-0.92215011 -0.85836993]\n",
            " [-1.27293218  0.44406721]\n",
            " [ 1.01311717 -0.79610026]\n",
            " [ 0.53414146  0.891271  ]\n",
            " [-1.19095369  0.69405585]\n",
            " [-0.92710939 -1.01974442]\n",
            " [-1.33047595 -0.25142262]\n",
            " [ 0.6745198   0.81956849]]\n"
          ]
        }
      ],
      "source": [
        "import numpy as np\n",
        "\n",
        "samples = 100\n",
        "lower_bound = -2**0.5\n",
        "upper_bound = 2**0.5\n",
        "\n",
        "X1 = np.empty((samples, 2))\n",
        "\n",
        "count = 0\n",
        "while count < samples:\n",
        "    x1, x2 = np.random.uniform(lower_bound, upper_bound, 2)\n",
        "    if 1 < x1**2 + x2**2 < 2:\n",
        "        X1[count] = [x1, x2]\n",
        "        count += 1\n",
        "    \n",
        "print(X1)"
      ]
    },
    {
      "cell_type": "markdown",
      "source": [
        "###create second data base with uniform dis"
      ],
      "metadata": {
        "id": "Vibn0RUXCnwr"
      }
    },
    {
      "cell_type": "code",
      "source": [
        "import numpy as np\n",
        "\n",
        "samples = 100\n",
        "\n",
        "lower_bound = -5**0.5\n",
        "upper_bound = 5**0.5\n",
        "\n",
        "X2 = np.empty((samples, 2))\n",
        "\n",
        "count = 0\n",
        "while count < samples:\n",
        "    x1, x2 = np.random.uniform(lower_bound, upper_bound, 2)\n",
        "    if 4 < x1**2 + x2**2 < 5:\n",
        "        X2[count] = [x1, x2]\n",
        "        count += 1\n",
        "    \n",
        "print(X2)"
      ],
      "metadata": {
        "id": "EVA_Q71WQCce"
      },
      "execution_count": null,
      "outputs": []
    },
    {
      "cell_type": "markdown",
      "source": [
        "###create labels"
      ],
      "metadata": {
        "id": "F1Fv2-_mD4nh"
      }
    },
    {
      "cell_type": "code",
      "source": [
        "from numpy import concatenate\n",
        "SAMPLE = 100\n",
        "Y=[];\n",
        "for i in range(SAMPLE):\n",
        "  Y.append(0)\n",
        "for i in range(SAMPLE):\n",
        "  Y.append(1)\n",
        "Y =array(Y)\n",
        "\n",
        "X =concatenate((X1,X2), axis=0)\n",
        "#print(len(X))\n",
        "#print((X))\n",
        "#print(Y)"
      ],
      "metadata": {
        "id": "DwgHOjqh1p95"
      },
      "execution_count": 10,
      "outputs": []
    },
    {
      "cell_type": "markdown",
      "source": [
        "## Importing the libraries\n"
      ],
      "metadata": {
        "id": "svMgW8RjwLcq"
      }
    },
    {
      "cell_type": "code",
      "source": [
        "import numpy as np\n",
        "import matplotlib.pyplot as plt\n",
        "import pandas as pd"
      ],
      "metadata": {
        "id": "UDmx8kpnwL7r"
      },
      "execution_count": 11,
      "outputs": []
    },
    {
      "cell_type": "markdown",
      "source": [
        "## Splitting the dataset into the Training set and Test set\n"
      ],
      "metadata": {
        "id": "yQGmkrlRpw5r"
      }
    },
    {
      "cell_type": "code",
      "source": [
        "from sklearn.model_selection import train_test_split\n",
        "X_train, X_test, y_train, y_test = train_test_split(X, Y, test_size = 0.25, random_state = 0)\n"
      ],
      "metadata": {
        "id": "tfSoTHUVwAt0"
      },
      "execution_count": 12,
      "outputs": []
    },
    {
      "cell_type": "markdown",
      "source": [
        "## Feature Scaling\n"
      ],
      "metadata": {
        "id": "ZlCkOAulwr6S"
      }
    },
    {
      "cell_type": "code",
      "source": [
        "from sklearn.preprocessing import StandardScaler\n",
        "sc = StandardScaler()\n",
        "X_train = sc.fit_transform(X_train)\n",
        "X_test = sc.transform(X_test)"
      ],
      "metadata": {
        "id": "UK27vN5Iwt-7"
      },
      "execution_count": 13,
      "outputs": []
    },
    {
      "cell_type": "markdown",
      "source": [
        "## Fitting SVM to the Training set with diffrent C\n"
      ],
      "metadata": {
        "id": "Rgtqp7XvySKr"
      }
    },
    {
      "cell_type": "code",
      "source": [
        "from sklearn.svm import SVC\n",
        "from sklearn.model_selection import KFold\n",
        "from sklearn.model_selection import cross_val_score\n",
        "from sklearn.metrics import confusion_matrix, accuracy_score\n",
        "from sklearn.metrics import precision_score\n",
        "from sklearn.metrics import recall_score\n",
        "from numpy import mean\n",
        "from numpy import std\n",
        "\n",
        "best_C = 0\n",
        "highest_mean_scores = 0\n",
        "i=0.1\n",
        "\n",
        "cv = KFold(n_splits=10, random_state=1, shuffle=True)\n",
        "\n",
        "\n",
        "\n",
        "while(i < 50):\n",
        "  classifier = SVC(C=i,kernel = 'rbf', random_state = 0)\n",
        "  classifier.fit(X_train, y_train)\n",
        "  scores = cross_val_score(classifier, X, Y, scoring='accuracy', cv=cv, n_jobs=-1)\n",
        "  print(\"C = %.1f\" % i,'Accuracy: %.4f (the standard deviation : %.3f)' % (mean(scores), std(scores)))\n",
        "  if(highest_mean_scores < mean(scores)):\n",
        "      highest_mean_scores = mean(scores)\n",
        "      best_C = i\n",
        "  i += 0.1\n",
        "print(\"best valume of C = \",best_C,\"highest mean scores = \", highest_mean_scores)"
      ],
      "metadata": {
        "colab": {
          "base_uri": "https://localhost:8080/"
        },
        "id": "wARzumN8yTD5",
        "outputId": "a825c11d-071e-426d-bf01-06fe6d364cfd"
      },
      "execution_count": 14,
      "outputs": [
        {
          "output_type": "stream",
          "name": "stdout",
          "text": [
            "C = 0.1 Accuracy: 1.0000 (the standard deviation : 0.000)\n",
            "C = 0.2 Accuracy: 1.0000 (the standard deviation : 0.000)\n",
            "C = 0.3 Accuracy: 1.0000 (the standard deviation : 0.000)\n",
            "C = 0.4 Accuracy: 1.0000 (the standard deviation : 0.000)\n",
            "C = 0.5 Accuracy: 1.0000 (the standard deviation : 0.000)\n",
            "C = 0.6 Accuracy: 1.0000 (the standard deviation : 0.000)\n",
            "C = 0.7 Accuracy: 1.0000 (the standard deviation : 0.000)\n",
            "C = 0.8 Accuracy: 1.0000 (the standard deviation : 0.000)\n",
            "C = 0.9 Accuracy: 1.0000 (the standard deviation : 0.000)\n",
            "C = 1.0 Accuracy: 1.0000 (the standard deviation : 0.000)\n",
            "C = 1.1 Accuracy: 1.0000 (the standard deviation : 0.000)\n",
            "C = 1.2 Accuracy: 1.0000 (the standard deviation : 0.000)\n",
            "C = 1.3 Accuracy: 1.0000 (the standard deviation : 0.000)\n",
            "C = 1.4 Accuracy: 1.0000 (the standard deviation : 0.000)\n",
            "C = 1.5 Accuracy: 1.0000 (the standard deviation : 0.000)\n",
            "C = 1.6 Accuracy: 1.0000 (the standard deviation : 0.000)\n",
            "C = 1.7 Accuracy: 1.0000 (the standard deviation : 0.000)\n",
            "C = 1.8 Accuracy: 1.0000 (the standard deviation : 0.000)\n",
            "C = 1.9 Accuracy: 1.0000 (the standard deviation : 0.000)\n",
            "C = 2.0 Accuracy: 1.0000 (the standard deviation : 0.000)\n",
            "C = 2.1 Accuracy: 1.0000 (the standard deviation : 0.000)\n",
            "C = 2.2 Accuracy: 1.0000 (the standard deviation : 0.000)\n",
            "C = 2.3 Accuracy: 1.0000 (the standard deviation : 0.000)\n",
            "C = 2.4 Accuracy: 1.0000 (the standard deviation : 0.000)\n",
            "C = 2.5 Accuracy: 1.0000 (the standard deviation : 0.000)\n",
            "C = 2.6 Accuracy: 1.0000 (the standard deviation : 0.000)\n",
            "C = 2.7 Accuracy: 1.0000 (the standard deviation : 0.000)\n",
            "C = 2.8 Accuracy: 1.0000 (the standard deviation : 0.000)\n",
            "C = 2.9 Accuracy: 1.0000 (the standard deviation : 0.000)\n",
            "C = 3.0 Accuracy: 1.0000 (the standard deviation : 0.000)\n",
            "C = 3.1 Accuracy: 1.0000 (the standard deviation : 0.000)\n",
            "C = 3.2 Accuracy: 1.0000 (the standard deviation : 0.000)\n",
            "C = 3.3 Accuracy: 1.0000 (the standard deviation : 0.000)\n",
            "C = 3.4 Accuracy: 1.0000 (the standard deviation : 0.000)\n",
            "C = 3.5 Accuracy: 1.0000 (the standard deviation : 0.000)\n",
            "C = 3.6 Accuracy: 1.0000 (the standard deviation : 0.000)\n",
            "C = 3.7 Accuracy: 1.0000 (the standard deviation : 0.000)\n",
            "C = 3.8 Accuracy: 1.0000 (the standard deviation : 0.000)\n",
            "C = 3.9 Accuracy: 1.0000 (the standard deviation : 0.000)\n",
            "C = 4.0 Accuracy: 1.0000 (the standard deviation : 0.000)\n",
            "C = 4.1 Accuracy: 1.0000 (the standard deviation : 0.000)\n",
            "C = 4.2 Accuracy: 1.0000 (the standard deviation : 0.000)\n",
            "C = 4.3 Accuracy: 1.0000 (the standard deviation : 0.000)\n",
            "C = 4.4 Accuracy: 1.0000 (the standard deviation : 0.000)\n",
            "C = 4.5 Accuracy: 1.0000 (the standard deviation : 0.000)\n",
            "C = 4.6 Accuracy: 1.0000 (the standard deviation : 0.000)\n",
            "C = 4.7 Accuracy: 1.0000 (the standard deviation : 0.000)\n",
            "C = 4.8 Accuracy: 1.0000 (the standard deviation : 0.000)\n",
            "C = 4.9 Accuracy: 1.0000 (the standard deviation : 0.000)\n",
            "C = 5.0 Accuracy: 1.0000 (the standard deviation : 0.000)\n",
            "C = 5.1 Accuracy: 1.0000 (the standard deviation : 0.000)\n",
            "C = 5.2 Accuracy: 1.0000 (the standard deviation : 0.000)\n",
            "C = 5.3 Accuracy: 1.0000 (the standard deviation : 0.000)\n",
            "C = 5.4 Accuracy: 1.0000 (the standard deviation : 0.000)\n",
            "C = 5.5 Accuracy: 1.0000 (the standard deviation : 0.000)\n",
            "C = 5.6 Accuracy: 1.0000 (the standard deviation : 0.000)\n",
            "C = 5.7 Accuracy: 1.0000 (the standard deviation : 0.000)\n",
            "C = 5.8 Accuracy: 1.0000 (the standard deviation : 0.000)\n",
            "C = 5.9 Accuracy: 1.0000 (the standard deviation : 0.000)\n",
            "C = 6.0 Accuracy: 1.0000 (the standard deviation : 0.000)\n",
            "C = 6.1 Accuracy: 1.0000 (the standard deviation : 0.000)\n",
            "C = 6.2 Accuracy: 1.0000 (the standard deviation : 0.000)\n",
            "C = 6.3 Accuracy: 1.0000 (the standard deviation : 0.000)\n",
            "C = 6.4 Accuracy: 1.0000 (the standard deviation : 0.000)\n",
            "C = 6.5 Accuracy: 1.0000 (the standard deviation : 0.000)\n",
            "C = 6.6 Accuracy: 1.0000 (the standard deviation : 0.000)\n",
            "C = 6.7 Accuracy: 1.0000 (the standard deviation : 0.000)\n",
            "C = 6.8 Accuracy: 1.0000 (the standard deviation : 0.000)\n",
            "C = 6.9 Accuracy: 1.0000 (the standard deviation : 0.000)\n",
            "C = 7.0 Accuracy: 1.0000 (the standard deviation : 0.000)\n",
            "C = 7.1 Accuracy: 1.0000 (the standard deviation : 0.000)\n",
            "C = 7.2 Accuracy: 1.0000 (the standard deviation : 0.000)\n",
            "C = 7.3 Accuracy: 1.0000 (the standard deviation : 0.000)\n",
            "C = 7.4 Accuracy: 1.0000 (the standard deviation : 0.000)\n",
            "C = 7.5 Accuracy: 1.0000 (the standard deviation : 0.000)\n",
            "C = 7.6 Accuracy: 1.0000 (the standard deviation : 0.000)\n",
            "C = 7.7 Accuracy: 1.0000 (the standard deviation : 0.000)\n",
            "C = 7.8 Accuracy: 1.0000 (the standard deviation : 0.000)\n",
            "C = 7.9 Accuracy: 1.0000 (the standard deviation : 0.000)\n",
            "C = 8.0 Accuracy: 1.0000 (the standard deviation : 0.000)\n",
            "C = 8.1 Accuracy: 1.0000 (the standard deviation : 0.000)\n",
            "C = 8.2 Accuracy: 1.0000 (the standard deviation : 0.000)\n",
            "C = 8.3 Accuracy: 1.0000 (the standard deviation : 0.000)\n",
            "C = 8.4 Accuracy: 1.0000 (the standard deviation : 0.000)\n",
            "C = 8.5 Accuracy: 1.0000 (the standard deviation : 0.000)\n",
            "C = 8.6 Accuracy: 1.0000 (the standard deviation : 0.000)\n",
            "C = 8.7 Accuracy: 1.0000 (the standard deviation : 0.000)\n",
            "C = 8.8 Accuracy: 1.0000 (the standard deviation : 0.000)\n",
            "C = 8.9 Accuracy: 1.0000 (the standard deviation : 0.000)\n",
            "C = 9.0 Accuracy: 1.0000 (the standard deviation : 0.000)\n",
            "C = 9.1 Accuracy: 1.0000 (the standard deviation : 0.000)\n",
            "C = 9.2 Accuracy: 1.0000 (the standard deviation : 0.000)\n",
            "C = 9.3 Accuracy: 1.0000 (the standard deviation : 0.000)\n",
            "C = 9.4 Accuracy: 1.0000 (the standard deviation : 0.000)\n",
            "C = 9.5 Accuracy: 1.0000 (the standard deviation : 0.000)\n",
            "C = 9.6 Accuracy: 1.0000 (the standard deviation : 0.000)\n",
            "C = 9.7 Accuracy: 1.0000 (the standard deviation : 0.000)\n",
            "C = 9.8 Accuracy: 1.0000 (the standard deviation : 0.000)\n",
            "C = 9.9 Accuracy: 1.0000 (the standard deviation : 0.000)\n",
            "C = 10.0 Accuracy: 1.0000 (the standard deviation : 0.000)\n",
            "C = 10.1 Accuracy: 1.0000 (the standard deviation : 0.000)\n",
            "C = 10.2 Accuracy: 1.0000 (the standard deviation : 0.000)\n",
            "C = 10.3 Accuracy: 1.0000 (the standard deviation : 0.000)\n",
            "C = 10.4 Accuracy: 1.0000 (the standard deviation : 0.000)\n",
            "C = 10.5 Accuracy: 1.0000 (the standard deviation : 0.000)\n",
            "C = 10.6 Accuracy: 1.0000 (the standard deviation : 0.000)\n",
            "C = 10.7 Accuracy: 1.0000 (the standard deviation : 0.000)\n",
            "C = 10.8 Accuracy: 1.0000 (the standard deviation : 0.000)\n",
            "C = 10.9 Accuracy: 1.0000 (the standard deviation : 0.000)\n",
            "C = 11.0 Accuracy: 1.0000 (the standard deviation : 0.000)\n",
            "C = 11.1 Accuracy: 1.0000 (the standard deviation : 0.000)\n",
            "C = 11.2 Accuracy: 1.0000 (the standard deviation : 0.000)\n",
            "C = 11.3 Accuracy: 1.0000 (the standard deviation : 0.000)\n",
            "C = 11.4 Accuracy: 1.0000 (the standard deviation : 0.000)\n",
            "C = 11.5 Accuracy: 1.0000 (the standard deviation : 0.000)\n",
            "C = 11.6 Accuracy: 1.0000 (the standard deviation : 0.000)\n",
            "C = 11.7 Accuracy: 1.0000 (the standard deviation : 0.000)\n",
            "C = 11.8 Accuracy: 1.0000 (the standard deviation : 0.000)\n",
            "C = 11.9 Accuracy: 1.0000 (the standard deviation : 0.000)\n",
            "C = 12.0 Accuracy: 1.0000 (the standard deviation : 0.000)\n",
            "C = 12.1 Accuracy: 1.0000 (the standard deviation : 0.000)\n",
            "C = 12.2 Accuracy: 1.0000 (the standard deviation : 0.000)\n",
            "C = 12.3 Accuracy: 1.0000 (the standard deviation : 0.000)\n",
            "C = 12.4 Accuracy: 1.0000 (the standard deviation : 0.000)\n",
            "C = 12.5 Accuracy: 1.0000 (the standard deviation : 0.000)\n",
            "C = 12.6 Accuracy: 1.0000 (the standard deviation : 0.000)\n",
            "C = 12.7 Accuracy: 1.0000 (the standard deviation : 0.000)\n",
            "C = 12.8 Accuracy: 1.0000 (the standard deviation : 0.000)\n",
            "C = 12.9 Accuracy: 1.0000 (the standard deviation : 0.000)\n",
            "C = 13.0 Accuracy: 1.0000 (the standard deviation : 0.000)\n",
            "C = 13.1 Accuracy: 1.0000 (the standard deviation : 0.000)\n",
            "C = 13.2 Accuracy: 1.0000 (the standard deviation : 0.000)\n",
            "C = 13.3 Accuracy: 1.0000 (the standard deviation : 0.000)\n",
            "C = 13.4 Accuracy: 1.0000 (the standard deviation : 0.000)\n",
            "C = 13.5 Accuracy: 1.0000 (the standard deviation : 0.000)\n",
            "C = 13.6 Accuracy: 1.0000 (the standard deviation : 0.000)\n",
            "C = 13.7 Accuracy: 1.0000 (the standard deviation : 0.000)\n",
            "C = 13.8 Accuracy: 1.0000 (the standard deviation : 0.000)\n",
            "C = 13.9 Accuracy: 1.0000 (the standard deviation : 0.000)\n",
            "C = 14.0 Accuracy: 1.0000 (the standard deviation : 0.000)\n",
            "C = 14.1 Accuracy: 1.0000 (the standard deviation : 0.000)\n",
            "C = 14.2 Accuracy: 1.0000 (the standard deviation : 0.000)\n",
            "C = 14.3 Accuracy: 1.0000 (the standard deviation : 0.000)\n",
            "C = 14.4 Accuracy: 1.0000 (the standard deviation : 0.000)\n",
            "C = 14.5 Accuracy: 1.0000 (the standard deviation : 0.000)\n",
            "C = 14.6 Accuracy: 1.0000 (the standard deviation : 0.000)\n",
            "C = 14.7 Accuracy: 1.0000 (the standard deviation : 0.000)\n",
            "C = 14.8 Accuracy: 1.0000 (the standard deviation : 0.000)\n",
            "C = 14.9 Accuracy: 1.0000 (the standard deviation : 0.000)\n",
            "C = 15.0 Accuracy: 1.0000 (the standard deviation : 0.000)\n",
            "C = 15.1 Accuracy: 1.0000 (the standard deviation : 0.000)\n",
            "C = 15.2 Accuracy: 1.0000 (the standard deviation : 0.000)\n",
            "C = 15.3 Accuracy: 1.0000 (the standard deviation : 0.000)\n",
            "C = 15.4 Accuracy: 1.0000 (the standard deviation : 0.000)\n",
            "C = 15.5 Accuracy: 1.0000 (the standard deviation : 0.000)\n",
            "C = 15.6 Accuracy: 1.0000 (the standard deviation : 0.000)\n",
            "C = 15.7 Accuracy: 1.0000 (the standard deviation : 0.000)\n",
            "C = 15.8 Accuracy: 1.0000 (the standard deviation : 0.000)\n",
            "C = 15.9 Accuracy: 1.0000 (the standard deviation : 0.000)\n",
            "C = 16.0 Accuracy: 1.0000 (the standard deviation : 0.000)\n",
            "C = 16.1 Accuracy: 1.0000 (the standard deviation : 0.000)\n",
            "C = 16.2 Accuracy: 1.0000 (the standard deviation : 0.000)\n",
            "C = 16.3 Accuracy: 1.0000 (the standard deviation : 0.000)\n",
            "C = 16.4 Accuracy: 1.0000 (the standard deviation : 0.000)\n",
            "C = 16.5 Accuracy: 1.0000 (the standard deviation : 0.000)\n",
            "C = 16.6 Accuracy: 1.0000 (the standard deviation : 0.000)\n",
            "C = 16.7 Accuracy: 1.0000 (the standard deviation : 0.000)\n",
            "C = 16.8 Accuracy: 1.0000 (the standard deviation : 0.000)\n",
            "C = 16.9 Accuracy: 1.0000 (the standard deviation : 0.000)\n",
            "C = 17.0 Accuracy: 1.0000 (the standard deviation : 0.000)\n",
            "C = 17.1 Accuracy: 1.0000 (the standard deviation : 0.000)\n",
            "C = 17.2 Accuracy: 1.0000 (the standard deviation : 0.000)\n",
            "C = 17.3 Accuracy: 1.0000 (the standard deviation : 0.000)\n",
            "C = 17.4 Accuracy: 1.0000 (the standard deviation : 0.000)\n",
            "C = 17.5 Accuracy: 1.0000 (the standard deviation : 0.000)\n",
            "C = 17.6 Accuracy: 1.0000 (the standard deviation : 0.000)\n",
            "C = 17.7 Accuracy: 1.0000 (the standard deviation : 0.000)\n",
            "C = 17.8 Accuracy: 1.0000 (the standard deviation : 0.000)\n",
            "C = 17.9 Accuracy: 1.0000 (the standard deviation : 0.000)\n",
            "C = 18.0 Accuracy: 1.0000 (the standard deviation : 0.000)\n",
            "C = 18.1 Accuracy: 1.0000 (the standard deviation : 0.000)\n",
            "C = 18.2 Accuracy: 1.0000 (the standard deviation : 0.000)\n",
            "C = 18.3 Accuracy: 1.0000 (the standard deviation : 0.000)\n",
            "C = 18.4 Accuracy: 1.0000 (the standard deviation : 0.000)\n",
            "C = 18.5 Accuracy: 1.0000 (the standard deviation : 0.000)\n",
            "C = 18.6 Accuracy: 1.0000 (the standard deviation : 0.000)\n",
            "C = 18.7 Accuracy: 1.0000 (the standard deviation : 0.000)\n",
            "C = 18.8 Accuracy: 1.0000 (the standard deviation : 0.000)\n",
            "C = 18.9 Accuracy: 1.0000 (the standard deviation : 0.000)\n",
            "C = 19.0 Accuracy: 1.0000 (the standard deviation : 0.000)\n",
            "C = 19.1 Accuracy: 1.0000 (the standard deviation : 0.000)\n",
            "C = 19.2 Accuracy: 1.0000 (the standard deviation : 0.000)\n",
            "C = 19.3 Accuracy: 1.0000 (the standard deviation : 0.000)\n",
            "C = 19.4 Accuracy: 1.0000 (the standard deviation : 0.000)\n",
            "C = 19.5 Accuracy: 1.0000 (the standard deviation : 0.000)\n",
            "C = 19.6 Accuracy: 1.0000 (the standard deviation : 0.000)\n",
            "C = 19.7 Accuracy: 1.0000 (the standard deviation : 0.000)\n",
            "C = 19.8 Accuracy: 1.0000 (the standard deviation : 0.000)\n",
            "C = 19.9 Accuracy: 1.0000 (the standard deviation : 0.000)\n",
            "C = 20.0 Accuracy: 1.0000 (the standard deviation : 0.000)\n",
            "C = 20.1 Accuracy: 1.0000 (the standard deviation : 0.000)\n",
            "C = 20.2 Accuracy: 1.0000 (the standard deviation : 0.000)\n",
            "C = 20.3 Accuracy: 1.0000 (the standard deviation : 0.000)\n",
            "C = 20.4 Accuracy: 1.0000 (the standard deviation : 0.000)\n",
            "C = 20.5 Accuracy: 1.0000 (the standard deviation : 0.000)\n",
            "C = 20.6 Accuracy: 1.0000 (the standard deviation : 0.000)\n",
            "C = 20.7 Accuracy: 1.0000 (the standard deviation : 0.000)\n",
            "C = 20.8 Accuracy: 1.0000 (the standard deviation : 0.000)\n",
            "C = 20.9 Accuracy: 1.0000 (the standard deviation : 0.000)\n",
            "C = 21.0 Accuracy: 1.0000 (the standard deviation : 0.000)\n",
            "C = 21.1 Accuracy: 1.0000 (the standard deviation : 0.000)\n",
            "C = 21.2 Accuracy: 1.0000 (the standard deviation : 0.000)\n",
            "C = 21.3 Accuracy: 1.0000 (the standard deviation : 0.000)\n",
            "C = 21.4 Accuracy: 1.0000 (the standard deviation : 0.000)\n",
            "C = 21.5 Accuracy: 1.0000 (the standard deviation : 0.000)\n",
            "C = 21.6 Accuracy: 1.0000 (the standard deviation : 0.000)\n",
            "C = 21.7 Accuracy: 1.0000 (the standard deviation : 0.000)\n",
            "C = 21.8 Accuracy: 1.0000 (the standard deviation : 0.000)\n",
            "C = 21.9 Accuracy: 1.0000 (the standard deviation : 0.000)\n",
            "C = 22.0 Accuracy: 1.0000 (the standard deviation : 0.000)\n",
            "C = 22.1 Accuracy: 1.0000 (the standard deviation : 0.000)\n",
            "C = 22.2 Accuracy: 1.0000 (the standard deviation : 0.000)\n",
            "C = 22.3 Accuracy: 1.0000 (the standard deviation : 0.000)\n",
            "C = 22.4 Accuracy: 1.0000 (the standard deviation : 0.000)\n",
            "C = 22.5 Accuracy: 1.0000 (the standard deviation : 0.000)\n",
            "C = 22.6 Accuracy: 1.0000 (the standard deviation : 0.000)\n",
            "C = 22.7 Accuracy: 1.0000 (the standard deviation : 0.000)\n",
            "C = 22.8 Accuracy: 1.0000 (the standard deviation : 0.000)\n",
            "C = 22.9 Accuracy: 1.0000 (the standard deviation : 0.000)\n",
            "C = 23.0 Accuracy: 1.0000 (the standard deviation : 0.000)\n",
            "C = 23.1 Accuracy: 1.0000 (the standard deviation : 0.000)\n",
            "C = 23.2 Accuracy: 1.0000 (the standard deviation : 0.000)\n",
            "C = 23.3 Accuracy: 1.0000 (the standard deviation : 0.000)\n",
            "C = 23.4 Accuracy: 1.0000 (the standard deviation : 0.000)\n",
            "C = 23.5 Accuracy: 1.0000 (the standard deviation : 0.000)\n",
            "C = 23.6 Accuracy: 1.0000 (the standard deviation : 0.000)\n",
            "C = 23.7 Accuracy: 1.0000 (the standard deviation : 0.000)\n",
            "C = 23.8 Accuracy: 1.0000 (the standard deviation : 0.000)\n",
            "C = 23.9 Accuracy: 1.0000 (the standard deviation : 0.000)\n",
            "C = 24.0 Accuracy: 1.0000 (the standard deviation : 0.000)\n",
            "C = 24.1 Accuracy: 1.0000 (the standard deviation : 0.000)\n",
            "C = 24.2 Accuracy: 1.0000 (the standard deviation : 0.000)\n",
            "C = 24.3 Accuracy: 1.0000 (the standard deviation : 0.000)\n",
            "C = 24.4 Accuracy: 1.0000 (the standard deviation : 0.000)\n",
            "C = 24.5 Accuracy: 1.0000 (the standard deviation : 0.000)\n",
            "C = 24.6 Accuracy: 1.0000 (the standard deviation : 0.000)\n",
            "C = 24.7 Accuracy: 1.0000 (the standard deviation : 0.000)\n",
            "C = 24.8 Accuracy: 1.0000 (the standard deviation : 0.000)\n",
            "C = 24.9 Accuracy: 1.0000 (the standard deviation : 0.000)\n",
            "C = 25.0 Accuracy: 1.0000 (the standard deviation : 0.000)\n",
            "C = 25.1 Accuracy: 1.0000 (the standard deviation : 0.000)\n",
            "C = 25.2 Accuracy: 1.0000 (the standard deviation : 0.000)\n",
            "C = 25.3 Accuracy: 1.0000 (the standard deviation : 0.000)\n",
            "C = 25.4 Accuracy: 1.0000 (the standard deviation : 0.000)\n",
            "C = 25.5 Accuracy: 1.0000 (the standard deviation : 0.000)\n",
            "C = 25.6 Accuracy: 1.0000 (the standard deviation : 0.000)\n",
            "C = 25.7 Accuracy: 1.0000 (the standard deviation : 0.000)\n",
            "C = 25.8 Accuracy: 1.0000 (the standard deviation : 0.000)\n",
            "C = 25.9 Accuracy: 1.0000 (the standard deviation : 0.000)\n",
            "C = 26.0 Accuracy: 1.0000 (the standard deviation : 0.000)\n",
            "C = 26.1 Accuracy: 1.0000 (the standard deviation : 0.000)\n",
            "C = 26.2 Accuracy: 1.0000 (the standard deviation : 0.000)\n",
            "C = 26.3 Accuracy: 1.0000 (the standard deviation : 0.000)\n",
            "C = 26.4 Accuracy: 1.0000 (the standard deviation : 0.000)\n",
            "C = 26.5 Accuracy: 1.0000 (the standard deviation : 0.000)\n",
            "C = 26.6 Accuracy: 1.0000 (the standard deviation : 0.000)\n",
            "C = 26.7 Accuracy: 1.0000 (the standard deviation : 0.000)\n",
            "C = 26.8 Accuracy: 1.0000 (the standard deviation : 0.000)\n",
            "C = 26.9 Accuracy: 1.0000 (the standard deviation : 0.000)\n",
            "C = 27.0 Accuracy: 1.0000 (the standard deviation : 0.000)\n",
            "C = 27.1 Accuracy: 1.0000 (the standard deviation : 0.000)\n",
            "C = 27.2 Accuracy: 1.0000 (the standard deviation : 0.000)\n",
            "C = 27.3 Accuracy: 1.0000 (the standard deviation : 0.000)\n",
            "C = 27.4 Accuracy: 1.0000 (the standard deviation : 0.000)\n",
            "C = 27.5 Accuracy: 1.0000 (the standard deviation : 0.000)\n",
            "C = 27.6 Accuracy: 1.0000 (the standard deviation : 0.000)\n",
            "C = 27.7 Accuracy: 1.0000 (the standard deviation : 0.000)\n",
            "C = 27.8 Accuracy: 1.0000 (the standard deviation : 0.000)\n",
            "C = 27.9 Accuracy: 1.0000 (the standard deviation : 0.000)\n",
            "C = 28.0 Accuracy: 1.0000 (the standard deviation : 0.000)\n",
            "C = 28.1 Accuracy: 1.0000 (the standard deviation : 0.000)\n",
            "C = 28.2 Accuracy: 1.0000 (the standard deviation : 0.000)\n",
            "C = 28.3 Accuracy: 1.0000 (the standard deviation : 0.000)\n",
            "C = 28.4 Accuracy: 1.0000 (the standard deviation : 0.000)\n",
            "C = 28.5 Accuracy: 1.0000 (the standard deviation : 0.000)\n",
            "C = 28.6 Accuracy: 1.0000 (the standard deviation : 0.000)\n",
            "C = 28.7 Accuracy: 1.0000 (the standard deviation : 0.000)\n",
            "C = 28.8 Accuracy: 1.0000 (the standard deviation : 0.000)\n",
            "C = 28.9 Accuracy: 1.0000 (the standard deviation : 0.000)\n",
            "C = 29.0 Accuracy: 1.0000 (the standard deviation : 0.000)\n",
            "C = 29.1 Accuracy: 1.0000 (the standard deviation : 0.000)\n",
            "C = 29.2 Accuracy: 1.0000 (the standard deviation : 0.000)\n",
            "C = 29.3 Accuracy: 1.0000 (the standard deviation : 0.000)\n",
            "C = 29.4 Accuracy: 1.0000 (the standard deviation : 0.000)\n",
            "C = 29.5 Accuracy: 1.0000 (the standard deviation : 0.000)\n",
            "C = 29.6 Accuracy: 1.0000 (the standard deviation : 0.000)\n",
            "C = 29.7 Accuracy: 1.0000 (the standard deviation : 0.000)\n",
            "C = 29.8 Accuracy: 1.0000 (the standard deviation : 0.000)\n",
            "C = 29.9 Accuracy: 1.0000 (the standard deviation : 0.000)\n",
            "C = 30.0 Accuracy: 1.0000 (the standard deviation : 0.000)\n",
            "C = 30.1 Accuracy: 1.0000 (the standard deviation : 0.000)\n",
            "C = 30.2 Accuracy: 1.0000 (the standard deviation : 0.000)\n",
            "C = 30.3 Accuracy: 1.0000 (the standard deviation : 0.000)\n",
            "C = 30.4 Accuracy: 1.0000 (the standard deviation : 0.000)\n",
            "C = 30.5 Accuracy: 1.0000 (the standard deviation : 0.000)\n",
            "C = 30.6 Accuracy: 1.0000 (the standard deviation : 0.000)\n",
            "C = 30.7 Accuracy: 1.0000 (the standard deviation : 0.000)\n",
            "C = 30.8 Accuracy: 1.0000 (the standard deviation : 0.000)\n",
            "C = 30.9 Accuracy: 1.0000 (the standard deviation : 0.000)\n",
            "C = 31.0 Accuracy: 1.0000 (the standard deviation : 0.000)\n",
            "C = 31.1 Accuracy: 1.0000 (the standard deviation : 0.000)\n",
            "C = 31.2 Accuracy: 1.0000 (the standard deviation : 0.000)\n",
            "C = 31.3 Accuracy: 1.0000 (the standard deviation : 0.000)\n",
            "C = 31.4 Accuracy: 1.0000 (the standard deviation : 0.000)\n",
            "C = 31.5 Accuracy: 1.0000 (the standard deviation : 0.000)\n",
            "C = 31.6 Accuracy: 1.0000 (the standard deviation : 0.000)\n",
            "C = 31.7 Accuracy: 1.0000 (the standard deviation : 0.000)\n",
            "C = 31.8 Accuracy: 1.0000 (the standard deviation : 0.000)\n",
            "C = 31.9 Accuracy: 1.0000 (the standard deviation : 0.000)\n",
            "C = 32.0 Accuracy: 1.0000 (the standard deviation : 0.000)\n",
            "C = 32.1 Accuracy: 1.0000 (the standard deviation : 0.000)\n",
            "C = 32.2 Accuracy: 1.0000 (the standard deviation : 0.000)\n",
            "C = 32.3 Accuracy: 1.0000 (the standard deviation : 0.000)\n",
            "C = 32.4 Accuracy: 1.0000 (the standard deviation : 0.000)\n",
            "C = 32.5 Accuracy: 1.0000 (the standard deviation : 0.000)\n",
            "C = 32.6 Accuracy: 1.0000 (the standard deviation : 0.000)\n",
            "C = 32.7 Accuracy: 1.0000 (the standard deviation : 0.000)\n",
            "C = 32.8 Accuracy: 1.0000 (the standard deviation : 0.000)\n",
            "C = 32.9 Accuracy: 1.0000 (the standard deviation : 0.000)\n",
            "C = 33.0 Accuracy: 1.0000 (the standard deviation : 0.000)\n",
            "C = 33.1 Accuracy: 1.0000 (the standard deviation : 0.000)\n",
            "C = 33.2 Accuracy: 1.0000 (the standard deviation : 0.000)\n",
            "C = 33.3 Accuracy: 1.0000 (the standard deviation : 0.000)\n",
            "C = 33.4 Accuracy: 1.0000 (the standard deviation : 0.000)\n",
            "C = 33.5 Accuracy: 1.0000 (the standard deviation : 0.000)\n",
            "C = 33.6 Accuracy: 1.0000 (the standard deviation : 0.000)\n",
            "C = 33.7 Accuracy: 1.0000 (the standard deviation : 0.000)\n",
            "C = 33.8 Accuracy: 1.0000 (the standard deviation : 0.000)\n",
            "C = 33.9 Accuracy: 1.0000 (the standard deviation : 0.000)\n",
            "C = 34.0 Accuracy: 1.0000 (the standard deviation : 0.000)\n",
            "C = 34.1 Accuracy: 1.0000 (the standard deviation : 0.000)\n",
            "C = 34.2 Accuracy: 1.0000 (the standard deviation : 0.000)\n",
            "C = 34.3 Accuracy: 1.0000 (the standard deviation : 0.000)\n",
            "C = 34.4 Accuracy: 1.0000 (the standard deviation : 0.000)\n",
            "C = 34.5 Accuracy: 1.0000 (the standard deviation : 0.000)\n",
            "C = 34.6 Accuracy: 1.0000 (the standard deviation : 0.000)\n",
            "C = 34.7 Accuracy: 1.0000 (the standard deviation : 0.000)\n",
            "C = 34.8 Accuracy: 1.0000 (the standard deviation : 0.000)\n",
            "C = 34.9 Accuracy: 1.0000 (the standard deviation : 0.000)\n",
            "C = 35.0 Accuracy: 1.0000 (the standard deviation : 0.000)\n",
            "C = 35.1 Accuracy: 1.0000 (the standard deviation : 0.000)\n",
            "C = 35.2 Accuracy: 1.0000 (the standard deviation : 0.000)\n",
            "C = 35.3 Accuracy: 1.0000 (the standard deviation : 0.000)\n",
            "C = 35.4 Accuracy: 1.0000 (the standard deviation : 0.000)\n",
            "C = 35.5 Accuracy: 1.0000 (the standard deviation : 0.000)\n",
            "C = 35.6 Accuracy: 1.0000 (the standard deviation : 0.000)\n",
            "C = 35.7 Accuracy: 1.0000 (the standard deviation : 0.000)\n",
            "C = 35.8 Accuracy: 1.0000 (the standard deviation : 0.000)\n",
            "C = 35.9 Accuracy: 1.0000 (the standard deviation : 0.000)\n",
            "C = 36.0 Accuracy: 1.0000 (the standard deviation : 0.000)\n",
            "C = 36.1 Accuracy: 1.0000 (the standard deviation : 0.000)\n",
            "C = 36.2 Accuracy: 1.0000 (the standard deviation : 0.000)\n",
            "C = 36.3 Accuracy: 1.0000 (the standard deviation : 0.000)\n",
            "C = 36.4 Accuracy: 1.0000 (the standard deviation : 0.000)\n",
            "C = 36.5 Accuracy: 1.0000 (the standard deviation : 0.000)\n",
            "C = 36.6 Accuracy: 1.0000 (the standard deviation : 0.000)\n",
            "C = 36.7 Accuracy: 1.0000 (the standard deviation : 0.000)\n",
            "C = 36.8 Accuracy: 1.0000 (the standard deviation : 0.000)\n",
            "C = 36.9 Accuracy: 1.0000 (the standard deviation : 0.000)\n",
            "C = 37.0 Accuracy: 1.0000 (the standard deviation : 0.000)\n",
            "C = 37.1 Accuracy: 1.0000 (the standard deviation : 0.000)\n",
            "C = 37.2 Accuracy: 1.0000 (the standard deviation : 0.000)\n",
            "C = 37.3 Accuracy: 1.0000 (the standard deviation : 0.000)\n",
            "C = 37.4 Accuracy: 1.0000 (the standard deviation : 0.000)\n",
            "C = 37.5 Accuracy: 1.0000 (the standard deviation : 0.000)\n",
            "C = 37.6 Accuracy: 1.0000 (the standard deviation : 0.000)\n",
            "C = 37.7 Accuracy: 1.0000 (the standard deviation : 0.000)\n",
            "C = 37.8 Accuracy: 1.0000 (the standard deviation : 0.000)\n",
            "C = 37.9 Accuracy: 1.0000 (the standard deviation : 0.000)\n",
            "C = 38.0 Accuracy: 1.0000 (the standard deviation : 0.000)\n",
            "C = 38.1 Accuracy: 1.0000 (the standard deviation : 0.000)\n",
            "C = 38.2 Accuracy: 1.0000 (the standard deviation : 0.000)\n",
            "C = 38.3 Accuracy: 1.0000 (the standard deviation : 0.000)\n",
            "C = 38.4 Accuracy: 1.0000 (the standard deviation : 0.000)\n",
            "C = 38.5 Accuracy: 1.0000 (the standard deviation : 0.000)\n",
            "C = 38.6 Accuracy: 1.0000 (the standard deviation : 0.000)\n",
            "C = 38.7 Accuracy: 1.0000 (the standard deviation : 0.000)\n",
            "C = 38.8 Accuracy: 1.0000 (the standard deviation : 0.000)\n",
            "C = 38.9 Accuracy: 1.0000 (the standard deviation : 0.000)\n",
            "C = 39.0 Accuracy: 1.0000 (the standard deviation : 0.000)\n",
            "C = 39.1 Accuracy: 1.0000 (the standard deviation : 0.000)\n",
            "C = 39.2 Accuracy: 1.0000 (the standard deviation : 0.000)\n",
            "C = 39.3 Accuracy: 1.0000 (the standard deviation : 0.000)\n",
            "C = 39.4 Accuracy: 1.0000 (the standard deviation : 0.000)\n",
            "C = 39.5 Accuracy: 1.0000 (the standard deviation : 0.000)\n",
            "C = 39.6 Accuracy: 1.0000 (the standard deviation : 0.000)\n",
            "C = 39.7 Accuracy: 1.0000 (the standard deviation : 0.000)\n",
            "C = 39.8 Accuracy: 1.0000 (the standard deviation : 0.000)\n",
            "C = 39.9 Accuracy: 1.0000 (the standard deviation : 0.000)\n",
            "C = 40.0 Accuracy: 1.0000 (the standard deviation : 0.000)\n",
            "C = 40.1 Accuracy: 1.0000 (the standard deviation : 0.000)\n",
            "C = 40.2 Accuracy: 1.0000 (the standard deviation : 0.000)\n",
            "C = 40.3 Accuracy: 1.0000 (the standard deviation : 0.000)\n",
            "C = 40.4 Accuracy: 1.0000 (the standard deviation : 0.000)\n",
            "C = 40.5 Accuracy: 1.0000 (the standard deviation : 0.000)\n",
            "C = 40.6 Accuracy: 1.0000 (the standard deviation : 0.000)\n",
            "C = 40.7 Accuracy: 1.0000 (the standard deviation : 0.000)\n",
            "C = 40.8 Accuracy: 1.0000 (the standard deviation : 0.000)\n",
            "C = 40.9 Accuracy: 1.0000 (the standard deviation : 0.000)\n",
            "C = 41.0 Accuracy: 1.0000 (the standard deviation : 0.000)\n",
            "C = 41.1 Accuracy: 1.0000 (the standard deviation : 0.000)\n",
            "C = 41.2 Accuracy: 1.0000 (the standard deviation : 0.000)\n",
            "C = 41.3 Accuracy: 1.0000 (the standard deviation : 0.000)\n",
            "C = 41.4 Accuracy: 1.0000 (the standard deviation : 0.000)\n",
            "C = 41.5 Accuracy: 1.0000 (the standard deviation : 0.000)\n",
            "C = 41.6 Accuracy: 1.0000 (the standard deviation : 0.000)\n",
            "C = 41.7 Accuracy: 1.0000 (the standard deviation : 0.000)\n",
            "C = 41.8 Accuracy: 1.0000 (the standard deviation : 0.000)\n",
            "C = 41.9 Accuracy: 1.0000 (the standard deviation : 0.000)\n",
            "C = 42.0 Accuracy: 1.0000 (the standard deviation : 0.000)\n",
            "C = 42.1 Accuracy: 1.0000 (the standard deviation : 0.000)\n",
            "C = 42.2 Accuracy: 1.0000 (the standard deviation : 0.000)\n",
            "C = 42.3 Accuracy: 1.0000 (the standard deviation : 0.000)\n",
            "C = 42.4 Accuracy: 1.0000 (the standard deviation : 0.000)\n",
            "C = 42.5 Accuracy: 1.0000 (the standard deviation : 0.000)\n",
            "C = 42.6 Accuracy: 1.0000 (the standard deviation : 0.000)\n",
            "C = 42.7 Accuracy: 1.0000 (the standard deviation : 0.000)\n",
            "C = 42.8 Accuracy: 1.0000 (the standard deviation : 0.000)\n",
            "C = 42.9 Accuracy: 1.0000 (the standard deviation : 0.000)\n",
            "C = 43.0 Accuracy: 1.0000 (the standard deviation : 0.000)\n",
            "C = 43.1 Accuracy: 1.0000 (the standard deviation : 0.000)\n",
            "C = 43.2 Accuracy: 1.0000 (the standard deviation : 0.000)\n",
            "C = 43.3 Accuracy: 1.0000 (the standard deviation : 0.000)\n",
            "C = 43.4 Accuracy: 1.0000 (the standard deviation : 0.000)\n",
            "C = 43.5 Accuracy: 1.0000 (the standard deviation : 0.000)\n",
            "C = 43.6 Accuracy: 1.0000 (the standard deviation : 0.000)\n",
            "C = 43.7 Accuracy: 1.0000 (the standard deviation : 0.000)\n",
            "C = 43.8 Accuracy: 1.0000 (the standard deviation : 0.000)\n",
            "C = 43.9 Accuracy: 1.0000 (the standard deviation : 0.000)\n",
            "C = 44.0 Accuracy: 1.0000 (the standard deviation : 0.000)\n",
            "C = 44.1 Accuracy: 1.0000 (the standard deviation : 0.000)\n",
            "C = 44.2 Accuracy: 1.0000 (the standard deviation : 0.000)\n",
            "C = 44.3 Accuracy: 1.0000 (the standard deviation : 0.000)\n",
            "C = 44.4 Accuracy: 1.0000 (the standard deviation : 0.000)\n",
            "C = 44.5 Accuracy: 1.0000 (the standard deviation : 0.000)\n",
            "C = 44.6 Accuracy: 1.0000 (the standard deviation : 0.000)\n",
            "C = 44.7 Accuracy: 1.0000 (the standard deviation : 0.000)\n",
            "C = 44.8 Accuracy: 1.0000 (the standard deviation : 0.000)\n",
            "C = 44.9 Accuracy: 1.0000 (the standard deviation : 0.000)\n",
            "C = 45.0 Accuracy: 1.0000 (the standard deviation : 0.000)\n",
            "C = 45.1 Accuracy: 1.0000 (the standard deviation : 0.000)\n",
            "C = 45.2 Accuracy: 1.0000 (the standard deviation : 0.000)\n",
            "C = 45.3 Accuracy: 1.0000 (the standard deviation : 0.000)\n",
            "C = 45.4 Accuracy: 1.0000 (the standard deviation : 0.000)\n",
            "C = 45.5 Accuracy: 1.0000 (the standard deviation : 0.000)\n",
            "C = 45.6 Accuracy: 1.0000 (the standard deviation : 0.000)\n",
            "C = 45.7 Accuracy: 1.0000 (the standard deviation : 0.000)\n",
            "C = 45.8 Accuracy: 1.0000 (the standard deviation : 0.000)\n",
            "C = 45.9 Accuracy: 1.0000 (the standard deviation : 0.000)\n",
            "C = 46.0 Accuracy: 1.0000 (the standard deviation : 0.000)\n",
            "C = 46.1 Accuracy: 1.0000 (the standard deviation : 0.000)\n",
            "C = 46.2 Accuracy: 1.0000 (the standard deviation : 0.000)\n",
            "C = 46.3 Accuracy: 1.0000 (the standard deviation : 0.000)\n",
            "C = 46.4 Accuracy: 1.0000 (the standard deviation : 0.000)\n",
            "C = 46.5 Accuracy: 1.0000 (the standard deviation : 0.000)\n",
            "C = 46.6 Accuracy: 1.0000 (the standard deviation : 0.000)\n",
            "C = 46.7 Accuracy: 1.0000 (the standard deviation : 0.000)\n",
            "C = 46.8 Accuracy: 1.0000 (the standard deviation : 0.000)\n",
            "C = 46.9 Accuracy: 1.0000 (the standard deviation : 0.000)\n",
            "C = 47.0 Accuracy: 1.0000 (the standard deviation : 0.000)\n",
            "C = 47.1 Accuracy: 1.0000 (the standard deviation : 0.000)\n",
            "C = 47.2 Accuracy: 1.0000 (the standard deviation : 0.000)\n",
            "C = 47.3 Accuracy: 1.0000 (the standard deviation : 0.000)\n",
            "C = 47.4 Accuracy: 1.0000 (the standard deviation : 0.000)\n",
            "C = 47.5 Accuracy: 1.0000 (the standard deviation : 0.000)\n",
            "C = 47.6 Accuracy: 1.0000 (the standard deviation : 0.000)\n",
            "C = 47.7 Accuracy: 1.0000 (the standard deviation : 0.000)\n",
            "C = 47.8 Accuracy: 1.0000 (the standard deviation : 0.000)\n",
            "C = 47.9 Accuracy: 1.0000 (the standard deviation : 0.000)\n",
            "C = 48.0 Accuracy: 1.0000 (the standard deviation : 0.000)\n",
            "C = 48.1 Accuracy: 1.0000 (the standard deviation : 0.000)\n",
            "C = 48.2 Accuracy: 1.0000 (the standard deviation : 0.000)\n",
            "C = 48.3 Accuracy: 1.0000 (the standard deviation : 0.000)\n",
            "C = 48.4 Accuracy: 1.0000 (the standard deviation : 0.000)\n",
            "C = 48.5 Accuracy: 1.0000 (the standard deviation : 0.000)\n",
            "C = 48.6 Accuracy: 1.0000 (the standard deviation : 0.000)\n",
            "C = 48.7 Accuracy: 1.0000 (the standard deviation : 0.000)\n",
            "C = 48.8 Accuracy: 1.0000 (the standard deviation : 0.000)\n",
            "C = 48.9 Accuracy: 1.0000 (the standard deviation : 0.000)\n",
            "C = 49.0 Accuracy: 1.0000 (the standard deviation : 0.000)\n",
            "C = 49.1 Accuracy: 1.0000 (the standard deviation : 0.000)\n",
            "C = 49.2 Accuracy: 1.0000 (the standard deviation : 0.000)\n",
            "C = 49.3 Accuracy: 1.0000 (the standard deviation : 0.000)\n",
            "C = 49.4 Accuracy: 1.0000 (the standard deviation : 0.000)\n",
            "C = 49.5 Accuracy: 1.0000 (the standard deviation : 0.000)\n",
            "C = 49.6 Accuracy: 1.0000 (the standard deviation : 0.000)\n",
            "C = 49.7 Accuracy: 1.0000 (the standard deviation : 0.000)\n",
            "C = 49.8 Accuracy: 1.0000 (the standard deviation : 0.000)\n",
            "C = 49.9 Accuracy: 1.0000 (the standard deviation : 0.000)\n",
            "best valume of C =  0.1 highest mean scores =  1.0\n"
          ]
        }
      ]
    },
    {
      "cell_type": "markdown",
      "source": [
        "## Fitting SVM to the Training set with choosen C\n"
      ],
      "metadata": {
        "id": "Eq-r6X9eXrs0"
      }
    },
    {
      "cell_type": "code",
      "source": [
        "classifier = SVC(C=best_C,kernel = 'rbf', random_state = 0)\n",
        "classifier.fit(X_train, y_train)"
      ],
      "metadata": {
        "colab": {
          "base_uri": "https://localhost:8080/"
        },
        "outputId": "410719c8-da48-44e2-9727-384c295da9cb",
        "id": "MQjRRJF5Xrs5"
      },
      "execution_count": 15,
      "outputs": [
        {
          "output_type": "execute_result",
          "data": {
            "text/plain": [
              "SVC(C=0.1, random_state=0)"
            ]
          },
          "metadata": {},
          "execution_count": 15
        }
      ]
    },
    {
      "cell_type": "markdown",
      "source": [
        "## Predicting the Test set results\n"
      ],
      "metadata": {
        "id": "TeA6r3sIyY9S"
      }
    },
    {
      "cell_type": "code",
      "source": [
        "y_pred = classifier.predict(X_test)"
      ],
      "metadata": {
        "id": "izQ4d_f5yaG6"
      },
      "execution_count": 16,
      "outputs": []
    },
    {
      "cell_type": "markdown",
      "source": [
        "## Making the Confusion Matrix and score\n"
      ],
      "metadata": {
        "id": "wxCAWS_PyarT"
      }
    },
    {
      "cell_type": "code",
      "source": [
        "from sklearn.metrics import confusion_matrix, accuracy_score\n",
        "from sklearn.metrics import precision_score\n",
        "from sklearn.metrics import recall_score\n",
        "cm = confusion_matrix(y_test, y_pred)\n",
        "print(\"confusion matrix :\")\n",
        "print(cm)\n",
        "print(' accuracy_score =  %.3f    precision_score =  %.3f   recall_score =   %.3f '\n",
        "       %(accuracy_score(y_test, y_pred),precision_score(y_test, y_pred),recall_score(y_test, y_pred)))"
      ],
      "metadata": {
        "colab": {
          "base_uri": "https://localhost:8080/"
        },
        "id": "81EYRhm2ydLp",
        "outputId": "39bed04e-eb20-495e-f0dd-8496967b0ad7"
      },
      "execution_count": 17,
      "outputs": [
        {
          "output_type": "stream",
          "name": "stdout",
          "text": [
            "confusion matrix :\n",
            "[[23  0]\n",
            " [ 0 27]]\n",
            " accuracy_score =  1.000    precision_score =  1.000   recall_score =   1.000 \n"
          ]
        }
      ]
    },
    {
      "cell_type": "markdown",
      "source": [
        "## Visualising the Training set results\n"
      ],
      "metadata": {
        "id": "In-rCqqdyd1y"
      }
    },
    {
      "cell_type": "code",
      "source": [
        "from matplotlib.colors import ListedColormap\n",
        "X_set, y_set = X_train, y_train\n",
        "X1, X2 = np.meshgrid(np.arange(start = X_set[:, 0].min() - 1, stop = X_set[:, 0].max() + 1, step = 0.01),\n",
        "                     np.arange(start = X_set[:, 1].min() - 1, stop = X_set[:, 1].max() + 1, step = 0.01))\n",
        "plt.contourf(X1, X2, classifier.predict(np.array([X1.ravel(), X2.ravel()]).T).reshape(X1.shape),\n",
        "             alpha = 0.75, cmap = ListedColormap(('red', 'blue')))\n",
        "plt.xlim(X1.min(), X1.max())\n",
        "plt.ylim(X2.min(), X2.max())\n",
        "for i, j in enumerate(np.unique(y_set)):\n",
        "    plt.scatter(X_set[y_set == j, 0], X_set[y_set == j, 1],\n",
        "                c = ListedColormap(('red', 'blue'))(i), label = j)\n",
        "plt.title('SVM (Training set)')\n",
        "plt.xlabel('X1')\n",
        "plt.ylabel('X2')\n",
        "plt.legend()\n",
        "plt.show()"
      ],
      "metadata": {
        "colab": {
          "base_uri": "https://localhost:8080/",
          "height": 350
        },
        "id": "yW7Z0jYKyg_K",
        "outputId": "7b2083b6-4973-48c4-a5ef-eba9a3b659e8"
      },
      "execution_count": 18,
      "outputs": [
        {
          "output_type": "stream",
          "name": "stderr",
          "text": [
            "WARNING:matplotlib.axes._axes:*c* argument looks like a single numeric RGB or RGBA sequence, which should be avoided as value-mapping will have precedence in case its length matches with *x* & *y*.  Please use the *color* keyword-argument or provide a 2-D array with a single row if you intend to specify the same RGB or RGBA value for all points.\n",
            "WARNING:matplotlib.axes._axes:*c* argument looks like a single numeric RGB or RGBA sequence, which should be avoided as value-mapping will have precedence in case its length matches with *x* & *y*.  Please use the *color* keyword-argument or provide a 2-D array with a single row if you intend to specify the same RGB or RGBA value for all points.\n"
          ]
        },
        {
          "output_type": "display_data",
          "data": {
            "text/plain": [
              "<Figure size 432x288 with 1 Axes>"
            ],
            "image/png": "[encoded data removed]"
          },
          "metadata": {
            "needs_background": "light"
          }
        }
      ]
    },
    {
      "cell_type": "markdown",
      "source": [
        "## Visualising the Test set results\n"
      ],
      "metadata": {
        "id": "4xgaQwuUzZ3b"
      }
    },
    {
      "cell_type": "code",
      "source": [
        "from matplotlib.colors import ListedColormap\n",
        "X_set, y_set = X_test, y_test\n",
        "X1, X2 = np.meshgrid(np.arange(start = X_set[:, 0].min() - 1, stop = X_set[:, 0].max() + 1, step = 0.01),\n",
        "                     np.arange(start = X_set[:, 1].min() - 1, stop = X_set[:, 1].max() + 1, step = 0.01))\n",
        "plt.contourf(X1, X2, classifier.predict(np.array([X1.ravel(), X2.ravel()]).T).reshape(X1.shape),\n",
        "             alpha = 0.75, cmap = ListedColormap(('red', 'blue')))\n",
        "plt.xlim(X1.min(), X1.max())\n",
        "plt.ylim(X2.min(), X2.max())\n",
        "for i, j in enumerate(np.unique(y_set)):\n",
        "    plt.scatter(X_set[y_set == j, 0], X_set[y_set == j, 1],\n",
        "                c = ListedColormap(('red', 'blue'))(i), label = j)\n",
        "plt.title('SVM (test set)')\n",
        "plt.xlabel('X1')\n",
        "plt.ylabel('X2')\n",
        "plt.legend()\n",
        "plt.show()"
      ],
      "metadata": {
        "colab": {
          "base_uri": "https://localhost:8080/",
          "height": 350
        },
        "id": "HNYeBgy5za5J",
        "outputId": "f34407a9-1466-4d9c-864f-caa9e3cf8688"
      },
      "execution_count": 19,
      "outputs": [
        {
          "output_type": "stream",
          "name": "stderr",
          "text": [
            "WARNING:matplotlib.axes._axes:*c* argument looks like a single numeric RGB or RGBA sequence, which should be avoided as value-mapping will have precedence in case its length matches with *x* & *y*.  Please use the *color* keyword-argument or provide a 2-D array with a single row if you intend to specify the same RGB or RGBA value for all points.\n",
            "WARNING:matplotlib.axes._axes:*c* argument looks like a single numeric RGB or RGBA sequence, which should be avoided as value-mapping will have precedence in case its length matches with *x* & *y*.  Please use the *color* keyword-argument or provide a 2-D array with a single row if you intend to specify the same RGB or RGBA value for all points.\n"
          ]
        },
        {
          "output_type": "display_data",
          "data": {
            "text/plain": [
              "<Figure size 432x288 with 1 Axes>"
            ],
            "image/png": "[encoded data removed]"
          },
          "metadata": {
            "needs_background": "light"
          }
        }
      ]
    }
  ]
}