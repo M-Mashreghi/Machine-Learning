{
  "nbformat": 4,
  "nbformat_minor": 0,
  "metadata": {
    "colab": {
      "provenance": [],
      "collapsed_sections": [
        "svMgW8RjwLcq",
        "yQGmkrlRpw5r"
      ]
    },
    "kernelspec": {
      "name": "python3",
      "display_name": "Python 3"
    },
    "language_info": {
      "name": "python"
    }
  },
  "cells": [
    {
      "cell_type": "markdown",
      "source": [
        "#Q3"
      ],
      "metadata": {
        "id": "UQ4NtaWUCMy6"
      }
    },
    {
      "cell_type": "markdown",
      "source": [
        "##creating database"
      ],
      "metadata": {
        "id": "5pLogomhEw-K"
      }
    },
    {
      "cell_type": "markdown",
      "source": [
        "###imports"
      ],
      "metadata": {
        "id": "uGOYe3TsCUF4"
      }
    },
    {
      "cell_type": "code",
      "source": [
        "from numpy.random import uniform\n",
        "from numpy import array\n",
        "import numpy as np"
      ],
      "metadata": {
        "id": "-YNce5RyCcLS"
      },
      "execution_count": 35,
      "outputs": []
    },
    {
      "cell_type": "markdown",
      "source": [
        "###create first data base with uniform dis"
      ],
      "metadata": {
        "id": "FubMn1iLCdKB"
      }
    },
    {
      "cell_type": "code",
      "execution_count": 36,
      "metadata": {
        "id": "4FUnDjv02-re",
        "colab": {
          "base_uri": "https://localhost:8080/"
        },
        "outputId": "4ffd8191-b122-402b-fc2f-3d70e52a36b6"
      },
      "outputs": [
        {
          "output_type": "stream",
          "name": "stdout",
          "text": [
            "[[-4.74290193e-01  1.18104881e+00]\n",
            " [-3.17970225e-02 -1.20889570e+00]\n",
            " [ 8.05382558e-01 -9.54089967e-01]\n",
            " [ 1.34440257e+00  3.25096509e-01]\n",
            " [-1.03977120e+00 -6.95958581e-01]\n",
            " [ 1.00572091e+00 -8.32584170e-01]\n",
            " [ 8.76759066e-01 -6.43682589e-01]\n",
            " [ 5.11034090e-01  1.13689780e+00]\n",
            " [ 5.95509833e-01 -1.07125378e+00]\n",
            " [ 1.02714323e-01 -1.32469794e+00]\n",
            " [-1.01106035e+00  6.89318754e-01]\n",
            " [ 5.58346058e-01  1.09825921e+00]\n",
            " [ 1.17943663e+00 -1.26096465e-01]\n",
            " [ 5.54999190e-01 -1.02829422e+00]\n",
            " [ 1.25806999e+00  6.25132342e-01]\n",
            " [-8.39995453e-01  6.78375491e-01]\n",
            " [ 1.07809638e+00  7.28180906e-01]\n",
            " [-1.27393450e+00  5.15192525e-01]\n",
            " [ 1.04725941e+00 -3.53848909e-01]\n",
            " [-1.39360222e+00 -2.16966279e-01]\n",
            " [-9.37827988e-01 -8.30768715e-01]\n",
            " [-9.96516847e-01  2.87940887e-01]\n",
            " [ 1.15723309e+00 -6.63572690e-01]\n",
            " [-5.81549744e-01 -8.92368182e-01]\n",
            " [ 4.63898705e-01 -1.20137313e+00]\n",
            " [ 1.01884706e+00 -3.69920821e-01]\n",
            " [-1.02416558e+00  4.34847062e-01]\n",
            " [-1.05946517e+00 -8.64045866e-01]\n",
            " [ 2.43029867e-01  1.02540426e+00]\n",
            " [ 7.69546654e-01  7.26187707e-01]\n",
            " [-6.77115556e-01 -1.00987282e+00]\n",
            " [ 4.21866416e-02 -1.32399873e+00]\n",
            " [ 9.23295921e-01  9.26702168e-01]\n",
            " [-5.96508471e-01 -1.06047443e+00]\n",
            " [-7.15367988e-01  1.09677393e+00]\n",
            " [-1.59598382e-01  1.34660647e+00]\n",
            " [-8.31454658e-01  8.65915131e-01]\n",
            " [-2.65440074e-01  1.21248000e+00]\n",
            " [ 9.73131038e-01 -6.89962507e-01]\n",
            " [ 7.37561173e-01  1.02085895e+00]\n",
            " [ 1.11728838e+00  6.57716122e-01]\n",
            " [ 8.89771654e-01 -6.28121894e-01]\n",
            " [ 5.77703064e-01  9.32691038e-01]\n",
            " [-1.19660385e+00 -2.37796625e-01]\n",
            " [-2.88321658e-02 -1.40193252e+00]\n",
            " [ 7.60216469e-01  6.93080635e-01]\n",
            " [-6.60150601e-01 -9.27468415e-01]\n",
            " [-1.06596989e+00 -5.17197797e-01]\n",
            " [-8.06211036e-01 -6.37834434e-01]\n",
            " [ 7.48154592e-01 -1.07268300e+00]\n",
            " [-2.72272682e-01 -9.65460265e-01]\n",
            " [-1.05209046e+00  5.29458701e-01]\n",
            " [-1.10862667e+00 -6.36027819e-01]\n",
            " [ 8.43527588e-02 -1.00424698e+00]\n",
            " [ 1.28510629e+00  2.17244291e-02]\n",
            " [-1.07937561e+00 -7.31911805e-01]\n",
            " [ 9.61284087e-01  7.60392115e-01]\n",
            " [-1.27340559e+00 -2.05595350e-01]\n",
            " [ 1.33389720e+00 -5.04777396e-02]\n",
            " [-1.24054766e-01 -1.09622585e+00]\n",
            " [ 7.55986352e-01  9.67874682e-01]\n",
            " [-1.27242734e+00  4.47883509e-01]\n",
            " [-1.30082278e+00 -4.74143970e-01]\n",
            " [ 8.95149845e-01 -8.94237192e-01]\n",
            " [-6.71341498e-01 -9.51934576e-01]\n",
            " [-1.28312525e+00  1.60062040e-01]\n",
            " [ 1.39354352e+00  5.46547917e-02]\n",
            " [-1.02117436e+00  5.46807307e-01]\n",
            " [-1.16043703e+00 -4.85377075e-01]\n",
            " [ 1.38529150e-01  1.17367163e+00]\n",
            " [ 1.12982804e+00  6.40474554e-01]\n",
            " [-6.96405078e-01  1.20892776e+00]\n",
            " [-1.24185566e+00 -2.50597385e-01]\n",
            " [ 1.22750207e+00 -5.06502204e-01]\n",
            " [ 1.32294653e+00  4.46330664e-01]\n",
            " [ 8.69815238e-01  4.97342808e-01]\n",
            " [-9.53079614e-01  4.95431131e-01]\n",
            " [-6.02733537e-05  1.40011165e+00]\n",
            " [-9.34161920e-01 -7.54753874e-01]\n",
            " [-2.80754993e-01  1.04631927e+00]\n",
            " [-1.36629530e+00  1.25036536e-01]\n",
            " [-1.40339379e+00  1.75789333e-02]\n",
            " [-7.52052375e-01  1.06636968e+00]\n",
            " [-6.40389622e-01  1.14047389e+00]\n",
            " [ 1.16176965e+00 -3.35981151e-01]\n",
            " [ 1.02168691e+00  8.67931948e-01]\n",
            " [ 1.16353319e+00 -2.60266043e-01]\n",
            " [-2.77164140e-01 -9.94721986e-01]\n",
            " [ 1.17644022e+00 -5.41528785e-02]\n",
            " [-5.91836836e-01  1.04363619e+00]\n",
            " [-4.13143601e-01  1.13488833e+00]\n",
            " [-1.02468199e+00  8.64860782e-02]\n",
            " [ 3.85364927e-01 -1.17825962e+00]\n",
            " [-3.67194674e-01  1.24025235e+00]\n",
            " [-8.42747235e-01  7.31614293e-01]\n",
            " [ 9.67536969e-01 -3.07984174e-01]\n",
            " [-1.27353576e+00 -5.66346094e-01]\n",
            " [ 1.19356590e+00 -6.44076168e-01]\n",
            " [-2.79764319e-01  1.25988326e+00]\n",
            " [ 3.88544139e-01  1.23668545e+00]]\n"
          ]
        }
      ],
      "source": [
        "import numpy as np\n",
        "\n",
        "samples = 100\n",
        "lower_bound = -2**0.5\n",
        "upper_bound = 2**0.5\n",
        "\n",
        "X1 = np.empty((samples, 2))\n",
        "\n",
        "count = 0\n",
        "while count < samples:\n",
        "    x1, x2 = np.random.uniform(lower_bound, upper_bound, 2)\n",
        "    if 1 < x1**2 + x2**2 < 2:\n",
        "        X1[count] = [x1, x2]\n",
        "        count += 1\n",
        "    \n",
        "print(X1)"
      ]
    },
    {
      "cell_type": "markdown",
      "source": [
        "###create second data base with uniform dis"
      ],
      "metadata": {
        "id": "Vibn0RUXCnwr"
      }
    },
    {
      "cell_type": "code",
      "source": [
        "import numpy as np\n",
        "\n",
        "samples = 100\n",
        "\n",
        "lower_bound = -5**0.5\n",
        "upper_bound = 5**0.5\n",
        "\n",
        "X2 = np.empty((samples, 2))\n",
        "\n",
        "count = 0\n",
        "while count < samples:\n",
        "    x1, x2 = np.random.uniform(lower_bound, upper_bound, 2)\n",
        "    if 4 < x1**2 + x2**2 < 5:\n",
        "        X2[count] = [x1, x2]\n",
        "        count += 1\n",
        "    \n",
        "print(X2)"
      ],
      "metadata": {
        "colab": {
          "base_uri": "https://localhost:8080/"
        },
        "id": "EVA_Q71WQCce",
        "outputId": "74de5165-ac7f-4d9d-a588-37c45f59b9b3"
      },
      "execution_count": 37,
      "outputs": [
        {
          "output_type": "stream",
          "name": "stdout",
          "text": [
            "[[ 1.86805191 -0.78282125]\n",
            " [ 1.15649613  1.89821417]\n",
            " [-2.02267061 -0.41830136]\n",
            " [ 0.71103963 -2.07129603]\n",
            " [-1.2616185   1.76939208]\n",
            " [-2.12832913 -0.63237329]\n",
            " [ 1.34919248  1.70099654]\n",
            " [ 1.88522039 -0.76799871]\n",
            " [-0.44421033  2.11315715]\n",
            " [-0.32749759  2.12851782]\n",
            " [ 0.72140908  1.9464049 ]\n",
            " [-0.65269911 -2.05819849]\n",
            " [ 1.91977938 -1.1074389 ]\n",
            " [-0.96936993  1.84853012]\n",
            " [-1.88119558 -1.14241542]\n",
            " [ 0.8005729   1.89840901]\n",
            " [ 2.20500348 -0.36170122]\n",
            " [ 1.4346618  -1.57745399]\n",
            " [ 2.07232027  0.51729399]\n",
            " [-1.6184135   1.34325583]\n",
            " [-1.06716466  1.95997069]\n",
            " [-0.66311257 -1.93310281]\n",
            " [ 0.51224049 -2.06383638]\n",
            " [-2.04812588 -0.52458498]\n",
            " [-1.51215206  1.31009649]\n",
            " [ 1.65624092  1.38713032]\n",
            " [ 2.02137438  0.43609747]\n",
            " [-1.13028655  1.90845879]\n",
            " [-0.64736511  2.08714431]\n",
            " [ 0.364462    2.15637505]\n",
            " [ 1.76209235  1.18311775]\n",
            " [ 1.85911573 -1.10261936]\n",
            " [-2.18175834  0.24923182]\n",
            " [ 1.88295885  0.74998455]\n",
            " [-1.93777953  0.77569454]\n",
            " [-1.39880139  1.44753536]\n",
            " [-0.69643927  2.07858539]\n",
            " [-2.16677272  0.43368663]\n",
            " [ 1.19228924  1.7572263 ]\n",
            " [ 1.28109441  1.67432198]\n",
            " [-1.862506    0.97416554]\n",
            " [-2.1025326  -0.15049295]\n",
            " [-1.69253026 -1.1409098 ]\n",
            " [-1.77081753 -1.16700461]\n",
            " [ 1.16458488 -1.89626055]\n",
            " [-0.15765085  2.00413187]\n",
            " [ 1.33321675  1.5413774 ]\n",
            " [ 2.00437202  0.72873012]\n",
            " [-1.45033652 -1.43741575]\n",
            " [-2.2232096  -0.00307677]\n",
            " [-1.26936578 -1.7487306 ]\n",
            " [-0.29997319 -1.9857011 ]\n",
            " [ 1.76498596  1.28515832]\n",
            " [ 1.35812795 -1.61279839]\n",
            " [-2.0288519   0.11537971]\n",
            " [ 1.31066985  1.72453112]\n",
            " [-1.75843678  1.35319659]\n",
            " [-0.92495181  1.93327298]\n",
            " [-0.71037047 -1.90342165]\n",
            " [ 1.11577944 -1.90799045]\n",
            " [-1.96109522  0.81920137]\n",
            " [-1.66019708  1.35837709]\n",
            " [ 0.28873732  2.20491625]\n",
            " [-0.95342716 -1.88651078]\n",
            " [-0.82812808 -1.89569361]\n",
            " [-1.17241815 -1.8453794 ]\n",
            " [ 1.5345141   1.55804638]\n",
            " [ 1.7524003  -1.02772141]\n",
            " [-1.54551026 -1.54129133]\n",
            " [ 1.71950556 -1.09253478]\n",
            " [-2.01191727 -0.70864977]\n",
            " [ 2.13193751  0.35457897]\n",
            " [-2.00551003 -0.10705747]\n",
            " [-0.09898346 -2.05394856]\n",
            " [-1.65031341  1.43565224]\n",
            " [ 1.55651874 -1.35737129]\n",
            " [-0.26689666 -2.01624364]\n",
            " [-0.42379855 -2.13478462]\n",
            " [-1.37978225 -1.58736299]\n",
            " [ 1.76672857  1.11984452]\n",
            " [ 2.1460054   0.35967175]\n",
            " [ 1.90369972 -1.06950391]\n",
            " [ 0.44012405  2.13915174]\n",
            " [ 1.81082514 -1.03975584]\n",
            " [-1.63196044  1.33578352]\n",
            " [-0.09308491  2.10884264]\n",
            " [-1.73867447 -1.1512721 ]\n",
            " [ 2.0074314   0.04381728]\n",
            " [-0.78483653 -1.95679877]\n",
            " [ 2.13447273  0.53399275]\n",
            " [-2.02715356  0.8968156 ]\n",
            " [-2.20639988  0.13136948]\n",
            " [-0.75928639 -1.90774461]\n",
            " [ 1.04177213 -1.77442325]\n",
            " [-1.74106345  1.35015295]\n",
            " [-1.07055002  1.71383238]\n",
            " [ 0.28111293 -1.99802751]\n",
            " [-1.80386726 -1.24409545]\n",
            " [-1.97012994 -0.84371566]\n",
            " [-1.05945806 -1.86919852]]\n"
          ]
        }
      ]
    },
    {
      "cell_type": "markdown",
      "source": [
        "###create labels"
      ],
      "metadata": {
        "id": "F1Fv2-_mD4nh"
      }
    },
    {
      "cell_type": "code",
      "source": [
        "from numpy import concatenate\n",
        "SAMPLE = 100\n",
        "Y=[];\n",
        "for i in range(SAMPLE):\n",
        "  Y.append(0)\n",
        "for i in range(SAMPLE):\n",
        "  Y.append(1)\n",
        "Y =array(Y)\n",
        "\n",
        "X =concatenate((X1,X2), axis=0)\n",
        "#print(len(X))\n",
        "#print((X))\n",
        "#print(Y)"
      ],
      "metadata": {
        "id": "DwgHOjqh1p95"
      },
      "execution_count": 38,
      "outputs": []
    },
    {
      "cell_type": "markdown",
      "source": [
        "## Importing the libraries\n"
      ],
      "metadata": {
        "id": "svMgW8RjwLcq"
      }
    },
    {
      "cell_type": "code",
      "source": [
        "import numpy as np\n",
        "import matplotlib.pyplot as plt\n",
        "import pandas as pd"
      ],
      "metadata": {
        "id": "UDmx8kpnwL7r"
      },
      "execution_count": 39,
      "outputs": []
    },
    {
      "cell_type": "markdown",
      "source": [
        "## Splitting the dataset into the Training set and Test set\n"
      ],
      "metadata": {
        "id": "yQGmkrlRpw5r"
      }
    },
    {
      "cell_type": "code",
      "source": [
        "from sklearn.model_selection import train_test_split\n",
        "X_train, X_test, y_train, y_test = train_test_split(X, Y, test_size = 0.25, random_state = 0)\n"
      ],
      "metadata": {
        "id": "tfSoTHUVwAt0"
      },
      "execution_count": 40,
      "outputs": []
    },
    {
      "cell_type": "markdown",
      "source": [
        "## Feature Scaling\n"
      ],
      "metadata": {
        "id": "ZlCkOAulwr6S"
      }
    },
    {
      "cell_type": "code",
      "source": [
        "from sklearn.preprocessing import StandardScaler\n",
        "sc = StandardScaler()\n",
        "X_train = sc.fit_transform(X_train)\n",
        "X_test = sc.transform(X_test)"
      ],
      "metadata": {
        "id": "UK27vN5Iwt-7"
      },
      "execution_count": 41,
      "outputs": []
    },
    {
      "cell_type": "markdown",
      "source": [
        "## Fitting SVM to the Training set with diffrent C\n"
      ],
      "metadata": {
        "id": "Rgtqp7XvySKr"
      }
    },
    {
      "cell_type": "code",
      "source": [
        "from sklearn.svm import SVC\n",
        "from sklearn.model_selection import KFold\n",
        "from sklearn.model_selection import cross_val_score\n",
        "from sklearn.metrics import confusion_matrix, accuracy_score\n",
        "from sklearn.metrics import precision_score\n",
        "from sklearn.metrics import recall_score\n",
        "from numpy import mean\n",
        "from numpy import std\n",
        "\n",
        "best_C = 0\n",
        "best_degree = 0 \n",
        "highest_mean_scores = 0\n",
        "\n",
        "\n",
        "cv = KFold(n_splits=10, random_state=1, shuffle=True)\n",
        "degrees =[2,3,4,5]\n",
        "\n",
        "for deg in degrees:\n",
        "    i=0.1\n",
        "    while(i < 10):\n",
        "      classifier = SVC(C=i,kernel = 'poly',degree =deg, random_state = 0)\n",
        "      classifier.fit(X_train, y_train)\n",
        "      scores = cross_val_score(classifier, X, Y, scoring='accuracy', cv=cv, n_jobs=-1)\n",
        "      print(\"C = %.1f \" % i,\" D = \" ,deg ,' Accuracy: %.4f (the standard deviation : %.3f)' % (mean(scores), std(scores)))\n",
        "      if(highest_mean_scores < mean(scores)):\n",
        "          highest_mean_scores = mean(scores)\n",
        "          best_degree = deg\n",
        "          best_C = i\n",
        "      i += 0.1\n",
        "print(\"best valume of C = \",best_C,\"best valume of D = \",best_degree,\"highest mean scores = \", highest_mean_scores)"
      ],
      "metadata": {
        "colab": {
          "base_uri": "https://localhost:8080/"
        },
        "id": "wARzumN8yTD5",
        "outputId": "e85d2723-00cc-45a5-d503-31ca13a2ffbc"
      },
      "execution_count": 50,
      "outputs": [
        {
          "output_type": "stream",
          "name": "stdout",
          "text": [
            "C = 0.1   D =  2  Accuracy: 1.0000 (the standard deviation : 0.000)\n",
            "C = 0.2   D =  2  Accuracy: 1.0000 (the standard deviation : 0.000)\n",
            "C = 0.3   D =  2  Accuracy: 1.0000 (the standard deviation : 0.000)\n",
            "C = 0.4   D =  2  Accuracy: 1.0000 (the standard deviation : 0.000)\n",
            "C = 0.5   D =  2  Accuracy: 1.0000 (the standard deviation : 0.000)\n",
            "C = 0.6   D =  2  Accuracy: 1.0000 (the standard deviation : 0.000)\n",
            "C = 0.7   D =  2  Accuracy: 1.0000 (the standard deviation : 0.000)\n",
            "C = 0.8   D =  2  Accuracy: 1.0000 (the standard deviation : 0.000)\n",
            "C = 0.9   D =  2  Accuracy: 1.0000 (the standard deviation : 0.000)\n",
            "C = 1.0   D =  2  Accuracy: 1.0000 (the standard deviation : 0.000)\n",
            "C = 1.1   D =  2  Accuracy: 1.0000 (the standard deviation : 0.000)\n",
            "C = 1.2   D =  2  Accuracy: 1.0000 (the standard deviation : 0.000)\n",
            "C = 1.3   D =  2  Accuracy: 1.0000 (the standard deviation : 0.000)\n",
            "C = 1.4   D =  2  Accuracy: 1.0000 (the standard deviation : 0.000)\n",
            "C = 1.5   D =  2  Accuracy: 1.0000 (the standard deviation : 0.000)\n",
            "C = 1.6   D =  2  Accuracy: 1.0000 (the standard deviation : 0.000)\n",
            "C = 1.7   D =  2  Accuracy: 1.0000 (the standard deviation : 0.000)\n",
            "C = 1.8   D =  2  Accuracy: 1.0000 (the standard deviation : 0.000)\n",
            "C = 1.9   D =  2  Accuracy: 1.0000 (the standard deviation : 0.000)\n",
            "C = 2.0   D =  2  Accuracy: 1.0000 (the standard deviation : 0.000)\n",
            "C = 2.1   D =  2  Accuracy: 1.0000 (the standard deviation : 0.000)\n",
            "C = 2.2   D =  2  Accuracy: 1.0000 (the standard deviation : 0.000)\n",
            "C = 2.3   D =  2  Accuracy: 1.0000 (the standard deviation : 0.000)\n",
            "C = 2.4   D =  2  Accuracy: 1.0000 (the standard deviation : 0.000)\n",
            "C = 2.5   D =  2  Accuracy: 1.0000 (the standard deviation : 0.000)\n",
            "C = 2.6   D =  2  Accuracy: 1.0000 (the standard deviation : 0.000)\n",
            "C = 2.7   D =  2  Accuracy: 1.0000 (the standard deviation : 0.000)\n",
            "C = 2.8   D =  2  Accuracy: 1.0000 (the standard deviation : 0.000)\n",
            "C = 2.9   D =  2  Accuracy: 1.0000 (the standard deviation : 0.000)\n",
            "C = 3.0   D =  2  Accuracy: 1.0000 (the standard deviation : 0.000)\n",
            "C = 3.1   D =  2  Accuracy: 1.0000 (the standard deviation : 0.000)\n",
            "C = 3.2   D =  2  Accuracy: 1.0000 (the standard deviation : 0.000)\n",
            "C = 3.3   D =  2  Accuracy: 1.0000 (the standard deviation : 0.000)\n",
            "C = 3.4   D =  2  Accuracy: 1.0000 (the standard deviation : 0.000)\n",
            "C = 3.5   D =  2  Accuracy: 1.0000 (the standard deviation : 0.000)\n",
            "C = 3.6   D =  2  Accuracy: 1.0000 (the standard deviation : 0.000)\n",
            "C = 3.7   D =  2  Accuracy: 1.0000 (the standard deviation : 0.000)\n",
            "C = 3.8   D =  2  Accuracy: 1.0000 (the standard deviation : 0.000)\n",
            "C = 3.9   D =  2  Accuracy: 1.0000 (the standard deviation : 0.000)\n",
            "C = 4.0   D =  2  Accuracy: 1.0000 (the standard deviation : 0.000)\n",
            "C = 4.1   D =  2  Accuracy: 1.0000 (the standard deviation : 0.000)\n",
            "C = 4.2   D =  2  Accuracy: 1.0000 (the standard deviation : 0.000)\n",
            "C = 4.3   D =  2  Accuracy: 1.0000 (the standard deviation : 0.000)\n",
            "C = 4.4   D =  2  Accuracy: 1.0000 (the standard deviation : 0.000)\n",
            "C = 4.5   D =  2  Accuracy: 1.0000 (the standard deviation : 0.000)\n",
            "C = 4.6   D =  2  Accuracy: 1.0000 (the standard deviation : 0.000)\n",
            "C = 4.7   D =  2  Accuracy: 1.0000 (the standard deviation : 0.000)\n",
            "C = 4.8   D =  2  Accuracy: 1.0000 (the standard deviation : 0.000)\n",
            "C = 4.9   D =  2  Accuracy: 1.0000 (the standard deviation : 0.000)\n",
            "C = 5.0   D =  2  Accuracy: 1.0000 (the standard deviation : 0.000)\n",
            "C = 5.1   D =  2  Accuracy: 1.0000 (the standard deviation : 0.000)\n",
            "C = 5.2   D =  2  Accuracy: 1.0000 (the standard deviation : 0.000)\n",
            "C = 5.3   D =  2  Accuracy: 1.0000 (the standard deviation : 0.000)\n",
            "C = 5.4   D =  2  Accuracy: 1.0000 (the standard deviation : 0.000)\n",
            "C = 5.5   D =  2  Accuracy: 1.0000 (the standard deviation : 0.000)\n",
            "C = 5.6   D =  2  Accuracy: 1.0000 (the standard deviation : 0.000)\n",
            "C = 5.7   D =  2  Accuracy: 1.0000 (the standard deviation : 0.000)\n",
            "C = 5.8   D =  2  Accuracy: 1.0000 (the standard deviation : 0.000)\n",
            "C = 5.9   D =  2  Accuracy: 1.0000 (the standard deviation : 0.000)\n",
            "C = 6.0   D =  2  Accuracy: 1.0000 (the standard deviation : 0.000)\n",
            "C = 6.1   D =  2  Accuracy: 1.0000 (the standard deviation : 0.000)\n",
            "C = 6.2   D =  2  Accuracy: 1.0000 (the standard deviation : 0.000)\n",
            "C = 6.3   D =  2  Accuracy: 1.0000 (the standard deviation : 0.000)\n",
            "C = 6.4   D =  2  Accuracy: 1.0000 (the standard deviation : 0.000)\n",
            "C = 6.5   D =  2  Accuracy: 1.0000 (the standard deviation : 0.000)\n",
            "C = 6.6   D =  2  Accuracy: 1.0000 (the standard deviation : 0.000)\n",
            "C = 6.7   D =  2  Accuracy: 1.0000 (the standard deviation : 0.000)\n",
            "C = 6.8   D =  2  Accuracy: 1.0000 (the standard deviation : 0.000)\n",
            "C = 6.9   D =  2  Accuracy: 1.0000 (the standard deviation : 0.000)\n",
            "C = 7.0   D =  2  Accuracy: 1.0000 (the standard deviation : 0.000)\n",
            "C = 7.1   D =  2  Accuracy: 1.0000 (the standard deviation : 0.000)\n",
            "C = 7.2   D =  2  Accuracy: 1.0000 (the standard deviation : 0.000)\n",
            "C = 7.3   D =  2  Accuracy: 1.0000 (the standard deviation : 0.000)\n",
            "C = 7.4   D =  2  Accuracy: 1.0000 (the standard deviation : 0.000)\n",
            "C = 7.5   D =  2  Accuracy: 1.0000 (the standard deviation : 0.000)\n",
            "C = 7.6   D =  2  Accuracy: 1.0000 (the standard deviation : 0.000)\n",
            "C = 7.7   D =  2  Accuracy: 1.0000 (the standard deviation : 0.000)\n",
            "C = 7.8   D =  2  Accuracy: 1.0000 (the standard deviation : 0.000)\n",
            "C = 7.9   D =  2  Accuracy: 1.0000 (the standard deviation : 0.000)\n",
            "C = 8.0   D =  2  Accuracy: 1.0000 (the standard deviation : 0.000)\n",
            "C = 8.1   D =  2  Accuracy: 1.0000 (the standard deviation : 0.000)\n",
            "C = 8.2   D =  2  Accuracy: 1.0000 (the standard deviation : 0.000)\n",
            "C = 8.3   D =  2  Accuracy: 1.0000 (the standard deviation : 0.000)\n",
            "C = 8.4   D =  2  Accuracy: 1.0000 (the standard deviation : 0.000)\n",
            "C = 8.5   D =  2  Accuracy: 1.0000 (the standard deviation : 0.000)\n",
            "C = 8.6   D =  2  Accuracy: 1.0000 (the standard deviation : 0.000)\n",
            "C = 8.7   D =  2  Accuracy: 1.0000 (the standard deviation : 0.000)\n",
            "C = 8.8   D =  2  Accuracy: 1.0000 (the standard deviation : 0.000)\n",
            "C = 8.9   D =  2  Accuracy: 1.0000 (the standard deviation : 0.000)\n",
            "C = 9.0   D =  2  Accuracy: 1.0000 (the standard deviation : 0.000)\n",
            "C = 9.1   D =  2  Accuracy: 1.0000 (the standard deviation : 0.000)\n",
            "C = 9.2   D =  2  Accuracy: 1.0000 (the standard deviation : 0.000)\n",
            "C = 9.3   D =  2  Accuracy: 1.0000 (the standard deviation : 0.000)\n",
            "C = 9.4   D =  2  Accuracy: 1.0000 (the standard deviation : 0.000)\n",
            "C = 9.5   D =  2  Accuracy: 1.0000 (the standard deviation : 0.000)\n",
            "C = 9.6   D =  2  Accuracy: 1.0000 (the standard deviation : 0.000)\n",
            "C = 9.7   D =  2  Accuracy: 1.0000 (the standard deviation : 0.000)\n",
            "C = 9.8   D =  2  Accuracy: 1.0000 (the standard deviation : 0.000)\n",
            "C = 9.9   D =  2  Accuracy: 1.0000 (the standard deviation : 0.000)\n",
            "C = 10.0   D =  2  Accuracy: 1.0000 (the standard deviation : 0.000)\n",
            "C = 0.1   D =  3  Accuracy: 0.5650 (the standard deviation : 0.172)\n",
            "C = 0.2   D =  3  Accuracy: 0.6050 (the standard deviation : 0.182)\n",
            "C = 0.3   D =  3  Accuracy: 0.6750 (the standard deviation : 0.101)\n",
            "C = 0.4   D =  3  Accuracy: 0.7100 (the standard deviation : 0.114)\n",
            "C = 0.5   D =  3  Accuracy: 0.7100 (the standard deviation : 0.114)\n",
            "C = 0.6   D =  3  Accuracy: 0.7050 (the standard deviation : 0.115)\n",
            "C = 0.7   D =  3  Accuracy: 0.7050 (the standard deviation : 0.115)\n",
            "C = 0.8   D =  3  Accuracy: 0.7050 (the standard deviation : 0.115)\n",
            "C = 0.9   D =  3  Accuracy: 0.7050 (the standard deviation : 0.115)\n",
            "C = 1.0   D =  3  Accuracy: 0.7050 (the standard deviation : 0.115)\n",
            "C = 1.1   D =  3  Accuracy: 0.7050 (the standard deviation : 0.115)\n",
            "C = 1.2   D =  3  Accuracy: 0.7050 (the standard deviation : 0.115)\n",
            "C = 1.3   D =  3  Accuracy: 0.7050 (the standard deviation : 0.115)\n",
            "C = 1.4   D =  3  Accuracy: 0.7050 (the standard deviation : 0.115)\n",
            "C = 1.5   D =  3  Accuracy: 0.7050 (the standard deviation : 0.115)\n",
            "C = 1.6   D =  3  Accuracy: 0.7050 (the standard deviation : 0.115)\n",
            "C = 1.7   D =  3  Accuracy: 0.7050 (the standard deviation : 0.115)\n",
            "C = 1.8   D =  3  Accuracy: 0.7050 (the standard deviation : 0.115)\n",
            "C = 1.9   D =  3  Accuracy: 0.7100 (the standard deviation : 0.114)\n",
            "C = 2.0   D =  3  Accuracy: 0.7100 (the standard deviation : 0.114)\n",
            "C = 2.1   D =  3  Accuracy: 0.7100 (the standard deviation : 0.114)\n",
            "C = 2.2   D =  3  Accuracy: 0.7100 (the standard deviation : 0.114)\n",
            "C = 2.3   D =  3  Accuracy: 0.7100 (the standard deviation : 0.114)\n",
            "C = 2.4   D =  3  Accuracy: 0.7100 (the standard deviation : 0.114)\n",
            "C = 2.5   D =  3  Accuracy: 0.7100 (the standard deviation : 0.114)\n",
            "C = 2.6   D =  3  Accuracy: 0.7100 (the standard deviation : 0.114)\n",
            "C = 2.7   D =  3  Accuracy: 0.7100 (the standard deviation : 0.114)\n",
            "C = 2.8   D =  3  Accuracy: 0.7100 (the standard deviation : 0.114)\n",
            "C = 2.9   D =  3  Accuracy: 0.7100 (the standard deviation : 0.114)\n",
            "C = 3.0   D =  3  Accuracy: 0.7100 (the standard deviation : 0.114)\n",
            "C = 3.1   D =  3  Accuracy: 0.7100 (the standard deviation : 0.114)\n",
            "C = 3.2   D =  3  Accuracy: 0.7100 (the standard deviation : 0.114)\n",
            "C = 3.3   D =  3  Accuracy: 0.7100 (the standard deviation : 0.114)\n",
            "C = 3.4   D =  3  Accuracy: 0.7100 (the standard deviation : 0.114)\n",
            "C = 3.5   D =  3  Accuracy: 0.7100 (the standard deviation : 0.114)\n",
            "C = 3.6   D =  3  Accuracy: 0.7100 (the standard deviation : 0.114)\n",
            "C = 3.7   D =  3  Accuracy: 0.7100 (the standard deviation : 0.114)\n",
            "C = 3.8   D =  3  Accuracy: 0.7100 (the standard deviation : 0.114)\n",
            "C = 3.9   D =  3  Accuracy: 0.7100 (the standard deviation : 0.114)\n",
            "C = 4.0   D =  3  Accuracy: 0.7100 (the standard deviation : 0.114)\n",
            "C = 4.1   D =  3  Accuracy: 0.7100 (the standard deviation : 0.114)\n",
            "C = 4.2   D =  3  Accuracy: 0.7100 (the standard deviation : 0.114)\n",
            "C = 4.3   D =  3  Accuracy: 0.7100 (the standard deviation : 0.114)\n",
            "C = 4.4   D =  3  Accuracy: 0.7100 (the standard deviation : 0.114)\n",
            "C = 4.5   D =  3  Accuracy: 0.7100 (the standard deviation : 0.114)\n",
            "C = 4.6   D =  3  Accuracy: 0.7100 (the standard deviation : 0.114)\n",
            "C = 4.7   D =  3  Accuracy: 0.7100 (the standard deviation : 0.114)\n",
            "C = 4.8   D =  3  Accuracy: 0.7100 (the standard deviation : 0.114)\n",
            "C = 4.9   D =  3  Accuracy: 0.7100 (the standard deviation : 0.114)\n",
            "C = 5.0   D =  3  Accuracy: 0.7100 (the standard deviation : 0.114)\n",
            "C = 5.1   D =  3  Accuracy: 0.7100 (the standard deviation : 0.114)\n",
            "C = 5.2   D =  3  Accuracy: 0.7100 (the standard deviation : 0.114)\n",
            "C = 5.3   D =  3  Accuracy: 0.7100 (the standard deviation : 0.114)\n",
            "C = 5.4   D =  3  Accuracy: 0.7100 (the standard deviation : 0.114)\n",
            "C = 5.5   D =  3  Accuracy: 0.7100 (the standard deviation : 0.114)\n",
            "C = 5.6   D =  3  Accuracy: 0.7100 (the standard deviation : 0.114)\n",
            "C = 5.7   D =  3  Accuracy: 0.7100 (the standard deviation : 0.114)\n",
            "C = 5.8   D =  3  Accuracy: 0.7100 (the standard deviation : 0.114)\n",
            "C = 5.9   D =  3  Accuracy: 0.7100 (the standard deviation : 0.114)\n",
            "C = 6.0   D =  3  Accuracy: 0.7100 (the standard deviation : 0.114)\n",
            "C = 6.1   D =  3  Accuracy: 0.7100 (the standard deviation : 0.114)\n",
            "C = 6.2   D =  3  Accuracy: 0.7100 (the standard deviation : 0.114)\n",
            "C = 6.3   D =  3  Accuracy: 0.7100 (the standard deviation : 0.114)\n",
            "C = 6.4   D =  3  Accuracy: 0.7100 (the standard deviation : 0.114)\n",
            "C = 6.5   D =  3  Accuracy: 0.7100 (the standard deviation : 0.114)\n",
            "C = 6.6   D =  3  Accuracy: 0.7100 (the standard deviation : 0.114)\n",
            "C = 6.7   D =  3  Accuracy: 0.7100 (the standard deviation : 0.114)\n",
            "C = 6.8   D =  3  Accuracy: 0.7100 (the standard deviation : 0.114)\n",
            "C = 6.9   D =  3  Accuracy: 0.7100 (the standard deviation : 0.114)\n",
            "C = 7.0   D =  3  Accuracy: 0.7100 (the standard deviation : 0.114)\n",
            "C = 7.1   D =  3  Accuracy: 0.7100 (the standard deviation : 0.114)\n",
            "C = 7.2   D =  3  Accuracy: 0.7100 (the standard deviation : 0.114)\n",
            "C = 7.3   D =  3  Accuracy: 0.7100 (the standard deviation : 0.114)\n",
            "C = 7.4   D =  3  Accuracy: 0.7100 (the standard deviation : 0.114)\n",
            "C = 7.5   D =  3  Accuracy: 0.7100 (the standard deviation : 0.114)\n",
            "C = 7.6   D =  3  Accuracy: 0.7100 (the standard deviation : 0.114)\n",
            "C = 7.7   D =  3  Accuracy: 0.7100 (the standard deviation : 0.114)\n",
            "C = 7.8   D =  3  Accuracy: 0.7100 (the standard deviation : 0.114)\n",
            "C = 7.9   D =  3  Accuracy: 0.7100 (the standard deviation : 0.114)\n",
            "C = 8.0   D =  3  Accuracy: 0.7100 (the standard deviation : 0.114)\n",
            "C = 8.1   D =  3  Accuracy: 0.7100 (the standard deviation : 0.114)\n",
            "C = 8.2   D =  3  Accuracy: 0.7100 (the standard deviation : 0.114)\n",
            "C = 8.3   D =  3  Accuracy: 0.7100 (the standard deviation : 0.114)\n",
            "C = 8.4   D =  3  Accuracy: 0.7100 (the standard deviation : 0.114)\n",
            "C = 8.5   D =  3  Accuracy: 0.7100 (the standard deviation : 0.114)\n",
            "C = 8.6   D =  3  Accuracy: 0.7100 (the standard deviation : 0.114)\n",
            "C = 8.7   D =  3  Accuracy: 0.7100 (the standard deviation : 0.114)\n",
            "C = 8.8   D =  3  Accuracy: 0.7100 (the standard deviation : 0.114)\n",
            "C = 8.9   D =  3  Accuracy: 0.7100 (the standard deviation : 0.114)\n",
            "C = 9.0   D =  3  Accuracy: 0.7100 (the standard deviation : 0.114)\n",
            "C = 9.1   D =  3  Accuracy: 0.7100 (the standard deviation : 0.114)\n",
            "C = 9.2   D =  3  Accuracy: 0.7100 (the standard deviation : 0.114)\n",
            "C = 9.3   D =  3  Accuracy: 0.7100 (the standard deviation : 0.114)\n",
            "C = 9.4   D =  3  Accuracy: 0.7100 (the standard deviation : 0.114)\n",
            "C = 9.5   D =  3  Accuracy: 0.7100 (the standard deviation : 0.114)\n",
            "C = 9.6   D =  3  Accuracy: 0.7100 (the standard deviation : 0.114)\n",
            "C = 9.7   D =  3  Accuracy: 0.7100 (the standard deviation : 0.114)\n",
            "C = 9.8   D =  3  Accuracy: 0.7100 (the standard deviation : 0.114)\n",
            "C = 9.9   D =  3  Accuracy: 0.7100 (the standard deviation : 0.114)\n",
            "C = 10.0   D =  3  Accuracy: 0.7100 (the standard deviation : 0.114)\n",
            "C = 0.1   D =  4  Accuracy: 1.0000 (the standard deviation : 0.000)\n",
            "C = 0.2   D =  4  Accuracy: 1.0000 (the standard deviation : 0.000)\n",
            "C = 0.3   D =  4  Accuracy: 1.0000 (the standard deviation : 0.000)\n",
            "C = 0.4   D =  4  Accuracy: 1.0000 (the standard deviation : 0.000)\n",
            "C = 0.5   D =  4  Accuracy: 1.0000 (the standard deviation : 0.000)\n",
            "C = 0.6   D =  4  Accuracy: 1.0000 (the standard deviation : 0.000)\n",
            "C = 0.7   D =  4  Accuracy: 1.0000 (the standard deviation : 0.000)\n",
            "C = 0.8   D =  4  Accuracy: 1.0000 (the standard deviation : 0.000)\n",
            "C = 0.9   D =  4  Accuracy: 1.0000 (the standard deviation : 0.000)\n",
            "C = 1.0   D =  4  Accuracy: 1.0000 (the standard deviation : 0.000)\n",
            "C = 1.1   D =  4  Accuracy: 1.0000 (the standard deviation : 0.000)\n",
            "C = 1.2   D =  4  Accuracy: 1.0000 (the standard deviation : 0.000)\n",
            "C = 1.3   D =  4  Accuracy: 1.0000 (the standard deviation : 0.000)\n",
            "C = 1.4   D =  4  Accuracy: 1.0000 (the standard deviation : 0.000)\n",
            "C = 1.5   D =  4  Accuracy: 1.0000 (the standard deviation : 0.000)\n",
            "C = 1.6   D =  4  Accuracy: 1.0000 (the standard deviation : 0.000)\n",
            "C = 1.7   D =  4  Accuracy: 1.0000 (the standard deviation : 0.000)\n",
            "C = 1.8   D =  4  Accuracy: 1.0000 (the standard deviation : 0.000)\n",
            "C = 1.9   D =  4  Accuracy: 1.0000 (the standard deviation : 0.000)\n",
            "C = 2.0   D =  4  Accuracy: 1.0000 (the standard deviation : 0.000)\n",
            "C = 2.1   D =  4  Accuracy: 1.0000 (the standard deviation : 0.000)\n",
            "C = 2.2   D =  4  Accuracy: 1.0000 (the standard deviation : 0.000)\n",
            "C = 2.3   D =  4  Accuracy: 1.0000 (the standard deviation : 0.000)\n",
            "C = 2.4   D =  4  Accuracy: 1.0000 (the standard deviation : 0.000)\n",
            "C = 2.5   D =  4  Accuracy: 1.0000 (the standard deviation : 0.000)\n",
            "C = 2.6   D =  4  Accuracy: 1.0000 (the standard deviation : 0.000)\n",
            "C = 2.7   D =  4  Accuracy: 1.0000 (the standard deviation : 0.000)\n",
            "C = 2.8   D =  4  Accuracy: 1.0000 (the standard deviation : 0.000)\n",
            "C = 2.9   D =  4  Accuracy: 1.0000 (the standard deviation : 0.000)\n",
            "C = 3.0   D =  4  Accuracy: 1.0000 (the standard deviation : 0.000)\n",
            "C = 3.1   D =  4  Accuracy: 1.0000 (the standard deviation : 0.000)\n",
            "C = 3.2   D =  4  Accuracy: 1.0000 (the standard deviation : 0.000)\n",
            "C = 3.3   D =  4  Accuracy: 1.0000 (the standard deviation : 0.000)\n",
            "C = 3.4   D =  4  Accuracy: 1.0000 (the standard deviation : 0.000)\n",
            "C = 3.5   D =  4  Accuracy: 1.0000 (the standard deviation : 0.000)\n",
            "C = 3.6   D =  4  Accuracy: 1.0000 (the standard deviation : 0.000)\n",
            "C = 3.7   D =  4  Accuracy: 1.0000 (the standard deviation : 0.000)\n",
            "C = 3.8   D =  4  Accuracy: 1.0000 (the standard deviation : 0.000)\n",
            "C = 3.9   D =  4  Accuracy: 1.0000 (the standard deviation : 0.000)\n",
            "C = 4.0   D =  4  Accuracy: 1.0000 (the standard deviation : 0.000)\n",
            "C = 4.1   D =  4  Accuracy: 1.0000 (the standard deviation : 0.000)\n",
            "C = 4.2   D =  4  Accuracy: 1.0000 (the standard deviation : 0.000)\n",
            "C = 4.3   D =  4  Accuracy: 1.0000 (the standard deviation : 0.000)\n",
            "C = 4.4   D =  4  Accuracy: 1.0000 (the standard deviation : 0.000)\n",
            "C = 4.5   D =  4  Accuracy: 1.0000 (the standard deviation : 0.000)\n",
            "C = 4.6   D =  4  Accuracy: 1.0000 (the standard deviation : 0.000)\n",
            "C = 4.7   D =  4  Accuracy: 1.0000 (the standard deviation : 0.000)\n",
            "C = 4.8   D =  4  Accuracy: 1.0000 (the standard deviation : 0.000)\n",
            "C = 4.9   D =  4  Accuracy: 1.0000 (the standard deviation : 0.000)\n",
            "C = 5.0   D =  4  Accuracy: 1.0000 (the standard deviation : 0.000)\n",
            "C = 5.1   D =  4  Accuracy: 1.0000 (the standard deviation : 0.000)\n",
            "C = 5.2   D =  4  Accuracy: 1.0000 (the standard deviation : 0.000)\n",
            "C = 5.3   D =  4  Accuracy: 1.0000 (the standard deviation : 0.000)\n",
            "C = 5.4   D =  4  Accuracy: 1.0000 (the standard deviation : 0.000)\n",
            "C = 5.5   D =  4  Accuracy: 1.0000 (the standard deviation : 0.000)\n",
            "C = 5.6   D =  4  Accuracy: 1.0000 (the standard deviation : 0.000)\n",
            "C = 5.7   D =  4  Accuracy: 1.0000 (the standard deviation : 0.000)\n",
            "C = 5.8   D =  4  Accuracy: 1.0000 (the standard deviation : 0.000)\n",
            "C = 5.9   D =  4  Accuracy: 1.0000 (the standard deviation : 0.000)\n",
            "C = 6.0   D =  4  Accuracy: 1.0000 (the standard deviation : 0.000)\n",
            "C = 6.1   D =  4  Accuracy: 1.0000 (the standard deviation : 0.000)\n",
            "C = 6.2   D =  4  Accuracy: 1.0000 (the standard deviation : 0.000)\n",
            "C = 6.3   D =  4  Accuracy: 1.0000 (the standard deviation : 0.000)\n",
            "C = 6.4   D =  4  Accuracy: 1.0000 (the standard deviation : 0.000)\n",
            "C = 6.5   D =  4  Accuracy: 1.0000 (the standard deviation : 0.000)\n",
            "C = 6.6   D =  4  Accuracy: 1.0000 (the standard deviation : 0.000)\n",
            "C = 6.7   D =  4  Accuracy: 1.0000 (the standard deviation : 0.000)\n",
            "C = 6.8   D =  4  Accuracy: 1.0000 (the standard deviation : 0.000)\n",
            "C = 6.9   D =  4  Accuracy: 1.0000 (the standard deviation : 0.000)\n",
            "C = 7.0   D =  4  Accuracy: 1.0000 (the standard deviation : 0.000)\n",
            "C = 7.1   D =  4  Accuracy: 1.0000 (the standard deviation : 0.000)\n",
            "C = 7.2   D =  4  Accuracy: 1.0000 (the standard deviation : 0.000)\n",
            "C = 7.3   D =  4  Accuracy: 1.0000 (the standard deviation : 0.000)\n",
            "C = 7.4   D =  4  Accuracy: 1.0000 (the standard deviation : 0.000)\n",
            "C = 7.5   D =  4  Accuracy: 1.0000 (the standard deviation : 0.000)\n",
            "C = 7.6   D =  4  Accuracy: 1.0000 (the standard deviation : 0.000)\n",
            "C = 7.7   D =  4  Accuracy: 1.0000 (the standard deviation : 0.000)\n",
            "C = 7.8   D =  4  Accuracy: 1.0000 (the standard deviation : 0.000)\n",
            "C = 7.9   D =  4  Accuracy: 1.0000 (the standard deviation : 0.000)\n",
            "C = 8.0   D =  4  Accuracy: 1.0000 (the standard deviation : 0.000)\n",
            "C = 8.1   D =  4  Accuracy: 1.0000 (the standard deviation : 0.000)\n",
            "C = 8.2   D =  4  Accuracy: 1.0000 (the standard deviation : 0.000)\n",
            "C = 8.3   D =  4  Accuracy: 1.0000 (the standard deviation : 0.000)\n",
            "C = 8.4   D =  4  Accuracy: 1.0000 (the standard deviation : 0.000)\n",
            "C = 8.5   D =  4  Accuracy: 1.0000 (the standard deviation : 0.000)\n",
            "C = 8.6   D =  4  Accuracy: 1.0000 (the standard deviation : 0.000)\n",
            "C = 8.7   D =  4  Accuracy: 1.0000 (the standard deviation : 0.000)\n",
            "C = 8.8   D =  4  Accuracy: 1.0000 (the standard deviation : 0.000)\n",
            "C = 8.9   D =  4  Accuracy: 1.0000 (the standard deviation : 0.000)\n",
            "C = 9.0   D =  4  Accuracy: 1.0000 (the standard deviation : 0.000)\n",
            "C = 9.1   D =  4  Accuracy: 1.0000 (the standard deviation : 0.000)\n",
            "C = 9.2   D =  4  Accuracy: 1.0000 (the standard deviation : 0.000)\n",
            "C = 9.3   D =  4  Accuracy: 1.0000 (the standard deviation : 0.000)\n",
            "C = 9.4   D =  4  Accuracy: 1.0000 (the standard deviation : 0.000)\n",
            "C = 9.5   D =  4  Accuracy: 1.0000 (the standard deviation : 0.000)\n",
            "C = 9.6   D =  4  Accuracy: 1.0000 (the standard deviation : 0.000)\n",
            "C = 9.7   D =  4  Accuracy: 1.0000 (the standard deviation : 0.000)\n",
            "C = 9.8   D =  4  Accuracy: 1.0000 (the standard deviation : 0.000)\n",
            "C = 9.9   D =  4  Accuracy: 1.0000 (the standard deviation : 0.000)\n",
            "C = 10.0   D =  4  Accuracy: 1.0000 (the standard deviation : 0.000)\n",
            "C = 0.1   D =  5  Accuracy: 0.6350 (the standard deviation : 0.180)\n",
            "C = 0.2   D =  5  Accuracy: 0.7050 (the standard deviation : 0.096)\n",
            "C = 0.3   D =  5  Accuracy: 0.7100 (the standard deviation : 0.102)\n",
            "C = 0.4   D =  5  Accuracy: 0.6900 (the standard deviation : 0.116)\n",
            "C = 0.5   D =  5  Accuracy: 0.6900 (the standard deviation : 0.116)\n",
            "C = 0.6   D =  5  Accuracy: 0.6850 (the standard deviation : 0.125)\n",
            "C = 0.7   D =  5  Accuracy: 0.6850 (the standard deviation : 0.125)\n",
            "C = 0.8   D =  5  Accuracy: 0.6850 (the standard deviation : 0.125)\n",
            "C = 0.9   D =  5  Accuracy: 0.6850 (the standard deviation : 0.125)\n",
            "C = 1.0   D =  5  Accuracy: 0.6850 (the standard deviation : 0.125)\n",
            "C = 1.1   D =  5  Accuracy: 0.6850 (the standard deviation : 0.125)\n",
            "C = 1.2   D =  5  Accuracy: 0.6850 (the standard deviation : 0.125)\n",
            "C = 1.3   D =  5  Accuracy: 0.6850 (the standard deviation : 0.125)\n",
            "C = 1.4   D =  5  Accuracy: 0.6850 (the standard deviation : 0.125)\n",
            "C = 1.5   D =  5  Accuracy: 0.6850 (the standard deviation : 0.125)\n",
            "C = 1.6   D =  5  Accuracy: 0.6850 (the standard deviation : 0.125)\n",
            "C = 1.7   D =  5  Accuracy: 0.6850 (the standard deviation : 0.125)\n",
            "C = 1.8   D =  5  Accuracy: 0.6850 (the standard deviation : 0.125)\n",
            "C = 1.9   D =  5  Accuracy: 0.6850 (the standard deviation : 0.125)\n",
            "C = 2.0   D =  5  Accuracy: 0.6850 (the standard deviation : 0.125)\n",
            "C = 2.1   D =  5  Accuracy: 0.6850 (the standard deviation : 0.125)\n",
            "C = 2.2   D =  5  Accuracy: 0.6850 (the standard deviation : 0.125)\n",
            "C = 2.3   D =  5  Accuracy: 0.6800 (the standard deviation : 0.121)\n",
            "C = 2.4   D =  5  Accuracy: 0.6800 (the standard deviation : 0.121)\n",
            "C = 2.5   D =  5  Accuracy: 0.6750 (the standard deviation : 0.131)\n",
            "C = 2.6   D =  5  Accuracy: 0.6750 (the standard deviation : 0.131)\n",
            "C = 2.7   D =  5  Accuracy: 0.6750 (the standard deviation : 0.131)\n",
            "C = 2.8   D =  5  Accuracy: 0.6750 (the standard deviation : 0.131)\n",
            "C = 2.9   D =  5  Accuracy: 0.6800 (the standard deviation : 0.127)\n",
            "C = 3.0   D =  5  Accuracy: 0.6800 (the standard deviation : 0.127)\n",
            "C = 3.1   D =  5  Accuracy: 0.6800 (the standard deviation : 0.127)\n",
            "C = 3.2   D =  5  Accuracy: 0.6800 (the standard deviation : 0.127)\n",
            "C = 3.3   D =  5  Accuracy: 0.6700 (the standard deviation : 0.117)\n",
            "C = 3.4   D =  5  Accuracy: 0.6700 (the standard deviation : 0.117)\n",
            "C = 3.5   D =  5  Accuracy: 0.6700 (the standard deviation : 0.117)\n",
            "C = 3.6   D =  5  Accuracy: 0.6700 (the standard deviation : 0.117)\n",
            "C = 3.7   D =  5  Accuracy: 0.6700 (the standard deviation : 0.117)\n",
            "C = 3.8   D =  5  Accuracy: 0.6700 (the standard deviation : 0.117)\n",
            "C = 3.9   D =  5  Accuracy: 0.6700 (the standard deviation : 0.117)\n",
            "C = 4.0   D =  5  Accuracy: 0.6700 (the standard deviation : 0.117)\n",
            "C = 4.1   D =  5  Accuracy: 0.6700 (the standard deviation : 0.117)\n",
            "C = 4.2   D =  5  Accuracy: 0.6700 (the standard deviation : 0.117)\n",
            "C = 4.3   D =  5  Accuracy: 0.6700 (the standard deviation : 0.117)\n",
            "C = 4.4   D =  5  Accuracy: 0.6700 (the standard deviation : 0.117)\n",
            "C = 4.5   D =  5  Accuracy: 0.6700 (the standard deviation : 0.117)\n",
            "C = 4.6   D =  5  Accuracy: 0.6700 (the standard deviation : 0.117)\n",
            "C = 4.7   D =  5  Accuracy: 0.6700 (the standard deviation : 0.117)\n",
            "C = 4.8   D =  5  Accuracy: 0.6700 (the standard deviation : 0.117)\n",
            "C = 4.9   D =  5  Accuracy: 0.6700 (the standard deviation : 0.117)\n",
            "C = 5.0   D =  5  Accuracy: 0.6700 (the standard deviation : 0.117)\n",
            "C = 5.1   D =  5  Accuracy: 0.6700 (the standard deviation : 0.117)\n",
            "C = 5.2   D =  5  Accuracy: 0.6700 (the standard deviation : 0.117)\n",
            "C = 5.3   D =  5  Accuracy: 0.6700 (the standard deviation : 0.117)\n",
            "C = 5.4   D =  5  Accuracy: 0.6700 (the standard deviation : 0.117)\n",
            "C = 5.5   D =  5  Accuracy: 0.6700 (the standard deviation : 0.117)\n",
            "C = 5.6   D =  5  Accuracy: 0.6700 (the standard deviation : 0.117)\n",
            "C = 5.7   D =  5  Accuracy: 0.6700 (the standard deviation : 0.117)\n",
            "C = 5.8   D =  5  Accuracy: 0.6700 (the standard deviation : 0.117)\n",
            "C = 5.9   D =  5  Accuracy: 0.6700 (the standard deviation : 0.117)\n",
            "C = 6.0   D =  5  Accuracy: 0.6700 (the standard deviation : 0.117)\n",
            "C = 6.1   D =  5  Accuracy: 0.6700 (the standard deviation : 0.117)\n",
            "C = 6.2   D =  5  Accuracy: 0.6700 (the standard deviation : 0.117)\n",
            "C = 6.3   D =  5  Accuracy: 0.6700 (the standard deviation : 0.117)\n",
            "C = 6.4   D =  5  Accuracy: 0.6700 (the standard deviation : 0.117)\n",
            "C = 6.5   D =  5  Accuracy: 0.6700 (the standard deviation : 0.117)\n",
            "C = 6.6   D =  5  Accuracy: 0.6700 (the standard deviation : 0.117)\n",
            "C = 6.7   D =  5  Accuracy: 0.6700 (the standard deviation : 0.117)\n",
            "C = 6.8   D =  5  Accuracy: 0.6700 (the standard deviation : 0.117)\n",
            "C = 6.9   D =  5  Accuracy: 0.6700 (the standard deviation : 0.117)\n",
            "C = 7.0   D =  5  Accuracy: 0.6700 (the standard deviation : 0.117)\n",
            "C = 7.1   D =  5  Accuracy: 0.6700 (the standard deviation : 0.117)\n",
            "C = 7.2   D =  5  Accuracy: 0.6700 (the standard deviation : 0.117)\n",
            "C = 7.3   D =  5  Accuracy: 0.6700 (the standard deviation : 0.117)\n",
            "C = 7.4   D =  5  Accuracy: 0.6700 (the standard deviation : 0.117)\n",
            "C = 7.5   D =  5  Accuracy: 0.6700 (the standard deviation : 0.117)\n",
            "C = 7.6   D =  5  Accuracy: 0.6700 (the standard deviation : 0.117)\n",
            "C = 7.7   D =  5  Accuracy: 0.6700 (the standard deviation : 0.117)\n",
            "C = 7.8   D =  5  Accuracy: 0.6700 (the standard deviation : 0.117)\n",
            "C = 7.9   D =  5  Accuracy: 0.6700 (the standard deviation : 0.117)\n",
            "C = 8.0   D =  5  Accuracy: 0.6700 (the standard deviation : 0.117)\n",
            "C = 8.1   D =  5  Accuracy: 0.6700 (the standard deviation : 0.117)\n",
            "C = 8.2   D =  5  Accuracy: 0.6700 (the standard deviation : 0.117)\n",
            "C = 8.3   D =  5  Accuracy: 0.6700 (the standard deviation : 0.117)\n",
            "C = 8.4   D =  5  Accuracy: 0.6700 (the standard deviation : 0.117)\n",
            "C = 8.5   D =  5  Accuracy: 0.6700 (the standard deviation : 0.117)\n",
            "C = 8.6   D =  5  Accuracy: 0.6700 (the standard deviation : 0.117)\n",
            "C = 8.7   D =  5  Accuracy: 0.6700 (the standard deviation : 0.117)\n",
            "C = 8.8   D =  5  Accuracy: 0.6700 (the standard deviation : 0.117)\n",
            "C = 8.9   D =  5  Accuracy: 0.6700 (the standard deviation : 0.117)\n",
            "C = 9.0   D =  5  Accuracy: 0.6700 (the standard deviation : 0.117)\n",
            "C = 9.1   D =  5  Accuracy: 0.6700 (the standard deviation : 0.117)\n",
            "C = 9.2   D =  5  Accuracy: 0.6700 (the standard deviation : 0.117)\n",
            "C = 9.3   D =  5  Accuracy: 0.6700 (the standard deviation : 0.117)\n",
            "C = 9.4   D =  5  Accuracy: 0.6700 (the standard deviation : 0.117)\n",
            "C = 9.5   D =  5  Accuracy: 0.6700 (the standard deviation : 0.117)\n",
            "C = 9.6   D =  5  Accuracy: 0.6700 (the standard deviation : 0.117)\n",
            "C = 9.7   D =  5  Accuracy: 0.6700 (the standard deviation : 0.117)\n",
            "C = 9.8   D =  5  Accuracy: 0.6700 (the standard deviation : 0.117)\n",
            "C = 9.9   D =  5  Accuracy: 0.6700 (the standard deviation : 0.117)\n",
            "C = 10.0   D =  5  Accuracy: 0.6700 (the standard deviation : 0.117)\n",
            "best valume of C =  0.1 best valume of D =  2 highest mean scores =  1.0\n"
          ]
        }
      ]
    },
    {
      "cell_type": "markdown",
      "source": [
        "## Fitting SVM to the Training set with choosen C\n"
      ],
      "metadata": {
        "id": "Eq-r6X9eXrs0"
      }
    },
    {
      "cell_type": "code",
      "source": [
        "classifier = SVC(C=best_C,degree = best_degree,kernel = 'poly', random_state = 0)\n",
        "classifier.fit(X_train, y_train)"
      ],
      "metadata": {
        "colab": {
          "base_uri": "https://localhost:8080/"
        },
        "outputId": "3c542e3d-7de8-451f-cc7a-4d74e2a5ac81",
        "id": "MQjRRJF5Xrs5"
      },
      "execution_count": 51,
      "outputs": [
        {
          "output_type": "execute_result",
          "data": {
            "text/plain": [
              "SVC(C=0.1, degree=2, kernel='poly', random_state=0)"
            ]
          },
          "metadata": {},
          "execution_count": 51
        }
      ]
    },
    {
      "cell_type": "markdown",
      "source": [
        "## Predicting the Test set results\n"
      ],
      "metadata": {
        "id": "TeA6r3sIyY9S"
      }
    },
    {
      "cell_type": "code",
      "source": [
        "y_pred = classifier.predict(X_test)"
      ],
      "metadata": {
        "id": "izQ4d_f5yaG6"
      },
      "execution_count": 52,
      "outputs": []
    },
    {
      "cell_type": "markdown",
      "source": [
        "## Making the Confusion Matrix and score\n"
      ],
      "metadata": {
        "id": "wxCAWS_PyarT"
      }
    },
    {
      "cell_type": "code",
      "source": [
        "from sklearn.metrics import confusion_matrix, accuracy_score\n",
        "from sklearn.metrics import precision_score\n",
        "from sklearn.metrics import recall_score\n",
        "cm = confusion_matrix(y_test, y_pred)\n",
        "print(\"confusion matrix :\")\n",
        "print(cm)\n",
        "print(' accuracy_score =  %.3f    precision_score =  %.3f   recall_score =   %.3f '\n",
        "       %(accuracy_score(y_test, y_pred),precision_score(y_test, y_pred),recall_score(y_test, y_pred)))"
      ],
      "metadata": {
        "colab": {
          "base_uri": "https://localhost:8080/"
        },
        "id": "81EYRhm2ydLp",
        "outputId": "32738c3b-d3b9-4fb1-8f21-f8b4d7262811"
      },
      "execution_count": 53,
      "outputs": [
        {
          "output_type": "stream",
          "name": "stdout",
          "text": [
            "confusion matrix :\n",
            "[[23  0]\n",
            " [ 0 27]]\n",
            " accuracy_score =  1.000    precision_score =  1.000   recall_score =   1.000 \n"
          ]
        }
      ]
    },
    {
      "cell_type": "markdown",
      "source": [
        "## Visualising the Training set results\n"
      ],
      "metadata": {
        "id": "In-rCqqdyd1y"
      }
    },
    {
      "cell_type": "code",
      "source": [
        "from matplotlib.colors import ListedColormap\n",
        "X_set, y_set = X_train, y_train\n",
        "X1, X2 = np.meshgrid(np.arange(start = X_set[:, 0].min() - 1, stop = X_set[:, 0].max() + 1, step = 0.01),\n",
        "                     np.arange(start = X_set[:, 1].min() - 1, stop = X_set[:, 1].max() + 1, step = 0.01))\n",
        "plt.contourf(X1, X2, classifier.predict(np.array([X1.ravel(), X2.ravel()]).T).reshape(X1.shape),\n",
        "             alpha = 0.75, cmap = ListedColormap(('red', 'blue')))\n",
        "plt.xlim(X1.min(), X1.max())\n",
        "plt.ylim(X2.min(), X2.max())\n",
        "for i, j in enumerate(np.unique(y_set)):\n",
        "    plt.scatter(X_set[y_set == j, 0], X_set[y_set == j, 1],\n",
        "                c = ListedColormap(('red', 'blue'))(i), label = j)\n",
        "plt.title('SVM (Training set)')\n",
        "plt.xlabel('X1')\n",
        "plt.ylabel('X2')\n",
        "plt.legend()\n",
        "plt.show()"
      ],
      "metadata": {
        "colab": {
          "base_uri": "https://localhost:8080/",
          "height": 350
        },
        "id": "yW7Z0jYKyg_K",
        "outputId": "7eacbc2d-fefa-4d26-965b-30db7230f543"
      },
      "execution_count": 54,
      "outputs": [
        {
          "output_type": "stream",
          "name": "stderr",
          "text": [
            "WARNING:matplotlib.axes._axes:*c* argument looks like a single numeric RGB or RGBA sequence, which should be avoided as value-mapping will have precedence in case its length matches with *x* & *y*.  Please use the *color* keyword-argument or provide a 2-D array with a single row if you intend to specify the same RGB or RGBA value for all points.\n",
            "WARNING:matplotlib.axes._axes:*c* argument looks like a single numeric RGB or RGBA sequence, which should be avoided as value-mapping will have precedence in case its length matches with *x* & *y*.  Please use the *color* keyword-argument or provide a 2-D array with a single row if you intend to specify the same RGB or RGBA value for all points.\n"
          ]
        },
        {
          "output_type": "display_data",
          "data": {
            "text/plain": [
              "<Figure size 432x288 with 1 Axes>"
            ],
            "image/png": "[encoded data removed]"
          },
          "metadata": {
            "needs_background": "light"
          }
        }
      ]
    },
    {
      "cell_type": "markdown",
      "source": [
        "## Visualising the Test set results\n"
      ],
      "metadata": {
        "id": "4xgaQwuUzZ3b"
      }
    },
    {
      "cell_type": "code",
      "source": [
        "from matplotlib.colors import ListedColormap\n",
        "X_set, y_set = X_test, y_test\n",
        "X1, X2 = np.meshgrid(np.arange(start = X_set[:, 0].min() - 1, stop = X_set[:, 0].max() + 1, step = 0.01),\n",
        "                     np.arange(start = X_set[:, 1].min() - 1, stop = X_set[:, 1].max() + 1, step = 0.01))\n",
        "plt.contourf(X1, X2, classifier.predict(np.array([X1.ravel(), X2.ravel()]).T).reshape(X1.shape),\n",
        "             alpha = 0.75, cmap = ListedColormap(('red', 'blue')))\n",
        "plt.xlim(X1.min(), X1.max())\n",
        "plt.ylim(X2.min(), X2.max())\n",
        "for i, j in enumerate(np.unique(y_set)):\n",
        "    plt.scatter(X_set[y_set == j, 0], X_set[y_set == j, 1],\n",
        "                c = ListedColormap(('red', 'blue'))(i), label = j)\n",
        "plt.title('SVM (test set)')\n",
        "plt.xlabel('X1')\n",
        "plt.ylabel('X2')\n",
        "plt.legend()\n",
        "plt.show()"
      ],
      "metadata": {
        "colab": {
          "base_uri": "https://localhost:8080/",
          "height": 350
        },
        "id": "HNYeBgy5za5J",
        "outputId": "9c28d701-9124-47ac-dcdc-494ec17a312a"
      },
      "execution_count": 55,
      "outputs": [
        {
          "output_type": "stream",
          "name": "stderr",
          "text": [
            "WARNING:matplotlib.axes._axes:*c* argument looks like a single numeric RGB or RGBA sequence, which should be avoided as value-mapping will have precedence in case its length matches with *x* & *y*.  Please use the *color* keyword-argument or provide a 2-D array with a single row if you intend to specify the same RGB or RGBA value for all points.\n",
            "WARNING:matplotlib.axes._axes:*c* argument looks like a single numeric RGB or RGBA sequence, which should be avoided as value-mapping will have precedence in case its length matches with *x* & *y*.  Please use the *color* keyword-argument or provide a 2-D array with a single row if you intend to specify the same RGB or RGBA value for all points.\n"
          ]
        },
        {
          "output_type": "display_data",
          "data": {
            "text/plain": [
              "<Figure size 432x288 with 1 Axes>"
            ],
            "image/png": "[encoded data removed]"
          },
          "metadata": {
            "needs_background": "light"
          }
        }
      ]
    }
  ]
}