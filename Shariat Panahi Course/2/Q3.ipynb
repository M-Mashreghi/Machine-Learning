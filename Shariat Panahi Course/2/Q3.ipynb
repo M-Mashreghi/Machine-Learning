{
  "nbformat": 4,
  "nbformat_minor": 0,
  "metadata": {
    "colab": {
      "provenance": [],
      "machine_shape": "hm",
      "collapsed_sections": [
        "0MRC0e0KhQ0S",
        "LWd1UlMnhT2s",
        "K1VMqkGvhc3-",
        "YvxIPVyMhmKp",
        "kW3c7UYih0hT",
        "-yISUS_kO4Gk",
        "ncErWYMTO4Gq",
        "Z5bR2ddbMi4D",
        "ANBH58IBbZej"
      ]
    },
    "kernelspec": {
      "name": "python3",
      "display_name": "Python 3"
    }
  },
  "cells": [
    {
      "cell_type": "markdown",
      "metadata": {
        "id": "0MRC0e0KhQ0S"
      },
      "source": [
        "# Q3"
      ]
    },
    {
      "cell_type": "markdown",
      "metadata": {
        "id": "LWd1UlMnhT2s"
      },
      "source": [
        "## Importing the libraries"
      ]
    },
    {
      "cell_type": "code",
      "metadata": {
        "id": "YvGPUQaHhXfL"
      },
      "source": [
        "import numpy as np\n",
        "import matplotlib.pyplot as plt\n",
        "import pandas as pd"
      ],
      "execution_count": 18,
      "outputs": []
    },
    {
      "cell_type": "markdown",
      "metadata": {
        "id": "K1VMqkGvhc3-"
      },
      "source": [
        "## Importing the dataset"
      ]
    },
    {
      "cell_type": "code",
      "metadata": {
        "id": "M52QDmyzhh9s",
        "colab": {
          "base_uri": "https://localhost:8080/"
        },
        "outputId": "e9593d5f-cdcc-4287-a6f1-76c3023d44ce"
      },
      "source": [
        "dataset = pd.read_csv('quality_test.csv')\n",
        "X = dataset.iloc[ : , :-1].values\n",
        "y = dataset.iloc[ : , -1].values\n",
        "print(X)"
      ],
      "execution_count": 32,
      "outputs": [
        {
          "output_type": "stream",
          "name": "stdout",
          "text": [
            "[[ 0.051267   0.69956  ]\n",
            " [-0.092742   0.68494  ]\n",
            " [-0.21371    0.69225  ]\n",
            " [-0.375      0.50219  ]\n",
            " [-0.51325    0.46564  ]\n",
            " [-0.52477    0.2098   ]\n",
            " [-0.39804    0.034357 ]\n",
            " [-0.30588   -0.19225  ]\n",
            " [ 0.016705  -0.40424  ]\n",
            " [ 0.13191   -0.51389  ]\n",
            " [ 0.38537   -0.56506  ]\n",
            " [ 0.52938   -0.5212   ]\n",
            " [ 0.63882   -0.24342  ]\n",
            " [ 0.73675   -0.18494  ]\n",
            " [ 0.54666    0.48757  ]\n",
            " [ 0.322      0.5826   ]\n",
            " [ 0.16647    0.53874  ]\n",
            " [-0.046659   0.81652  ]\n",
            " [-0.17339    0.69956  ]\n",
            " [-0.47869    0.63377  ]\n",
            " [-0.60541    0.59722  ]\n",
            " [-0.62846    0.33406  ]\n",
            " [-0.59389    0.005117 ]\n",
            " [-0.42108   -0.27266  ]\n",
            " [-0.11578   -0.39693  ]\n",
            " [ 0.20104   -0.60161  ]\n",
            " [ 0.46601   -0.53582  ]\n",
            " [ 0.67339   -0.53582  ]\n",
            " [-0.13882    0.54605  ]\n",
            " [-0.29435    0.77997  ]\n",
            " [-0.26555    0.96272  ]\n",
            " [-0.16187    0.8019   ]\n",
            " [-0.17339    0.64839  ]\n",
            " [-0.28283    0.47295  ]\n",
            " [-0.36348    0.31213  ]\n",
            " [-0.30012    0.027047 ]\n",
            " [-0.23675   -0.21418  ]\n",
            " [-0.06394   -0.18494  ]\n",
            " [ 0.062788  -0.16301  ]\n",
            " [ 0.22984   -0.41155  ]\n",
            " [ 0.2932    -0.2288   ]\n",
            " [ 0.48329   -0.18494  ]\n",
            " [ 0.64459   -0.14108  ]\n",
            " [ 0.46025    0.012427 ]\n",
            " [ 0.6273     0.15863  ]\n",
            " [ 0.57546    0.26827  ]\n",
            " [ 0.72523    0.44371  ]\n",
            " [ 0.22408    0.52412  ]\n",
            " [ 0.44297    0.67032  ]\n",
            " [ 0.322      0.69225  ]\n",
            " [ 0.13767    0.57529  ]\n",
            " [-0.0063364  0.39985  ]\n",
            " [-0.092742   0.55336  ]\n",
            " [-0.20795    0.35599  ]\n",
            " [-0.20795    0.17325  ]\n",
            " [-0.43836    0.21711  ]\n",
            " [-0.21947   -0.016813 ]\n",
            " [-0.13882   -0.27266  ]\n",
            " [ 0.18376    0.93348  ]\n",
            " [ 0.22408    0.77997  ]\n",
            " [ 0.29896    0.61915  ]\n",
            " [ 0.50634    0.75804  ]\n",
            " [ 0.61578    0.7288   ]\n",
            " [ 0.60426    0.59722  ]\n",
            " [ 0.76555    0.50219  ]\n",
            " [ 0.92684    0.3633   ]\n",
            " [ 0.82316    0.27558  ]\n",
            " [ 0.96141    0.085526 ]\n",
            " [ 0.93836    0.012427 ]\n",
            " [ 0.86348   -0.082602 ]\n",
            " [ 0.89804   -0.20687  ]\n",
            " [ 0.85196   -0.36769  ]\n",
            " [ 0.82892   -0.5212   ]\n",
            " [ 0.79435   -0.55775  ]\n",
            " [ 0.59274   -0.7405   ]\n",
            " [ 0.51786   -0.5943   ]\n",
            " [ 0.46601   -0.41886  ]\n",
            " [ 0.35081   -0.57968  ]\n",
            " [ 0.28744   -0.76974  ]\n",
            " [ 0.085829  -0.75512  ]\n",
            " [ 0.14919   -0.57968  ]\n",
            " [-0.13306   -0.4481   ]\n",
            " [-0.40956   -0.41155  ]\n",
            " [-0.39228   -0.25804  ]\n",
            " [-0.74366   -0.25804  ]\n",
            " [-0.69758    0.041667 ]\n",
            " [-0.75518    0.2902   ]\n",
            " [-0.69758    0.68494  ]\n",
            " [-0.4038     0.70687  ]\n",
            " [-0.38076    0.91886  ]\n",
            " [-0.50749    0.90424  ]\n",
            " [-0.54781    0.70687  ]\n",
            " [ 0.10311    0.77997  ]\n",
            " [ 0.057028   0.91886  ]\n",
            " [-0.10426    0.99196  ]\n",
            " [-0.081221   1.1089   ]\n",
            " [ 0.28744    1.087    ]\n",
            " [ 0.39689    0.82383  ]\n",
            " [ 0.63882    0.88962  ]\n",
            " [ 0.82316    0.66301  ]\n",
            " [ 0.67339    0.64108  ]\n",
            " [ 1.0709     0.10015  ]\n",
            " [-0.046659  -0.57968  ]\n",
            " [-0.23675   -0.63816  ]\n",
            " [-0.15035   -0.36769  ]\n",
            " [-0.49021   -0.3019   ]\n",
            " [-0.46717   -0.13377  ]\n",
            " [-0.28859   -0.060673 ]\n",
            " [-0.61118   -0.067982 ]\n",
            " [-0.66302   -0.21418  ]\n",
            " [-0.59965   -0.41886  ]\n",
            " [-0.72638   -0.082602 ]\n",
            " [-0.83007    0.31213  ]\n",
            " [-0.72062    0.53874  ]\n",
            " [-0.59389    0.49488  ]\n",
            " [-0.48445    0.99927  ]\n",
            " [-0.0063364  0.99927  ]\n",
            " [ 0.63265   -0.030612 ]]\n"
          ]
        }
      ]
    },
    {
      "cell_type": "markdown",
      "metadata": {
        "id": "YvxIPVyMhmKp"
      },
      "source": [
        "## Splitting the dataset into the Training set and Test set"
      ]
    },
    {
      "cell_type": "code",
      "metadata": {
        "id": "AVzJWAXIhxoC"
      },
      "source": [
        "from sklearn.model_selection import train_test_split\n",
        "X_train, X_test, y_train, y_test = train_test_split(X, y, test_size = 0.25, random_state = 0)"
      ],
      "execution_count": 20,
      "outputs": []
    },
    {
      "cell_type": "code",
      "metadata": {
        "id": "P3nS3-6r1i2B",
        "colab": {
          "base_uri": "https://localhost:8080/"
        },
        "outputId": "d08cd86d-6b5a-420f-d99b-d591305478f1"
      },
      "source": [
        "print(X_train)"
      ],
      "execution_count": 21,
      "outputs": [
        {
          "output_type": "stream",
          "name": "stdout",
          "text": [
            "[[ 0.13767    0.57529  ]\n",
            " [ 0.59274   -0.7405   ]\n",
            " [-0.20795    0.17325  ]\n",
            " [ 0.29896    0.61915  ]\n",
            " [-0.375      0.50219  ]\n",
            " [-0.081221   1.1089   ]\n",
            " [-0.39804    0.034357 ]\n",
            " [-0.21947   -0.016813 ]\n",
            " [ 0.63882    0.88962  ]\n",
            " [-0.50749    0.90424  ]\n",
            " [-0.83007    0.31213  ]\n",
            " [ 0.44297    0.67032  ]\n",
            " [ 0.82316    0.66301  ]\n",
            " [ 0.46601   -0.41886  ]\n",
            " [ 0.67339   -0.53582  ]\n",
            " [-0.17339    0.69956  ]\n",
            " [ 0.52938   -0.5212   ]\n",
            " [ 0.50634    0.75804  ]\n",
            " [-0.46717   -0.13377  ]\n",
            " [ 0.39689    0.82383  ]\n",
            " [ 0.28744   -0.76974  ]\n",
            " [ 0.22408    0.77997  ]\n",
            " [-0.092742   0.68494  ]\n",
            " [ 0.10311    0.77997  ]\n",
            " [ 0.64459   -0.14108  ]\n",
            " [ 0.48329   -0.18494  ]\n",
            " [-0.51325    0.46564  ]\n",
            " [ 0.322      0.5826   ]\n",
            " [-0.046659   0.81652  ]\n",
            " [-0.092742   0.55336  ]\n",
            " [ 0.2932    -0.2288   ]\n",
            " [ 0.062788  -0.16301  ]\n",
            " [-0.52477    0.2098   ]\n",
            " [-0.20795    0.35599  ]\n",
            " [-0.61118   -0.067982 ]\n",
            " [ 0.82316    0.27558  ]\n",
            " [ 0.051267   0.69956  ]\n",
            " [-0.36348    0.31213  ]\n",
            " [-0.13882    0.54605  ]\n",
            " [-0.43836    0.21711  ]\n",
            " [-0.30012    0.027047 ]\n",
            " [-0.42108   -0.27266  ]\n",
            " [-0.16187    0.8019   ]\n",
            " [ 0.057028   0.91886  ]\n",
            " [-0.13882   -0.27266  ]\n",
            " [-0.54781    0.70687  ]\n",
            " [ 1.0709     0.10015  ]\n",
            " [-0.17339    0.64839  ]\n",
            " [ 0.67339    0.64108  ]\n",
            " [ 0.54666    0.48757  ]\n",
            " [ 0.28744    1.087    ]\n",
            " [-0.47869    0.63377  ]\n",
            " [-0.29435    0.77997  ]\n",
            " [ 0.322      0.69225  ]\n",
            " [-0.40956   -0.41155  ]\n",
            " [-0.48445    0.99927  ]\n",
            " [-0.0063364  0.99927  ]\n",
            " [ 0.085829  -0.75512  ]\n",
            " [ 0.86348   -0.082602 ]\n",
            " [ 0.14919   -0.57968  ]\n",
            " [-0.60541    0.59722  ]\n",
            " [-0.72638   -0.082602 ]\n",
            " [ 0.82892   -0.5212   ]\n",
            " [ 0.35081   -0.57968  ]\n",
            " [ 0.20104   -0.60161  ]\n",
            " [-0.06394   -0.18494  ]\n",
            " [-0.13306   -0.4481   ]\n",
            " [-0.15035   -0.36769  ]\n",
            " [ 0.72523    0.44371  ]\n",
            " [-0.28859   -0.060673 ]\n",
            " [ 0.22984   -0.41155  ]\n",
            " [ 0.92684    0.3633   ]\n",
            " [ 0.18376    0.93348  ]\n",
            " [ 0.63882   -0.24342  ]\n",
            " [-0.49021   -0.3019   ]\n",
            " [-0.4038     0.70687  ]\n",
            " [ 0.89804   -0.20687  ]\n",
            " [-0.69758    0.68494  ]\n",
            " [-0.23675   -0.21418  ]\n",
            " [-0.62846    0.33406  ]\n",
            " [-0.39228   -0.25804  ]\n",
            " [ 0.13191   -0.51389  ]\n",
            " [-0.23675   -0.63816  ]\n",
            " [-0.59389    0.49488  ]\n",
            " [ 0.96141    0.085526 ]\n",
            " [ 0.76555    0.50219  ]\n",
            " [ 0.22408    0.52412  ]\n",
            " [ 0.6273     0.15863  ]]\n"
          ]
        }
      ]
    },
    {
      "cell_type": "code",
      "metadata": {
        "id": "8dpDLojm1mVG",
        "colab": {
          "base_uri": "https://localhost:8080/"
        },
        "outputId": "357377db-fabe-4c71-867c-7a154f31ebf0"
      },
      "source": [
        "print(y_train)"
      ],
      "execution_count": 22,
      "outputs": [
        {
          "output_type": "stream",
          "name": "stdout",
          "text": [
            "[1 0 1 0 1 0 1 1 0 0 0 1 0 0 1 1 1 0 0 0 0 0 1 0 1 1 1 1 1 1 1 1 1 1 0 0 1\n",
            " 1 1 1 1 1 1 0 1 0 0 1 0 1 0 1 1 1 0 0 0 0 0 0 1 0 0 0 1 1 0 0 1 0 1 0 0 1\n",
            " 0 0 0 0 1 1 0 1 0 0 0 0 1 1]\n"
          ]
        }
      ]
    },
    {
      "cell_type": "code",
      "metadata": {
        "id": "qbb7i0DH1qui",
        "colab": {
          "base_uri": "https://localhost:8080/"
        },
        "outputId": "3ca5d52a-cd04-43a9-e7a5-fd4c615518c3"
      },
      "source": [
        "print(X_test)"
      ],
      "execution_count": 23,
      "outputs": [
        {
          "output_type": "stream",
          "name": "stdout",
          "text": [
            "[[-0.75518    0.2902   ]\n",
            " [-0.69758    0.041667 ]\n",
            " [-0.10426    0.99196  ]\n",
            " [ 0.016705  -0.40424  ]\n",
            " [-0.38076    0.91886  ]\n",
            " [-0.59389    0.005117 ]\n",
            " [-0.30588   -0.19225  ]\n",
            " [ 0.38537   -0.56506  ]\n",
            " [ 0.57546    0.26827  ]\n",
            " [ 0.93836    0.012427 ]\n",
            " [-0.28283    0.47295  ]\n",
            " [-0.59965   -0.41886  ]\n",
            " [-0.21371    0.69225  ]\n",
            " [-0.0063364  0.39985  ]\n",
            " [ 0.63265   -0.030612 ]\n",
            " [ 0.79435   -0.55775  ]\n",
            " [-0.26555    0.96272  ]\n",
            " [ 0.46025    0.012427 ]\n",
            " [-0.74366   -0.25804  ]\n",
            " [ 0.51786   -0.5943   ]\n",
            " [ 0.61578    0.7288   ]\n",
            " [-0.046659  -0.57968  ]\n",
            " [ 0.16647    0.53874  ]\n",
            " [-0.11578   -0.39693  ]\n",
            " [-0.66302   -0.21418  ]\n",
            " [ 0.73675   -0.18494  ]\n",
            " [ 0.60426    0.59722  ]\n",
            " [ 0.85196   -0.36769  ]\n",
            " [ 0.46601   -0.53582  ]\n",
            " [-0.72062    0.53874  ]]\n"
          ]
        }
      ]
    },
    {
      "cell_type": "code",
      "metadata": {
        "id": "kj1hnFAR1s5w",
        "colab": {
          "base_uri": "https://localhost:8080/"
        },
        "outputId": "786b5a94-7254-45a1-f871-4b4f33c86ac1"
      },
      "source": [
        "print(y_test)"
      ],
      "execution_count": 24,
      "outputs": [
        {
          "output_type": "stream",
          "name": "stdout",
          "text": [
            "[0 0 0 1 0 1 1 1 1 0 1 0 1 1 0 0 1 1 0 0 0 0 1 1 0 1 0 0 1 0]\n"
          ]
        }
      ]
    },
    {
      "cell_type": "markdown",
      "metadata": {
        "id": "kW3c7UYih0hT"
      },
      "source": [
        "## Feature Scaling"
      ]
    },
    {
      "cell_type": "code",
      "metadata": {
        "id": "9fQlDPKCh8sc"
      },
      "source": [
        "from sklearn.preprocessing import StandardScaler\n",
        "sc = StandardScaler()\n",
        "X_train = sc.fit_transform(X_train)\n",
        "X_test = sc.transform(X_test)"
      ],
      "execution_count": 25,
      "outputs": []
    },
    {
      "cell_type": "code",
      "metadata": {
        "id": "syrnD1Op2BSR",
        "outputId": "7df5fdf8-6203-4eb8-930e-7073e517ec02",
        "colab": {
          "base_uri": "https://localhost:8080/"
        }
      },
      "source": [
        "print(X_train)"
      ],
      "execution_count": 26,
      "outputs": [
        {
          "output_type": "stream",
          "name": "stdout",
          "text": [
            "[[ 0.16475493  0.68440791]\n",
            " [ 1.11848143 -1.85627026]\n",
            " [-0.55958848 -0.09189701]\n",
            " [ 0.50278325  0.76909782]\n",
            " [-0.9096885   0.54325805]\n",
            " [-0.29399241  1.71476327]\n",
            " [-0.95797526 -0.36008754]\n",
            " [-0.58373187 -0.45889244]\n",
            " [ 1.21505497  1.2913523 ]\n",
            " [-1.18735836  1.31958228]\n",
            " [-1.863415    0.17626841]\n",
            " [ 0.8045965   0.86790273]\n",
            " [ 1.60139101  0.85378774]\n",
            " [ 0.85288326 -1.23521087]\n",
            " [ 1.28750607 -1.46105065]\n",
            " [-0.48715833  0.92436267]\n",
            " [ 0.98569283 -1.43282068]\n",
            " [ 0.93740606  1.03728256]\n",
            " [-1.10285652 -0.68472642]\n",
            " [ 0.70802296  1.16431743]\n",
            " [ 0.47863987 -1.9127302 ]\n",
            " [ 0.34585126  1.07962752]\n",
            " [-0.31813789  0.8961327 ]\n",
            " [ 0.09232478  1.07962752]\n",
            " [ 1.22714762 -0.69884141]\n",
            " [ 0.88909834 -0.78353132]\n",
            " [-1.19943005  0.47268312]\n",
            " [ 0.55107001  0.69852289]\n",
            " [-0.22155807  1.15020245]\n",
            " [-0.31813789  0.64206295]\n",
            " [ 0.49071156 -0.86822124]\n",
            " [ 0.00781874 -0.74118637]\n",
            " [-1.22357343 -0.02132208]\n",
            " [-0.55958848  0.26095833]\n",
            " [-1.40466977 -0.55769541]\n",
            " [ 1.60139101  0.10569348]\n",
            " [-0.01632673  0.92436267]\n",
            " [-0.88554511  0.17626841]\n",
            " [-0.41470723  0.62794796]\n",
            " [-1.0424771  -0.00720709]\n",
            " [-0.75275651 -0.37420252]\n",
            " [-1.00626203 -0.95291115]\n",
            " [-0.46301495  1.12197247]\n",
            " [-0.00425295  1.34781225]\n",
            " [-0.41470723 -0.95291115]\n",
            " [-1.2718602   0.93847766]\n",
            " [ 2.1205995  -0.23304687]\n",
            " [-0.48715833  0.82555777]\n",
            " [ 1.28750607  0.81144278]\n",
            " [ 1.0219079   0.51502808]\n",
            " [ 0.47863987  1.67247623]\n",
            " [-1.1269999   0.7973278 ]\n",
            " [-0.74066386  1.07962752]\n",
            " [ 0.55107001  0.91024768]\n",
            " [-0.98211865 -1.22109589]\n",
            " [-1.13907159  1.50307709]\n",
            " [-0.13705078  1.50307709]\n",
            " [ 0.05610761 -1.88450023]\n",
            " [ 1.68589285 -0.58592538]\n",
            " [ 0.18889831 -1.54574057]\n",
            " [-1.39257712  0.72675287]\n",
            " [-1.6461036  -0.58592538]\n",
            " [ 1.6134627  -1.43282068]\n",
            " [ 0.61144943 -1.54574057]\n",
            " [ 0.29756449 -1.58808552]\n",
            " [-0.25777524 -0.78353132]\n",
            " [-0.40263553 -1.29167082]\n",
            " [-0.43887157 -1.13640597]\n",
            " [ 1.3961513   0.43033816]\n",
            " [-0.72859216 -0.54358235]\n",
            " [ 0.35792295 -1.22109589]\n",
            " [ 1.81868146  0.27507332]\n",
            " [ 0.26134942  1.37604222]\n",
            " [ 1.21505497 -0.89645121]\n",
            " [-1.15114329 -1.0093711 ]\n",
            " [-0.97004695  0.93847766]\n",
            " [ 1.758323   -0.82587628]\n",
            " [-1.58574514  0.8961327 ]\n",
            " [-0.61994694 -0.83999127]\n",
            " [-1.44088484  0.21861337]\n",
            " [-0.94590357 -0.92468118]\n",
            " [ 0.15268324 -1.41870569]\n",
            " [-0.61994694 -1.65866045]\n",
            " [-1.36843373  0.52914306]\n",
            " [ 1.89113257 -0.26128457]\n",
            " [ 1.48065314  0.54325805]\n",
            " [ 0.34585126  0.58560301]\n",
            " [ 1.19091158 -0.12012698]]\n"
          ]
        }
      ]
    },
    {
      "cell_type": "code",
      "metadata": {
        "id": "JUd6iBRp2C3L",
        "outputId": "0e5ec77a-069c-4239-a6d8-2aa463157b36",
        "colab": {
          "base_uri": "https://localhost:8080/"
        }
      },
      "source": [
        "print(X_test)"
      ],
      "execution_count": 27,
      "outputs": [
        {
          "output_type": "stream",
          "name": "stdout",
          "text": [
            "[[-1.70646205  0.13392346]\n",
            " [-1.58574514 -0.34597255]\n",
            " [-0.34227708  1.48896211]\n",
            " [-0.08876108 -1.2069809 ]\n",
            " [-0.92176019  1.34781225]\n",
            " [-1.36843373 -0.41654748]\n",
            " [-0.7648282  -0.79764631]\n",
            " [ 0.68387958 -1.51751059]\n",
            " [ 1.08226636  0.0915785 ]\n",
            " [ 1.84282484 -0.40243249]\n",
            " [-0.71652047  0.4867981 ]\n",
            " [-1.38050542 -1.23521087]\n",
            " [-0.57166017  0.91024768]\n",
            " [-0.13705078  0.34564825]\n",
            " [ 1.202124   -0.48553713]\n",
            " [ 1.5410116  -1.50339561]\n",
            " [-0.6803054   1.43250216]\n",
            " [ 0.84081157 -0.40243249]\n",
            " [-1.68231867 -0.92468118]\n",
            " [ 0.96154944 -1.57397054]\n",
            " [ 1.1667682   0.98082261]\n",
            " [-0.22155807 -1.54574057]\n",
            " [ 0.22511338  0.61383298]\n",
            " [-0.36642046 -1.19286592]\n",
            " [-1.51331499 -0.83999127]\n",
            " [ 1.42029468 -0.78353132]\n",
            " [ 1.14262482  0.72675287]\n",
            " [ 1.66174947 -1.13640597]\n",
            " [ 0.85288326 -1.46105065]\n",
            " [-1.63403191  0.61383298]]\n"
          ]
        }
      ]
    },
    {
      "cell_type": "markdown",
      "source": [
        "# train model 1 K=10 and degree = 3"
      ],
      "metadata": {
        "id": "-yISUS_kO4Gk"
      }
    },
    {
      "cell_type": "markdown",
      "source": [
        "## Training the Poly Regression model on the Training set"
      ],
      "metadata": {
        "id": "ncErWYMTO4Gq"
      }
    },
    {
      "cell_type": "code",
      "source": [
        "from sklearn.preprocessing import PolynomialFeatures\n",
        "poly = PolynomialFeatures(degree = 3)\n",
        "X_poly_train = poly.fit_transform(X_train)\n",
        "X_poly_train.shape"
      ],
      "metadata": {
        "colab": {
          "base_uri": "https://localhost:8080/"
        },
        "outputId": "d05f8f9d-bbd4-4667-eda8-f2f910f4949f",
        "id": "IZ4ysUaQO4Gq"
      },
      "execution_count": null,
      "outputs": [
        {
          "output_type": "execute_result",
          "data": {
            "text/plain": [
              "(88, 10)"
            ]
          },
          "metadata": {},
          "execution_count": 34
        }
      ]
    },
    {
      "cell_type": "markdown",
      "metadata": {
        "id": "0W_yKULtO4Gq"
      },
      "source": [
        "## Training the POLY Logistic Regression model on the Training set with c=0.01"
      ]
    },
    {
      "cell_type": "code",
      "metadata": {
        "outputId": "8edf4497-2341-4c4a-cabe-093dd7e85e2e",
        "colab": {
          "base_uri": "https://localhost:8080/"
        },
        "id": "2sZmRbWNO4Gq"
      },
      "source": [
        "from sklearn.linear_model import LogisticRegression\n",
        "classifier = LogisticRegression(C=0.01, penalty='l2',random_state =43)\n",
        "classifier.fit(X_poly_train, y_train)\n"
      ],
      "execution_count": null,
      "outputs": [
        {
          "output_type": "execute_result",
          "data": {
            "text/plain": [
              "LogisticRegression(C=0.01, random_state=43)"
            ]
          },
          "metadata": {},
          "execution_count": 35
        }
      ]
    },
    {
      "cell_type": "markdown",
      "metadata": {
        "id": "sp0f3KJbO4Gq"
      },
      "source": [
        "## Predicting the Test set results"
      ]
    },
    {
      "cell_type": "code",
      "metadata": {
        "outputId": "b7293091-d99d-49d6-8725-e9a22e2ba11f",
        "colab": {
          "base_uri": "https://localhost:8080/"
        },
        "id": "vOohYjvnO4Gr"
      },
      "source": [
        "X_poly_test = poly.fit_transform(X_test)\n",
        "y_pred = classifier.predict(X_poly_test)\n",
        "print(np.concatenate((y_pred.reshape(len(y_pred),1), y_test.reshape(len(y_test),1)),1))"
      ],
      "execution_count": null,
      "outputs": [
        {
          "output_type": "stream",
          "name": "stdout",
          "text": [
            "[[1 0]\n",
            " [1 0]\n",
            " [0 0]\n",
            " [1 1]\n",
            " [0 0]\n",
            " [1 1]\n",
            " [1 1]\n",
            " [0 1]\n",
            " [1 1]\n",
            " [0 0]\n",
            " [1 1]\n",
            " [0 0]\n",
            " [1 1]\n",
            " [1 1]\n",
            " [0 0]\n",
            " [0 0]\n",
            " [0 1]\n",
            " [1 1]\n",
            " [1 0]\n",
            " [0 0]\n",
            " [0 0]\n",
            " [0 0]\n",
            " [1 1]\n",
            " [1 1]\n",
            " [1 0]\n",
            " [0 1]\n",
            " [0 0]\n",
            " [0 0]\n",
            " [0 1]\n",
            " [1 0]]\n"
          ]
        }
      ]
    },
    {
      "cell_type": "markdown",
      "metadata": {
        "id": "T8YW2PnAO4Gr"
      },
      "source": [
        "## Making the Confusion Matrix"
      ]
    },
    {
      "cell_type": "code",
      "metadata": {
        "outputId": "424c90bc-8f5d-456b-991c-2879ab8e30e3",
        "colab": {
          "base_uri": "https://localhost:8080/"
        },
        "id": "SnsK66TKO4Gr"
      },
      "source": [
        "from sklearn.metrics import confusion_matrix, accuracy_score\n",
        "cm = confusion_matrix(y_test, y_pred)\n",
        "print(cm)\n",
        "accuracy_score(y_test, y_pred)"
      ],
      "execution_count": null,
      "outputs": [
        {
          "output_type": "stream",
          "name": "stdout",
          "text": [
            "[[11  5]\n",
            " [ 4 10]]\n"
          ]
        },
        {
          "output_type": "execute_result",
          "data": {
            "text/plain": [
              "0.7"
            ]
          },
          "metadata": {},
          "execution_count": 37
        }
      ]
    },
    {
      "cell_type": "markdown",
      "source": [
        "## K_fold cv "
      ],
      "metadata": {
        "id": "bALjUWfOO4Gr"
      }
    },
    {
      "cell_type": "code",
      "source": [
        "from sklearn.model_selection import KFold\n",
        "from sklearn.model_selection import cross_val_score\n",
        "from numpy import mean\n",
        "from numpy import std\n",
        "cv = KFold(n_splits=10, random_state=1, shuffle=True)\n",
        "# create model\n",
        "model = LogisticRegression()\n",
        "# evaluate model\n",
        "scores = cross_val_score(model, poly.fit_transform(X), y, scoring='accuracy', cv=cv, n_jobs=-1)\n",
        "# report performance\n",
        "print('Accuracy: %.3f (%.3f)' % (mean(scores), std(scores)))"
      ],
      "metadata": {
        "colab": {
          "base_uri": "https://localhost:8080/"
        },
        "outputId": "f7e047f7-125b-45c8-8278-029db300362c",
        "id": "ThOlO0EzO4Gr"
      },
      "execution_count": null,
      "outputs": [
        {
          "output_type": "stream",
          "name": "stdout",
          "text": [
            "Accuracy: 0.779 (0.107)\n"
          ]
        }
      ]
    },
    {
      "cell_type": "markdown",
      "metadata": {
        "id": "qj9XP8EuO4Gr"
      },
      "source": [
        "## Visualising the Training set results"
      ]
    },
    {
      "cell_type": "code",
      "metadata": {
        "outputId": "4fefc919-5a32-4873-d033-74a0c9833d73",
        "colab": {
          "base_uri": "https://localhost:8080/",
          "height": 350
        },
        "id": "cdr-OZyqO4Gr"
      },
      "source": [
        "from matplotlib.colors import ListedColormap\n",
        "X_set, y_set = sc.inverse_transform(X_train), y_train\n",
        "X1, X2 = np.meshgrid(np.arange(start = X_set[:, 0].min() - 0.5, stop = X_set[:, 0].max()+ 0.5, step = 0.25),\n",
        "                     np.arange(start = X_set[:, 1].min() - 0.5, stop = X_set[:, 1].max() + 0.5, step = 0.25))\n",
        "\n",
        "plt.contourf(X1, X2,\n",
        "          classifier.predict(poly.fit_transform(sc.transform(np.array([X1.ravel(), X2.ravel()]).T))).reshape(X1.shape),\n",
        "           alpha = 0.6, cmap = ListedColormap(('red', 'green')))\n",
        "plt.xlim(X1.min()-0.2 , X1.max() + 0.2)\n",
        "plt.ylim(X2.min()-0.2 , X2.max() + 0.2)\n",
        "for i, j in enumerate(np.unique(y_set)):\n",
        "    plt.scatter(X_set[y_set == j, 0], X_set[y_set == j, 1], c = ListedColormap(('red', 'green'))(i), label = j)\n",
        "plt.title(' Logistic Regression (Training set) ')\n",
        "plt.xlabel(' Test 1 ')\n",
        "plt.ylabel(' Test 2 ')\n",
        "plt.legend()\n",
        "plt.show()"
      ],
      "execution_count": null,
      "outputs": [
        {
          "output_type": "stream",
          "name": "stderr",
          "text": [
            "WARNING:matplotlib.axes._axes:*c* argument looks like a single numeric RGB or RGBA sequence, which should be avoided as value-mapping will have precedence in case its length matches with *x* & *y*.  Please use the *color* keyword-argument or provide a 2-D array with a single row if you intend to specify the same RGB or RGBA value for all points.\n",
            "WARNING:matplotlib.axes._axes:*c* argument looks like a single numeric RGB or RGBA sequence, which should be avoided as value-mapping will have precedence in case its length matches with *x* & *y*.  Please use the *color* keyword-argument or provide a 2-D array with a single row if you intend to specify the same RGB or RGBA value for all points.\n"
          ]
        },
        {
          "output_type": "display_data",
          "data": {
            "text/plain": [
              "<Figure size 432x288 with 1 Axes>"
            ],
            "image/png": "[encoded data removed]"
          },
          "metadata": {
            "needs_background": "light"
          }
        }
      ]
    },
    {
      "cell_type": "markdown",
      "metadata": {
        "id": "sSrW_MdVO4Gr"
      },
      "source": [
        "## Visualising the Test set results"
      ]
    },
    {
      "cell_type": "code",
      "metadata": {
        "colab": {
          "base_uri": "https://localhost:8080/",
          "height": 350
        },
        "outputId": "531202c8-3a4c-4de3-85ac-bb8c46d8589d",
        "id": "hFRpFlLNO4Gs"
      },
      "source": [
        "from matplotlib.colors import ListedColormap\n",
        "X_set, y_set = sc.inverse_transform(X_test), y_test\n",
        "X1, X2 = np.meshgrid(np.arange(start = X_set[:, 0].min() - 0.5, stop = X_set[:, 0].max()+ 0.5, step = 0.25),\n",
        "                     np.arange(start = X_set[:, 1].min() - 0.5, stop = X_set[:, 1].max() + 0.5, step = 0.25))\n",
        "\n",
        "plt.contourf(X1, X2,\n",
        "          classifier.predict(poly.fit_transform(sc.transform(np.array([X1.ravel(), X2.ravel()]).T))).reshape(X1.shape),\n",
        "           alpha = 0.6, cmap = ListedColormap(('red', 'green')))\n",
        "plt.xlim(X1.min()-0.2 , X1.max() + 0.2)\n",
        "plt.ylim(X2.min()-0.2 , X2.max() + 0.2)\n",
        "for i, j in enumerate(np.unique(y_set)):\n",
        "    plt.scatter(X_set[y_set == j, 0], X_set[y_set == j, 1], c = ListedColormap(('red', 'green'))(i), label = j)\n",
        "plt.title('Logistic Regression (Test set)')\n",
        "plt.xlabel(' Test 1 ')\n",
        "plt.ylabel(' Test 2 ')\n",
        "plt.legend()\n",
        "plt.show()\n"
      ],
      "execution_count": null,
      "outputs": [
        {
          "output_type": "stream",
          "name": "stderr",
          "text": [
            "WARNING:matplotlib.axes._axes:*c* argument looks like a single numeric RGB or RGBA sequence, which should be avoided as value-mapping will have precedence in case its length matches with *x* & *y*.  Please use the *color* keyword-argument or provide a 2-D array with a single row if you intend to specify the same RGB or RGBA value for all points.\n",
            "WARNING:matplotlib.axes._axes:*c* argument looks like a single numeric RGB or RGBA sequence, which should be avoided as value-mapping will have precedence in case its length matches with *x* & *y*.  Please use the *color* keyword-argument or provide a 2-D array with a single row if you intend to specify the same RGB or RGBA value for all points.\n"
          ]
        },
        {
          "output_type": "display_data",
          "data": {
            "text/plain": [
              "<Figure size 432x288 with 1 Axes>"
            ],
            "image/png": "[encoded data removed]"
          },
          "metadata": {
            "needs_background": "light"
          }
        }
      ]
    },
    {
      "cell_type": "markdown",
      "source": [
        "# train model 1 K=10 and degree = 7"
      ],
      "metadata": {
        "id": "Z5bR2ddbMi4D"
      }
    },
    {
      "cell_type": "markdown",
      "source": [
        "## Training the Poly Regression model on the Training set"
      ],
      "metadata": {
        "id": "ANBH58IBbZej"
      }
    },
    {
      "cell_type": "code",
      "source": [
        "from sklearn.preprocessing import PolynomialFeatures\n",
        "poly = PolynomialFeatures(degree = 7)\n",
        "X_poly_train = poly.fit_transform(X_train)\n",
        "X_poly_train.shape"
      ],
      "metadata": {
        "colab": {
          "base_uri": "https://localhost:8080/"
        },
        "id": "iovVXycXbuqX",
        "outputId": "84ca0959-9d72-4ae3-89f0-b5f1521f8cd7"
      },
      "execution_count": 28,
      "outputs": [
        {
          "output_type": "execute_result",
          "data": {
            "text/plain": [
              "(88, 36)"
            ]
          },
          "metadata": {},
          "execution_count": 28
        }
      ]
    },
    {
      "cell_type": "markdown",
      "metadata": {
        "id": "bb6jCOCQiAmP"
      },
      "source": [
        "## Training the POLY Logistic Regression model on the Training set with c=0.01"
      ]
    },
    {
      "cell_type": "code",
      "metadata": {
        "id": "e0pFVAmciHQs",
        "outputId": "ee10147f-4419-49b0-b75f-47458f5d83e5",
        "colab": {
          "base_uri": "https://localhost:8080/"
        }
      },
      "source": [
        "from sklearn.linear_model import LogisticRegression\n",
        "classifier = LogisticRegression(C=0.01, penalty='l2',random_state =43)\n",
        "classifier.fit(X_poly_train, y_train)\n"
      ],
      "execution_count": 13,
      "outputs": [
        {
          "output_type": "execute_result",
          "data": {
            "text/plain": [
              "LogisticRegression(C=0.01, random_state=43)"
            ]
          },
          "metadata": {},
          "execution_count": 13
        }
      ]
    },
    {
      "cell_type": "markdown",
      "metadata": {
        "id": "vKYVQH-l5NpE"
      },
      "source": [
        "## Predicting the Test set results"
      ]
    },
    {
      "cell_type": "code",
      "metadata": {
        "id": "p6VMTb2O4hwM",
        "outputId": "4d06529b-4788-4209-ed2d-a9397cc11873",
        "colab": {
          "base_uri": "https://localhost:8080/"
        }
      },
      "source": [
        "X_poly_test = poly.fit_transform(X_test)\n",
        "y_pred = classifier.predict(X_poly_test)\n",
        "print(np.concatenate((y_pred.reshape(len(y_pred),1), y_test.reshape(len(y_test),1)),1))"
      ],
      "execution_count": 14,
      "outputs": [
        {
          "output_type": "stream",
          "name": "stdout",
          "text": [
            "[[0 0]\n",
            " [0 0]\n",
            " [0 0]\n",
            " [1 1]\n",
            " [0 0]\n",
            " [0 1]\n",
            " [1 1]\n",
            " [1 1]\n",
            " [1 1]\n",
            " [0 0]\n",
            " [1 1]\n",
            " [0 0]\n",
            " [1 1]\n",
            " [1 1]\n",
            " [1 0]\n",
            " [0 0]\n",
            " [0 1]\n",
            " [1 1]\n",
            " [0 0]\n",
            " [0 0]\n",
            " [0 0]\n",
            " [0 0]\n",
            " [1 1]\n",
            " [1 1]\n",
            " [0 0]\n",
            " [1 1]\n",
            " [1 0]\n",
            " [0 0]\n",
            " [1 1]\n",
            " [0 0]]\n"
          ]
        }
      ]
    },
    {
      "cell_type": "markdown",
      "metadata": {
        "id": "h4Hwj34ziWQW"
      },
      "source": [
        "## Making the Confusion Matrix"
      ]
    },
    {
      "cell_type": "code",
      "metadata": {
        "id": "D6bpZwUiiXic",
        "outputId": "cd2d1ca1-f11f-438a-b53a-3d8b51ff43d0",
        "colab": {
          "base_uri": "https://localhost:8080/"
        }
      },
      "source": [
        "from sklearn.metrics import confusion_matrix, accuracy_score\n",
        "cm = confusion_matrix(y_test, y_pred)\n",
        "print(cm)\n",
        "accuracy_score(y_test, y_pred)"
      ],
      "execution_count": 15,
      "outputs": [
        {
          "output_type": "stream",
          "name": "stdout",
          "text": [
            "[[14  2]\n",
            " [ 2 12]]\n"
          ]
        },
        {
          "output_type": "execute_result",
          "data": {
            "text/plain": [
              "0.8666666666666667"
            ]
          },
          "metadata": {},
          "execution_count": 15
        }
      ]
    },
    {
      "cell_type": "markdown",
      "source": [
        "## K_fold cv "
      ],
      "metadata": {
        "id": "6F8ICjgfEK_K"
      }
    },
    {
      "cell_type": "code",
      "source": [
        "from sklearn.model_selection import KFold\n",
        "from sklearn.model_selection import cross_val_score\n",
        "from numpy import mean\n",
        "from numpy import std\n",
        "cv = KFold(n_splits=10, random_state=1, shuffle=True)\n",
        "# create model\n",
        "model = LogisticRegression()\n",
        "# evaluate model\n",
        "scores = cross_val_score(model, poly.fit_transform(X), y, scoring='accuracy', cv=cv, n_jobs=-1)\n",
        "# report performance\n",
        "print('Accuracy: %.3f (%.3f)' % (mean(scores), std(scores)))"
      ],
      "metadata": {
        "colab": {
          "base_uri": "https://localhost:8080/"
        },
        "id": "TndEXvW_EJ_a",
        "outputId": "1cb0a81e-24fa-4447-fc10-78a7ad318678"
      },
      "execution_count": 29,
      "outputs": [
        {
          "output_type": "stream",
          "name": "stdout",
          "text": [
            "Accuracy: 0.805 (0.092)\n"
          ]
        }
      ]
    },
    {
      "cell_type": "markdown",
      "metadata": {
        "id": "6OMC_P0diaoD"
      },
      "source": [
        "## Visualising the Training set results"
      ]
    },
    {
      "cell_type": "code",
      "metadata": {
        "id": "_NOjKvZRid5l",
        "outputId": "73bbea52-b8b9-4ebc-da61-3d0a41acd915",
        "colab": {
          "base_uri": "https://localhost:8080/",
          "height": 350
        }
      },
      "source": [
        "from matplotlib.colors import ListedColormap\n",
        "X_set, y_set = sc.inverse_transform(X_train), y_train\n",
        "X1, X2 = np.meshgrid(np.arange(start = X_set[:, 0].min() - 0.5, stop = X_set[:, 0].max()+ 0.5, step = 0.25),\n",
        "                     np.arange(start = X_set[:, 1].min() - 0.5, stop = X_set[:, 1].max() + 0.5, step = 0.25))\n",
        "\n",
        "plt.contourf(X1, X2,\n",
        "          classifier.predict(poly.fit_transform(sc.transform(np.array([X1.ravel(), X2.ravel()]).T))).reshape(X1.shape),\n",
        "           alpha = 0.6, cmap = ListedColormap(('red', 'green')))\n",
        "plt.xlim(X1.min()-0.2 , X1.max() + 0.2)\n",
        "plt.ylim(X2.min()-0.2 , X2.max() + 0.2)\n",
        "for i, j in enumerate(np.unique(y_set)):\n",
        "    plt.scatter(X_set[y_set == j, 0], X_set[y_set == j, 1], c = ListedColormap(('red', 'green'))(i), label = j)\n",
        "plt.title(' Logistic Regression (Training set) ')\n",
        "plt.xlabel(' Test 1 ')\n",
        "plt.ylabel(' Test 2 ')\n",
        "plt.legend()\n",
        "plt.show()"
      ],
      "execution_count": 30,
      "outputs": [
        {
          "output_type": "stream",
          "name": "stderr",
          "text": [
            "WARNING:matplotlib.axes._axes:*c* argument looks like a single numeric RGB or RGBA sequence, which should be avoided as value-mapping will have precedence in case its length matches with *x* & *y*.  Please use the *color* keyword-argument or provide a 2-D array with a single row if you intend to specify the same RGB or RGBA value for all points.\n",
            "WARNING:matplotlib.axes._axes:*c* argument looks like a single numeric RGB or RGBA sequence, which should be avoided as value-mapping will have precedence in case its length matches with *x* & *y*.  Please use the *color* keyword-argument or provide a 2-D array with a single row if you intend to specify the same RGB or RGBA value for all points.\n"
          ]
        },
        {
          "output_type": "display_data",
          "data": {
            "text/plain": [
              "<Figure size 432x288 with 1 Axes>"
            ],
            "image/png": "[encoded data removed]"
          },
          "metadata": {
            "needs_background": "light"
          }
        }
      ]
    },
    {
      "cell_type": "markdown",
      "metadata": {
        "id": "SZ-j28aPihZx"
      },
      "source": [
        "## Visualising the Test set results"
      ]
    },
    {
      "cell_type": "code",
      "metadata": {
        "id": "qeTjz2vDilAC",
        "colab": {
          "base_uri": "https://localhost:8080/",
          "height": 350
        },
        "outputId": "babc120d-d5fe-418f-ce6f-40d991ddb5b7"
      },
      "source": [
        "from matplotlib.colors import ListedColormap\n",
        "X_set, y_set = sc.inverse_transform(X_test), y_test\n",
        "X1, X2 = np.meshgrid(np.arange(start = X_set[:, 0].min() - 0.5, stop = X_set[:, 0].max()+ 0.5, step = 0.25),\n",
        "                     np.arange(start = X_set[:, 1].min() - 0.5, stop = X_set[:, 1].max() + 0.5, step = 0.25))\n",
        "\n",
        "plt.contourf(X1, X2,\n",
        "          classifier.predict(poly.fit_transform(sc.transform(np.array([X1.ravel(), X2.ravel()]).T))).reshape(X1.shape),\n",
        "           alpha = 0.6, cmap = ListedColormap(('red', 'green')))\n",
        "plt.xlim(X1.min()-0.2 , X1.max() + 0.2)\n",
        "plt.ylim(X2.min()-0.2 , X2.max() + 0.2)\n",
        "for i, j in enumerate(np.unique(y_set)):\n",
        "    plt.scatter(X_set[y_set == j, 0], X_set[y_set == j, 1], c = ListedColormap(('red', 'green'))(i), label = j)\n",
        "plt.title('Logistic Regression (Test set)')\n",
        "plt.xlabel(' Test 1 ')\n",
        "plt.ylabel(' Test 2 ')\n",
        "plt.legend()\n",
        "plt.show()\n"
      ],
      "execution_count": 33,
      "outputs": [
        {
          "output_type": "stream",
          "name": "stderr",
          "text": [
            "WARNING:matplotlib.axes._axes:*c* argument looks like a single numeric RGB or RGBA sequence, which should be avoided as value-mapping will have precedence in case its length matches with *x* & *y*.  Please use the *color* keyword-argument or provide a 2-D array with a single row if you intend to specify the same RGB or RGBA value for all points.\n",
            "WARNING:matplotlib.axes._axes:*c* argument looks like a single numeric RGB or RGBA sequence, which should be avoided as value-mapping will have precedence in case its length matches with *x* & *y*.  Please use the *color* keyword-argument or provide a 2-D array with a single row if you intend to specify the same RGB or RGBA value for all points.\n"
          ]
        },
        {
          "output_type": "display_data",
          "data": {
            "text/plain": [
              "<Figure size 432x288 with 1 Axes>"
            ],
            "image/png": "[encoded data removed]"
          },
          "metadata": {
            "needs_background": "light"
          }
        }
      ]
    },
    {
      "cell_type": "markdown",
      "source": [
        "# train model 1 K=10 and degree = 10"
      ],
      "metadata": {
        "id": "UC52ZvzFN4sU"
      }
    },
    {
      "cell_type": "markdown",
      "source": [
        "## Training the Poly Regression model on the Training set"
      ],
      "metadata": {
        "id": "rBx3_4JwN4sU"
      }
    },
    {
      "cell_type": "code",
      "source": [
        "from sklearn.preprocessing import PolynomialFeatures\n",
        "poly = PolynomialFeatures(degree = 10)\n",
        "X_poly_train = poly.fit_transform(X_train)\n",
        "X_poly_train.shape"
      ],
      "metadata": {
        "colab": {
          "base_uri": "https://localhost:8080/"
        },
        "outputId": "c09018ee-7392-4b05-8c5a-498359c854a5",
        "id": "cyKAQIPIN4sU"
      },
      "execution_count": 41,
      "outputs": [
        {
          "output_type": "execute_result",
          "data": {
            "text/plain": [
              "(88, 66)"
            ]
          },
          "metadata": {},
          "execution_count": 41
        }
      ]
    },
    {
      "cell_type": "markdown",
      "metadata": {
        "id": "URxjtN1XN4sU"
      },
      "source": [
        "## Training the POLY Logistic Regression model on the Training set with c=0.01"
      ]
    },
    {
      "cell_type": "code",
      "metadata": {
        "outputId": "06dd77ac-3b8a-435d-c5df-9aed41ae3734",
        "colab": {
          "base_uri": "https://localhost:8080/"
        },
        "id": "mtIKifkoN4sV"
      },
      "source": [
        "from sklearn.linear_model import LogisticRegression\n",
        "classifier = LogisticRegression(C=0.01, penalty='l2',random_state =43)\n",
        "classifier.fit(X_poly_train, y_train)\n"
      ],
      "execution_count": 42,
      "outputs": [
        {
          "output_type": "execute_result",
          "data": {
            "text/plain": [
              "LogisticRegression(C=0.01, random_state=43)"
            ]
          },
          "metadata": {},
          "execution_count": 42
        }
      ]
    },
    {
      "cell_type": "markdown",
      "metadata": {
        "id": "D_uDVzxsN4sV"
      },
      "source": [
        "## Predicting the Test set results"
      ]
    },
    {
      "cell_type": "code",
      "metadata": {
        "outputId": "d4969468-2053-4b42-ac67-a2f9e5dac386",
        "colab": {
          "base_uri": "https://localhost:8080/"
        },
        "id": "t9uLYaYyN4sV"
      },
      "source": [
        "X_poly_test = poly.fit_transform(X_test)\n",
        "y_pred = classifier.predict(X_poly_test)\n",
        "print(np.concatenate((y_pred.reshape(len(y_pred),1), y_test.reshape(len(y_test),1)),1))"
      ],
      "execution_count": 43,
      "outputs": [
        {
          "output_type": "stream",
          "name": "stdout",
          "text": [
            "[[0 0]\n",
            " [0 0]\n",
            " [0 0]\n",
            " [1 1]\n",
            " [0 0]\n",
            " [0 1]\n",
            " [1 1]\n",
            " [1 1]\n",
            " [1 1]\n",
            " [0 0]\n",
            " [1 1]\n",
            " [0 0]\n",
            " [1 1]\n",
            " [1 1]\n",
            " [1 0]\n",
            " [0 0]\n",
            " [0 1]\n",
            " [1 1]\n",
            " [0 0]\n",
            " [1 0]\n",
            " [0 0]\n",
            " [0 0]\n",
            " [1 1]\n",
            " [1 1]\n",
            " [0 0]\n",
            " [1 1]\n",
            " [1 0]\n",
            " [0 0]\n",
            " [1 1]\n",
            " [0 0]]\n"
          ]
        }
      ]
    },
    {
      "cell_type": "markdown",
      "metadata": {
        "id": "KAL0qY7WN4sV"
      },
      "source": [
        "## Making the Confusion Matrix"
      ]
    },
    {
      "cell_type": "code",
      "metadata": {
        "outputId": "68b2af6e-e6b8-4538-eef1-a32a1a0fc3f1",
        "colab": {
          "base_uri": "https://localhost:8080/"
        },
        "id": "F8Uoypi-N4sV"
      },
      "source": [
        "from sklearn.metrics import confusion_matrix, accuracy_score\n",
        "cm = confusion_matrix(y_test, y_pred)\n",
        "print(cm)\n",
        "accuracy_score(y_test, y_pred)"
      ],
      "execution_count": 44,
      "outputs": [
        {
          "output_type": "stream",
          "name": "stdout",
          "text": [
            "[[13  3]\n",
            " [ 2 12]]\n"
          ]
        },
        {
          "output_type": "execute_result",
          "data": {
            "text/plain": [
              "0.8333333333333334"
            ]
          },
          "metadata": {},
          "execution_count": 44
        }
      ]
    },
    {
      "cell_type": "markdown",
      "source": [
        "## K_fold cv "
      ],
      "metadata": {
        "id": "i4_EhyCjN4sV"
      }
    },
    {
      "cell_type": "code",
      "source": [
        "from sklearn.model_selection import KFold\n",
        "from sklearn.model_selection import cross_val_score\n",
        "from numpy import mean\n",
        "from numpy import std\n",
        "cv = KFold(n_splits=10, random_state=1, shuffle=True)\n",
        "# create model\n",
        "model = LogisticRegression()\n",
        "# evaluate model\n",
        "scores = cross_val_score(model, poly.fit_transform(X), y, scoring='accuracy', cv=cv, n_jobs=-1)\n",
        "# report performance\n",
        "print('Accuracy: %.3f (%.3f)' % (mean(scores), std(scores)))"
      ],
      "metadata": {
        "colab": {
          "base_uri": "https://localhost:8080/"
        },
        "outputId": "be2f40d9-944b-4a05-d8c4-da9f43d3d3b3",
        "id": "51xGWt2aN4sV"
      },
      "execution_count": 45,
      "outputs": [
        {
          "output_type": "stream",
          "name": "stdout",
          "text": [
            "Accuracy: 0.796 (0.086)\n"
          ]
        }
      ]
    },
    {
      "cell_type": "markdown",
      "metadata": {
        "id": "54zCw65ON4sV"
      },
      "source": [
        "## Visualising the Training set results"
      ]
    },
    {
      "cell_type": "code",
      "metadata": {
        "outputId": "cbdb0fd6-699b-4859-9f9f-40455da10e49",
        "colab": {
          "base_uri": "https://localhost:8080/",
          "height": 350
        },
        "id": "YdeCQxZfN4sW"
      },
      "source": [
        "from matplotlib.colors import ListedColormap\n",
        "X_set, y_set = sc.inverse_transform(X_train), y_train\n",
        "X1, X2 = np.meshgrid(np.arange(start = X_set[:, 0].min() - 0.5, stop = X_set[:, 0].max()+ 0.5, step = 0.25),\n",
        "                     np.arange(start = X_set[:, 1].min() - 0.5, stop = X_set[:, 1].max() + 0.5, step = 0.25))\n",
        "\n",
        "plt.contourf(X1, X2,\n",
        "          classifier.predict(poly.fit_transform(sc.transform(np.array([X1.ravel(), X2.ravel()]).T))).reshape(X1.shape),\n",
        "           alpha = 0.6, cmap = ListedColormap(('red', 'green')))\n",
        "plt.xlim(X1.min()-0.2 , X1.max() + 0.2)\n",
        "plt.ylim(X2.min()-0.2 , X2.max() + 0.2)\n",
        "for i, j in enumerate(np.unique(y_set)):\n",
        "    plt.scatter(X_set[y_set == j, 0], X_set[y_set == j, 1], c = ListedColormap(('red', 'green'))(i), label = j)\n",
        "plt.title(' Logistic Regression (Training set) ')\n",
        "plt.xlabel(' Test 1 ')\n",
        "plt.ylabel(' Test 2 ')\n",
        "plt.legend()\n",
        "plt.show()"
      ],
      "execution_count": 46,
      "outputs": [
        {
          "output_type": "stream",
          "name": "stderr",
          "text": [
            "WARNING:matplotlib.axes._axes:*c* argument looks like a single numeric RGB or RGBA sequence, which should be avoided as value-mapping will have precedence in case its length matches with *x* & *y*.  Please use the *color* keyword-argument or provide a 2-D array with a single row if you intend to specify the same RGB or RGBA value for all points.\n",
            "WARNING:matplotlib.axes._axes:*c* argument looks like a single numeric RGB or RGBA sequence, which should be avoided as value-mapping will have precedence in case its length matches with *x* & *y*.  Please use the *color* keyword-argument or provide a 2-D array with a single row if you intend to specify the same RGB or RGBA value for all points.\n"
          ]
        },
        {
          "output_type": "display_data",
          "data": {
            "text/plain": [
              "<Figure size 432x288 with 1 Axes>"
            ],
            "image/png": "[encoded data removed]"
          },
          "metadata": {
            "needs_background": "light"
          }
        }
      ]
    },
    {
      "cell_type": "markdown",
      "metadata": {
        "id": "qsrMe4SzN4sW"
      },
      "source": [
        "## Visualising the Test set results"
      ]
    },
    {
      "cell_type": "code",
      "metadata": {
        "colab": {
          "base_uri": "https://localhost:8080/",
          "height": 350
        },
        "outputId": "248c2e96-0962-4c59-c35c-5351bdbf708f",
        "id": "MuJpU-pfN4sW"
      },
      "source": [
        "from matplotlib.colors import ListedColormap\n",
        "X_set, y_set = sc.inverse_transform(X_test), y_test\n",
        "X1, X2 = np.meshgrid(np.arange(start = X_set[:, 0].min() - 0.5, stop = X_set[:, 0].max()+ 0.5, step = 0.25),\n",
        "                     np.arange(start = X_set[:, 1].min() - 0.5, stop = X_set[:, 1].max() + 0.5, step = 0.25))\n",
        "\n",
        "plt.contourf(X1, X2,\n",
        "          classifier.predict(poly.fit_transform(sc.transform(np.array([X1.ravel(), X2.ravel()]).T))).reshape(X1.shape),\n",
        "           alpha = 0.6, cmap = ListedColormap(('red', 'green')))\n",
        "plt.xlim(X1.min()-0.2 , X1.max() + 0.2)\n",
        "plt.ylim(X2.min()-0.2 , X2.max() + 0.2)\n",
        "for i, j in enumerate(np.unique(y_set)):\n",
        "    plt.scatter(X_set[y_set == j, 0], X_set[y_set == j, 1], c = ListedColormap(('red', 'green'))(i), label = j)\n",
        "plt.title('Logistic Regression (Test set)')\n",
        "plt.xlabel(' Test 1 ')\n",
        "plt.ylabel(' Test 2 ')\n",
        "plt.legend()\n",
        "plt.show()\n"
      ],
      "execution_count": 47,
      "outputs": [
        {
          "output_type": "stream",
          "name": "stderr",
          "text": [
            "WARNING:matplotlib.axes._axes:*c* argument looks like a single numeric RGB or RGBA sequence, which should be avoided as value-mapping will have precedence in case its length matches with *x* & *y*.  Please use the *color* keyword-argument or provide a 2-D array with a single row if you intend to specify the same RGB or RGBA value for all points.\n",
            "WARNING:matplotlib.axes._axes:*c* argument looks like a single numeric RGB or RGBA sequence, which should be avoided as value-mapping will have precedence in case its length matches with *x* & *y*.  Please use the *color* keyword-argument or provide a 2-D array with a single row if you intend to specify the same RGB or RGBA value for all points.\n"
          ]
        },
        {
          "output_type": "display_data",
          "data": {
            "text/plain": [
              "<Figure size 432x288 with 1 Axes>"
            ],
            "image/png": "[encoded data removed]"
          },
          "metadata": {
            "needs_background": "light"
          }
        }
      ]
    }
  ]
}