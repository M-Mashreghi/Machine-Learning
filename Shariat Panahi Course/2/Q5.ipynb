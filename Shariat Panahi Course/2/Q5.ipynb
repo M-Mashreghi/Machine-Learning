{
  "nbformat": 4,
  "nbformat_minor": 0,
  "metadata": {
    "colab": {
      "provenance": [],
      "machine_shape": "hm",
      "collapsed_sections": [
        "0MRC0e0KhQ0S",
        "LWd1UlMnhT2s",
        "K1VMqkGvhc3-",
        "YvxIPVyMhmKp",
        "kW3c7UYih0hT",
        "-yISUS_kO4Gk",
        "0W_yKULtO4Gq",
        "1YYe8AdcY-Fu"
      ]
    },
    "kernelspec": {
      "name": "python3",
      "display_name": "Python 3"
    }
  },
  "cells": [
    {
      "cell_type": "markdown",
      "metadata": {
        "id": "0MRC0e0KhQ0S"
      },
      "source": [
        "# Q5"
      ]
    },
    {
      "cell_type": "markdown",
      "metadata": {
        "id": "LWd1UlMnhT2s"
      },
      "source": [
        "## Importing the libraries"
      ]
    },
    {
      "cell_type": "code",
      "metadata": {
        "id": "YvGPUQaHhXfL"
      },
      "source": [
        "import numpy as np\n",
        "import matplotlib.pyplot as plt\n",
        "import pandas as pd"
      ],
      "execution_count": 68,
      "outputs": []
    },
    {
      "cell_type": "markdown",
      "metadata": {
        "id": "K1VMqkGvhc3-"
      },
      "source": [
        "## Importing the dataset"
      ]
    },
    {
      "cell_type": "code",
      "metadata": {
        "id": "M52QDmyzhh9s",
        "colab": {
          "base_uri": "https://localhost:8080/"
        },
        "outputId": "497678cc-c8c1-4896-e424-dca57fba8f74"
      },
      "source": [
        "dataset = pd.read_csv('quality_test.csv')\n",
        "X = dataset.iloc[ : , :-1].values\n",
        "y = dataset.iloc[ : , -1].values\n",
        "print(X)"
      ],
      "execution_count": 69,
      "outputs": [
        {
          "output_type": "stream",
          "name": "stdout",
          "text": [
            "[[ 0.051267   0.69956  ]\n",
            " [-0.092742   0.68494  ]\n",
            " [-0.21371    0.69225  ]\n",
            " [-0.375      0.50219  ]\n",
            " [-0.51325    0.46564  ]\n",
            " [-0.52477    0.2098   ]\n",
            " [-0.39804    0.034357 ]\n",
            " [-0.30588   -0.19225  ]\n",
            " [ 0.016705  -0.40424  ]\n",
            " [ 0.13191   -0.51389  ]\n",
            " [ 0.38537   -0.56506  ]\n",
            " [ 0.52938   -0.5212   ]\n",
            " [ 0.63882   -0.24342  ]\n",
            " [ 0.73675   -0.18494  ]\n",
            " [ 0.54666    0.48757  ]\n",
            " [ 0.322      0.5826   ]\n",
            " [ 0.16647    0.53874  ]\n",
            " [-0.046659   0.81652  ]\n",
            " [-0.17339    0.69956  ]\n",
            " [-0.47869    0.63377  ]\n",
            " [-0.60541    0.59722  ]\n",
            " [-0.62846    0.33406  ]\n",
            " [-0.59389    0.005117 ]\n",
            " [-0.42108   -0.27266  ]\n",
            " [-0.11578   -0.39693  ]\n",
            " [ 0.20104   -0.60161  ]\n",
            " [ 0.46601   -0.53582  ]\n",
            " [ 0.67339   -0.53582  ]\n",
            " [-0.13882    0.54605  ]\n",
            " [-0.29435    0.77997  ]\n",
            " [-0.26555    0.96272  ]\n",
            " [-0.16187    0.8019   ]\n",
            " [-0.17339    0.64839  ]\n",
            " [-0.28283    0.47295  ]\n",
            " [-0.36348    0.31213  ]\n",
            " [-0.30012    0.027047 ]\n",
            " [-0.23675   -0.21418  ]\n",
            " [-0.06394   -0.18494  ]\n",
            " [ 0.062788  -0.16301  ]\n",
            " [ 0.22984   -0.41155  ]\n",
            " [ 0.2932    -0.2288   ]\n",
            " [ 0.48329   -0.18494  ]\n",
            " [ 0.64459   -0.14108  ]\n",
            " [ 0.46025    0.012427 ]\n",
            " [ 0.6273     0.15863  ]\n",
            " [ 0.57546    0.26827  ]\n",
            " [ 0.72523    0.44371  ]\n",
            " [ 0.22408    0.52412  ]\n",
            " [ 0.44297    0.67032  ]\n",
            " [ 0.322      0.69225  ]\n",
            " [ 0.13767    0.57529  ]\n",
            " [-0.0063364  0.39985  ]\n",
            " [-0.092742   0.55336  ]\n",
            " [-0.20795    0.35599  ]\n",
            " [-0.20795    0.17325  ]\n",
            " [-0.43836    0.21711  ]\n",
            " [-0.21947   -0.016813 ]\n",
            " [-0.13882   -0.27266  ]\n",
            " [ 0.18376    0.93348  ]\n",
            " [ 0.22408    0.77997  ]\n",
            " [ 0.29896    0.61915  ]\n",
            " [ 0.50634    0.75804  ]\n",
            " [ 0.61578    0.7288   ]\n",
            " [ 0.60426    0.59722  ]\n",
            " [ 0.76555    0.50219  ]\n",
            " [ 0.92684    0.3633   ]\n",
            " [ 0.82316    0.27558  ]\n",
            " [ 0.96141    0.085526 ]\n",
            " [ 0.93836    0.012427 ]\n",
            " [ 0.86348   -0.082602 ]\n",
            " [ 0.89804   -0.20687  ]\n",
            " [ 0.85196   -0.36769  ]\n",
            " [ 0.82892   -0.5212   ]\n",
            " [ 0.79435   -0.55775  ]\n",
            " [ 0.59274   -0.7405   ]\n",
            " [ 0.51786   -0.5943   ]\n",
            " [ 0.46601   -0.41886  ]\n",
            " [ 0.35081   -0.57968  ]\n",
            " [ 0.28744   -0.76974  ]\n",
            " [ 0.085829  -0.75512  ]\n",
            " [ 0.14919   -0.57968  ]\n",
            " [-0.13306   -0.4481   ]\n",
            " [-0.40956   -0.41155  ]\n",
            " [-0.39228   -0.25804  ]\n",
            " [-0.74366   -0.25804  ]\n",
            " [-0.69758    0.041667 ]\n",
            " [-0.75518    0.2902   ]\n",
            " [-0.69758    0.68494  ]\n",
            " [-0.4038     0.70687  ]\n",
            " [-0.38076    0.91886  ]\n",
            " [-0.50749    0.90424  ]\n",
            " [-0.54781    0.70687  ]\n",
            " [ 0.10311    0.77997  ]\n",
            " [ 0.057028   0.91886  ]\n",
            " [-0.10426    0.99196  ]\n",
            " [-0.081221   1.1089   ]\n",
            " [ 0.28744    1.087    ]\n",
            " [ 0.39689    0.82383  ]\n",
            " [ 0.63882    0.88962  ]\n",
            " [ 0.82316    0.66301  ]\n",
            " [ 0.67339    0.64108  ]\n",
            " [ 1.0709     0.10015  ]\n",
            " [-0.046659  -0.57968  ]\n",
            " [-0.23675   -0.63816  ]\n",
            " [-0.15035   -0.36769  ]\n",
            " [-0.49021   -0.3019   ]\n",
            " [-0.46717   -0.13377  ]\n",
            " [-0.28859   -0.060673 ]\n",
            " [-0.61118   -0.067982 ]\n",
            " [-0.66302   -0.21418  ]\n",
            " [-0.59965   -0.41886  ]\n",
            " [-0.72638   -0.082602 ]\n",
            " [-0.83007    0.31213  ]\n",
            " [-0.72062    0.53874  ]\n",
            " [-0.59389    0.49488  ]\n",
            " [-0.48445    0.99927  ]\n",
            " [-0.0063364  0.99927  ]\n",
            " [ 0.63265   -0.030612 ]]\n"
          ]
        }
      ]
    },
    {
      "cell_type": "markdown",
      "metadata": {
        "id": "YvxIPVyMhmKp"
      },
      "source": [
        "## Splitting the dataset into the Training set and Test set"
      ]
    },
    {
      "cell_type": "code",
      "metadata": {
        "id": "AVzJWAXIhxoC"
      },
      "source": [
        "from sklearn.model_selection import train_test_split\n",
        "X_train, X_test, y_train, y_test = train_test_split(X, y, test_size = 0.25, random_state = 0)"
      ],
      "execution_count": 70,
      "outputs": []
    },
    {
      "cell_type": "code",
      "metadata": {
        "id": "P3nS3-6r1i2B",
        "colab": {
          "base_uri": "https://localhost:8080/"
        },
        "outputId": "f8bc297c-39dd-4bb0-9d51-ac14561ee0b2"
      },
      "source": [
        "print(X_train)"
      ],
      "execution_count": 71,
      "outputs": [
        {
          "output_type": "stream",
          "name": "stdout",
          "text": [
            "[[ 0.13767    0.57529  ]\n",
            " [ 0.59274   -0.7405   ]\n",
            " [-0.20795    0.17325  ]\n",
            " [ 0.29896    0.61915  ]\n",
            " [-0.375      0.50219  ]\n",
            " [-0.081221   1.1089   ]\n",
            " [-0.39804    0.034357 ]\n",
            " [-0.21947   -0.016813 ]\n",
            " [ 0.63882    0.88962  ]\n",
            " [-0.50749    0.90424  ]\n",
            " [-0.83007    0.31213  ]\n",
            " [ 0.44297    0.67032  ]\n",
            " [ 0.82316    0.66301  ]\n",
            " [ 0.46601   -0.41886  ]\n",
            " [ 0.67339   -0.53582  ]\n",
            " [-0.17339    0.69956  ]\n",
            " [ 0.52938   -0.5212   ]\n",
            " [ 0.50634    0.75804  ]\n",
            " [-0.46717   -0.13377  ]\n",
            " [ 0.39689    0.82383  ]\n",
            " [ 0.28744   -0.76974  ]\n",
            " [ 0.22408    0.77997  ]\n",
            " [-0.092742   0.68494  ]\n",
            " [ 0.10311    0.77997  ]\n",
            " [ 0.64459   -0.14108  ]\n",
            " [ 0.48329   -0.18494  ]\n",
            " [-0.51325    0.46564  ]\n",
            " [ 0.322      0.5826   ]\n",
            " [-0.046659   0.81652  ]\n",
            " [-0.092742   0.55336  ]\n",
            " [ 0.2932    -0.2288   ]\n",
            " [ 0.062788  -0.16301  ]\n",
            " [-0.52477    0.2098   ]\n",
            " [-0.20795    0.35599  ]\n",
            " [-0.61118   -0.067982 ]\n",
            " [ 0.82316    0.27558  ]\n",
            " [ 0.051267   0.69956  ]\n",
            " [-0.36348    0.31213  ]\n",
            " [-0.13882    0.54605  ]\n",
            " [-0.43836    0.21711  ]\n",
            " [-0.30012    0.027047 ]\n",
            " [-0.42108   -0.27266  ]\n",
            " [-0.16187    0.8019   ]\n",
            " [ 0.057028   0.91886  ]\n",
            " [-0.13882   -0.27266  ]\n",
            " [-0.54781    0.70687  ]\n",
            " [ 1.0709     0.10015  ]\n",
            " [-0.17339    0.64839  ]\n",
            " [ 0.67339    0.64108  ]\n",
            " [ 0.54666    0.48757  ]\n",
            " [ 0.28744    1.087    ]\n",
            " [-0.47869    0.63377  ]\n",
            " [-0.29435    0.77997  ]\n",
            " [ 0.322      0.69225  ]\n",
            " [-0.40956   -0.41155  ]\n",
            " [-0.48445    0.99927  ]\n",
            " [-0.0063364  0.99927  ]\n",
            " [ 0.085829  -0.75512  ]\n",
            " [ 0.86348   -0.082602 ]\n",
            " [ 0.14919   -0.57968  ]\n",
            " [-0.60541    0.59722  ]\n",
            " [-0.72638   -0.082602 ]\n",
            " [ 0.82892   -0.5212   ]\n",
            " [ 0.35081   -0.57968  ]\n",
            " [ 0.20104   -0.60161  ]\n",
            " [-0.06394   -0.18494  ]\n",
            " [-0.13306   -0.4481   ]\n",
            " [-0.15035   -0.36769  ]\n",
            " [ 0.72523    0.44371  ]\n",
            " [-0.28859   -0.060673 ]\n",
            " [ 0.22984   -0.41155  ]\n",
            " [ 0.92684    0.3633   ]\n",
            " [ 0.18376    0.93348  ]\n",
            " [ 0.63882   -0.24342  ]\n",
            " [-0.49021   -0.3019   ]\n",
            " [-0.4038     0.70687  ]\n",
            " [ 0.89804   -0.20687  ]\n",
            " [-0.69758    0.68494  ]\n",
            " [-0.23675   -0.21418  ]\n",
            " [-0.62846    0.33406  ]\n",
            " [-0.39228   -0.25804  ]\n",
            " [ 0.13191   -0.51389  ]\n",
            " [-0.23675   -0.63816  ]\n",
            " [-0.59389    0.49488  ]\n",
            " [ 0.96141    0.085526 ]\n",
            " [ 0.76555    0.50219  ]\n",
            " [ 0.22408    0.52412  ]\n",
            " [ 0.6273     0.15863  ]]\n"
          ]
        }
      ]
    },
    {
      "cell_type": "code",
      "metadata": {
        "id": "8dpDLojm1mVG",
        "colab": {
          "base_uri": "https://localhost:8080/"
        },
        "outputId": "5e88d50b-f14e-4a5e-e0cc-f881da56bb67"
      },
      "source": [
        "print(y_train)"
      ],
      "execution_count": 72,
      "outputs": [
        {
          "output_type": "stream",
          "name": "stdout",
          "text": [
            "[1 0 1 0 1 0 1 1 0 0 0 1 0 0 1 1 1 0 0 0 0 0 1 0 1 1 1 1 1 1 1 1 1 1 0 0 1\n",
            " 1 1 1 1 1 1 0 1 0 0 1 0 1 0 1 1 1 0 0 0 0 0 0 1 0 0 0 1 1 0 0 1 0 1 0 0 1\n",
            " 0 0 0 0 1 1 0 1 0 0 0 0 1 1]\n"
          ]
        }
      ]
    },
    {
      "cell_type": "code",
      "metadata": {
        "id": "qbb7i0DH1qui",
        "colab": {
          "base_uri": "https://localhost:8080/"
        },
        "outputId": "45017d50-5cad-4602-8787-eba4566f04ad"
      },
      "source": [
        "print(X_test)"
      ],
      "execution_count": 73,
      "outputs": [
        {
          "output_type": "stream",
          "name": "stdout",
          "text": [
            "[[-0.75518    0.2902   ]\n",
            " [-0.69758    0.041667 ]\n",
            " [-0.10426    0.99196  ]\n",
            " [ 0.016705  -0.40424  ]\n",
            " [-0.38076    0.91886  ]\n",
            " [-0.59389    0.005117 ]\n",
            " [-0.30588   -0.19225  ]\n",
            " [ 0.38537   -0.56506  ]\n",
            " [ 0.57546    0.26827  ]\n",
            " [ 0.93836    0.012427 ]\n",
            " [-0.28283    0.47295  ]\n",
            " [-0.59965   -0.41886  ]\n",
            " [-0.21371    0.69225  ]\n",
            " [-0.0063364  0.39985  ]\n",
            " [ 0.63265   -0.030612 ]\n",
            " [ 0.79435   -0.55775  ]\n",
            " [-0.26555    0.96272  ]\n",
            " [ 0.46025    0.012427 ]\n",
            " [-0.74366   -0.25804  ]\n",
            " [ 0.51786   -0.5943   ]\n",
            " [ 0.61578    0.7288   ]\n",
            " [-0.046659  -0.57968  ]\n",
            " [ 0.16647    0.53874  ]\n",
            " [-0.11578   -0.39693  ]\n",
            " [-0.66302   -0.21418  ]\n",
            " [ 0.73675   -0.18494  ]\n",
            " [ 0.60426    0.59722  ]\n",
            " [ 0.85196   -0.36769  ]\n",
            " [ 0.46601   -0.53582  ]\n",
            " [-0.72062    0.53874  ]]\n"
          ]
        }
      ]
    },
    {
      "cell_type": "code",
      "metadata": {
        "id": "kj1hnFAR1s5w",
        "colab": {
          "base_uri": "https://localhost:8080/"
        },
        "outputId": "7f3c6e8e-14b8-43a2-970d-f36be3af5414"
      },
      "source": [
        "print(y_test)"
      ],
      "execution_count": 74,
      "outputs": [
        {
          "output_type": "stream",
          "name": "stdout",
          "text": [
            "[0 0 0 1 0 1 1 1 1 0 1 0 1 1 0 0 1 1 0 0 0 0 1 1 0 1 0 0 1 0]\n"
          ]
        }
      ]
    },
    {
      "cell_type": "markdown",
      "metadata": {
        "id": "kW3c7UYih0hT"
      },
      "source": [
        "## Feature Scaling"
      ]
    },
    {
      "cell_type": "code",
      "metadata": {
        "id": "9fQlDPKCh8sc"
      },
      "source": [
        "from sklearn.preprocessing import StandardScaler\n",
        "sc = StandardScaler()\n",
        "X_train = sc.fit_transform(X_train)\n",
        "X_test = sc.transform(X_test)"
      ],
      "execution_count": 75,
      "outputs": []
    },
    {
      "cell_type": "code",
      "metadata": {
        "id": "syrnD1Op2BSR",
        "outputId": "2b44edb9-239a-4134-8d2b-a9305a3e717e",
        "colab": {
          "base_uri": "https://localhost:8080/"
        }
      },
      "source": [
        "print(X_train)"
      ],
      "execution_count": 76,
      "outputs": [
        {
          "output_type": "stream",
          "name": "stdout",
          "text": [
            "[[ 0.16475493  0.68440791]\n",
            " [ 1.11848143 -1.85627026]\n",
            " [-0.55958848 -0.09189701]\n",
            " [ 0.50278325  0.76909782]\n",
            " [-0.9096885   0.54325805]\n",
            " [-0.29399241  1.71476327]\n",
            " [-0.95797526 -0.36008754]\n",
            " [-0.58373187 -0.45889244]\n",
            " [ 1.21505497  1.2913523 ]\n",
            " [-1.18735836  1.31958228]\n",
            " [-1.863415    0.17626841]\n",
            " [ 0.8045965   0.86790273]\n",
            " [ 1.60139101  0.85378774]\n",
            " [ 0.85288326 -1.23521087]\n",
            " [ 1.28750607 -1.46105065]\n",
            " [-0.48715833  0.92436267]\n",
            " [ 0.98569283 -1.43282068]\n",
            " [ 0.93740606  1.03728256]\n",
            " [-1.10285652 -0.68472642]\n",
            " [ 0.70802296  1.16431743]\n",
            " [ 0.47863987 -1.9127302 ]\n",
            " [ 0.34585126  1.07962752]\n",
            " [-0.31813789  0.8961327 ]\n",
            " [ 0.09232478  1.07962752]\n",
            " [ 1.22714762 -0.69884141]\n",
            " [ 0.88909834 -0.78353132]\n",
            " [-1.19943005  0.47268312]\n",
            " [ 0.55107001  0.69852289]\n",
            " [-0.22155807  1.15020245]\n",
            " [-0.31813789  0.64206295]\n",
            " [ 0.49071156 -0.86822124]\n",
            " [ 0.00781874 -0.74118637]\n",
            " [-1.22357343 -0.02132208]\n",
            " [-0.55958848  0.26095833]\n",
            " [-1.40466977 -0.55769541]\n",
            " [ 1.60139101  0.10569348]\n",
            " [-0.01632673  0.92436267]\n",
            " [-0.88554511  0.17626841]\n",
            " [-0.41470723  0.62794796]\n",
            " [-1.0424771  -0.00720709]\n",
            " [-0.75275651 -0.37420252]\n",
            " [-1.00626203 -0.95291115]\n",
            " [-0.46301495  1.12197247]\n",
            " [-0.00425295  1.34781225]\n",
            " [-0.41470723 -0.95291115]\n",
            " [-1.2718602   0.93847766]\n",
            " [ 2.1205995  -0.23304687]\n",
            " [-0.48715833  0.82555777]\n",
            " [ 1.28750607  0.81144278]\n",
            " [ 1.0219079   0.51502808]\n",
            " [ 0.47863987  1.67247623]\n",
            " [-1.1269999   0.7973278 ]\n",
            " [-0.74066386  1.07962752]\n",
            " [ 0.55107001  0.91024768]\n",
            " [-0.98211865 -1.22109589]\n",
            " [-1.13907159  1.50307709]\n",
            " [-0.13705078  1.50307709]\n",
            " [ 0.05610761 -1.88450023]\n",
            " [ 1.68589285 -0.58592538]\n",
            " [ 0.18889831 -1.54574057]\n",
            " [-1.39257712  0.72675287]\n",
            " [-1.6461036  -0.58592538]\n",
            " [ 1.6134627  -1.43282068]\n",
            " [ 0.61144943 -1.54574057]\n",
            " [ 0.29756449 -1.58808552]\n",
            " [-0.25777524 -0.78353132]\n",
            " [-0.40263553 -1.29167082]\n",
            " [-0.43887157 -1.13640597]\n",
            " [ 1.3961513   0.43033816]\n",
            " [-0.72859216 -0.54358235]\n",
            " [ 0.35792295 -1.22109589]\n",
            " [ 1.81868146  0.27507332]\n",
            " [ 0.26134942  1.37604222]\n",
            " [ 1.21505497 -0.89645121]\n",
            " [-1.15114329 -1.0093711 ]\n",
            " [-0.97004695  0.93847766]\n",
            " [ 1.758323   -0.82587628]\n",
            " [-1.58574514  0.8961327 ]\n",
            " [-0.61994694 -0.83999127]\n",
            " [-1.44088484  0.21861337]\n",
            " [-0.94590357 -0.92468118]\n",
            " [ 0.15268324 -1.41870569]\n",
            " [-0.61994694 -1.65866045]\n",
            " [-1.36843373  0.52914306]\n",
            " [ 1.89113257 -0.26128457]\n",
            " [ 1.48065314  0.54325805]\n",
            " [ 0.34585126  0.58560301]\n",
            " [ 1.19091158 -0.12012698]]\n"
          ]
        }
      ]
    },
    {
      "cell_type": "code",
      "metadata": {
        "id": "JUd6iBRp2C3L",
        "outputId": "d8b11ff5-92cc-4943-99be-5883de4ed05a",
        "colab": {
          "base_uri": "https://localhost:8080/"
        }
      },
      "source": [
        "print(X_test)"
      ],
      "execution_count": 77,
      "outputs": [
        {
          "output_type": "stream",
          "name": "stdout",
          "text": [
            "[[-1.70646205  0.13392346]\n",
            " [-1.58574514 -0.34597255]\n",
            " [-0.34227708  1.48896211]\n",
            " [-0.08876108 -1.2069809 ]\n",
            " [-0.92176019  1.34781225]\n",
            " [-1.36843373 -0.41654748]\n",
            " [-0.7648282  -0.79764631]\n",
            " [ 0.68387958 -1.51751059]\n",
            " [ 1.08226636  0.0915785 ]\n",
            " [ 1.84282484 -0.40243249]\n",
            " [-0.71652047  0.4867981 ]\n",
            " [-1.38050542 -1.23521087]\n",
            " [-0.57166017  0.91024768]\n",
            " [-0.13705078  0.34564825]\n",
            " [ 1.202124   -0.48553713]\n",
            " [ 1.5410116  -1.50339561]\n",
            " [-0.6803054   1.43250216]\n",
            " [ 0.84081157 -0.40243249]\n",
            " [-1.68231867 -0.92468118]\n",
            " [ 0.96154944 -1.57397054]\n",
            " [ 1.1667682   0.98082261]\n",
            " [-0.22155807 -1.54574057]\n",
            " [ 0.22511338  0.61383298]\n",
            " [-0.36642046 -1.19286592]\n",
            " [-1.51331499 -0.83999127]\n",
            " [ 1.42029468 -0.78353132]\n",
            " [ 1.14262482  0.72675287]\n",
            " [ 1.66174947 -1.13640597]\n",
            " [ 0.85288326 -1.46105065]\n",
            " [-1.63403191  0.61383298]]\n"
          ]
        }
      ]
    },
    {
      "cell_type": "markdown",
      "source": [
        "# train KNN model 1 K= range(1,20) with manhattan"
      ],
      "metadata": {
        "id": "-yISUS_kO4Gk"
      }
    },
    {
      "cell_type": "markdown",
      "metadata": {
        "id": "0W_yKULtO4Gq"
      },
      "source": [
        "## Training the K-NN model on the Training set"
      ]
    },
    {
      "cell_type": "code",
      "metadata": {
        "outputId": "1ff14ab9-ca3c-453c-c0de-d204c7cf0520",
        "colab": {
          "base_uri": "https://localhost:8080/"
        },
        "id": "2sZmRbWNO4Gq"
      },
      "source": [
        "from sklearn.neighbors import KNeighborsClassifier\n",
        "from sklearn.metrics import confusion_matrix, accuracy_score\n",
        "from sklearn.metrics import precision_score\n",
        "from sklearn.metrics import recall_score\n",
        "for i in range(1 ,20):\n",
        "  classifier = KNeighborsClassifier(n_neighbors = i , p = 1)\n",
        "  classifier.fit(X_train, y_train)\n",
        "  y_pred = classifier.predict(X_test)\n",
        "  print( \"k = \",i, ' accuracy_score =  %.3f    precision_score =  %.3f   recall_score =   %.3f '\n",
        "       %(accuracy_score(y_test, y_pred),precision_score(y_test, y_pred),recall_score(y_test, y_pred)))"
      ],
      "execution_count": 144,
      "outputs": [
        {
          "output_type": "stream",
          "name": "stdout",
          "text": [
            "k =  1  accuracy_score =  0.800    precision_score =  0.833   recall_score =   0.714 \n",
            "k =  2  accuracy_score =  0.767    precision_score =  0.889   recall_score =   0.571 \n",
            "k =  3  accuracy_score =  0.633    precision_score =  0.615   recall_score =   0.571 \n",
            "k =  4  accuracy_score =  0.700    precision_score =  0.857   recall_score =   0.429 \n",
            "k =  5  accuracy_score =  0.767    precision_score =  0.769   recall_score =   0.714 \n",
            "k =  6  accuracy_score =  0.733    precision_score =  0.875   recall_score =   0.500 \n",
            "k =  7  accuracy_score =  0.767    precision_score =  0.769   recall_score =   0.714 \n",
            "k =  8  accuracy_score =  0.833    precision_score =  0.909   recall_score =   0.714 \n",
            "k =  9  accuracy_score =  0.767    precision_score =  0.684   recall_score =   0.929 \n",
            "k =  10  accuracy_score =  0.767    precision_score =  0.733   recall_score =   0.786 \n",
            "k =  11  accuracy_score =  0.800    precision_score =  0.722   recall_score =   0.929 \n",
            "k =  12  accuracy_score =  0.833    precision_score =  0.846   recall_score =   0.786 \n",
            "k =  13  accuracy_score =  0.767    precision_score =  0.684   recall_score =   0.929 \n",
            "k =  14  accuracy_score =  0.767    precision_score =  0.733   recall_score =   0.786 \n",
            "k =  15  accuracy_score =  0.700    precision_score =  0.609   recall_score =   1.000 \n",
            "k =  16  accuracy_score =  0.567    precision_score =  0.533   recall_score =   0.571 \n",
            "k =  17  accuracy_score =  0.667    precision_score =  0.600   recall_score =   0.857 \n",
            "k =  18  accuracy_score =  0.600    precision_score =  0.600   recall_score =   0.429 \n",
            "k =  19  accuracy_score =  0.733    precision_score =  0.667   recall_score =   0.857 \n"
          ]
        }
      ]
    },
    {
      "cell_type": "markdown",
      "source": [
        "# train KNN model 1 K= range(1,20) with manhattan"
      ],
      "metadata": {
        "id": "1YYe8AdcY-Fu"
      }
    },
    {
      "cell_type": "markdown",
      "metadata": {
        "id": "8_jasigLY-Fz"
      },
      "source": [
        "## Training the K-NN model on the Training set"
      ]
    },
    {
      "cell_type": "code",
      "metadata": {
        "outputId": "f9e092c2-3080-49ec-931c-ef7450b2817f",
        "colab": {
          "base_uri": "https://localhost:8080/"
        },
        "id": "jZ6k9uCHY-Fz"
      },
      "source": [
        "from sklearn.neighbors import KNeighborsClassifier\n",
        "from sklearn.metrics import confusion_matrix, accuracy_score\n",
        "from sklearn.metrics import precision_score\n",
        "from sklearn.metrics import recall_score\n",
        "from sklearn.model_selection import KFold\n",
        "from sklearn.model_selection import cross_val_score\n",
        "from numpy import mean\n",
        "from numpy import std\n",
        "cv = KFold(n_splits=10, random_state=1, shuffle=True)\n",
        "for i in range(1 ,20):\n",
        "  classifier = KNeighborsClassifier(n_neighbors = i , p = 1)\n",
        "  scores = cross_val_score(classifier, X, y, scoring='accuracy', cv=cv, n_jobs=-1)\n",
        "  classifier.fit(X_train, y_train)\n",
        "  y_pred = classifier.predict(X_test)\n",
        "  print( \"k = \",i, ' accuracy_score =  %.3f    precision_score =  %.3f   recall_score =   %.3f '\n",
        "       %(accuracy_score(y_test, y_pred),precision_score(y_test, y_pred),recall_score(y_test, y_pred)))\n",
        "  print('Accuracy: %.3f (%.3f)' % (mean(scores), std(scores)))"
      ],
      "execution_count": 146,
      "outputs": [
        {
          "output_type": "stream",
          "name": "stdout",
          "text": [
            "k =  1  accuracy_score =  0.800    precision_score =  0.833   recall_score =   0.714 \n",
            "Accuracy: 0.678 (0.138)\n",
            "k =  2  accuracy_score =  0.767    precision_score =  0.889   recall_score =   0.571 \n",
            "Accuracy: 0.694 (0.110)\n",
            "k =  3  accuracy_score =  0.633    precision_score =  0.615   recall_score =   0.571 \n",
            "Accuracy: 0.746 (0.082)\n",
            "k =  4  accuracy_score =  0.700    precision_score =  0.857   recall_score =   0.429 \n",
            "Accuracy: 0.746 (0.090)\n",
            "k =  5  accuracy_score =  0.767    precision_score =  0.769   recall_score =   0.714 \n",
            "Accuracy: 0.788 (0.094)\n",
            "k =  6  accuracy_score =  0.733    precision_score =  0.875   recall_score =   0.500 \n",
            "Accuracy: 0.720 (0.107)\n",
            "k =  7  accuracy_score =  0.767    precision_score =  0.769   recall_score =   0.714 \n",
            "Accuracy: 0.720 (0.101)\n",
            "k =  8  accuracy_score =  0.833    precision_score =  0.909   recall_score =   0.714 \n",
            "Accuracy: 0.720 (0.114)\n",
            "k =  9  accuracy_score =  0.767    precision_score =  0.684   recall_score =   0.929 \n",
            "Accuracy: 0.754 (0.116)\n",
            "k =  10  accuracy_score =  0.767    precision_score =  0.733   recall_score =   0.786 \n",
            "Accuracy: 0.737 (0.127)\n",
            "k =  11  accuracy_score =  0.800    precision_score =  0.722   recall_score =   0.929 \n",
            "Accuracy: 0.730 (0.153)\n",
            "k =  12  accuracy_score =  0.833    precision_score =  0.846   recall_score =   0.786 \n",
            "Accuracy: 0.747 (0.104)\n",
            "k =  13  accuracy_score =  0.767    precision_score =  0.684   recall_score =   0.929 \n",
            "Accuracy: 0.746 (0.111)\n",
            "k =  14  accuracy_score =  0.767    precision_score =  0.733   recall_score =   0.786 \n",
            "Accuracy: 0.713 (0.136)\n",
            "k =  15  accuracy_score =  0.700    precision_score =  0.609   recall_score =   1.000 \n",
            "Accuracy: 0.714 (0.182)\n",
            "k =  16  accuracy_score =  0.567    precision_score =  0.533   recall_score =   0.571 \n",
            "Accuracy: 0.664 (0.160)\n",
            "k =  17  accuracy_score =  0.667    precision_score =  0.600   recall_score =   0.857 \n",
            "Accuracy: 0.645 (0.163)\n",
            "k =  18  accuracy_score =  0.600    precision_score =  0.600   recall_score =   0.429 \n",
            "Accuracy: 0.671 (0.166)\n",
            "k =  19  accuracy_score =  0.733    precision_score =  0.667   recall_score =   0.857 \n",
            "Accuracy: 0.662 (0.137)\n"
          ]
        }
      ]
    },
    {
      "cell_type": "code",
      "source": [],
      "metadata": {
        "id": "Cz3UaZXKZRAa"
      },
      "execution_count": null,
      "outputs": []
    }
  ]
}