{
  "nbformat": 4,
  "nbformat_minor": 0,
  "metadata": {
    "colab": {
      "provenance": [],
      "machine_shape": "hm",
      "collapsed_sections": [
        "0MRC0e0KhQ0S",
        "LWd1UlMnhT2s",
        "K1VMqkGvhc3-",
        "YvxIPVyMhmKp",
        "kW3c7UYih0hT",
        "-yISUS_kO4Gk",
        "T8YW2PnAO4Gr",
        "qj9XP8EuO4Gr",
        "sSrW_MdVO4Gr",
        "BsHGMC-SvmoJ",
        "AmAKhmfTvmw2",
        "lAwNU0rxvm8N"
      ]
    },
    "kernelspec": {
      "name": "python3",
      "display_name": "Python 3"
    }
  },
  "cells": [
    {
      "cell_type": "markdown",
      "metadata": {
        "id": "0MRC0e0KhQ0S"
      },
      "source": [
        "# Q4"
      ]
    },
    {
      "cell_type": "markdown",
      "metadata": {
        "id": "LWd1UlMnhT2s"
      },
      "source": [
        "## Importing the libraries"
      ]
    },
    {
      "cell_type": "code",
      "metadata": {
        "id": "YvGPUQaHhXfL"
      },
      "source": [
        "import numpy as np\n",
        "import matplotlib.pyplot as plt\n",
        "import pandas as pd"
      ],
      "execution_count": 68,
      "outputs": []
    },
    {
      "cell_type": "markdown",
      "metadata": {
        "id": "K1VMqkGvhc3-"
      },
      "source": [
        "## Importing the dataset"
      ]
    },
    {
      "cell_type": "code",
      "metadata": {
        "id": "M52QDmyzhh9s",
        "colab": {
          "base_uri": "https://localhost:8080/"
        },
        "outputId": "497678cc-c8c1-4896-e424-dca57fba8f74"
      },
      "source": [
        "dataset = pd.read_csv('quality_test.csv')\n",
        "X = dataset.iloc[ : , :-1].values\n",
        "y = dataset.iloc[ : , -1].values\n",
        "print(X)"
      ],
      "execution_count": 69,
      "outputs": [
        {
          "output_type": "stream",
          "name": "stdout",
          "text": [
            "[[ 0.051267   0.69956  ]\n",
            " [-0.092742   0.68494  ]\n",
            " [-0.21371    0.69225  ]\n",
            " [-0.375      0.50219  ]\n",
            " [-0.51325    0.46564  ]\n",
            " [-0.52477    0.2098   ]\n",
            " [-0.39804    0.034357 ]\n",
            " [-0.30588   -0.19225  ]\n",
            " [ 0.016705  -0.40424  ]\n",
            " [ 0.13191   -0.51389  ]\n",
            " [ 0.38537   -0.56506  ]\n",
            " [ 0.52938   -0.5212   ]\n",
            " [ 0.63882   -0.24342  ]\n",
            " [ 0.73675   -0.18494  ]\n",
            " [ 0.54666    0.48757  ]\n",
            " [ 0.322      0.5826   ]\n",
            " [ 0.16647    0.53874  ]\n",
            " [-0.046659   0.81652  ]\n",
            " [-0.17339    0.69956  ]\n",
            " [-0.47869    0.63377  ]\n",
            " [-0.60541    0.59722  ]\n",
            " [-0.62846    0.33406  ]\n",
            " [-0.59389    0.005117 ]\n",
            " [-0.42108   -0.27266  ]\n",
            " [-0.11578   -0.39693  ]\n",
            " [ 0.20104   -0.60161  ]\n",
            " [ 0.46601   -0.53582  ]\n",
            " [ 0.67339   -0.53582  ]\n",
            " [-0.13882    0.54605  ]\n",
            " [-0.29435    0.77997  ]\n",
            " [-0.26555    0.96272  ]\n",
            " [-0.16187    0.8019   ]\n",
            " [-0.17339    0.64839  ]\n",
            " [-0.28283    0.47295  ]\n",
            " [-0.36348    0.31213  ]\n",
            " [-0.30012    0.027047 ]\n",
            " [-0.23675   -0.21418  ]\n",
            " [-0.06394   -0.18494  ]\n",
            " [ 0.062788  -0.16301  ]\n",
            " [ 0.22984   -0.41155  ]\n",
            " [ 0.2932    -0.2288   ]\n",
            " [ 0.48329   -0.18494  ]\n",
            " [ 0.64459   -0.14108  ]\n",
            " [ 0.46025    0.012427 ]\n",
            " [ 0.6273     0.15863  ]\n",
            " [ 0.57546    0.26827  ]\n",
            " [ 0.72523    0.44371  ]\n",
            " [ 0.22408    0.52412  ]\n",
            " [ 0.44297    0.67032  ]\n",
            " [ 0.322      0.69225  ]\n",
            " [ 0.13767    0.57529  ]\n",
            " [-0.0063364  0.39985  ]\n",
            " [-0.092742   0.55336  ]\n",
            " [-0.20795    0.35599  ]\n",
            " [-0.20795    0.17325  ]\n",
            " [-0.43836    0.21711  ]\n",
            " [-0.21947   -0.016813 ]\n",
            " [-0.13882   -0.27266  ]\n",
            " [ 0.18376    0.93348  ]\n",
            " [ 0.22408    0.77997  ]\n",
            " [ 0.29896    0.61915  ]\n",
            " [ 0.50634    0.75804  ]\n",
            " [ 0.61578    0.7288   ]\n",
            " [ 0.60426    0.59722  ]\n",
            " [ 0.76555    0.50219  ]\n",
            " [ 0.92684    0.3633   ]\n",
            " [ 0.82316    0.27558  ]\n",
            " [ 0.96141    0.085526 ]\n",
            " [ 0.93836    0.012427 ]\n",
            " [ 0.86348   -0.082602 ]\n",
            " [ 0.89804   -0.20687  ]\n",
            " [ 0.85196   -0.36769  ]\n",
            " [ 0.82892   -0.5212   ]\n",
            " [ 0.79435   -0.55775  ]\n",
            " [ 0.59274   -0.7405   ]\n",
            " [ 0.51786   -0.5943   ]\n",
            " [ 0.46601   -0.41886  ]\n",
            " [ 0.35081   -0.57968  ]\n",
            " [ 0.28744   -0.76974  ]\n",
            " [ 0.085829  -0.75512  ]\n",
            " [ 0.14919   -0.57968  ]\n",
            " [-0.13306   -0.4481   ]\n",
            " [-0.40956   -0.41155  ]\n",
            " [-0.39228   -0.25804  ]\n",
            " [-0.74366   -0.25804  ]\n",
            " [-0.69758    0.041667 ]\n",
            " [-0.75518    0.2902   ]\n",
            " [-0.69758    0.68494  ]\n",
            " [-0.4038     0.70687  ]\n",
            " [-0.38076    0.91886  ]\n",
            " [-0.50749    0.90424  ]\n",
            " [-0.54781    0.70687  ]\n",
            " [ 0.10311    0.77997  ]\n",
            " [ 0.057028   0.91886  ]\n",
            " [-0.10426    0.99196  ]\n",
            " [-0.081221   1.1089   ]\n",
            " [ 0.28744    1.087    ]\n",
            " [ 0.39689    0.82383  ]\n",
            " [ 0.63882    0.88962  ]\n",
            " [ 0.82316    0.66301  ]\n",
            " [ 0.67339    0.64108  ]\n",
            " [ 1.0709     0.10015  ]\n",
            " [-0.046659  -0.57968  ]\n",
            " [-0.23675   -0.63816  ]\n",
            " [-0.15035   -0.36769  ]\n",
            " [-0.49021   -0.3019   ]\n",
            " [-0.46717   -0.13377  ]\n",
            " [-0.28859   -0.060673 ]\n",
            " [-0.61118   -0.067982 ]\n",
            " [-0.66302   -0.21418  ]\n",
            " [-0.59965   -0.41886  ]\n",
            " [-0.72638   -0.082602 ]\n",
            " [-0.83007    0.31213  ]\n",
            " [-0.72062    0.53874  ]\n",
            " [-0.59389    0.49488  ]\n",
            " [-0.48445    0.99927  ]\n",
            " [-0.0063364  0.99927  ]\n",
            " [ 0.63265   -0.030612 ]]\n"
          ]
        }
      ]
    },
    {
      "cell_type": "markdown",
      "metadata": {
        "id": "YvxIPVyMhmKp"
      },
      "source": [
        "## Splitting the dataset into the Training set and Test set"
      ]
    },
    {
      "cell_type": "code",
      "metadata": {
        "id": "AVzJWAXIhxoC"
      },
      "source": [
        "from sklearn.model_selection import train_test_split\n",
        "X_train, X_test, y_train, y_test = train_test_split(X, y, test_size = 0.25, random_state = 0)"
      ],
      "execution_count": 70,
      "outputs": []
    },
    {
      "cell_type": "code",
      "metadata": {
        "id": "P3nS3-6r1i2B",
        "colab": {
          "base_uri": "https://localhost:8080/"
        },
        "outputId": "f8bc297c-39dd-4bb0-9d51-ac14561ee0b2"
      },
      "source": [
        "print(X_train)"
      ],
      "execution_count": 71,
      "outputs": [
        {
          "output_type": "stream",
          "name": "stdout",
          "text": [
            "[[ 0.13767    0.57529  ]\n",
            " [ 0.59274   -0.7405   ]\n",
            " [-0.20795    0.17325  ]\n",
            " [ 0.29896    0.61915  ]\n",
            " [-0.375      0.50219  ]\n",
            " [-0.081221   1.1089   ]\n",
            " [-0.39804    0.034357 ]\n",
            " [-0.21947   -0.016813 ]\n",
            " [ 0.63882    0.88962  ]\n",
            " [-0.50749    0.90424  ]\n",
            " [-0.83007    0.31213  ]\n",
            " [ 0.44297    0.67032  ]\n",
            " [ 0.82316    0.66301  ]\n",
            " [ 0.46601   -0.41886  ]\n",
            " [ 0.67339   -0.53582  ]\n",
            " [-0.17339    0.69956  ]\n",
            " [ 0.52938   -0.5212   ]\n",
            " [ 0.50634    0.75804  ]\n",
            " [-0.46717   -0.13377  ]\n",
            " [ 0.39689    0.82383  ]\n",
            " [ 0.28744   -0.76974  ]\n",
            " [ 0.22408    0.77997  ]\n",
            " [-0.092742   0.68494  ]\n",
            " [ 0.10311    0.77997  ]\n",
            " [ 0.64459   -0.14108  ]\n",
            " [ 0.48329   -0.18494  ]\n",
            " [-0.51325    0.46564  ]\n",
            " [ 0.322      0.5826   ]\n",
            " [-0.046659   0.81652  ]\n",
            " [-0.092742   0.55336  ]\n",
            " [ 0.2932    -0.2288   ]\n",
            " [ 0.062788  -0.16301  ]\n",
            " [-0.52477    0.2098   ]\n",
            " [-0.20795    0.35599  ]\n",
            " [-0.61118   -0.067982 ]\n",
            " [ 0.82316    0.27558  ]\n",
            " [ 0.051267   0.69956  ]\n",
            " [-0.36348    0.31213  ]\n",
            " [-0.13882    0.54605  ]\n",
            " [-0.43836    0.21711  ]\n",
            " [-0.30012    0.027047 ]\n",
            " [-0.42108   -0.27266  ]\n",
            " [-0.16187    0.8019   ]\n",
            " [ 0.057028   0.91886  ]\n",
            " [-0.13882   -0.27266  ]\n",
            " [-0.54781    0.70687  ]\n",
            " [ 1.0709     0.10015  ]\n",
            " [-0.17339    0.64839  ]\n",
            " [ 0.67339    0.64108  ]\n",
            " [ 0.54666    0.48757  ]\n",
            " [ 0.28744    1.087    ]\n",
            " [-0.47869    0.63377  ]\n",
            " [-0.29435    0.77997  ]\n",
            " [ 0.322      0.69225  ]\n",
            " [-0.40956   -0.41155  ]\n",
            " [-0.48445    0.99927  ]\n",
            " [-0.0063364  0.99927  ]\n",
            " [ 0.085829  -0.75512  ]\n",
            " [ 0.86348   -0.082602 ]\n",
            " [ 0.14919   -0.57968  ]\n",
            " [-0.60541    0.59722  ]\n",
            " [-0.72638   -0.082602 ]\n",
            " [ 0.82892   -0.5212   ]\n",
            " [ 0.35081   -0.57968  ]\n",
            " [ 0.20104   -0.60161  ]\n",
            " [-0.06394   -0.18494  ]\n",
            " [-0.13306   -0.4481   ]\n",
            " [-0.15035   -0.36769  ]\n",
            " [ 0.72523    0.44371  ]\n",
            " [-0.28859   -0.060673 ]\n",
            " [ 0.22984   -0.41155  ]\n",
            " [ 0.92684    0.3633   ]\n",
            " [ 0.18376    0.93348  ]\n",
            " [ 0.63882   -0.24342  ]\n",
            " [-0.49021   -0.3019   ]\n",
            " [-0.4038     0.70687  ]\n",
            " [ 0.89804   -0.20687  ]\n",
            " [-0.69758    0.68494  ]\n",
            " [-0.23675   -0.21418  ]\n",
            " [-0.62846    0.33406  ]\n",
            " [-0.39228   -0.25804  ]\n",
            " [ 0.13191   -0.51389  ]\n",
            " [-0.23675   -0.63816  ]\n",
            " [-0.59389    0.49488  ]\n",
            " [ 0.96141    0.085526 ]\n",
            " [ 0.76555    0.50219  ]\n",
            " [ 0.22408    0.52412  ]\n",
            " [ 0.6273     0.15863  ]]\n"
          ]
        }
      ]
    },
    {
      "cell_type": "code",
      "metadata": {
        "id": "8dpDLojm1mVG",
        "colab": {
          "base_uri": "https://localhost:8080/"
        },
        "outputId": "5e88d50b-f14e-4a5e-e0cc-f881da56bb67"
      },
      "source": [
        "print(y_train)"
      ],
      "execution_count": 72,
      "outputs": [
        {
          "output_type": "stream",
          "name": "stdout",
          "text": [
            "[1 0 1 0 1 0 1 1 0 0 0 1 0 0 1 1 1 0 0 0 0 0 1 0 1 1 1 1 1 1 1 1 1 1 0 0 1\n",
            " 1 1 1 1 1 1 0 1 0 0 1 0 1 0 1 1 1 0 0 0 0 0 0 1 0 0 0 1 1 0 0 1 0 1 0 0 1\n",
            " 0 0 0 0 1 1 0 1 0 0 0 0 1 1]\n"
          ]
        }
      ]
    },
    {
      "cell_type": "code",
      "metadata": {
        "id": "qbb7i0DH1qui",
        "colab": {
          "base_uri": "https://localhost:8080/"
        },
        "outputId": "45017d50-5cad-4602-8787-eba4566f04ad"
      },
      "source": [
        "print(X_test)"
      ],
      "execution_count": 73,
      "outputs": [
        {
          "output_type": "stream",
          "name": "stdout",
          "text": [
            "[[-0.75518    0.2902   ]\n",
            " [-0.69758    0.041667 ]\n",
            " [-0.10426    0.99196  ]\n",
            " [ 0.016705  -0.40424  ]\n",
            " [-0.38076    0.91886  ]\n",
            " [-0.59389    0.005117 ]\n",
            " [-0.30588   -0.19225  ]\n",
            " [ 0.38537   -0.56506  ]\n",
            " [ 0.57546    0.26827  ]\n",
            " [ 0.93836    0.012427 ]\n",
            " [-0.28283    0.47295  ]\n",
            " [-0.59965   -0.41886  ]\n",
            " [-0.21371    0.69225  ]\n",
            " [-0.0063364  0.39985  ]\n",
            " [ 0.63265   -0.030612 ]\n",
            " [ 0.79435   -0.55775  ]\n",
            " [-0.26555    0.96272  ]\n",
            " [ 0.46025    0.012427 ]\n",
            " [-0.74366   -0.25804  ]\n",
            " [ 0.51786   -0.5943   ]\n",
            " [ 0.61578    0.7288   ]\n",
            " [-0.046659  -0.57968  ]\n",
            " [ 0.16647    0.53874  ]\n",
            " [-0.11578   -0.39693  ]\n",
            " [-0.66302   -0.21418  ]\n",
            " [ 0.73675   -0.18494  ]\n",
            " [ 0.60426    0.59722  ]\n",
            " [ 0.85196   -0.36769  ]\n",
            " [ 0.46601   -0.53582  ]\n",
            " [-0.72062    0.53874  ]]\n"
          ]
        }
      ]
    },
    {
      "cell_type": "code",
      "metadata": {
        "id": "kj1hnFAR1s5w",
        "colab": {
          "base_uri": "https://localhost:8080/"
        },
        "outputId": "7f3c6e8e-14b8-43a2-970d-f36be3af5414"
      },
      "source": [
        "print(y_test)"
      ],
      "execution_count": 74,
      "outputs": [
        {
          "output_type": "stream",
          "name": "stdout",
          "text": [
            "[0 0 0 1 0 1 1 1 1 0 1 0 1 1 0 0 1 1 0 0 0 0 1 1 0 1 0 0 1 0]\n"
          ]
        }
      ]
    },
    {
      "cell_type": "markdown",
      "metadata": {
        "id": "kW3c7UYih0hT"
      },
      "source": [
        "## Feature Scaling"
      ]
    },
    {
      "cell_type": "code",
      "metadata": {
        "id": "9fQlDPKCh8sc"
      },
      "source": [
        "from sklearn.preprocessing import StandardScaler\n",
        "sc = StandardScaler()\n",
        "X_train = sc.fit_transform(X_train)\n",
        "X_test = sc.transform(X_test)"
      ],
      "execution_count": 75,
      "outputs": []
    },
    {
      "cell_type": "code",
      "metadata": {
        "id": "syrnD1Op2BSR",
        "outputId": "2b44edb9-239a-4134-8d2b-a9305a3e717e",
        "colab": {
          "base_uri": "https://localhost:8080/"
        }
      },
      "source": [
        "print(X_train)"
      ],
      "execution_count": 76,
      "outputs": [
        {
          "output_type": "stream",
          "name": "stdout",
          "text": [
            "[[ 0.16475493  0.68440791]\n",
            " [ 1.11848143 -1.85627026]\n",
            " [-0.55958848 -0.09189701]\n",
            " [ 0.50278325  0.76909782]\n",
            " [-0.9096885   0.54325805]\n",
            " [-0.29399241  1.71476327]\n",
            " [-0.95797526 -0.36008754]\n",
            " [-0.58373187 -0.45889244]\n",
            " [ 1.21505497  1.2913523 ]\n",
            " [-1.18735836  1.31958228]\n",
            " [-1.863415    0.17626841]\n",
            " [ 0.8045965   0.86790273]\n",
            " [ 1.60139101  0.85378774]\n",
            " [ 0.85288326 -1.23521087]\n",
            " [ 1.28750607 -1.46105065]\n",
            " [-0.48715833  0.92436267]\n",
            " [ 0.98569283 -1.43282068]\n",
            " [ 0.93740606  1.03728256]\n",
            " [-1.10285652 -0.68472642]\n",
            " [ 0.70802296  1.16431743]\n",
            " [ 0.47863987 -1.9127302 ]\n",
            " [ 0.34585126  1.07962752]\n",
            " [-0.31813789  0.8961327 ]\n",
            " [ 0.09232478  1.07962752]\n",
            " [ 1.22714762 -0.69884141]\n",
            " [ 0.88909834 -0.78353132]\n",
            " [-1.19943005  0.47268312]\n",
            " [ 0.55107001  0.69852289]\n",
            " [-0.22155807  1.15020245]\n",
            " [-0.31813789  0.64206295]\n",
            " [ 0.49071156 -0.86822124]\n",
            " [ 0.00781874 -0.74118637]\n",
            " [-1.22357343 -0.02132208]\n",
            " [-0.55958848  0.26095833]\n",
            " [-1.40466977 -0.55769541]\n",
            " [ 1.60139101  0.10569348]\n",
            " [-0.01632673  0.92436267]\n",
            " [-0.88554511  0.17626841]\n",
            " [-0.41470723  0.62794796]\n",
            " [-1.0424771  -0.00720709]\n",
            " [-0.75275651 -0.37420252]\n",
            " [-1.00626203 -0.95291115]\n",
            " [-0.46301495  1.12197247]\n",
            " [-0.00425295  1.34781225]\n",
            " [-0.41470723 -0.95291115]\n",
            " [-1.2718602   0.93847766]\n",
            " [ 2.1205995  -0.23304687]\n",
            " [-0.48715833  0.82555777]\n",
            " [ 1.28750607  0.81144278]\n",
            " [ 1.0219079   0.51502808]\n",
            " [ 0.47863987  1.67247623]\n",
            " [-1.1269999   0.7973278 ]\n",
            " [-0.74066386  1.07962752]\n",
            " [ 0.55107001  0.91024768]\n",
            " [-0.98211865 -1.22109589]\n",
            " [-1.13907159  1.50307709]\n",
            " [-0.13705078  1.50307709]\n",
            " [ 0.05610761 -1.88450023]\n",
            " [ 1.68589285 -0.58592538]\n",
            " [ 0.18889831 -1.54574057]\n",
            " [-1.39257712  0.72675287]\n",
            " [-1.6461036  -0.58592538]\n",
            " [ 1.6134627  -1.43282068]\n",
            " [ 0.61144943 -1.54574057]\n",
            " [ 0.29756449 -1.58808552]\n",
            " [-0.25777524 -0.78353132]\n",
            " [-0.40263553 -1.29167082]\n",
            " [-0.43887157 -1.13640597]\n",
            " [ 1.3961513   0.43033816]\n",
            " [-0.72859216 -0.54358235]\n",
            " [ 0.35792295 -1.22109589]\n",
            " [ 1.81868146  0.27507332]\n",
            " [ 0.26134942  1.37604222]\n",
            " [ 1.21505497 -0.89645121]\n",
            " [-1.15114329 -1.0093711 ]\n",
            " [-0.97004695  0.93847766]\n",
            " [ 1.758323   -0.82587628]\n",
            " [-1.58574514  0.8961327 ]\n",
            " [-0.61994694 -0.83999127]\n",
            " [-1.44088484  0.21861337]\n",
            " [-0.94590357 -0.92468118]\n",
            " [ 0.15268324 -1.41870569]\n",
            " [-0.61994694 -1.65866045]\n",
            " [-1.36843373  0.52914306]\n",
            " [ 1.89113257 -0.26128457]\n",
            " [ 1.48065314  0.54325805]\n",
            " [ 0.34585126  0.58560301]\n",
            " [ 1.19091158 -0.12012698]]\n"
          ]
        }
      ]
    },
    {
      "cell_type": "code",
      "metadata": {
        "id": "JUd6iBRp2C3L",
        "outputId": "d8b11ff5-92cc-4943-99be-5883de4ed05a",
        "colab": {
          "base_uri": "https://localhost:8080/"
        }
      },
      "source": [
        "print(X_test)"
      ],
      "execution_count": 77,
      "outputs": [
        {
          "output_type": "stream",
          "name": "stdout",
          "text": [
            "[[-1.70646205  0.13392346]\n",
            " [-1.58574514 -0.34597255]\n",
            " [-0.34227708  1.48896211]\n",
            " [-0.08876108 -1.2069809 ]\n",
            " [-0.92176019  1.34781225]\n",
            " [-1.36843373 -0.41654748]\n",
            " [-0.7648282  -0.79764631]\n",
            " [ 0.68387958 -1.51751059]\n",
            " [ 1.08226636  0.0915785 ]\n",
            " [ 1.84282484 -0.40243249]\n",
            " [-0.71652047  0.4867981 ]\n",
            " [-1.38050542 -1.23521087]\n",
            " [-0.57166017  0.91024768]\n",
            " [-0.13705078  0.34564825]\n",
            " [ 1.202124   -0.48553713]\n",
            " [ 1.5410116  -1.50339561]\n",
            " [-0.6803054   1.43250216]\n",
            " [ 0.84081157 -0.40243249]\n",
            " [-1.68231867 -0.92468118]\n",
            " [ 0.96154944 -1.57397054]\n",
            " [ 1.1667682   0.98082261]\n",
            " [-0.22155807 -1.54574057]\n",
            " [ 0.22511338  0.61383298]\n",
            " [-0.36642046 -1.19286592]\n",
            " [-1.51331499 -0.83999127]\n",
            " [ 1.42029468 -0.78353132]\n",
            " [ 1.14262482  0.72675287]\n",
            " [ 1.66174947 -1.13640597]\n",
            " [ 0.85288326 -1.46105065]\n",
            " [-1.63403191  0.61383298]]\n"
          ]
        }
      ]
    },
    {
      "cell_type": "markdown",
      "source": [
        "# train KNN model 1 K= 1"
      ],
      "metadata": {
        "id": "-yISUS_kO4Gk"
      }
    },
    {
      "cell_type": "markdown",
      "metadata": {
        "id": "0W_yKULtO4Gq"
      },
      "source": [
        "## Training the K-NN model on the Training set"
      ]
    },
    {
      "cell_type": "code",
      "metadata": {
        "outputId": "5966888b-1f76-4ed1-dcf5-ecc7698f55c8",
        "colab": {
          "base_uri": "https://localhost:8080/"
        },
        "id": "2sZmRbWNO4Gq"
      },
      "source": [
        "from sklearn.neighbors import KNeighborsClassifier\n",
        "classifier = KNeighborsClassifier(n_neighbors = 1 , p = 2)\n",
        "classifier.fit(X_train, y_train)"
      ],
      "execution_count": 103,
      "outputs": [
        {
          "output_type": "execute_result",
          "data": {
            "text/plain": [
              "KNeighborsClassifier(n_neighbors=1)"
            ]
          },
          "metadata": {},
          "execution_count": 103
        }
      ]
    },
    {
      "cell_type": "markdown",
      "metadata": {
        "id": "sp0f3KJbO4Gq"
      },
      "source": [
        "## Predicting the Test set results"
      ]
    },
    {
      "cell_type": "code",
      "metadata": {
        "outputId": "ab472b5c-68b9-42ba-ab79-af15f404f79c",
        "colab": {
          "base_uri": "https://localhost:8080/"
        },
        "id": "vOohYjvnO4Gr"
      },
      "source": [
        "y_pred = classifier.predict(X_test)\n",
        "print(np.concatenate((y_pred.reshape(len(y_pred),1), y_test.reshape(len(y_test),1)),1))"
      ],
      "execution_count": 104,
      "outputs": [
        {
          "output_type": "stream",
          "name": "stdout",
          "text": [
            "[[0 0]\n",
            " [0 0]\n",
            " [0 0]\n",
            " [1 1]\n",
            " [0 0]\n",
            " [0 1]\n",
            " [1 1]\n",
            " [0 1]\n",
            " [1 1]\n",
            " [0 0]\n",
            " [1 1]\n",
            " [0 0]\n",
            " [1 1]\n",
            " [1 1]\n",
            " [1 0]\n",
            " [0 0]\n",
            " [1 1]\n",
            " [1 1]\n",
            " [0 0]\n",
            " [1 0]\n",
            " [0 0]\n",
            " [0 0]\n",
            " [1 1]\n",
            " [0 1]\n",
            " [0 0]\n",
            " [1 1]\n",
            " [0 0]\n",
            " [0 0]\n",
            " [1 1]\n",
            " [1 0]]\n"
          ]
        }
      ]
    },
    {
      "cell_type": "markdown",
      "metadata": {
        "id": "T8YW2PnAO4Gr"
      },
      "source": [
        "## Making the Confusion Matrix"
      ]
    },
    {
      "cell_type": "code",
      "metadata": {
        "outputId": "702265cf-840c-41ee-fbb7-97beef6f1074",
        "colab": {
          "base_uri": "https://localhost:8080/"
        },
        "id": "SnsK66TKO4Gr"
      },
      "source": [
        "from sklearn.metrics import confusion_matrix, accuracy_score\n",
        "from sklearn.metrics import precision_score\n",
        "from sklearn.metrics import recall_score\n",
        "cm = confusion_matrix(y_test, y_pred)\n",
        "print(cm)\n",
        "print(\"accuracy_score = \",accuracy_score(y_test, y_pred))\n",
        "print(\"precision_score = \",precision_score(y_test, y_pred))\n",
        "print( \"recall_score = \",recall_score(y_test, y_pred))"
      ],
      "execution_count": 111,
      "outputs": [
        {
          "output_type": "stream",
          "name": "stdout",
          "text": [
            "[[13  3]\n",
            " [ 3 11]]\n",
            "accuracy_score =  0.8\n",
            "precision_score =  0.7857142857142857\n",
            "recall_score =  0.7857142857142857\n"
          ]
        }
      ]
    },
    {
      "cell_type": "markdown",
      "metadata": {
        "id": "qj9XP8EuO4Gr"
      },
      "source": [
        "## Visualising the Training set results"
      ]
    },
    {
      "cell_type": "code",
      "metadata": {
        "outputId": "39e3f6d4-6c79-42ae-ea1b-b442b8d40311",
        "colab": {
          "base_uri": "https://localhost:8080/",
          "height": 350
        },
        "id": "cdr-OZyqO4Gr"
      },
      "source": [
        "from matplotlib.colors import ListedColormap\n",
        "X_set, y_set = sc.inverse_transform(X_train), y_train\n",
        "X1, X2 = np.meshgrid(np.arange(start = X_set[:, 0].min() - 0.5, stop = X_set[:, 0].max()+ 0.5, step = 0.25),\n",
        "                     np.arange(start = X_set[:, 1].min() - 0.5, stop = X_set[:, 1].max() + 0.5, step = 0.25))\n",
        "\n",
        "plt.contourf(X1, X2,\n",
        "          classifier.predict(sc.transform(np.array([X1.ravel(), X2.ravel()]).T)).reshape(X1.shape),\n",
        "           alpha = 0.6, cmap = ListedColormap(('red', 'green')))\n",
        "plt.xlim(X1.min()-0.2 , X1.max() + 0.2)\n",
        "plt.ylim(X2.min()-0.2 , X2.max() + 0.2)\n",
        "for i, j in enumerate(np.unique(y_set)):\n",
        "    plt.scatter(X_set[y_set == j, 0], X_set[y_set == j, 1], c = ListedColormap(('red', 'green'))(i), label = j)\n",
        "plt.title(' KNN (Training set) ')\n",
        "plt.xlabel(' Test 1 ')\n",
        "plt.ylabel(' Test 2 ')\n",
        "plt.legend()\n",
        "plt.show()"
      ],
      "execution_count": 112,
      "outputs": [
        {
          "output_type": "stream",
          "name": "stderr",
          "text": [
            "WARNING:matplotlib.axes._axes:*c* argument looks like a single numeric RGB or RGBA sequence, which should be avoided as value-mapping will have precedence in case its length matches with *x* & *y*.  Please use the *color* keyword-argument or provide a 2-D array with a single row if you intend to specify the same RGB or RGBA value for all points.\n",
            "WARNING:matplotlib.axes._axes:*c* argument looks like a single numeric RGB or RGBA sequence, which should be avoided as value-mapping will have precedence in case its length matches with *x* & *y*.  Please use the *color* keyword-argument or provide a 2-D array with a single row if you intend to specify the same RGB or RGBA value for all points.\n"
          ]
        },
        {
          "output_type": "display_data",
          "data": {
            "text/plain": [
              "<Figure size 432x288 with 1 Axes>"
            ],
            "image/png": "[encoded data removed]"
          },
          "metadata": {
            "needs_background": "light"
          }
        }
      ]
    },
    {
      "cell_type": "markdown",
      "metadata": {
        "id": "sSrW_MdVO4Gr"
      },
      "source": [
        "## Visualising the Test set results"
      ]
    },
    {
      "cell_type": "code",
      "metadata": {
        "colab": {
          "base_uri": "https://localhost:8080/",
          "height": 350
        },
        "outputId": "d3d78983-8621-4162-cd23-0baf51cbf823",
        "id": "hFRpFlLNO4Gs"
      },
      "source": [
        "from matplotlib.colors import ListedColormap\n",
        "X_set, y_set = sc.inverse_transform(X_test), y_test\n",
        "X1, X2 = np.meshgrid(np.arange(start = X_set[:, 0].min() - 0.5, stop = X_set[:, 0].max()+ 0.5, step = 0.25),\n",
        "                     np.arange(start = X_set[:, 1].min() - 0.5, stop = X_set[:, 1].max() + 0.5, step = 0.25))\n",
        "\n",
        "plt.contourf(X1, X2,\n",
        "          classifier.predict(sc.transform(np.array([X1.ravel(), X2.ravel()]).T)).reshape(X1.shape),\n",
        "           alpha = 0.6, cmap = ListedColormap(('red', 'green')))\n",
        "plt.xlim(X1.min()-0.2 , X1.max() + 0.2)\n",
        "plt.ylim(X2.min()-0.2 , X2.max() + 0.2)\n",
        "for i, j in enumerate(np.unique(y_set)):\n",
        "    plt.scatter(X_set[y_set == j, 0], X_set[y_set == j, 1], c = ListedColormap(('red', 'green'))(i), label = j)\n",
        "plt.title('KNN (Test set)')\n",
        "plt.xlabel(' Test 1 ')\n",
        "plt.ylabel(' Test 2 ')\n",
        "plt.legend()\n",
        "plt.show()\n"
      ],
      "execution_count": 108,
      "outputs": [
        {
          "output_type": "stream",
          "name": "stderr",
          "text": [
            "WARNING:matplotlib.axes._axes:*c* argument looks like a single numeric RGB or RGBA sequence, which should be avoided as value-mapping will have precedence in case its length matches with *x* & *y*.  Please use the *color* keyword-argument or provide a 2-D array with a single row if you intend to specify the same RGB or RGBA value for all points.\n",
            "WARNING:matplotlib.axes._axes:*c* argument looks like a single numeric RGB or RGBA sequence, which should be avoided as value-mapping will have precedence in case its length matches with *x* & *y*.  Please use the *color* keyword-argument or provide a 2-D array with a single row if you intend to specify the same RGB or RGBA value for all points.\n"
          ]
        },
        {
          "output_type": "display_data",
          "data": {
            "text/plain": [
              "<Figure size 432x288 with 1 Axes>"
            ],
            "image/png": "[encoded data removed]"
          },
          "metadata": {
            "needs_background": "light"
          }
        }
      ]
    },
    {
      "cell_type": "markdown",
      "source": [
        "# train KNN model 1 K= 7"
      ],
      "metadata": {
        "id": "BsHGMC-SvmoJ"
      }
    },
    {
      "cell_type": "markdown",
      "metadata": {
        "id": "yt2umv-yvmoK"
      },
      "source": [
        "## Training the K-NN model on the Training set"
      ]
    },
    {
      "cell_type": "code",
      "metadata": {
        "outputId": "341c912a-edab-4d1c-ec94-9ba8feb4e8e6",
        "colab": {
          "base_uri": "https://localhost:8080/"
        },
        "id": "wNGOknjpvmoK"
      },
      "source": [
        "from sklearn.neighbors import KNeighborsClassifier\n",
        "classifier = KNeighborsClassifier(n_neighbors = 7 , p = 2)\n",
        "classifier.fit(X_train, y_train)"
      ],
      "execution_count": 113,
      "outputs": [
        {
          "output_type": "execute_result",
          "data": {
            "text/plain": [
              "KNeighborsClassifier(n_neighbors=7)"
            ]
          },
          "metadata": {},
          "execution_count": 113
        }
      ]
    },
    {
      "cell_type": "markdown",
      "metadata": {
        "id": "aa-u-Z3FvmoK"
      },
      "source": [
        "## Predicting the Test set results"
      ]
    },
    {
      "cell_type": "code",
      "metadata": {
        "outputId": "b42f1499-4076-450e-8283-0eccfbfe5b13",
        "colab": {
          "base_uri": "https://localhost:8080/"
        },
        "id": "F_KWs2_MvmoK"
      },
      "source": [
        "y_pred = classifier.predict(X_test)\n",
        "print(np.concatenate((y_pred.reshape(len(y_pred),1), y_test.reshape(len(y_test),1)),1))"
      ],
      "execution_count": 114,
      "outputs": [
        {
          "output_type": "stream",
          "name": "stdout",
          "text": [
            "[[1 0]\n",
            " [0 0]\n",
            " [1 0]\n",
            " [1 1]\n",
            " [0 0]\n",
            " [1 1]\n",
            " [1 1]\n",
            " [0 1]\n",
            " [0 1]\n",
            " [0 0]\n",
            " [1 1]\n",
            " [0 0]\n",
            " [1 1]\n",
            " [1 1]\n",
            " [1 0]\n",
            " [0 0]\n",
            " [1 1]\n",
            " [1 1]\n",
            " [0 0]\n",
            " [0 0]\n",
            " [0 0]\n",
            " [0 0]\n",
            " [1 1]\n",
            " [1 1]\n",
            " [0 0]\n",
            " [1 1]\n",
            " [0 0]\n",
            " [1 0]\n",
            " [1 1]\n",
            " [0 0]]\n"
          ]
        }
      ]
    },
    {
      "cell_type": "markdown",
      "metadata": {
        "id": "ktZURbvyvmoL"
      },
      "source": [
        "## Making the Confusion Matrix"
      ]
    },
    {
      "cell_type": "code",
      "metadata": {
        "outputId": "e015dfaf-08ce-43d2-f082-a138ae9e8b2b",
        "colab": {
          "base_uri": "https://localhost:8080/"
        },
        "id": "BVQxOND8vmoL"
      },
      "source": [
        "from sklearn.metrics import confusion_matrix, accuracy_score\n",
        "from sklearn.metrics import precision_score\n",
        "from sklearn.metrics import recall_score\n",
        "cm = confusion_matrix(y_test, y_pred)\n",
        "print(cm)\n",
        "print(\"accuracy_score = \",accuracy_score(y_test, y_pred))\n",
        "print(\"precision_score = \",precision_score(y_test, y_pred))\n",
        "print( \"recall_score = \",recall_score(y_test, y_pred))"
      ],
      "execution_count": 115,
      "outputs": [
        {
          "output_type": "stream",
          "name": "stdout",
          "text": [
            "[[12  4]\n",
            " [ 2 12]]\n",
            "accuracy_score =  0.8\n",
            "precision_score =  0.75\n",
            "recall_score =  0.8571428571428571\n"
          ]
        }
      ]
    },
    {
      "cell_type": "markdown",
      "metadata": {
        "id": "de2Uwh3FvmoL"
      },
      "source": [
        "## Visualising the Training set results"
      ]
    },
    {
      "cell_type": "code",
      "metadata": {
        "outputId": "bdc03dbf-0e71-4253-8eee-b62f26979ed1",
        "colab": {
          "base_uri": "https://localhost:8080/",
          "height": 350
        },
        "id": "D7CJLZjVvmoL"
      },
      "source": [
        "from matplotlib.colors import ListedColormap\n",
        "X_set, y_set = sc.inverse_transform(X_train), y_train\n",
        "X1, X2 = np.meshgrid(np.arange(start = X_set[:, 0].min() - 0.5, stop = X_set[:, 0].max()+ 0.5, step = 0.25),\n",
        "                     np.arange(start = X_set[:, 1].min() - 0.5, stop = X_set[:, 1].max() + 0.5, step = 0.25))\n",
        "\n",
        "plt.contourf(X1, X2,\n",
        "          classifier.predict(sc.transform(np.array([X1.ravel(), X2.ravel()]).T)).reshape(X1.shape),\n",
        "           alpha = 0.6, cmap = ListedColormap(('red', 'green')))\n",
        "plt.xlim(X1.min()-0.2 , X1.max() + 0.2)\n",
        "plt.ylim(X2.min()-0.2 , X2.max() + 0.2)\n",
        "for i, j in enumerate(np.unique(y_set)):\n",
        "    plt.scatter(X_set[y_set == j, 0], X_set[y_set == j, 1], c = ListedColormap(('red', 'green'))(i), label = j)\n",
        "plt.title(' KNN (Training set) ')\n",
        "plt.xlabel(' Test 1 ')\n",
        "plt.ylabel(' Test 2 ')\n",
        "plt.legend()\n",
        "plt.show()"
      ],
      "execution_count": 116,
      "outputs": [
        {
          "output_type": "stream",
          "name": "stderr",
          "text": [
            "WARNING:matplotlib.axes._axes:*c* argument looks like a single numeric RGB or RGBA sequence, which should be avoided as value-mapping will have precedence in case its length matches with *x* & *y*.  Please use the *color* keyword-argument or provide a 2-D array with a single row if you intend to specify the same RGB or RGBA value for all points.\n",
            "WARNING:matplotlib.axes._axes:*c* argument looks like a single numeric RGB or RGBA sequence, which should be avoided as value-mapping will have precedence in case its length matches with *x* & *y*.  Please use the *color* keyword-argument or provide a 2-D array with a single row if you intend to specify the same RGB or RGBA value for all points.\n"
          ]
        },
        {
          "output_type": "display_data",
          "data": {
            "text/plain": [
              "<Figure size 432x288 with 1 Axes>"
            ],
            "image/png": "[encoded data removed]"
          },
          "metadata": {
            "needs_background": "light"
          }
        }
      ]
    },
    {
      "cell_type": "markdown",
      "metadata": {
        "id": "AiOF54YlvmoL"
      },
      "source": [
        "## Visualising the Test set results"
      ]
    },
    {
      "cell_type": "code",
      "metadata": {
        "colab": {
          "base_uri": "https://localhost:8080/",
          "height": 350
        },
        "outputId": "2cb569da-a7ed-426f-e255-e589165a4543",
        "id": "lRN0GhwKvmoL"
      },
      "source": [
        "from matplotlib.colors import ListedColormap\n",
        "X_set, y_set = sc.inverse_transform(X_test), y_test\n",
        "X1, X2 = np.meshgrid(np.arange(start = X_set[:, 0].min() - 0.5, stop = X_set[:, 0].max()+ 0.5, step = 0.25),\n",
        "                     np.arange(start = X_set[:, 1].min() - 0.5, stop = X_set[:, 1].max() + 0.5, step = 0.25))\n",
        "\n",
        "plt.contourf(X1, X2,\n",
        "          classifier.predict(sc.transform(np.array([X1.ravel(), X2.ravel()]).T)).reshape(X1.shape),\n",
        "           alpha = 0.6, cmap = ListedColormap(('red', 'green')))\n",
        "plt.xlim(X1.min()-0.2 , X1.max() + 0.2)\n",
        "plt.ylim(X2.min()-0.2 , X2.max() + 0.2)\n",
        "for i, j in enumerate(np.unique(y_set)):\n",
        "    plt.scatter(X_set[y_set == j, 0], X_set[y_set == j, 1], c = ListedColormap(('red', 'green'))(i), label = j)\n",
        "plt.title('KNN (Test set)')\n",
        "plt.xlabel(' Test 1 ')\n",
        "plt.ylabel(' Test 2 ')\n",
        "plt.legend()\n",
        "plt.show()\n"
      ],
      "execution_count": 117,
      "outputs": [
        {
          "output_type": "stream",
          "name": "stderr",
          "text": [
            "WARNING:matplotlib.axes._axes:*c* argument looks like a single numeric RGB or RGBA sequence, which should be avoided as value-mapping will have precedence in case its length matches with *x* & *y*.  Please use the *color* keyword-argument or provide a 2-D array with a single row if you intend to specify the same RGB or RGBA value for all points.\n",
            "WARNING:matplotlib.axes._axes:*c* argument looks like a single numeric RGB or RGBA sequence, which should be avoided as value-mapping will have precedence in case its length matches with *x* & *y*.  Please use the *color* keyword-argument or provide a 2-D array with a single row if you intend to specify the same RGB or RGBA value for all points.\n"
          ]
        },
        {
          "output_type": "display_data",
          "data": {
            "text/plain": [
              "<Figure size 432x288 with 1 Axes>"
            ],
            "image/png": "[encoded data removed]"
          },
          "metadata": {
            "needs_background": "light"
          }
        }
      ]
    },
    {
      "cell_type": "markdown",
      "source": [
        "# train KNN model 1 K= 13"
      ],
      "metadata": {
        "id": "AmAKhmfTvmw2"
      }
    },
    {
      "cell_type": "markdown",
      "metadata": {
        "id": "H6sA8f1Vvmw2"
      },
      "source": [
        "## Training the K-NN model on the Training set"
      ]
    },
    {
      "cell_type": "code",
      "metadata": {
        "outputId": "1a5bbeda-cde3-4983-9a7a-fda836c9ff6a",
        "colab": {
          "base_uri": "https://localhost:8080/"
        },
        "id": "3DK94xvZvmw2"
      },
      "source": [
        "from sklearn.neighbors import KNeighborsClassifier\n",
        "classifier = KNeighborsClassifier(n_neighbors = 13 , p = 2)\n",
        "classifier.fit(X_train, y_train)"
      ],
      "execution_count": 118,
      "outputs": [
        {
          "output_type": "execute_result",
          "data": {
            "text/plain": [
              "KNeighborsClassifier(n_neighbors=13)"
            ]
          },
          "metadata": {},
          "execution_count": 118
        }
      ]
    },
    {
      "cell_type": "markdown",
      "metadata": {
        "id": "6OWuua66vmw3"
      },
      "source": [
        "## Predicting the Test set results"
      ]
    },
    {
      "cell_type": "code",
      "metadata": {
        "outputId": "f8dc8719-64b8-4240-e513-2681182dfec5",
        "colab": {
          "base_uri": "https://localhost:8080/"
        },
        "id": "rwNCarmlvmw3"
      },
      "source": [
        "y_pred = classifier.predict(X_test)\n",
        "print(np.concatenate((y_pred.reshape(len(y_pred),1), y_test.reshape(len(y_test),1)),1))"
      ],
      "execution_count": 119,
      "outputs": [
        {
          "output_type": "stream",
          "name": "stdout",
          "text": [
            "[[1 0]\n",
            " [1 0]\n",
            " [1 0]\n",
            " [1 1]\n",
            " [1 0]\n",
            " [1 1]\n",
            " [1 1]\n",
            " [1 1]\n",
            " [1 1]\n",
            " [0 0]\n",
            " [1 1]\n",
            " [0 0]\n",
            " [1 1]\n",
            " [1 1]\n",
            " [1 0]\n",
            " [0 0]\n",
            " [0 1]\n",
            " [1 1]\n",
            " [0 0]\n",
            " [1 0]\n",
            " [0 0]\n",
            " [0 0]\n",
            " [1 1]\n",
            " [1 1]\n",
            " [0 0]\n",
            " [0 1]\n",
            " [0 0]\n",
            " [0 0]\n",
            " [1 1]\n",
            " [1 0]]\n"
          ]
        }
      ]
    },
    {
      "cell_type": "markdown",
      "metadata": {
        "id": "OyK2xGl0vmw3"
      },
      "source": [
        "## Making the Confusion Matrix"
      ]
    },
    {
      "cell_type": "code",
      "metadata": {
        "outputId": "723c21e6-7c8e-489c-9a17-0f568f0ad8a4",
        "colab": {
          "base_uri": "https://localhost:8080/"
        },
        "id": "a2BV9Y8Evmw3"
      },
      "source": [
        "from sklearn.metrics import confusion_matrix, accuracy_score\n",
        "from sklearn.metrics import precision_score\n",
        "from sklearn.metrics import recall_score\n",
        "cm = confusion_matrix(y_test, y_pred)\n",
        "print(cm)\n",
        "print(\"accuracy_score = \",accuracy_score(y_test, y_pred))\n",
        "print(\"precision_score = \",precision_score(y_test, y_pred))\n",
        "print( \"recall_score = \",recall_score(y_test, y_pred))"
      ],
      "execution_count": 120,
      "outputs": [
        {
          "output_type": "stream",
          "name": "stdout",
          "text": [
            "[[ 9  7]\n",
            " [ 2 12]]\n",
            "accuracy_score =  0.7\n",
            "precision_score =  0.631578947368421\n",
            "recall_score =  0.8571428571428571\n"
          ]
        }
      ]
    },
    {
      "cell_type": "markdown",
      "metadata": {
        "id": "kNhcfW-Jvmw4"
      },
      "source": [
        "## Visualising the Training set results"
      ]
    },
    {
      "cell_type": "code",
      "metadata": {
        "outputId": "451ff93b-8946-4017-80d6-a27b30dcd4bd",
        "colab": {
          "base_uri": "https://localhost:8080/",
          "height": 350
        },
        "id": "u1JcTUKuvmw4"
      },
      "source": [
        "from matplotlib.colors import ListedColormap\n",
        "X_set, y_set = sc.inverse_transform(X_train), y_train\n",
        "X1, X2 = np.meshgrid(np.arange(start = X_set[:, 0].min() - 0.5, stop = X_set[:, 0].max()+ 0.5, step = 0.25),\n",
        "                     np.arange(start = X_set[:, 1].min() - 0.5, stop = X_set[:, 1].max() + 0.5, step = 0.25))\n",
        "\n",
        "plt.contourf(X1, X2,\n",
        "          classifier.predict(sc.transform(np.array([X1.ravel(), X2.ravel()]).T)).reshape(X1.shape),\n",
        "           alpha = 0.6, cmap = ListedColormap(('red', 'green')))\n",
        "plt.xlim(X1.min()-0.2 , X1.max() + 0.2)\n",
        "plt.ylim(X2.min()-0.2 , X2.max() + 0.2)\n",
        "for i, j in enumerate(np.unique(y_set)):\n",
        "    plt.scatter(X_set[y_set == j, 0], X_set[y_set == j, 1], c = ListedColormap(('red', 'green'))(i), label = j)\n",
        "plt.title(' KNN (Training set) ')\n",
        "plt.xlabel(' Test 1 ')\n",
        "plt.ylabel(' Test 2 ')\n",
        "plt.legend()\n",
        "plt.show()"
      ],
      "execution_count": 121,
      "outputs": [
        {
          "output_type": "stream",
          "name": "stderr",
          "text": [
            "WARNING:matplotlib.axes._axes:*c* argument looks like a single numeric RGB or RGBA sequence, which should be avoided as value-mapping will have precedence in case its length matches with *x* & *y*.  Please use the *color* keyword-argument or provide a 2-D array with a single row if you intend to specify the same RGB or RGBA value for all points.\n",
            "WARNING:matplotlib.axes._axes:*c* argument looks like a single numeric RGB or RGBA sequence, which should be avoided as value-mapping will have precedence in case its length matches with *x* & *y*.  Please use the *color* keyword-argument or provide a 2-D array with a single row if you intend to specify the same RGB or RGBA value for all points.\n"
          ]
        },
        {
          "output_type": "display_data",
          "data": {
            "text/plain": [
              "<Figure size 432x288 with 1 Axes>"
            ],
            "image/png": "[encoded data removed]"
          },
          "metadata": {
            "needs_background": "light"
          }
        }
      ]
    },
    {
      "cell_type": "markdown",
      "metadata": {
        "id": "KpP7SDzZvmw4"
      },
      "source": [
        "## Visualising the Test set results"
      ]
    },
    {
      "cell_type": "code",
      "metadata": {
        "colab": {
          "base_uri": "https://localhost:8080/",
          "height": 350
        },
        "outputId": "afbf5ac2-497c-44b8-cd3d-42233014c980",
        "id": "iWjS_QWMvmw4"
      },
      "source": [
        "from matplotlib.colors import ListedColormap\n",
        "X_set, y_set = sc.inverse_transform(X_test), y_test\n",
        "X1, X2 = np.meshgrid(np.arange(start = X_set[:, 0].min() - 0.5, stop = X_set[:, 0].max()+ 0.5, step = 0.25),\n",
        "                     np.arange(start = X_set[:, 1].min() - 0.5, stop = X_set[:, 1].max() + 0.5, step = 0.25))\n",
        "\n",
        "plt.contourf(X1, X2,\n",
        "          classifier.predict(sc.transform(np.array([X1.ravel(), X2.ravel()]).T)).reshape(X1.shape),\n",
        "           alpha = 0.6, cmap = ListedColormap(('red', 'green')))\n",
        "plt.xlim(X1.min()-0.2 , X1.max() + 0.2)\n",
        "plt.ylim(X2.min()-0.2 , X2.max() + 0.2)\n",
        "for i, j in enumerate(np.unique(y_set)):\n",
        "    plt.scatter(X_set[y_set == j, 0], X_set[y_set == j, 1], c = ListedColormap(('red', 'green'))(i), label = j)\n",
        "plt.title('KNN (Test set)')\n",
        "plt.xlabel(' Test 1 ')\n",
        "plt.ylabel(' Test 2 ')\n",
        "plt.legend()\n",
        "plt.show()\n"
      ],
      "execution_count": 122,
      "outputs": [
        {
          "output_type": "stream",
          "name": "stderr",
          "text": [
            "WARNING:matplotlib.axes._axes:*c* argument looks like a single numeric RGB or RGBA sequence, which should be avoided as value-mapping will have precedence in case its length matches with *x* & *y*.  Please use the *color* keyword-argument or provide a 2-D array with a single row if you intend to specify the same RGB or RGBA value for all points.\n",
            "WARNING:matplotlib.axes._axes:*c* argument looks like a single numeric RGB or RGBA sequence, which should be avoided as value-mapping will have precedence in case its length matches with *x* & *y*.  Please use the *color* keyword-argument or provide a 2-D array with a single row if you intend to specify the same RGB or RGBA value for all points.\n"
          ]
        },
        {
          "output_type": "display_data",
          "data": {
            "text/plain": [
              "<Figure size 432x288 with 1 Axes>"
            ],
            "image/png": "[encoded data removed]"
          },
          "metadata": {
            "needs_background": "light"
          }
        }
      ]
    },
    {
      "cell_type": "markdown",
      "source": [
        "# train KNN model 1 K= 19"
      ],
      "metadata": {
        "id": "lAwNU0rxvm8N"
      }
    },
    {
      "cell_type": "markdown",
      "metadata": {
        "id": "XMIC49uEvm8O"
      },
      "source": [
        "## Training the K-NN model on the Training set"
      ]
    },
    {
      "cell_type": "code",
      "metadata": {
        "outputId": "3ddb0150-69a8-4f3e-bc70-c0e0ff2fd937",
        "colab": {
          "base_uri": "https://localhost:8080/"
        },
        "id": "JJbmjWHKvm8O"
      },
      "source": [
        "from sklearn.neighbors import KNeighborsClassifier\n",
        "classifier = KNeighborsClassifier(n_neighbors = 19 , p = 2)\n",
        "classifier.fit(X_train, y_train)"
      ],
      "execution_count": 128,
      "outputs": [
        {
          "output_type": "execute_result",
          "data": {
            "text/plain": [
              "KNeighborsClassifier(n_neighbors=19)"
            ]
          },
          "metadata": {},
          "execution_count": 128
        }
      ]
    },
    {
      "cell_type": "markdown",
      "metadata": {
        "id": "kTwXf14bvm8O"
      },
      "source": [
        "## Predicting the Test set results"
      ]
    },
    {
      "cell_type": "code",
      "metadata": {
        "outputId": "14f506c3-a4ad-4b72-fc56-343969398097",
        "colab": {
          "base_uri": "https://localhost:8080/"
        },
        "id": "oGS3lztavm8O"
      },
      "source": [
        "y_pred = classifier.predict(X_test)\n",
        "print(np.concatenate((y_pred.reshape(len(y_pred),1), y_test.reshape(len(y_test),1)),1))"
      ],
      "execution_count": 124,
      "outputs": [
        {
          "output_type": "stream",
          "name": "stdout",
          "text": [
            "[[1 0]\n",
            " [1 0]\n",
            " [0 0]\n",
            " [0 1]\n",
            " [1 0]\n",
            " [1 1]\n",
            " [1 1]\n",
            " [1 1]\n",
            " [1 1]\n",
            " [0 0]\n",
            " [1 1]\n",
            " [0 0]\n",
            " [1 1]\n",
            " [1 1]\n",
            " [1 0]\n",
            " [0 0]\n",
            " [1 1]\n",
            " [1 1]\n",
            " [0 0]\n",
            " [1 0]\n",
            " [0 0]\n",
            " [0 0]\n",
            " [1 1]\n",
            " [0 1]\n",
            " [1 0]\n",
            " [0 1]\n",
            " [0 0]\n",
            " [0 0]\n",
            " [1 1]\n",
            " [1 0]]\n"
          ]
        }
      ]
    },
    {
      "cell_type": "markdown",
      "metadata": {
        "id": "Q3DjTaVFvm8P"
      },
      "source": [
        "## Making the Confusion Matrix"
      ]
    },
    {
      "cell_type": "code",
      "metadata": {
        "outputId": "ebf17938-bdc9-4b7d-c96d-e9efb247d42a",
        "colab": {
          "base_uri": "https://localhost:8080/"
        },
        "id": "iRJGOII8vm8P"
      },
      "source": [
        "from sklearn.metrics import confusion_matrix, accuracy_score\n",
        "from sklearn.metrics import precision_score\n",
        "from sklearn.metrics import recall_score\n",
        "cm = confusion_matrix(y_test, y_pred)\n",
        "print(cm)\n",
        "print(\"accuracy_score = \",accuracy_score(y_test, y_pred))\n",
        "print(\"precision_score = \",precision_score(y_test, y_pred))\n",
        "print( \"recall_score = \",recall_score(y_test, y_pred))"
      ],
      "execution_count": 125,
      "outputs": [
        {
          "output_type": "stream",
          "name": "stdout",
          "text": [
            "[[ 9  7]\n",
            " [ 3 11]]\n",
            "accuracy_score =  0.6666666666666666\n",
            "precision_score =  0.6111111111111112\n",
            "recall_score =  0.7857142857142857\n"
          ]
        }
      ]
    },
    {
      "cell_type": "markdown",
      "metadata": {
        "id": "cREmszA9vm8P"
      },
      "source": [
        "## Visualising the Training set results"
      ]
    },
    {
      "cell_type": "code",
      "metadata": {
        "outputId": "ed71dd8d-c7fd-4762-c712-31066def054e",
        "colab": {
          "base_uri": "https://localhost:8080/",
          "height": 350
        },
        "id": "GA_t-8e0vm8Q"
      },
      "source": [
        "from matplotlib.colors import ListedColormap\n",
        "X_set, y_set = sc.inverse_transform(X_train), y_train\n",
        "X1, X2 = np.meshgrid(np.arange(start = X_set[:, 0].min() - 0.5, stop = X_set[:, 0].max()+ 0.5, step = 0.25),\n",
        "                     np.arange(start = X_set[:, 1].min() - 0.5, stop = X_set[:, 1].max() + 0.5, step = 0.25))\n",
        "\n",
        "plt.contourf(X1, X2,\n",
        "          classifier.predict(sc.transform(np.array([X1.ravel(), X2.ravel()]).T)).reshape(X1.shape),\n",
        "           alpha = 0.6, cmap = ListedColormap(('red', 'green')))\n",
        "plt.xlim(X1.min()-0.2 , X1.max() + 0.2)\n",
        "plt.ylim(X2.min()-0.2 , X2.max() + 0.2)\n",
        "for i, j in enumerate(np.unique(y_set)):\n",
        "    plt.scatter(X_set[y_set == j, 0], X_set[y_set == j, 1], c = ListedColormap(('red', 'green'))(i), label = j)\n",
        "plt.title(' KNN (Training set) ')\n",
        "plt.xlabel(' Test 1 ')\n",
        "plt.ylabel(' Test 2 ')\n",
        "plt.legend()\n",
        "plt.show()"
      ],
      "execution_count": 126,
      "outputs": [
        {
          "output_type": "stream",
          "name": "stderr",
          "text": [
            "WARNING:matplotlib.axes._axes:*c* argument looks like a single numeric RGB or RGBA sequence, which should be avoided as value-mapping will have precedence in case its length matches with *x* & *y*.  Please use the *color* keyword-argument or provide a 2-D array with a single row if you intend to specify the same RGB or RGBA value for all points.\n",
            "WARNING:matplotlib.axes._axes:*c* argument looks like a single numeric RGB or RGBA sequence, which should be avoided as value-mapping will have precedence in case its length matches with *x* & *y*.  Please use the *color* keyword-argument or provide a 2-D array with a single row if you intend to specify the same RGB or RGBA value for all points.\n"
          ]
        },
        {
          "output_type": "display_data",
          "data": {
            "text/plain": [
              "<Figure size 432x288 with 1 Axes>"
            ],
            "image/png": "[encoded data removed]"
          },
          "metadata": {
            "needs_background": "light"
          }
        }
      ]
    },
    {
      "cell_type": "markdown",
      "metadata": {
        "id": "RTp7leq2vm8Q"
      },
      "source": [
        "## Visualising the Test set results"
      ]
    },
    {
      "cell_type": "code",
      "metadata": {
        "colab": {
          "base_uri": "https://localhost:8080/",
          "height": 350
        },
        "outputId": "213aa41f-ead8-40bb-8122-d5f4a7ab7264",
        "id": "l5ks1jSHvm8Q"
      },
      "source": [
        "from matplotlib.colors import ListedColormap\n",
        "X_set, y_set = sc.inverse_transform(X_test), y_test\n",
        "X1, X2 = np.meshgrid(np.arange(start = X_set[:, 0].min() - 0.5, stop = X_set[:, 0].max()+ 0.5, step = 0.25),\n",
        "                     np.arange(start = X_set[:, 1].min() - 0.5, stop = X_set[:, 1].max() + 0.5, step = 0.25))\n",
        "\n",
        "plt.contourf(X1, X2,\n",
        "          classifier.predict(sc.transform(np.array([X1.ravel(), X2.ravel()]).T)).reshape(X1.shape),\n",
        "           alpha = 0.6, cmap = ListedColormap(('red', 'green')))\n",
        "plt.xlim(X1.min()-0.2 , X1.max() + 0.2)\n",
        "plt.ylim(X2.min()-0.2 , X2.max() + 0.2)\n",
        "for i, j in enumerate(np.unique(y_set)):\n",
        "    plt.scatter(X_set[y_set == j, 0], X_set[y_set == j, 1], c = ListedColormap(('red', 'green'))(i), label = j)\n",
        "plt.title('KNN (Test set)')\n",
        "plt.xlabel(' Test 1 ')\n",
        "plt.ylabel(' Test 2 ')\n",
        "plt.legend()\n",
        "plt.show()\n"
      ],
      "execution_count": 127,
      "outputs": [
        {
          "output_type": "stream",
          "name": "stderr",
          "text": [
            "WARNING:matplotlib.axes._axes:*c* argument looks like a single numeric RGB or RGBA sequence, which should be avoided as value-mapping will have precedence in case its length matches with *x* & *y*.  Please use the *color* keyword-argument or provide a 2-D array with a single row if you intend to specify the same RGB or RGBA value for all points.\n",
            "WARNING:matplotlib.axes._axes:*c* argument looks like a single numeric RGB or RGBA sequence, which should be avoided as value-mapping will have precedence in case its length matches with *x* & *y*.  Please use the *color* keyword-argument or provide a 2-D array with a single row if you intend to specify the same RGB or RGBA value for all points.\n"
          ]
        },
        {
          "output_type": "display_data",
          "data": {
            "text/plain": [
              "<Figure size 432x288 with 1 Axes>"
            ],
            "image/png": "[encoded data removed]"
          },
          "metadata": {
            "needs_background": "light"
          }
        }
      ]
    }
  ]
}