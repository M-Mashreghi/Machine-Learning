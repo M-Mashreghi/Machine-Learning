{
  "cells": [
    {
      "cell_type": "markdown",
      "metadata": {
        "id": "wNSq5VEFv1zr"
      },
      "source": [
        "#Q5"
      ]
    },
    {
      "cell_type": "code",
      "execution_count": 27,
      "metadata": {
        "id": "tyiffPWMPF6e"
      },
      "outputs": [],
      "source": [
        "import numpy as np \n",
        "import pandas as pd \t\n",
        "import matplotlib.pyplot as plt \n",
        "import math\n",
        "dataset = pd.read_csv('penguins.csv')"
      ]
    },
    {
      "cell_type": "markdown",
      "metadata": {
        "id": "uSolLXpTWBoU"
      },
      "source": [
        "##cleaning data & Importing the dataset\n"
      ]
    },
    {
      "cell_type": "code",
      "execution_count": 28,
      "metadata": {
        "colab": {
          "base_uri": "https://localhost:8080/"
        },
        "id": "v__A6hCxWAa9",
        "outputId": "63b11837-2b25-42a4-996e-b62afe881e89"
      },
      "outputs": [
        {
          "output_type": "stream",
          "name": "stdout",
          "text": [
            "[['39.1' '18.7' '181' '3750']\n",
            " ['39.5' '17.4' '186' '3800']\n",
            " ['40.3' '18' '195' '3250']\n",
            " ...\n",
            " ['50.4' '15.7' '222' '5750']\n",
            " ['45.2' '14.8' '212' '5200']\n",
            " ['49.9' '16.1' '213' '5400']]\n",
            "['Adelie' 'Adelie' 'Adelie' 'Adelie' 'Adelie' 'Adelie' 'Adelie' 'Adelie'\n",
            " 'Adelie' 'Adelie' 'Adelie' 'Adelie' 'Adelie' 'Adelie' 'Adelie' 'Adelie'\n",
            " 'Adelie' 'Adelie' 'Adelie' 'Adelie' 'Adelie' 'Adelie' 'Adelie' 'Adelie'\n",
            " 'Adelie' 'Adelie' 'Adelie' 'Adelie' 'Adelie' 'Adelie' 'Adelie' 'Adelie'\n",
            " 'Adelie' 'Adelie' 'Adelie' 'Adelie' 'Adelie' 'Adelie' 'Adelie' 'Adelie'\n",
            " 'Adelie' 'Adelie' 'Adelie' 'Adelie' 'Adelie' 'Adelie' 'Adelie' 'Adelie'\n",
            " 'Adelie' 'Adelie' 'Adelie' 'Adelie' 'Adelie' 'Adelie' 'Adelie' 'Adelie'\n",
            " 'Adelie' 'Adelie' 'Adelie' 'Adelie' 'Adelie' 'Adelie' 'Adelie' 'Adelie'\n",
            " 'Adelie' 'Adelie' 'Adelie' 'Adelie' 'Adelie' 'Adelie' 'Adelie' 'Adelie'\n",
            " 'Adelie' 'Adelie' 'Adelie' 'Adelie' 'Adelie' 'Adelie' 'Adelie' 'Adelie'\n",
            " 'Adelie' 'Adelie' 'Adelie' 'Adelie' 'Adelie' 'Adelie' 'Adelie' 'Adelie'\n",
            " 'Adelie' 'Adelie' 'Adelie' 'Adelie' 'Adelie' 'Adelie' 'Adelie' 'Adelie'\n",
            " 'Adelie' 'Adelie' 'Adelie' 'Adelie' 'Adelie' 'Adelie' 'Adelie' 'Adelie'\n",
            " 'Adelie' 'Adelie' 'Adelie' 'Adelie' 'Adelie' 'Adelie' 'Adelie' 'Adelie'\n",
            " 'Adelie' 'Adelie' 'Adelie' 'Adelie' 'Adelie' 'Adelie' 'Adelie' 'Adelie'\n",
            " 'Adelie' 'Adelie' 'Adelie' 'Adelie' 'Adelie' 'Adelie' 'Adelie' 'Adelie'\n",
            " 'Adelie' 'Adelie' 'Adelie' 'Adelie' 'Adelie' 'Adelie' 'Adelie' 'Adelie'\n",
            " 'Adelie' 'Adelie' 'Adelie' 'Adelie' 'Adelie' 'Adelie' 'Adelie' 'Adelie'\n",
            " 'Adelie' 'Adelie' 'Adelie' 'Adelie' 'Adelie' 'Adelie' 'Chinstrap'\n",
            " 'Chinstrap' 'Chinstrap' 'Chinstrap' 'Chinstrap' 'Chinstrap' 'Chinstrap'\n",
            " 'Chinstrap' 'Chinstrap' 'Chinstrap' 'Chinstrap' 'Chinstrap' 'Chinstrap'\n",
            " 'Chinstrap' 'Chinstrap' 'Chinstrap' 'Chinstrap' 'Chinstrap' 'Chinstrap'\n",
            " 'Chinstrap' 'Chinstrap' 'Chinstrap' 'Chinstrap' 'Chinstrap' 'Chinstrap'\n",
            " 'Chinstrap' 'Chinstrap' 'Chinstrap' 'Chinstrap' 'Chinstrap' 'Chinstrap'\n",
            " 'Chinstrap' 'Chinstrap' 'Chinstrap' 'Chinstrap' 'Chinstrap' 'Chinstrap'\n",
            " 'Chinstrap' 'Chinstrap' 'Chinstrap' 'Chinstrap' 'Chinstrap' 'Chinstrap'\n",
            " 'Chinstrap' 'Chinstrap' 'Chinstrap' 'Chinstrap' 'Chinstrap' 'Chinstrap'\n",
            " 'Chinstrap' 'Chinstrap' 'Chinstrap' 'Chinstrap' 'Chinstrap' 'Chinstrap'\n",
            " 'Chinstrap' 'Chinstrap' 'Chinstrap' 'Chinstrap' 'Chinstrap' 'Chinstrap'\n",
            " 'Chinstrap' 'Chinstrap' 'Chinstrap' 'Chinstrap' 'Chinstrap' 'Chinstrap'\n",
            " 'Gentoo' 'Gentoo' 'Gentoo' 'Gentoo' 'Gentoo' 'Gentoo' 'Gentoo' 'Gentoo'\n",
            " 'Gentoo' 'Gentoo' 'Gentoo' 'Gentoo' 'Gentoo' 'Gentoo' 'Gentoo' 'Gentoo'\n",
            " 'Gentoo' 'Gentoo' 'Gentoo' 'Gentoo' 'Gentoo' 'Gentoo' 'Gentoo' 'Gentoo'\n",
            " 'Gentoo' 'Gentoo' 'Gentoo' 'Gentoo' 'Gentoo' 'Gentoo' 'Gentoo' 'Gentoo'\n",
            " 'Gentoo' 'Gentoo' 'Gentoo' 'Gentoo' 'Gentoo' 'Gentoo' 'Gentoo' 'Gentoo'\n",
            " 'Gentoo' 'Gentoo' 'Gentoo' 'Gentoo' 'Gentoo' 'Gentoo' 'Gentoo' 'Gentoo'\n",
            " 'Gentoo' 'Gentoo' 'Gentoo' 'Gentoo' 'Gentoo' 'Gentoo' 'Gentoo' 'Gentoo'\n",
            " 'Gentoo' 'Gentoo' 'Gentoo' 'Gentoo' 'Gentoo' 'Gentoo' 'Gentoo' 'Gentoo'\n",
            " 'Gentoo' 'Gentoo' 'Gentoo' 'Gentoo' 'Gentoo' 'Gentoo' 'Gentoo' 'Gentoo'\n",
            " 'Gentoo' 'Gentoo' 'Gentoo' 'Gentoo' 'Gentoo' 'Gentoo' 'Gentoo' 'Gentoo'\n",
            " 'Gentoo' 'Gentoo' 'Gentoo' 'Gentoo' 'Gentoo' 'Gentoo' 'Gentoo' 'Gentoo'\n",
            " 'Gentoo' 'Gentoo' 'Gentoo' 'Gentoo' 'Gentoo' 'Gentoo' 'Gentoo' 'Gentoo'\n",
            " 'Gentoo' 'Gentoo' 'Gentoo' 'Gentoo' 'Gentoo' 'Gentoo' 'Gentoo' 'Gentoo'\n",
            " 'Gentoo' 'Gentoo' 'Gentoo' 'Gentoo' 'Gentoo' 'Gentoo' 'Gentoo' 'Gentoo'\n",
            " 'Gentoo' 'Gentoo' 'Gentoo' 'Gentoo' 'Gentoo' 'Gentoo' 'Gentoo' 'Gentoo']\n"
          ]
        }
      ],
      "source": [
        "row_deleted =[]\n",
        "for row in range(dataset.shape[0]):\n",
        "   for column in range(dataset.shape[1]):\n",
        "      if(dataset.iloc[row,column] == \"x\"):\n",
        "          row_deleted.append(row)\n",
        "\n",
        "row_deleted = [*set(row_deleted)]\n",
        "for row in row_deleted:\n",
        "  dataset = dataset.drop(row)\n",
        "X = dataset.iloc[ : ,1 :].values\n",
        "y = dataset.iloc[ : , 0].values\n",
        "print(X)\n",
        "print(y)\n"
      ]
    },
    {
      "cell_type": "markdown",
      "metadata": {
        "id": "HE3gEu_VQBXu"
      },
      "source": [
        "## Splitting the dataset into the Training set and Test set"
      ]
    },
    {
      "cell_type": "code",
      "execution_count": 29,
      "metadata": {
        "id": "p9qph5bZQEHO"
      },
      "outputs": [],
      "source": [
        "from sklearn.model_selection import train_test_split\n",
        "X_train, X_test, y_train, y_test = train_test_split(X, y, test_size = 0.25, random_state = 0)"
      ]
    },
    {
      "cell_type": "markdown",
      "metadata": {
        "id": "9m2uZ_0Db1gf"
      },
      "source": [
        "## Feature Scaling"
      ]
    },
    {
      "cell_type": "code",
      "execution_count": 30,
      "metadata": {
        "id": "YqqAlvS6b7Mz"
      },
      "outputs": [],
      "source": [
        "from sklearn.preprocessing import StandardScaler\n",
        "sc = StandardScaler()\n",
        "X_train = sc.fit_transform(X_train)\n",
        "X_test = sc.transform(X_test)"
      ]
    },
    {
      "cell_type": "markdown",
      "metadata": {
        "id": "hkqE_VjqbmRG"
      },
      "source": [
        "##GET probibility"
      ]
    },
    {
      "cell_type": "code",
      "execution_count": 31,
      "metadata": {
        "colab": {
          "base_uri": "https://localhost:8080/"
        },
        "id": "DFUpKraRcg1d",
        "outputId": "339df741-7584-4c56-96b4-73567cdca5a3"
      },
      "outputs": [
        {
          "output_type": "stream",
          "name": "stdout",
          "text": [
            "Adelie: 109    probability : 0.43253968253968256\n",
            "Chinstrap: 54    probability : 0.21428571428571427\n",
            "Gentoo: 89    probability : 0.3531746031746032\n"
          ]
        }
      ],
      "source": [
        "unique_vals, counts = np.unique(y_train, return_counts=True)\n",
        "for val, count in zip(unique_vals, counts):\n",
        "    probability_=count/len(y_train)\n",
        "    print(f\"{val}: {count}    probability : {probability_}\")"
      ]
    },
    {
      "cell_type": "markdown",
      "metadata": {
        "id": "7LpbJXhFcdZ7"
      },
      "source": [
        "## Training the naïve bayes"
      ]
    },
    {
      "cell_type": "code",
      "execution_count": 37,
      "metadata": {
        "colab": {
          "base_uri": "https://localhost:8080/"
        },
        "id": "xK2HmxTUlZvm",
        "outputId": "498ca4ae-0825-4388-a248-35cda2dcf2ee"
      },
      "outputs": [
        {
          "output_type": "stream",
          "name": "stdout",
          "text": [
            "[[41  0  0]\n",
            " [ 1 12  0]\n",
            " [ 0  0 31]]\n",
            "accuracy_score =  0.9882352941176471\n",
            "precision_score =  0.9920634920634921\n",
            "recall_score =  0.9743589743589745\n"
          ]
        }
      ],
      "source": [
        "from scipy.stats import norm\n",
        "from sklearn.metrics import confusion_matrix, accuracy_score,precision_score, recall_score\n",
        "import math\n",
        "def probabolity_of_specific_kind(mean_class_1_x,var_class_1_x,mean_class_all_x,\n",
        "                                 var_class_all_x,prior_probility_1_x,prior_probility_all_x):\n",
        "  final_probility_1_x_list=[]\n",
        "  final_probility_all_x_list=[]\n",
        "  for i in range(len(y_test)):\n",
        "    final_probility_1_x=prior_probility_1_x\n",
        "    final_probility_all_x=prior_probility_all_x\n",
        "    for j in range(X_test.shape[1]):\n",
        "      final_probility_1_x =final_probility_1_x * norm.pdf(\n",
        "           X_test[i][j], mean_class_1_x[j], math.sqrt(var_class_1_x[j]))\n",
        "      final_probility_all_x = final_probility_all_x * final_probility_all_x * norm.pdf(\n",
        "           X_test[i][j], mean_class_all_x[j], math.sqrt(var_class_all_x[j]))\n",
        "    final_probility_1_x_list.append(final_probility_1_x)\n",
        "    final_probility_all_x_list.append(final_probility_all_x)\n",
        "  return(final_probility_1_x_list,final_probility_all_x_list)\n",
        "\n",
        "\n",
        "\n",
        "\n",
        "def Naive_Bayes_1_vs_all(our_class):\n",
        "  class_1_x =[]\n",
        "  class_all_x =[]\n",
        "\n",
        "  for i in range(len(y_train)):\n",
        "    if(y_train[i]==our_class):\n",
        "      class_1_x.append(X_train[i])\n",
        "    else:\n",
        "      class_all_x.append(X_train[i])\n",
        "  prior_probility_1_x = len(class_1_x)/len(y_train)\n",
        "  prior_probility_all_x = len(class_all_x)/len(y_train)\n",
        "  #convert to ndarray\n",
        "  class_1_x =np.array(class_1_x)\n",
        "  class_all_x =np.array(class_all_x)\n",
        "  #caculate mean and var row by row\n",
        "  mean_class_1_x = np.mean(class_1_x, axis=0)\n",
        "  var_class_1_x = np.var(class_1_x, axis=0)\n",
        "  mean_class_all_x = np.mean(class_all_x, axis=0)\n",
        "  var_class_all_x = np.var(class_all_x, axis=0)\n",
        "  #caculate probibility\n",
        "  return probabolity_of_specific_kind(mean_class_1_x,var_class_1_x,\n",
        "                               mean_class_all_x,var_class_all_x,prior_probility_1_x,prior_probility_all_x)\n",
        "\n",
        "def caculate_probability():\n",
        "    probabilities_of_x = []\n",
        "    probabilities_of_all = []\n",
        "    for i in unique_vals:\n",
        "      list_x= []\n",
        "      list_all = []\n",
        "      list_x,list_all = Naive_Bayes_1_vs_all(i)\n",
        "      probabilities_of_x.append(list_x)\n",
        "      probabilities_of_all.append(list_all)\n",
        "    finall_decision=[]\n",
        "    for i in range(len(y_test)):\n",
        "      probability_list =[probabilities_of_x[0][i],probabilities_of_x[1][i],probabilities_of_x[2][i]]\n",
        "      max_probability = max(probability_list)\n",
        "      finall_decision.append(unique_vals[probability_list.index(max_probability)])\n",
        "    # print(finall_decision)\n",
        "    # print(len(finall_decision))\n",
        "    correct =0\n",
        "    for i in range(len(finall_decision)):\n",
        "      if(finall_decision[i]==y_test[i]):\n",
        "        correct +=1\n",
        "    print(confusion_matrix(y_test, finall_decision))\n",
        "    print(\"accuracy_score = \",accuracy_score(y_test, finall_decision))\n",
        "    print(\"precision_score = \",precision_score(y_test, finall_decision, average=\"macro\"))\n",
        "    print( \"recall_score = \",recall_score(y_test, finall_decision, average=\"macro\"))\n",
        "caculate_probability()"
      ]
    },
    {
      "cell_type": "code",
      "source": [],
      "metadata": {
        "id": "cE6skB2o9TyD"
      },
      "execution_count": null,
      "outputs": []
    },
    {
      "cell_type": "markdown",
      "metadata": {
        "id": "YUdD1dv3pLFU"
      },
      "source": [
        "## Training the Naive Bayes model on the Training set"
      ]
    },
    {
      "cell_type": "code",
      "execution_count": 33,
      "metadata": {
        "colab": {
          "base_uri": "https://localhost:8080/",
          "height": 74
        },
        "id": "58KTH5jjbnMo",
        "outputId": "32134c09-49e3-4be6-f1a5-59379e9563c4"
      },
      "outputs": [
        {
          "output_type": "execute_result",
          "data": {
            "text/plain": [
              "GaussianNB()"
            ],
            "text/html": [
              "<style>#sk-container-id-3 {color: black;background-color: white;}#sk-container-id-3 pre{padding: 0;}#sk-container-id-3 div.sk-toggleable {background-color: white;}#sk-container-id-3 label.sk-toggleable__label {cursor: pointer;display: block;width: 100%;margin-bottom: 0;padding: 0.3em;box-sizing: border-box;text-align: center;}#sk-container-id-3 label.sk-toggleable__label-arrow:before {content: \"▸\";float: left;margin-right: 0.25em;color: #696969;}#sk-container-id-3 label.sk-toggleable__label-arrow:hover:before {color: black;}#sk-container-id-3 div.sk-estimator:hover label.sk-toggleable__label-arrow:before {color: black;}#sk-container-id-3 div.sk-toggleable__content {max-height: 0;max-width: 0;overflow: hidden;text-align: left;background-color: #f0f8ff;}#sk-container-id-3 div.sk-toggleable__content pre {margin: 0.2em;color: black;border-radius: 0.25em;background-color: #f0f8ff;}#sk-container-id-3 input.sk-toggleable__control:checked~div.sk-toggleable__content {max-height: 200px;max-width: 100%;overflow: auto;}#sk-container-id-3 input.sk-toggleable__control:checked~label.sk-toggleable__label-arrow:before {content: \"▾\";}#sk-container-id-3 div.sk-estimator input.sk-toggleable__control:checked~label.sk-toggleable__label {background-color: #d4ebff;}#sk-container-id-3 div.sk-label input.sk-toggleable__control:checked~label.sk-toggleable__label {background-color: #d4ebff;}#sk-container-id-3 input.sk-hidden--visually {border: 0;clip: rect(1px 1px 1px 1px);clip: rect(1px, 1px, 1px, 1px);height: 1px;margin: -1px;overflow: hidden;padding: 0;position: absolute;width: 1px;}#sk-container-id-3 div.sk-estimator {font-family: monospace;background-color: #f0f8ff;border: 1px dotted black;border-radius: 0.25em;box-sizing: border-box;margin-bottom: 0.5em;}#sk-container-id-3 div.sk-estimator:hover {background-color: #d4ebff;}#sk-container-id-3 div.sk-parallel-item::after {content: \"\";width: 100%;border-bottom: 1px solid gray;flex-grow: 1;}#sk-container-id-3 div.sk-label:hover label.sk-toggleable__label {background-color: #d4ebff;}#sk-container-id-3 div.sk-serial::before {content: \"\";position: absolute;border-left: 1px solid gray;box-sizing: border-box;top: 0;bottom: 0;left: 50%;z-index: 0;}#sk-container-id-3 div.sk-serial {display: flex;flex-direction: column;align-items: center;background-color: white;padding-right: 0.2em;padding-left: 0.2em;position: relative;}#sk-container-id-3 div.sk-item {position: relative;z-index: 1;}#sk-container-id-3 div.sk-parallel {display: flex;align-items: stretch;justify-content: center;background-color: white;position: relative;}#sk-container-id-3 div.sk-item::before, #sk-container-id-3 div.sk-parallel-item::before {content: \"\";position: absolute;border-left: 1px solid gray;box-sizing: border-box;top: 0;bottom: 0;left: 50%;z-index: -1;}#sk-container-id-3 div.sk-parallel-item {display: flex;flex-direction: column;z-index: 1;position: relative;background-color: white;}#sk-container-id-3 div.sk-parallel-item:first-child::after {align-self: flex-end;width: 50%;}#sk-container-id-3 div.sk-parallel-item:last-child::after {align-self: flex-start;width: 50%;}#sk-container-id-3 div.sk-parallel-item:only-child::after {width: 0;}#sk-container-id-3 div.sk-dashed-wrapped {border: 1px dashed gray;margin: 0 0.4em 0.5em 0.4em;box-sizing: border-box;padding-bottom: 0.4em;background-color: white;}#sk-container-id-3 div.sk-label label {font-family: monospace;font-weight: bold;display: inline-block;line-height: 1.2em;}#sk-container-id-3 div.sk-label-container {text-align: center;}#sk-container-id-3 div.sk-container {/* jupyter's `normalize.less` sets `[hidden] { display: none; }` but bootstrap.min.css set `[hidden] { display: none !important; }` so we also need the `!important` here to be able to override the default hidden behavior on the sphinx rendered scikit-learn.org. See: https://github.com/scikit-learn/scikit-learn/issues/21755 */display: inline-block !important;position: relative;}#sk-container-id-3 div.sk-text-repr-fallback {display: none;}</style><div id=\"sk-container-id-3\" class=\"sk-top-container\"><div class=\"sk-text-repr-fallback\"><pre>GaussianNB()</pre><b>In a Jupyter environment, please rerun this cell to show the HTML representation or trust the notebook. <br />On GitHub, the HTML representation is unable to render, please try loading this page with nbviewer.org.</b></div><div class=\"sk-container\" hidden><div class=\"sk-item\"><div class=\"sk-estimator sk-toggleable\"><input class=\"sk-toggleable__control sk-hidden--visually\" id=\"sk-estimator-id-3\" type=\"checkbox\" checked><label for=\"sk-estimator-id-3\" class=\"sk-toggleable__label sk-toggleable__label-arrow\">GaussianNB</label><div class=\"sk-toggleable__content\"><pre>GaussianNB()</pre></div></div></div></div></div>"
            ]
          },
          "metadata": {},
          "execution_count": 33
        }
      ],
      "source": [
        "from sklearn.naive_bayes import GaussianNB\n",
        "classifier = GaussianNB()\n",
        "classifier.fit(X_train, y_train)"
      ]
    },
    {
      "cell_type": "code",
      "execution_count": 34,
      "metadata": {
        "colab": {
          "base_uri": "https://localhost:8080/"
        },
        "id": "ezS77ozBpRRF",
        "outputId": "0a9d09ef-7cdf-4482-ba21-d9b8a4b7f41b"
      },
      "outputs": [
        {
          "output_type": "stream",
          "name": "stdout",
          "text": [
            "[['Adelie' 'Adelie']\n",
            " ['Adelie' 'Adelie']\n",
            " ['Gentoo' 'Gentoo']\n",
            " ['Gentoo' 'Gentoo']\n",
            " ['Chinstrap' 'Chinstrap']\n",
            " ['Gentoo' 'Gentoo']\n",
            " ['Adelie' 'Adelie']\n",
            " ['Gentoo' 'Gentoo']\n",
            " ['Adelie' 'Adelie']\n",
            " ['Adelie' 'Adelie']\n",
            " ['Adelie' 'Adelie']\n",
            " ['Adelie' 'Adelie']\n",
            " ['Adelie' 'Adelie']\n",
            " ['Chinstrap' 'Chinstrap']\n",
            " ['Adelie' 'Adelie']\n",
            " ['Adelie' 'Adelie']\n",
            " ['Adelie' 'Adelie']\n",
            " ['Gentoo' 'Gentoo']\n",
            " ['Gentoo' 'Gentoo']\n",
            " ['Adelie' 'Adelie']\n",
            " ['Chinstrap' 'Chinstrap']\n",
            " ['Gentoo' 'Gentoo']\n",
            " ['Gentoo' 'Gentoo']\n",
            " ['Chinstrap' 'Chinstrap']\n",
            " ['Gentoo' 'Gentoo']\n",
            " ['Gentoo' 'Gentoo']\n",
            " ['Gentoo' 'Gentoo']\n",
            " ['Adelie' 'Adelie']\n",
            " ['Gentoo' 'Gentoo']\n",
            " ['Gentoo' 'Gentoo']\n",
            " ['Adelie' 'Adelie']\n",
            " ['Adelie' 'Adelie']\n",
            " ['Adelie' 'Adelie']\n",
            " ['Gentoo' 'Gentoo']\n",
            " ['Gentoo' 'Gentoo']\n",
            " ['Adelie' 'Chinstrap']\n",
            " ['Adelie' 'Adelie']\n",
            " ['Gentoo' 'Gentoo']\n",
            " ['Chinstrap' 'Chinstrap']\n",
            " ['Adelie' 'Adelie']\n",
            " ['Adelie' 'Adelie']\n",
            " ['Adelie' 'Adelie']\n",
            " ['Adelie' 'Adelie']\n",
            " ['Gentoo' 'Gentoo']\n",
            " ['Adelie' 'Adelie']\n",
            " ['Adelie' 'Adelie']\n",
            " ['Adelie' 'Adelie']\n",
            " ['Gentoo' 'Gentoo']\n",
            " ['Adelie' 'Adelie']\n",
            " ['Gentoo' 'Gentoo']\n",
            " ['Adelie' 'Adelie']\n",
            " ['Gentoo' 'Gentoo']\n",
            " ['Adelie' 'Adelie']\n",
            " ['Gentoo' 'Gentoo']\n",
            " ['Adelie' 'Adelie']\n",
            " ['Gentoo' 'Gentoo']\n",
            " ['Chinstrap' 'Chinstrap']\n",
            " ['Adelie' 'Adelie']\n",
            " ['Adelie' 'Adelie']\n",
            " ['Adelie' 'Adelie']\n",
            " ['Gentoo' 'Gentoo']\n",
            " ['Adelie' 'Adelie']\n",
            " ['Adelie' 'Adelie']\n",
            " ['Adelie' 'Adelie']\n",
            " ['Adelie' 'Adelie']\n",
            " ['Chinstrap' 'Chinstrap']\n",
            " ['Adelie' 'Adelie']\n",
            " ['Gentoo' 'Gentoo']\n",
            " ['Adelie' 'Adelie']\n",
            " ['Gentoo' 'Gentoo']\n",
            " ['Adelie' 'Adelie']\n",
            " ['Gentoo' 'Gentoo']\n",
            " ['Chinstrap' 'Chinstrap']\n",
            " ['Chinstrap' 'Chinstrap']\n",
            " ['Adelie' 'Adelie']\n",
            " ['Chinstrap' 'Chinstrap']\n",
            " ['Gentoo' 'Gentoo']\n",
            " ['Chinstrap' 'Chinstrap']\n",
            " ['Gentoo' 'Gentoo']\n",
            " ['Chinstrap' 'Chinstrap']\n",
            " ['Adelie' 'Adelie']\n",
            " ['Gentoo' 'Gentoo']\n",
            " ['Adelie' 'Adelie']\n",
            " ['Gentoo' 'Gentoo']\n",
            " ['Gentoo' 'Gentoo']]\n"
          ]
        }
      ],
      "source": [
        "y_pred = classifier.predict(X_test)\n",
        "print(np.concatenate((y_pred.reshape(len(y_pred),1), y_test.reshape(len(y_test),1)),1))"
      ]
    },
    {
      "cell_type": "code",
      "execution_count": 36,
      "metadata": {
        "colab": {
          "base_uri": "https://localhost:8080/"
        },
        "id": "LXx4-Hf2pXMo",
        "outputId": "2c889bbe-ea6d-480b-c608-35bd0049f8cd"
      },
      "outputs": [
        {
          "output_type": "stream",
          "name": "stdout",
          "text": [
            "[[41  0  0]\n",
            " [ 1 12  0]\n",
            " [ 0  0 31]]\n",
            "accuracy_score =  0.9882352941176471\n",
            "precision_score =  0.9920634920634921\n",
            "recall_score =  0.9743589743589745\n"
          ]
        }
      ],
      "source": [
        "from sklearn.metrics import confusion_matrix, accuracy_score\n",
        "print(confusion_matrix(y_test, y_pred))\n",
        "print(\"accuracy_score = \",accuracy_score(y_test, y_pred))\n",
        "print(\"precision_score = \",precision_score(y_test, y_pred, average=\"macro\"))\n",
        "print( \"recall_score = \",recall_score(y_test, y_pred, average=\"macro\"))"
      ]
    }
  ],
  "metadata": {
    "colab": {
      "collapsed_sections": [
        "uSolLXpTWBoU",
        "HE3gEu_VQBXu"
      ],
      "provenance": []
    },
    "kernelspec": {
      "display_name": "Python 3",
      "name": "python3"
    },
    "language_info": {
      "name": "python"
    }
  },
  "nbformat": 4,
  "nbformat_minor": 0
}