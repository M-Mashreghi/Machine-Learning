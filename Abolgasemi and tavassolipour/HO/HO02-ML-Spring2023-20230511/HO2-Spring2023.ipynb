{
 "cells": [
  {
   "cell_type": "markdown",
   "id": "eaa3bc11",
   "metadata": {
    "slideshow": {
     "slide_type": "slide"
    }
   },
   "source": [
    "#                              Machine Leaning (Spring 2023) \n",
    "##                                           Hands-on 2 - Classification"
   ]
  },
  {
   "cell_type": "markdown",
   "id": "13a19648",
   "metadata": {
    "slideshow": {
     "slide_type": "slide"
    }
   },
   "source": [
    "### <font color=darkBlue>1) Bayes Optimal Classifier</font> ###"
   ]
  },
  {
   "cell_type": "markdown",
   "id": "a6d7d8ed",
   "metadata": {
    "slideshow": {
     "slide_type": "slide"
    }
   },
   "source": [
    "##### Bayes' Theorem is a fundamental principle in probability theory that enables us to update our beliefs about the likelihood of an event occurring in light of new evidence."
   ]
  },
  {
   "cell_type": "markdown",
   "id": "ed8891f5",
   "metadata": {
    "slideshow": {
     "slide_type": "slide"
    }
   },
   "source": [
    "P(H|D) = (P(D|H) * P(H)) / P(D)\n",
    "\n",
    "where P(H|D) is the posterior probability of the hypothesis given the observed data, P(D|H) is the probability of observing the data given the hypothesis, P(H) is the prior probability of the hypothesis (i.e., the probability of the hypothesis before any data is observed), and P(D) is the probability of observing the data, which acts as a normalization constant."
   ]
  },
  {
   "cell_type": "markdown",
   "id": "73ce386e",
   "metadata": {
    "slideshow": {
     "slide_type": "slide"
    }
   },
   "source": [
    "The key assumption made by the Naive Bayes classifier is that the effect of the value of a predictor (x) on a given class (c) is independent of the values of other predictors. This assumption is called class conditional independence. Class conditional independence means that the probability of a particular feature (x) given a particular class (c) is independent of the values of other features, given the class."
   ]
  },
  {
   "cell_type": "markdown",
   "id": "7f353144",
   "metadata": {
    "slideshow": {
     "slide_type": "slide"
    }
   },
   "source": [
    "Python libraries offer three kinds of Naïve Bayes classifiers:\n",
    "\n",
    "Gaussian: it assumes that features follow a normal distribution.\n",
    "\n",
    "Multinomial: it is used for discrete counts.\n",
    "\n",
    "Bernoulli: the binomial model is useful if your feature vectors are binary (i.e. zeros and ones).\n",
    "\n",
    "##### Let's start with an example ..."
   ]
  },
  {
   "cell_type": "code",
   "execution_count": 1,
   "id": "df7134c2",
   "metadata": {
    "slideshow": {
     "slide_type": "slide"
    }
   },
   "outputs": [],
   "source": [
    "'Step 1: Import libraries'\n",
    "\n",
    "from sklearn import datasets\n",
    "import pandas as pd\n",
    "import numpy as np"
   ]
  },
  {
   "cell_type": "code",
   "execution_count": 2,
   "id": "347064fb",
   "metadata": {
    "slideshow": {
     "slide_type": "slide"
    }
   },
   "outputs": [],
   "source": [
    "' breast_cancer.data     : Names of the columns '\n",
    "' breast_cancer.feature_names     : The names of the dataset columns '\n",
    "' breast_cancer.target            : The variable of target classes '\n",
    "\n",
    "    \n",
    "breast_cancer     = datasets.load_breast_cancer()\n",
    "\n",
    "breast_cancer_df           = pd.DataFrame(breast_cancer.data, columns=breast_cancer.feature_names)  \n",
    "breast_cancer_df['target'] = breast_cancer.target\n",
    "\n",
    "data = breast_cancer"
   ]
  },
  {
   "attachments": {
    "image.png": {
     "image/png": "[encoded data removed]"
    }
   },
   "cell_type": "markdown",
   "id": "55443026",
   "metadata": {},
   "source": [
    "![image.png](attachment:image.png)"
   ]
  },
  {
   "cell_type": "code",
   "execution_count": 3,
   "id": "e4a96681",
   "metadata": {
    "slideshow": {
     "slide_type": "slide"
    }
   },
   "outputs": [
    {
     "data": {
      "text/plain": [
       "array(['malignant', 'benign'], dtype='<U9')"
      ]
     },
     "execution_count": 3,
     "metadata": {},
     "output_type": "execute_result"
    }
   ],
   "source": [
    "' breast_cancer.target_names      : The names of target classes '\n",
    "\n",
    "breast_cancer.target_names  "
   ]
  },
  {
   "cell_type": "code",
   "execution_count": 4,
   "id": "b53be956",
   "metadata": {
    "slideshow": {
     "slide_type": "slide"
    }
   },
   "outputs": [
    {
     "data": {
      "text/plain": [
       "(569, 30)"
      ]
     },
     "execution_count": 4,
     "metadata": {},
     "output_type": "execute_result"
    }
   ],
   "source": [
    "' shape of data array ' \n",
    "\n",
    "breast_cancer.data.shape"
   ]
  },
  {
   "cell_type": "code",
   "execution_count": 5,
   "id": "34f4bc64",
   "metadata": {},
   "outputs": [
    {
     "data": {
      "text/html": [
       "<div>\n",
       "<style scoped>\n",
       "    .dataframe tbody tr th:only-of-type {\n",
       "        vertical-align: middle;\n",
       "    }\n",
       "\n",
       "    .dataframe tbody tr th {\n",
       "        vertical-align: top;\n",
       "    }\n",
       "\n",
       "    .dataframe thead th {\n",
       "        text-align: right;\n",
       "    }\n",
       "</style>\n",
       "<table border=\"1\" class=\"dataframe\">\n",
       "  <thead>\n",
       "    <tr style=\"text-align: right;\">\n",
       "      <th></th>\n",
       "      <th>mean radius</th>\n",
       "      <th>mean texture</th>\n",
       "      <th>mean perimeter</th>\n",
       "      <th>mean area</th>\n",
       "      <th>mean smoothness</th>\n",
       "      <th>mean compactness</th>\n",
       "      <th>mean concavity</th>\n",
       "      <th>mean concave points</th>\n",
       "      <th>mean symmetry</th>\n",
       "      <th>mean fractal dimension</th>\n",
       "      <th>...</th>\n",
       "      <th>worst texture</th>\n",
       "      <th>worst perimeter</th>\n",
       "      <th>worst area</th>\n",
       "      <th>worst smoothness</th>\n",
       "      <th>worst compactness</th>\n",
       "      <th>worst concavity</th>\n",
       "      <th>worst concave points</th>\n",
       "      <th>worst symmetry</th>\n",
       "      <th>worst fractal dimension</th>\n",
       "      <th>target</th>\n",
       "    </tr>\n",
       "  </thead>\n",
       "  <tbody>\n",
       "    <tr>\n",
       "      <th>count</th>\n",
       "      <td>569.000000</td>\n",
       "      <td>569.000000</td>\n",
       "      <td>569.000000</td>\n",
       "      <td>569.000000</td>\n",
       "      <td>569.000000</td>\n",
       "      <td>569.000000</td>\n",
       "      <td>569.000000</td>\n",
       "      <td>569.000000</td>\n",
       "      <td>569.000000</td>\n",
       "      <td>569.000000</td>\n",
       "      <td>...</td>\n",
       "      <td>569.000000</td>\n",
       "      <td>569.000000</td>\n",
       "      <td>569.000000</td>\n",
       "      <td>569.000000</td>\n",
       "      <td>569.000000</td>\n",
       "      <td>569.000000</td>\n",
       "      <td>569.000000</td>\n",
       "      <td>569.000000</td>\n",
       "      <td>569.000000</td>\n",
       "      <td>569.000000</td>\n",
       "    </tr>\n",
       "    <tr>\n",
       "      <th>mean</th>\n",
       "      <td>14.127292</td>\n",
       "      <td>19.289649</td>\n",
       "      <td>91.969033</td>\n",
       "      <td>654.889104</td>\n",
       "      <td>0.096360</td>\n",
       "      <td>0.104341</td>\n",
       "      <td>0.088799</td>\n",
       "      <td>0.048919</td>\n",
       "      <td>0.181162</td>\n",
       "      <td>0.062798</td>\n",
       "      <td>...</td>\n",
       "      <td>25.677223</td>\n",
       "      <td>107.261213</td>\n",
       "      <td>880.583128</td>\n",
       "      <td>0.132369</td>\n",
       "      <td>0.254265</td>\n",
       "      <td>0.272188</td>\n",
       "      <td>0.114606</td>\n",
       "      <td>0.290076</td>\n",
       "      <td>0.083946</td>\n",
       "      <td>0.627417</td>\n",
       "    </tr>\n",
       "    <tr>\n",
       "      <th>std</th>\n",
       "      <td>3.524049</td>\n",
       "      <td>4.301036</td>\n",
       "      <td>24.298981</td>\n",
       "      <td>351.914129</td>\n",
       "      <td>0.014064</td>\n",
       "      <td>0.052813</td>\n",
       "      <td>0.079720</td>\n",
       "      <td>0.038803</td>\n",
       "      <td>0.027414</td>\n",
       "      <td>0.007060</td>\n",
       "      <td>...</td>\n",
       "      <td>6.146258</td>\n",
       "      <td>33.602542</td>\n",
       "      <td>569.356993</td>\n",
       "      <td>0.022832</td>\n",
       "      <td>0.157336</td>\n",
       "      <td>0.208624</td>\n",
       "      <td>0.065732</td>\n",
       "      <td>0.061867</td>\n",
       "      <td>0.018061</td>\n",
       "      <td>0.483918</td>\n",
       "    </tr>\n",
       "    <tr>\n",
       "      <th>min</th>\n",
       "      <td>6.981000</td>\n",
       "      <td>9.710000</td>\n",
       "      <td>43.790000</td>\n",
       "      <td>143.500000</td>\n",
       "      <td>0.052630</td>\n",
       "      <td>0.019380</td>\n",
       "      <td>0.000000</td>\n",
       "      <td>0.000000</td>\n",
       "      <td>0.106000</td>\n",
       "      <td>0.049960</td>\n",
       "      <td>...</td>\n",
       "      <td>12.020000</td>\n",
       "      <td>50.410000</td>\n",
       "      <td>185.200000</td>\n",
       "      <td>0.071170</td>\n",
       "      <td>0.027290</td>\n",
       "      <td>0.000000</td>\n",
       "      <td>0.000000</td>\n",
       "      <td>0.156500</td>\n",
       "      <td>0.055040</td>\n",
       "      <td>0.000000</td>\n",
       "    </tr>\n",
       "    <tr>\n",
       "      <th>25%</th>\n",
       "      <td>11.700000</td>\n",
       "      <td>16.170000</td>\n",
       "      <td>75.170000</td>\n",
       "      <td>420.300000</td>\n",
       "      <td>0.086370</td>\n",
       "      <td>0.064920</td>\n",
       "      <td>0.029560</td>\n",
       "      <td>0.020310</td>\n",
       "      <td>0.161900</td>\n",
       "      <td>0.057700</td>\n",
       "      <td>...</td>\n",
       "      <td>21.080000</td>\n",
       "      <td>84.110000</td>\n",
       "      <td>515.300000</td>\n",
       "      <td>0.116600</td>\n",
       "      <td>0.147200</td>\n",
       "      <td>0.114500</td>\n",
       "      <td>0.064930</td>\n",
       "      <td>0.250400</td>\n",
       "      <td>0.071460</td>\n",
       "      <td>0.000000</td>\n",
       "    </tr>\n",
       "    <tr>\n",
       "      <th>50%</th>\n",
       "      <td>13.370000</td>\n",
       "      <td>18.840000</td>\n",
       "      <td>86.240000</td>\n",
       "      <td>551.100000</td>\n",
       "      <td>0.095870</td>\n",
       "      <td>0.092630</td>\n",
       "      <td>0.061540</td>\n",
       "      <td>0.033500</td>\n",
       "      <td>0.179200</td>\n",
       "      <td>0.061540</td>\n",
       "      <td>...</td>\n",
       "      <td>25.410000</td>\n",
       "      <td>97.660000</td>\n",
       "      <td>686.500000</td>\n",
       "      <td>0.131300</td>\n",
       "      <td>0.211900</td>\n",
       "      <td>0.226700</td>\n",
       "      <td>0.099930</td>\n",
       "      <td>0.282200</td>\n",
       "      <td>0.080040</td>\n",
       "      <td>1.000000</td>\n",
       "    </tr>\n",
       "    <tr>\n",
       "      <th>75%</th>\n",
       "      <td>15.780000</td>\n",
       "      <td>21.800000</td>\n",
       "      <td>104.100000</td>\n",
       "      <td>782.700000</td>\n",
       "      <td>0.105300</td>\n",
       "      <td>0.130400</td>\n",
       "      <td>0.130700</td>\n",
       "      <td>0.074000</td>\n",
       "      <td>0.195700</td>\n",
       "      <td>0.066120</td>\n",
       "      <td>...</td>\n",
       "      <td>29.720000</td>\n",
       "      <td>125.400000</td>\n",
       "      <td>1084.000000</td>\n",
       "      <td>0.146000</td>\n",
       "      <td>0.339100</td>\n",
       "      <td>0.382900</td>\n",
       "      <td>0.161400</td>\n",
       "      <td>0.317900</td>\n",
       "      <td>0.092080</td>\n",
       "      <td>1.000000</td>\n",
       "    </tr>\n",
       "    <tr>\n",
       "      <th>max</th>\n",
       "      <td>28.110000</td>\n",
       "      <td>39.280000</td>\n",
       "      <td>188.500000</td>\n",
       "      <td>2501.000000</td>\n",
       "      <td>0.163400</td>\n",
       "      <td>0.345400</td>\n",
       "      <td>0.426800</td>\n",
       "      <td>0.201200</td>\n",
       "      <td>0.304000</td>\n",
       "      <td>0.097440</td>\n",
       "      <td>...</td>\n",
       "      <td>49.540000</td>\n",
       "      <td>251.200000</td>\n",
       "      <td>4254.000000</td>\n",
       "      <td>0.222600</td>\n",
       "      <td>1.058000</td>\n",
       "      <td>1.252000</td>\n",
       "      <td>0.291000</td>\n",
       "      <td>0.663800</td>\n",
       "      <td>0.207500</td>\n",
       "      <td>1.000000</td>\n",
       "    </tr>\n",
       "  </tbody>\n",
       "</table>\n",
       "<p>8 rows × 31 columns</p>\n",
       "</div>"
      ],
      "text/plain": [
       "       mean radius  mean texture  mean perimeter    mean area  \\\n",
       "count   569.000000    569.000000      569.000000   569.000000   \n",
       "mean     14.127292     19.289649       91.969033   654.889104   \n",
       "std       3.524049      4.301036       24.298981   351.914129   \n",
       "min       6.981000      9.710000       43.790000   143.500000   \n",
       "25%      11.700000     16.170000       75.170000   420.300000   \n",
       "50%      13.370000     18.840000       86.240000   551.100000   \n",
       "75%      15.780000     21.800000      104.100000   782.700000   \n",
       "max      28.110000     39.280000      188.500000  2501.000000   \n",
       "\n",
       "       mean smoothness  mean compactness  mean concavity  mean concave points  \\\n",
       "count       569.000000        569.000000      569.000000           569.000000   \n",
       "mean          0.096360          0.104341        0.088799             0.048919   \n",
       "std           0.014064          0.052813        0.079720             0.038803   \n",
       "min           0.052630          0.019380        0.000000             0.000000   \n",
       "25%           0.086370          0.064920        0.029560             0.020310   \n",
       "50%           0.095870          0.092630        0.061540             0.033500   \n",
       "75%           0.105300          0.130400        0.130700             0.074000   \n",
       "max           0.163400          0.345400        0.426800             0.201200   \n",
       "\n",
       "       mean symmetry  mean fractal dimension  ...  worst texture  \\\n",
       "count     569.000000              569.000000  ...     569.000000   \n",
       "mean        0.181162                0.062798  ...      25.677223   \n",
       "std         0.027414                0.007060  ...       6.146258   \n",
       "min         0.106000                0.049960  ...      12.020000   \n",
       "25%         0.161900                0.057700  ...      21.080000   \n",
       "50%         0.179200                0.061540  ...      25.410000   \n",
       "75%         0.195700                0.066120  ...      29.720000   \n",
       "max         0.304000                0.097440  ...      49.540000   \n",
       "\n",
       "       worst perimeter   worst area  worst smoothness  worst compactness  \\\n",
       "count       569.000000   569.000000        569.000000         569.000000   \n",
       "mean        107.261213   880.583128          0.132369           0.254265   \n",
       "std          33.602542   569.356993          0.022832           0.157336   \n",
       "min          50.410000   185.200000          0.071170           0.027290   \n",
       "25%          84.110000   515.300000          0.116600           0.147200   \n",
       "50%          97.660000   686.500000          0.131300           0.211900   \n",
       "75%         125.400000  1084.000000          0.146000           0.339100   \n",
       "max         251.200000  4254.000000          0.222600           1.058000   \n",
       "\n",
       "       worst concavity  worst concave points  worst symmetry  \\\n",
       "count       569.000000            569.000000      569.000000   \n",
       "mean          0.272188              0.114606        0.290076   \n",
       "std           0.208624              0.065732        0.061867   \n",
       "min           0.000000              0.000000        0.156500   \n",
       "25%           0.114500              0.064930        0.250400   \n",
       "50%           0.226700              0.099930        0.282200   \n",
       "75%           0.382900              0.161400        0.317900   \n",
       "max           1.252000              0.291000        0.663800   \n",
       "\n",
       "       worst fractal dimension      target  \n",
       "count               569.000000  569.000000  \n",
       "mean                  0.083946    0.627417  \n",
       "std                   0.018061    0.483918  \n",
       "min                   0.055040    0.000000  \n",
       "25%                   0.071460    0.000000  \n",
       "50%                   0.080040    1.000000  \n",
       "75%                   0.092080    1.000000  \n",
       "max                   0.207500    1.000000  \n",
       "\n",
       "[8 rows x 31 columns]"
      ]
     },
     "execution_count": 5,
     "metadata": {},
     "output_type": "execute_result"
    }
   ],
   "source": [
    "breast_cancer_df.describe()"
   ]
  },
  {
   "cell_type": "code",
   "execution_count": 6,
   "id": "9f9e707e",
   "metadata": {},
   "outputs": [
    {
     "data": {
      "text/html": [
       "<div>\n",
       "<style scoped>\n",
       "    .dataframe tbody tr th:only-of-type {\n",
       "        vertical-align: middle;\n",
       "    }\n",
       "\n",
       "    .dataframe tbody tr th {\n",
       "        vertical-align: top;\n",
       "    }\n",
       "\n",
       "    .dataframe thead th {\n",
       "        text-align: right;\n",
       "    }\n",
       "</style>\n",
       "<table border=\"1\" class=\"dataframe\">\n",
       "  <thead>\n",
       "    <tr style=\"text-align: right;\">\n",
       "      <th></th>\n",
       "      <th>mean radius</th>\n",
       "      <th>mean texture</th>\n",
       "      <th>mean perimeter</th>\n",
       "      <th>mean area</th>\n",
       "      <th>mean smoothness</th>\n",
       "      <th>mean compactness</th>\n",
       "      <th>mean concavity</th>\n",
       "      <th>mean concave points</th>\n",
       "      <th>mean symmetry</th>\n",
       "      <th>mean fractal dimension</th>\n",
       "      <th>...</th>\n",
       "      <th>worst texture</th>\n",
       "      <th>worst perimeter</th>\n",
       "      <th>worst area</th>\n",
       "      <th>worst smoothness</th>\n",
       "      <th>worst compactness</th>\n",
       "      <th>worst concavity</th>\n",
       "      <th>worst concave points</th>\n",
       "      <th>worst symmetry</th>\n",
       "      <th>worst fractal dimension</th>\n",
       "      <th>target</th>\n",
       "    </tr>\n",
       "  </thead>\n",
       "  <tbody>\n",
       "    <tr>\n",
       "      <th>185</th>\n",
       "      <td>10.08</td>\n",
       "      <td>15.11</td>\n",
       "      <td>63.76</td>\n",
       "      <td>317.5</td>\n",
       "      <td>0.09267</td>\n",
       "      <td>0.04695</td>\n",
       "      <td>0.001597</td>\n",
       "      <td>0.002404</td>\n",
       "      <td>0.1703</td>\n",
       "      <td>0.06048</td>\n",
       "      <td>...</td>\n",
       "      <td>21.18</td>\n",
       "      <td>75.39</td>\n",
       "      <td>437.0</td>\n",
       "      <td>0.1521</td>\n",
       "      <td>0.10190</td>\n",
       "      <td>0.00692</td>\n",
       "      <td>0.01042</td>\n",
       "      <td>0.2933</td>\n",
       "      <td>0.07697</td>\n",
       "      <td>1</td>\n",
       "    </tr>\n",
       "    <tr>\n",
       "      <th>174</th>\n",
       "      <td>10.66</td>\n",
       "      <td>15.15</td>\n",
       "      <td>67.49</td>\n",
       "      <td>349.6</td>\n",
       "      <td>0.08792</td>\n",
       "      <td>0.04302</td>\n",
       "      <td>0.000000</td>\n",
       "      <td>0.000000</td>\n",
       "      <td>0.1928</td>\n",
       "      <td>0.05975</td>\n",
       "      <td>...</td>\n",
       "      <td>19.20</td>\n",
       "      <td>73.20</td>\n",
       "      <td>408.3</td>\n",
       "      <td>0.1076</td>\n",
       "      <td>0.06791</td>\n",
       "      <td>0.00000</td>\n",
       "      <td>0.00000</td>\n",
       "      <td>0.2710</td>\n",
       "      <td>0.06164</td>\n",
       "      <td>1</td>\n",
       "    </tr>\n",
       "    <tr>\n",
       "      <th>527</th>\n",
       "      <td>12.34</td>\n",
       "      <td>12.27</td>\n",
       "      <td>78.94</td>\n",
       "      <td>468.5</td>\n",
       "      <td>0.09003</td>\n",
       "      <td>0.06307</td>\n",
       "      <td>0.029580</td>\n",
       "      <td>0.026470</td>\n",
       "      <td>0.1689</td>\n",
       "      <td>0.05808</td>\n",
       "      <td>...</td>\n",
       "      <td>19.27</td>\n",
       "      <td>87.22</td>\n",
       "      <td>564.9</td>\n",
       "      <td>0.1292</td>\n",
       "      <td>0.20740</td>\n",
       "      <td>0.17910</td>\n",
       "      <td>0.10700</td>\n",
       "      <td>0.3110</td>\n",
       "      <td>0.07592</td>\n",
       "      <td>1</td>\n",
       "    </tr>\n",
       "    <tr>\n",
       "      <th>170</th>\n",
       "      <td>12.32</td>\n",
       "      <td>12.39</td>\n",
       "      <td>78.85</td>\n",
       "      <td>464.1</td>\n",
       "      <td>0.10280</td>\n",
       "      <td>0.06981</td>\n",
       "      <td>0.039870</td>\n",
       "      <td>0.037000</td>\n",
       "      <td>0.1959</td>\n",
       "      <td>0.05955</td>\n",
       "      <td>...</td>\n",
       "      <td>15.64</td>\n",
       "      <td>86.97</td>\n",
       "      <td>549.1</td>\n",
       "      <td>0.1385</td>\n",
       "      <td>0.12660</td>\n",
       "      <td>0.12420</td>\n",
       "      <td>0.09391</td>\n",
       "      <td>0.2827</td>\n",
       "      <td>0.06771</td>\n",
       "      <td>1</td>\n",
       "    </tr>\n",
       "    <tr>\n",
       "      <th>77</th>\n",
       "      <td>18.05</td>\n",
       "      <td>16.15</td>\n",
       "      <td>120.20</td>\n",
       "      <td>1006.0</td>\n",
       "      <td>0.10650</td>\n",
       "      <td>0.21460</td>\n",
       "      <td>0.168400</td>\n",
       "      <td>0.108000</td>\n",
       "      <td>0.2152</td>\n",
       "      <td>0.06673</td>\n",
       "      <td>...</td>\n",
       "      <td>18.91</td>\n",
       "      <td>150.10</td>\n",
       "      <td>1610.0</td>\n",
       "      <td>0.1478</td>\n",
       "      <td>0.56340</td>\n",
       "      <td>0.37860</td>\n",
       "      <td>0.21020</td>\n",
       "      <td>0.3751</td>\n",
       "      <td>0.11080</td>\n",
       "      <td>0</td>\n",
       "    </tr>\n",
       "  </tbody>\n",
       "</table>\n",
       "<p>5 rows × 31 columns</p>\n",
       "</div>"
      ],
      "text/plain": [
       "     mean radius  mean texture  mean perimeter  mean area  mean smoothness  \\\n",
       "185        10.08         15.11           63.76      317.5          0.09267   \n",
       "174        10.66         15.15           67.49      349.6          0.08792   \n",
       "527        12.34         12.27           78.94      468.5          0.09003   \n",
       "170        12.32         12.39           78.85      464.1          0.10280   \n",
       "77         18.05         16.15          120.20     1006.0          0.10650   \n",
       "\n",
       "     mean compactness  mean concavity  mean concave points  mean symmetry  \\\n",
       "185           0.04695        0.001597             0.002404         0.1703   \n",
       "174           0.04302        0.000000             0.000000         0.1928   \n",
       "527           0.06307        0.029580             0.026470         0.1689   \n",
       "170           0.06981        0.039870             0.037000         0.1959   \n",
       "77            0.21460        0.168400             0.108000         0.2152   \n",
       "\n",
       "     mean fractal dimension  ...  worst texture  worst perimeter  worst area  \\\n",
       "185                 0.06048  ...          21.18            75.39       437.0   \n",
       "174                 0.05975  ...          19.20            73.20       408.3   \n",
       "527                 0.05808  ...          19.27            87.22       564.9   \n",
       "170                 0.05955  ...          15.64            86.97       549.1   \n",
       "77                  0.06673  ...          18.91           150.10      1610.0   \n",
       "\n",
       "     worst smoothness  worst compactness  worst concavity  \\\n",
       "185            0.1521            0.10190          0.00692   \n",
       "174            0.1076            0.06791          0.00000   \n",
       "527            0.1292            0.20740          0.17910   \n",
       "170            0.1385            0.12660          0.12420   \n",
       "77             0.1478            0.56340          0.37860   \n",
       "\n",
       "     worst concave points  worst symmetry  worst fractal dimension  target  \n",
       "185               0.01042          0.2933                  0.07697       1  \n",
       "174               0.00000          0.2710                  0.06164       1  \n",
       "527               0.10700          0.3110                  0.07592       1  \n",
       "170               0.09391          0.2827                  0.06771       1  \n",
       "77                0.21020          0.3751                  0.11080       0  \n",
       "\n",
       "[5 rows x 31 columns]"
      ]
     },
     "execution_count": 6,
     "metadata": {},
     "output_type": "execute_result"
    }
   ],
   "source": [
    "breast_cancer_df.sample(n = 5)"
   ]
  },
  {
   "cell_type": "code",
   "execution_count": 7,
   "id": "3e516e29",
   "metadata": {},
   "outputs": [],
   "source": [
    "' Now, we want to split our dataset into train and test sections '\n",
    "\n",
    "from sklearn.model_selection import train_test_split\n",
    "\n",
    "X = breast_cancer_df.drop('target', axis=1)\n",
    "Y = breast_cancer_df['target']\n",
    "\n",
    "X_train, X_test, Y_train, Y_test = train_test_split(X, Y, test_size=0.25, random_state=8)"
   ]
  },
  {
   "cell_type": "code",
   "execution_count": 8,
   "id": "35826f85",
   "metadata": {},
   "outputs": [
    {
     "data": {
      "text/plain": [
       "GaussianNB()"
      ]
     },
     "execution_count": 8,
     "metadata": {},
     "output_type": "execute_result"
    }
   ],
   "source": [
    "from sklearn.naive_bayes import GaussianNB\n",
    "from sklearn.metrics import accuracy_score\n",
    "\n",
    "classifier = GaussianNB()  \n",
    "\n",
    "classifier.fit(X_train, Y_train)"
   ]
  },
  {
   "cell_type": "code",
   "execution_count": 9,
   "id": "c162fb01",
   "metadata": {},
   "outputs": [
    {
     "name": "stdout",
     "output_type": "stream",
     "text": [
      "Train Accuracy: 94.83568075117371\n",
      "Test Accuracy : 93.7062937062937\n"
     ]
    }
   ],
   "source": [
    "Y_predict_train = classifier.predict(X_train)\n",
    "Y_predict_test = classifier.predict(X_test)\n",
    "\n",
    "print(f\"Train Accuracy: {classifier.score(X_train, Y_train) * 100}\")\n",
    "print(f\"Test Accuracy : {classifier.score(X_test, Y_test) * 100}\")"
   ]
  },
  {
   "cell_type": "markdown",
   "id": "8c314a06",
   "metadata": {},
   "source": [
    "When classes are not equally distributed, relying solely on accuracy as a metric may not be the most effective approach. Instead, it is better to assess the performance of a classifier using a confusion matrix, which provides a more detailed picture of the classification results. The confusion matrix helps to determine the number of times samples are classified correctly into their respective classes and the number of times they are classified into other classes. This provides a more comprehensive understanding of the classifier's performance, especially in cases where there is class imbalance."
   ]
  },
  {
   "cell_type": "code",
   "execution_count": 10,
   "id": "21fcc227",
   "metadata": {},
   "outputs": [
    {
     "name": "stdout",
     "output_type": "stream",
     "text": [
      "For train data: \n"
     ]
    },
    {
     "data": {
      "image/png": "[encoded data removed]",
      "text/plain": [
       "<Figure size 432x288 with 2 Axes>"
      ]
     },
     "metadata": {
      "needs_background": "light"
     },
     "output_type": "display_data"
    },
    {
     "name": "stdout",
     "output_type": "stream",
     "text": [
      "\n",
      "For test data: \n"
     ]
    },
    {
     "data": {
      "image/png": "[encoded data removed]",
      "text/plain": [
       "<Figure size 432x288 with 2 Axes>"
      ]
     },
     "metadata": {
      "needs_background": "light"
     },
     "output_type": "display_data"
    }
   ],
   "source": [
    "import matplotlib.pyplot as plt\n",
    "from sklearn.metrics import confusion_matrix\n",
    "\n",
    "def plot_cm(Y_true, Y_pred):\n",
    "    cm = confusion_matrix(Y_true, Y_pred)\n",
    "    \n",
    "    fig, ax = plt.subplots()\n",
    "    im = ax.imshow(cm, interpolation='nearest', cmap=plt.cm.Blues)\n",
    "    ax.figure.colorbar(im, ax=ax)\n",
    "    tick_marks = np.arange(len(data.target_names))\n",
    "    ax.set_xticks(tick_marks)\n",
    "    ax.set_yticks(tick_marks)\n",
    "    ax.set_xticklabels(data.target_names)\n",
    "    ax.set_yticklabels(data.target_names)\n",
    "    ax.set_xlabel('Predicted')\n",
    "    ax.set_ylabel('True')\n",
    "\n",
    "    # Add counts to each box\n",
    "    thresh = cm.max() / 2.\n",
    "    for i in range(cm.shape[0]):\n",
    "        for j in range(cm.shape[1]):\n",
    "            ax.text(j, i, format(cm[i, j], 'd'),\n",
    "                    ha=\"center\", va=\"center\",\n",
    "                    color=\"white\" if cm[i, j] > thresh else \"black\")\n",
    "\n",
    "    fig.tight_layout()\n",
    "    plt.show()\n",
    "    \n",
    "    \n",
    "print(\"For train data: \")\n",
    "plot_cm(Y_train, Y_predict_train)\n",
    "print()\n",
    "print(\"For test data: \")\n",
    "plot_cm(Y_test, Y_predict_test)"
   ]
  },
  {
   "cell_type": "markdown",
   "id": "3985d7ce",
   "metadata": {},
   "source": [
    "There are other metrics which are used in different situations, such as:\n",
    "\n",
    "* Sensitivity (Recall)\n",
    "* Precision\n",
    "* F1-score\n",
    "\n",
    "https://medium.com/analytics-vidhya/notes-on-sensitivity-specificity-precision-recall-and-f1-score-e34204d0bb9b"
   ]
  },
  {
   "cell_type": "code",
   "execution_count": 11,
   "id": "8536bf45",
   "metadata": {},
   "outputs": [
    {
     "name": "stdout",
     "output_type": "stream",
     "text": [
      "Train Data: \n",
      "              precision    recall  f1-score   support\n",
      "\n",
      "           0       0.95      0.90      0.93       154\n",
      "           1       0.95      0.97      0.96       272\n",
      "\n",
      "    accuracy                           0.95       426\n",
      "   macro avg       0.95      0.94      0.94       426\n",
      "weighted avg       0.95      0.95      0.95       426\n",
      "\n",
      "*********************************************************\n",
      "Test Data: \n",
      "              precision    recall  f1-score   support\n",
      "\n",
      "           0       0.95      0.90      0.92        58\n",
      "           1       0.93      0.96      0.95        85\n",
      "\n",
      "    accuracy                           0.94       143\n",
      "   macro avg       0.94      0.93      0.93       143\n",
      "weighted avg       0.94      0.94      0.94       143\n",
      "\n"
     ]
    }
   ],
   "source": [
    "from sklearn.metrics import classification_report\n",
    "\n",
    "print(\"Train Data: \")\n",
    "print(classification_report(Y_train, Y_predict_train))\n",
    "print(\"*********************************************************\")\n",
    "print(\"Test Data: \")\n",
    "print(classification_report(Y_test, Y_predict_test))"
   ]
  },
  {
   "cell_type": "markdown",
   "id": "554784cc",
   "metadata": {},
   "source": [
    "In order to improve the reliability of our accuracy assessment, we can use a k-fold cross-validation approach instead of simply relying on a test section that only represents 1/k of the dataset. This is important because the test section may have biases that can skew the results. By using a k-fold cross-validation approach, we can split the data into k subsets, train the model on k-1 of them, and test it on the remaining subset, and repeat this process k times, each time with a different subset serving as the test set. This enables us to obtain a more rigorous and representative evaluation of the model's performance."
   ]
  },
  {
   "cell_type": "code",
   "execution_count": 12,
   "id": "ae73c4fe",
   "metadata": {},
   "outputs": [
    {
     "name": "stdout",
     "output_type": "stream",
     "text": [
      "Our accuracy is between: 92.41% and 96.00%\n"
     ]
    }
   ],
   "source": [
    "from sklearn.model_selection import cross_val_score\n",
    "\n",
    "acc = cross_val_score(classifier, X, Y, cv=4, scoring='accuracy')\n",
    "\n",
    "print(\"Our accuracy is between: %.2f%% and %.2f%%\" %((np.mean(acc)*100 - np.std(acc)*100), (np.mean(acc)*100 + np.std(acc)*100)))"
   ]
  },
  {
   "cell_type": "markdown",
   "id": "8abfa9e7",
   "metadata": {},
   "source": [
    "#### Plot the decision boundary. \n",
    "For that, we will assign a color to each point in the mesh [x_min, x_max]*[y_min, y_max].__"
   ]
  },
  {
   "cell_type": "code",
   "execution_count": 13,
   "id": "a4ee2c6e",
   "metadata": {},
   "outputs": [],
   "source": [
    "from sklearn.datasets import make_classification\n",
    "import matplotlib.pyplot as plt\n",
    "\n",
    "# Generate a 3-class dataset with 2 informative features and 1000 samples\n",
    "a, b = make_classification(n_samples=1000, n_features=2, n_informative=2, n_redundant=0, n_clusters_per_class=1, \n",
    "                           n_classes=3, class_sep=2, random_state=42)\n",
    "\n",
    "a_train, a_test, b_train, b_test = train_test_split(a, b, test_size=0.2, random_state=8)"
   ]
  },
  {
   "cell_type": "code",
   "execution_count": 14,
   "id": "315fd991",
   "metadata": {},
   "outputs": [
    {
     "data": {
      "text/plain": [
       "GaussianNB()"
      ]
     },
     "execution_count": 14,
     "metadata": {},
     "output_type": "execute_result"
    }
   ],
   "source": [
    "clf = GaussianNB()  \n",
    "clf.fit(a_train, b_train)"
   ]
  },
  {
   "cell_type": "code",
   "execution_count": 15,
   "id": "13a261cc",
   "metadata": {},
   "outputs": [
    {
     "name": "stdout",
     "output_type": "stream",
     "text": [
      "Test Accuracy: 99.5\n"
     ]
    }
   ],
   "source": [
    "print(f\"Test Accuracy: {clf.score(a_test, b_test) * 100}\")"
   ]
  },
  {
   "cell_type": "code",
   "execution_count": 16,
   "id": "358ca6fc",
   "metadata": {},
   "outputs": [],
   "source": [
    "from matplotlib.colors import ListedColormap\n",
    "\n",
    "h = 0.02  # step size in the mesh\n",
    "\n",
    "# Create color maps\n",
    "cmap_light = ListedColormap(['yellow', 'orange', 'skyblue'])\n",
    "cmap_bold = ListedColormap(['red', 'black', 'blue'])"
   ]
  },
  {
   "cell_type": "code",
   "execution_count": 17,
   "id": "ed244333",
   "metadata": {},
   "outputs": [],
   "source": [
    "a_train_min, a_train_max = a_train[:, 0].min() - 1, a_train[:, 0].max() + 1\n",
    "b_train_min, b_train_max = a_train[:, 1].min() - 1, a_train[:, 1].max() + 1\n",
    "\n",
    "aa, bb = np.meshgrid(np.arange(a_train_min, a_train_max, h), np.arange(b_train_min, b_train_max, h))\n",
    "\n",
    "Z = clf.predict(np.c_[aa.ravel(), bb.ravel()])"
   ]
  },
  {
   "cell_type": "code",
   "execution_count": 18,
   "id": "0ca19f91",
   "metadata": {},
   "outputs": [
    {
     "data": {
      "image/png": "[encoded data removed]",
      "text/plain": [
       "<Figure size 432x288 with 1 Axes>"
      ]
     },
     "metadata": {
      "needs_background": "light"
     },
     "output_type": "display_data"
    }
   ],
   "source": [
    "# Put the result into a color plot\n",
    "Z = Z.reshape(aa.shape)\n",
    "plt.figure()\n",
    "plt.pcolormesh(aa, bb, Z, cmap=cmap_light)\n",
    "\n",
    "# Plot also the training points\n",
    "plt.scatter(a_train[:, 0], a_train[:, 1], c=b_train, cmap=cmap_bold, edgecolor='k', s=20)\n",
    "plt.title(\"2-Class classification\")\n",
    "plt.axis('tight')\n",
    "\n",
    "plt.show()"
   ]
  },
  {
   "cell_type": "markdown",
   "id": "a5db2205",
   "metadata": {},
   "source": [
    "### <font color=darkBlue>2) Naive bayes from scratch</font> ###"
   ]
  },
  {
   "cell_type": "code",
   "execution_count": 19,
   "id": "531df48e",
   "metadata": {},
   "outputs": [],
   "source": [
    "import pandas as pd\n",
    "import numpy as np\n",
    "import math\n",
    "from sklearn.metrics import accuracy_score\n",
    "\n",
    "\n",
    "class NaiveBayesClassifier:\n",
    "    def __init__(self):\n",
    "        self.class_prior = None\n",
    "        self.class_likelihood = None\n",
    "        self.class_labels = None\n",
    "\n",
    "    def fit(self, X_train, y_train):\n",
    "        self.class_labels = np.unique(y_train)\n",
    "        n_samples, n_features = X_train.shape\n",
    "        n_classes = len(self.class_labels)\n",
    "        self.class_prior = np.zeros(n_classes)\n",
    "        self.class_likelihood = np.zeros((n_classes, n_features, 2))\n",
    "\n",
    "        for i, label in enumerate(self.class_labels):\n",
    "            X_class = X_train[y_train == label]\n",
    "            self.class_prior[i] = X_class.shape[0] / float(n_samples)\n",
    "            self.class_likelihood[i,:,0] = np.mean(X_class, axis=0)\n",
    "            self.class_likelihood[i,:,1] = np.var(X_class, axis=0)\n",
    "\n",
    "    def predict(self, X_test):\n",
    "        n_samples, n_features = X_test.shape\n",
    "        predictions = np.zeros(n_samples)\n",
    "\n",
    "        for i in range(n_samples):\n",
    "            posteriors = []\n",
    "            for j, label in enumerate(self.class_labels):\n",
    "                prior = math.log(self.class_prior[j])\n",
    "                likelihood = np.sum(np.log(self.cal_prob(X_test[i], self.class_likelihood[j,:,:])))\n",
    "                posterior = prior + likelihood\n",
    "                posteriors.append(posterior)\n",
    "            predictions[i] = self.class_labels[np.argmax(posteriors)]\n",
    "\n",
    "        return predictions\n",
    "\n",
    "    def cal_prob(self, x, class_likelihood):\n",
    "        mean = class_likelihood[:, 0]\n",
    "        var = class_likelihood[:, 1]\n",
    "        return (1 / (np.sqrt(2 * np.pi * var))) * np.exp(-(x - mean)**2 / (2 * var))\n",
    "\n",
    "    def score(self, X_test, y_test):\n",
    "        y_pred = self.predict(X_test)\n",
    "        accuracy = np.mean(y_pred == y_test)\n",
    "        return accuracy\n"
   ]
  },
  {
   "cell_type": "code",
   "execution_count": 20,
   "id": "5a335e42",
   "metadata": {},
   "outputs": [
    {
     "name": "stdout",
     "output_type": "stream",
     "text": [
      "Accuracy: 100.0\n"
     ]
    }
   ],
   "source": [
    "iris = datasets.load_iris()\n",
    "\n",
    "X_train, X_test, Y_train, Y_test = train_test_split(iris.data, iris.target, test_size=0.2, random_state=42)\n",
    "\n",
    "nb = NaiveBayesClassifier()\n",
    "nb.fit(X_train, Y_train)\n",
    "\n",
    "Y_pred = nb.predict(X_test)\n",
    "\n",
    "accuracy = accuracy_score(Y_test, Y_pred)\n",
    "print(f\"Accuracy: {accuracy*100}\")\n"
   ]
  },
  {
   "cell_type": "markdown",
   "id": "e496ebf3",
   "metadata": {},
   "source": [
    "### <font color=darkBlue>3) MLE classifier from scratch</font> ###"
   ]
  },
  {
   "cell_type": "code",
   "execution_count": 21,
   "id": "4ce18aee",
   "metadata": {},
   "outputs": [],
   "source": [
    "class MLEClassifier:\n",
    "    def __init__(self):\n",
    "        self.class_priors = None\n",
    "        self.class_means = None\n",
    "        self.class_vars = None\n",
    "\n",
    "    def fit(self, X, y):\n",
    "        n_samples, n_features = X.shape\n",
    "        self.class_priors = []\n",
    "        self.class_means = []\n",
    "        self.class_vars = []\n",
    "\n",
    "        for c in np.unique(y):\n",
    "            X_c = X[y == c]\n",
    "            self.class_priors.append(X_c.shape[0] / n_samples)\n",
    "            self.class_means.append(np.mean(X_c, axis=0))\n",
    "            self.class_vars.append(np.var(X_c, axis=0))\n",
    "\n",
    "    def predict(self, X):\n",
    "        posteriors = []\n",
    "        for i in range(len(self.class_priors)):\n",
    "            prior = np.log(self.class_priors[i])\n",
    "            posterior = np.sum(np.log(self.gaussian_density(X, self.class_means[i], self.class_vars[i])), axis=1)\n",
    "            posteriors.append(prior + posterior)\n",
    "        return np.argmax(posteriors, axis=0)\n",
    "\n",
    "    def gaussian_density(self, X, mean, var):\n",
    "        return 1.0 / (np.sqrt(2 * np.pi * var)) * np.exp(-((X - mean)**2 / (2 * var)))"
   ]
  },
  {
   "cell_type": "code",
   "execution_count": 22,
   "id": "84bf1176",
   "metadata": {},
   "outputs": [
    {
     "name": "stdout",
     "output_type": "stream",
     "text": [
      "Accuracy: 100.0\n"
     ]
    }
   ],
   "source": [
    "clf = MLEClassifier()\n",
    "clf.fit(X_train, Y_train)\n",
    "\n",
    "predictions = clf.predict(X_test)\n",
    "\n",
    "from sklearn.metrics import accuracy_score\n",
    "print(\"Accuracy:\", accuracy_score(Y_test, predictions)*100)"
   ]
  },
  {
   "cell_type": "code",
   "execution_count": null,
   "id": "dbdd15ff",
   "metadata": {},
   "outputs": [],
   "source": []
  }
 ],
 "metadata": {
  "kernelspec": {
   "display_name": "Python 3 (ipykernel)",
   "language": "python",
   "name": "python3"
  },
  "language_info": {
   "codemirror_mode": {
    "name": "ipython",
    "version": 3
   },
   "file_extension": ".py",
   "mimetype": "text/x-python",
   "name": "python",
   "nbconvert_exporter": "python",
   "pygments_lexer": "ipython3",
   "version": "3.10.1"
  }
 },
 "nbformat": 4,
 "nbformat_minor": 5
}
