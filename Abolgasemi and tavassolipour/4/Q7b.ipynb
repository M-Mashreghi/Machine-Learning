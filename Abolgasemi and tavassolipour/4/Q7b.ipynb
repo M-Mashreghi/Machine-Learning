{
  "cells": [
    {
      "cell_type": "markdown",
      "metadata": {
        "id": "USdShw7Q2Cnm"
      },
      "source": [
        "#Q7"
      ]
    },
    {
      "cell_type": "markdown",
      "metadata": {
        "id": "-gNwnzfcN8l7"
      },
      "source": [
        "\n",
        "### Importing the libraries"
      ]
    },
    {
      "cell_type": "code",
      "execution_count": 1,
      "metadata": {
        "id": "NbIrQVfuN8l7"
      },
      "outputs": [],
      "source": [
        "import numpy as np\n",
        "import matplotlib.pyplot as plt\n",
        "import pandas as pd"
      ]
    },
    {
      "cell_type": "markdown",
      "metadata": {
        "id": "4kGUaQR5N8l8"
      },
      "source": [
        "### Importing the train and test dataset"
      ]
    },
    {
      "cell_type": "code",
      "execution_count": 3,
      "metadata": {
        "colab": {
          "base_uri": "https://localhost:8080/"
        },
        "id": "NNx70oZQN8l8",
        "outputId": "f622bcce-f49e-4a17-ef9e-bdf9c3789dba"
      },
      "outputs": [
        {
          "name": "stdout",
          "output_type": "stream",
          "text": [
            "       IsCanceled  LeadTime  ArrivalDateYear ArrivalDateMonth  \\\n",
            "0               0       342             2015             July   \n",
            "1               0       737             2015             July   \n",
            "2               0         7             2015             July   \n",
            "3               0        13             2015             July   \n",
            "4               0        14             2015             July   \n",
            "...           ...       ...              ...              ...   \n",
            "40055           0       212             2017           August   \n",
            "40056           0       169             2017           August   \n",
            "40057           0       204             2017           August   \n",
            "40058           0       211             2017           August   \n",
            "40059           0       161             2017           August   \n",
            "\n",
            "       ArrivalDateWeekNumber  ArrivalDateDayOfMonth  StaysInWeekendNights  \\\n",
            "0                         27                      1                     0   \n",
            "1                         27                      1                     0   \n",
            "2                         27                      1                     0   \n",
            "3                         27                      1                     0   \n",
            "4                         27                      1                     0   \n",
            "...                      ...                    ...                   ...   \n",
            "40055                     35                     31                     2   \n",
            "40056                     35                     30                     2   \n",
            "40057                     35                     29                     4   \n",
            "40058                     35                     31                     4   \n",
            "40059                     35                     31                     4   \n",
            "\n",
            "       StaysInWeekNights  Adults  Children  ...  ReservedRoomType  \\\n",
            "0                      0       2         0  ...  C                  \n",
            "1                      0       2         0  ...  C                  \n",
            "2                      1       1         0  ...  A                  \n",
            "3                      1       1         0  ...  A                  \n",
            "4                      2       2         0  ...  A                  \n",
            "...                  ...     ...       ...  ...               ...   \n",
            "40055                  8       2         1  ...  A                  \n",
            "40056                  9       2         0  ...  E                  \n",
            "40057                 10       2         0  ...  E                  \n",
            "40058                 10       2         0  ...  D                  \n",
            "40059                 10       2         0  ...  A                  \n",
            "\n",
            "       AssignedRoomType BookingChanges      DepositType DaysInWaitingList  \\\n",
            "0      C                             3  No Deposit                      0   \n",
            "1      C                             4  No Deposit                      0   \n",
            "2      C                             0  No Deposit                      0   \n",
            "3      A                             0  No Deposit                      0   \n",
            "4      A                             0  No Deposit                      0   \n",
            "...                 ...            ...              ...               ...   \n",
            "40055  A                             1  No Deposit                      0   \n",
            "40056  E                             0  No Deposit                      0   \n",
            "40057  E                             0  No Deposit                      0   \n",
            "40058  D                             0  No Deposit                      0   \n",
            "40059  A                             0  No Deposit                      0   \n",
            "\n",
            "          CustomerType     ADR  RequiredCarParkingSpaces  \\\n",
            "0            Transient    0.00                         0   \n",
            "1            Transient    0.00                         0   \n",
            "2            Transient   75.00                         0   \n",
            "3            Transient   75.00                         0   \n",
            "4            Transient   98.00                         0   \n",
            "...                ...     ...                       ...   \n",
            "40055        Transient   89.75                         0   \n",
            "40056  Transient-Party  202.27                         0   \n",
            "40057        Transient  153.57                         0   \n",
            "40058         Contract  112.80                         0   \n",
            "40059        Transient   99.06                         0   \n",
            "\n",
            "      TotalOfSpecialRequests ReservationStatus  \n",
            "0                          0         Check-Out  \n",
            "1                          0         Check-Out  \n",
            "2                          0         Check-Out  \n",
            "3                          0         Check-Out  \n",
            "4                          1         Check-Out  \n",
            "...                      ...               ...  \n",
            "40055                      0         Check-Out  \n",
            "40056                      1         Check-Out  \n",
            "40057                      3         Check-Out  \n",
            "40058                      1         Check-Out  \n",
            "40059                      0         Check-Out  \n",
            "\n",
            "[40060 rows x 28 columns]\n"
          ]
        }
      ],
      "source": [
        "train_dataset = pd.read_csv(r'H:\\GIT project\\Machine Learning with Abolgasemi\\4\\Hotle/H1.csv')\n",
        "test_dataset = pd.read_csv(r'H:\\GIT project\\Machine Learning with Abolgasemi\\4\\Hotle/H2.csv')\n",
        "print(train_dataset)"
      ]
    },
    {
      "cell_type": "markdown",
      "metadata": {
        "id": "I9k4dkhd1LY1"
      },
      "source": [
        "## train preprocesing"
      ]
    },
    {
      "cell_type": "markdown",
      "metadata": {
        "id": "ozA9PHR7fHf5"
      },
      "source": [
        "###find Undefined data and remove that row"
      ]
    },
    {
      "cell_type": "code",
      "execution_count": 4,
      "metadata": {
        "colab": {
          "base_uri": "https://localhost:8080/"
        },
        "id": "4Ow6A8XxfIXW",
        "outputId": "d014625b-234f-4ca4-a852-10a26c31419d"
      },
      "outputs": [
        {
          "name": "stdout",
          "output_type": "stream",
          "text": [
            "[3106, 3107, 3108, 3110, 3111, 3112, 3113, 3114, 3115, 3116, 3117, 3118, 3119, 3120, 3121, 3122, 3123, 3124, 3125, 3126, 3127, 3128, 3130, 3131, 3132, 3346, 3347, 3357, 3358, 3359, 3363, 3364, 3365, 3366, 3367, 3375, 3376, 3387, 3388, 3389, 3399, 3400, 3401, 3402, 3403, 3411, 3412, 3413, 3414, 3423, 3424, 3425, 3648, 3649, 3650, 3651, 3653, 3654, 3658, 3659, 3660, 3661, 3662, 3663, 3664, 3665, 3666, 3668, 3669, 3670, 3671, 3672, 3676, 3677, 3678, 3679, 3680, 3681, 3687, 3688, 3689, 3690, 3691, 3693, 3694, 3695, 3696, 3697, 3698, 3699, 3700, 3701, 3702, 3703, 3704, 3784, 3992, 3993, 3994, 4004, 4005, 4006, 4019, 4020, 4021, 4032, 4033, 4034, 4051, 4052, 4068, 4069, 4070, 4080, 4081, 4092, 4093, 4094, 4095, 4188, 4189, 4192, 4193, 4194, 4195, 4196, 4197, 4198, 4199, 4200, 4201, 4203, 4204, 4205, 4206, 4207, 4208, 4209, 4210, 4211, 4212, 4213, 4215, 4216, 4217, 4218, 4219, 4220, 4237, 4242, 4253, 4357, 4358, 4359, 4360, 4361, 4362, 4532, 4533, 4534, 4535, 4537, 4538, 4539, 4540, 4541, 4546, 4547, 4548, 4549, 4551, 4552, 4553, 4555, 4556, 4557, 4561, 4562, 4563, 4564, 4565, 4566, 4567, 4568, 4571, 4572, 4573, 4574, 4575, 4576, 4577, 4579, 4580, 4581, 4582, 4583, 4584, 4585, 4586, 4588, 4589, 4592, 4593, 4594, 4595, 4596, 4598, 4599, 4600, 4601, 4602, 4603, 5205, 5206, 5207, 5208, 5209, 5210, 5211, 5212, 5213, 5214, 5215, 5216, 5217, 5218, 5219, 5220, 5221, 5222, 5225, 5226, 5227, 5229, 5230, 5231, 5233, 5234, 5235, 5377, 5379, 5380, 5381, 6448, 6449, 6450, 6451, 6452, 6453, 6454, 6455, 6456, 6457, 6458, 6459, 6460, 6461, 6462, 6463, 6468, 6469, 6470, 6471, 6472, 6473, 6474, 6475, 6476, 6477, 6478, 6479, 6605, 6922, 7006, 7009, 7010, 7027, 7028, 7032, 7154, 7266, 7287, 7292, 7295, 7640, 7804, 7975, 9305, 9366, 9508, 9509, 9511, 9512, 9513, 9514, 9515, 9534, 9536, 9537, 9538, 9539, 9540, 9541, 9542, 9543, 9544, 9545, 9719, 9727, 9873, 9874, 9875, 9876, 9877, 9878, 9879, 9880, 9881, 9882, 9883, 9884, 9885, 9886, 9887, 9891, 9892, 10252, 10253, 10255, 10256, 10257, 10258, 10259, 10260, 10261, 10262, 10264, 10265, 10266, 10447, 10449, 10450, 10451, 10452, 10455, 10456, 10457, 10459, 10460, 10461, 10462, 10463, 10464, 10465, 10466, 10467, 10472, 10473, 10474, 10475, 10476, 10477, 10479, 10480, 10481, 10482, 10483, 10484, 10738, 10739, 10824, 10928, 10930, 10933, 11332, 11333, 11334, 11335, 11336, 11337, 11338, 11339, 11425, 11716, 12091, 12194, 12241, 12580, 12712, 12800, 12865, 12877, 13095, 13179, 13264, 13284, 13606, 13655, 14231, 14349, 14496, 14559, 14594, 14598, 14603, 15027, 15137, 15295, 18324, 18325, 18326, 18327, 18328, 18329, 18330, 18331, 18332, 18333, 18334, 18335, 18336, 18337, 18338, 18339, 18340, 18341, 18342, 18343, 18344, 18345, 18346, 18347, 18348, 18558, 18559, 18560, 18561, 18562, 18563, 18564, 18565, 18584, 18986, 19053, 19059, 19060, 19061, 19062, 19063, 19064, 19066, 19068, 19069, 19070, 19071, 19072, 19073, 19074, 19075, 19076, 19077, 19078, 19079, 19080, 19081, 19082, 19083, 19084, 19085, 19088, 19127, 19128, 19184, 19185, 19186, 19187, 19188, 19189, 19190, 19191, 19192, 19193, 19194, 19195, 19196, 19197, 19198, 19199, 19200, 19201, 19202, 19203, 19204, 19205, 19206, 19207, 19208, 19209, 19210, 19211, 19212, 19213, 19214, 19215, 19216, 19217, 19218, 19219, 19220, 19221, 19222, 19223, 19224, 19225, 19226, 19227, 19228, 19229, 19230, 19231, 19232, 19233, 19234, 19235, 19236, 19237, 19238, 19260, 19261, 19367, 19368, 19516, 19724, 19725, 19727, 19729, 19730, 19731, 19732, 19733, 19734, 19736, 19737, 19739, 19740, 19742, 19743, 19744, 19745, 19746, 19747, 19749, 19750, 19751, 19752, 19753, 19754, 19756, 19757, 19758, 19786, 19788, 20500, 20728, 20730, 20734, 20736, 20737, 20738, 20739, 20740, 20741, 20743, 20744, 20747, 20749, 20752, 20780, 20781, 20836, 20837, 20838, 20896, 21170, 21413, 21520, 21538, 21869, 21873, 21874, 21875, 21876, 21877, 21878, 21879, 21880, 21881, 21882, 21883, 21884, 21885, 21886, 21887, 21888, 21889, 21890, 21891, 21892, 21893, 21894, 21895, 21972, 22394, 22395, 22443, 22452, 22463, 22880, 22881, 22882, 22883, 22884, 22885, 22886, 22887, 22888, 22889, 22890, 22891, 22892, 22893, 22894, 22895, 22896, 22897, 22898, 22899, 22900, 22901, 22902, 22903, 22904, 22905, 22906, 22907, 22912, 22913, 22914, 23111, 23322, 23608, 23610, 23611, 23612, 23613, 23614, 23615, 23616, 23617, 23618, 23619, 23622, 23623, 23624, 23625, 23626, 23627, 23628, 23629, 23630, 23631, 23632, 23634, 24592, 24965, 24967, 25156, 25157, 25307, 25324, 25325, 25326, 25395, 25540, 25704, 25885, 25886, 25905, 25992, 26131, 26132, 26135, 26158, 26261, 26315, 26317, 26325, 26343, 26370, 26384, 26473, 26600, 26603, 26621, 26624, 26691, 26699, 26703, 26709, 26770, 26983, 27088, 27089, 27132, 27278, 27295, 27302, 27306, 27434, 27538, 27765, 28131, 29545, 29897, 29930, 30043, 30064, 30081, 30225, 30228, 30230, 30231, 30233, 30235, 30500, 30547, 30691, 30862, 30867, 30868, 30869, 30870, 30871, 30872, 30873, 30874, 30875, 30876, 30877, 30878, 30879, 30880, 30881, 30882, 30883, 30884, 30885, 30886, 30887, 30888, 30889, 30890, 30891, 30892, 30893, 30894, 30895, 30896, 30897, 30899, 30900, 30901, 30902, 30906, 30907, 30909, 30910, 30916, 30919, 30924, 30926, 30927, 30936, 30969, 30971, 30972, 30973, 30974, 30975, 30976, 30978, 30979, 30980, 30981, 30982, 30983, 30984, 30985, 30986, 30987, 30988, 30989, 30990, 30991, 30992, 31127, 31128, 31130, 31131, 31132, 31133, 31280, 31284, 31300, 31302, 31431, 31448, 31449, 31456, 31457, 31458, 31459, 31460, 31463, 31464, 31465, 31597, 31599, 31600, 31601, 31602, 31603, 31604, 31605, 31606, 31607, 31608, 31610, 31611, 31612, 31613, 31614, 31615, 31616, 31617, 31701, 31702, 31705, 31706, 31734, 31931, 31934, 31935, 31938, 32108, 32110, 32113, 32114, 32117, 32118, 32119, 32120, 32121, 32122, 32124, 32125, 32135, 32140, 32141, 32144, 32145, 32146, 32156, 32158, 32159, 32160, 32161, 32164, 32165, 32166, 32170, 32171, 32173, 32174, 32175, 32176, 32177, 32178, 32179, 32180, 32181, 32182, 32183, 32184, 32185, 32186, 32187, 32188, 32189, 32190, 32191, 32192, 32193, 32194, 32195, 32196, 32197, 32198, 32199, 32200, 32201, 32202, 32203, 32204, 32205, 32206, 32207, 32208, 32209, 32210, 32211, 32212, 32213, 32214, 32215, 32216, 32217, 32218, 32219, 32220, 32221, 32222, 32223, 32224, 32225, 32226, 32227, 32228, 32229, 32230, 32231, 32232, 32233, 32234, 32235, 32236, 32237, 32238, 32239, 32240, 32241, 32242, 32243, 32244, 32245, 32246, 32247, 32415, 32417, 32425, 32772, 32857, 32858, 32859, 32860, 32861, 32862, 32863, 32864, 32865, 32866, 32867, 32868, 32869, 32870, 32871, 32885, 32886, 32887, 32888, 32889, 32890, 32892, 32984, 32986, 33129, 33133, 33139, 33240, 33265, 33420, 33480, 33484, 33485, 33486, 33487, 33488, 33490, 33491, 33492, 33494, 33495, 33496, 33497, 33498, 33499, 33501, 33502, 33503, 33510, 33512, 33513, 33516, 33544, 33563, 33726, 33733, 33968, 33973, 34002, 34003, 34004, 34005, 34006, 34007, 34008, 34009, 34010, 34011, 34012, 34013, 34014, 34015, 34016, 34017, 34042, 34188, 34195, 34379, 34380, 34381, 34383, 34570, 34571, 34580, 34581, 34582, 34586, 34587, 34588, 34590, 34591, 34594, 34596, 34598, 34599, 34600, 34601, 34829, 34848, 34852, 34853, 34854, 34856, 34857, 34858, 34859, 34860, 34861, 34862, 34863, 34864, 34865, 34868, 34872, 35099, 35219, 35255, 35281, 35282, 35363, 35579, 35596, 35617, 35623, 35624, 35625, 35626, 35627, 35633, 35634, 35640, 35646, 35647, 35648, 35655, 35656, 35659, 35661, 35662, 35664, 35665, 35666, 35667, 35670, 35671, 35672, 35675, 35676, 35677, 35678, 35679, 35681, 35682, 35684, 35685, 35686, 35744, 35759, 35795, 35796, 35797, 35798, 35799, 35800, 35801, 35802, 35803, 35804, 35805, 35806, 35807, 35808, 35809, 35810, 35811, 35812, 35813, 37261, 37412, 37667, 37694, 37900, 37911, 37981, 37982, 38159, 38177, 38381, 38746, 38886, 38887, 38888, 39155, 39156, 39184, 39277, 39298, 39403, 39472, 39507, 39508, 39592, 39796, 39833, 39870, 39874, 39875, 39906, 39962, 0, 134, 139, 166, 196, 220, 251, 280, 300, 316, 332, 334, 335, 336, 337, 338, 339, 341, 342, 381, 392, 413, 415, 434, 442, 473, 474, 476, 477, 482, 534, 536, 538, 543, 573, 579, 581, 583, 584, 597, 600, 611, 646, 667, 677, 687, 690, 728, 737, 818, 828, 862, 873, 890, 928, 960, 961, 965, 977, 980, 996, 1041, 1059, 1061, 1079, 1196, 1282, 1284, 1551, 1565, 1574, 1602, 1703, 1704, 1748, 1766, 1794, 1821, 1823, 1825, 1837, 1864, 1892, 1895, 1964, 2052, 2057, 2080, 2081, 2082, 2103, 2111, 2139, 2213, 2247, 2281, 2359, 2364, 2376, 2378, 2392, 2442, 2451, 2531, 2604, 2680, 2706, 2713, 2768, 2811, 2820, 2856, 2874, 3109, 3110, 3138, 3184, 3210, 3352, 3474, 3479, 3547, 3551, 3568, 3623, 3633, 3683, 3693, 3736, 3737, 3806, 3942, 3957, 4299, 4443, 4460, 4467, 4507, 4517, 4530, 4690, 4695, 4827, 5064, 5452, 5464, 5489, 5559, 5839, 5845, 5849, 5915, 5916, 5957, 6009, 6143, 6518, 6536, 6642, 6662, 6796, 6797, 6876, 7009, 7082, 7106, 7120, 7408, 7478, 7869, 8297, 8298, 8299, 8742, 9035, 9204, 9222, 10032, 10164, 10410, 10938, 11828, 11849, 12637, 13058, 13061, 13421, 13965, 13977, 13987, 14033, 14178, 14190, 14249, 14439, 14531, 14644, 15210, 15364, 16341, 17513, 17730, 18657, 20356, 20425, 20591, 20779, 21184, 21185, 21189, 21367, 21420, 22907, 23170, 23545, 23651, 23736, 24722, 25462, 25714, 25847, 25848, 25849, 25850, 27751, 28118, 28121, 28352, 29495, 29608, 30140, 32907, 32908, 34636, 34637, 34638, 34639, 34640, 34641, 34642, 34643, 34644, 34645, 34646, 34647, 34648, 34649, 34650, 34651, 34652, 34653, 34654, 34655, 34656, 34657, 34658, 34659, 34660, 34661, 34662, 34663, 34664, 34665, 34666, 34667, 34668, 34713, 34714, 34715, 34721, 34872, 36232, 36233, 36253, 36254, 36264, 36286, 36287, 36353, 36560, 36561, 36562, 36563, 36566, 36569, 36570, 36571, 36572, 36573, 36574, 36575, 36576, 36577, 36578, 36579, 36580, 36581, 36582, 36583, 36584, 36591, 36771, 36776, 36777, 36925, 36931, 36932, 36938, 36939, 36941, 36943, 36967, 37064, 37081, 37082, 37083, 37084, 37085, 37086, 37087, 37088, 37089, 37090, 37091, 37092, 37093, 37094, 37095, 37096, 37097, 37098, 37099, 37100, 37101, 37102, 37103, 37104, 37105, 37110, 37131, 37132, 37145, 37175, 37182, 37231, 37371, 37373, 37374, 37375, 37385, 37387, 37471, 37552, 37553, 37554, 37555, 37556, 37557, 37605, 37606, 37642, 37643, 37644, 37686, 37699, 37938, 37939, 37989, 37990, 37991, 38018, 38019, 38091, 38092, 38103, 38149, 38191, 38192, 38197, 38216, 38299, 38320, 38384, 38435, 38456, 38486, 38583, 38584, 38585, 38602, 38603, 38612, 38613, 38674, 38689, 38796, 38945, 38946, 38947, 38948, 38949, 38950, 38951, 38952, 38953, 38954, 38955, 38956, 38957, 38963, 39017, 39034, 39039, 39040, 39041, 39042, 39043, 39044, 39045, 39047, 39048, 39054, 39096, 39097, 39099, 39100, 39101, 39102, 39103, 39104, 39128, 39201, 39244, 39245, 39250, 39251, 39555, 39615, 39713, 39747, 39748, 39763, 39813, 39814, 39837, 39871, 39873, 39880, 40009, 40012, 40014, 40015, 40016, 40017]\n"
          ]
        }
      ],
      "source": [
        "drop_list = []\n",
        "for index, row in train_dataset.iterrows():\n",
        "    for column in train_dataset.columns:\n",
        "        if row[column] == \"Undefined\":\n",
        "            drop_list.append(index)\n",
        "\n",
        "desired_column = \"ADR\" \n",
        "counter = 0\n",
        "for index, row in test_dataset.iterrows():\n",
        "    counter=counter+1\n",
        "    if counter >40060 :\n",
        "      break\n",
        "    if row[desired_column] == 0:\n",
        "        drop_list.append(index)\n",
        "print(drop_list)\n",
        "drop_list = list(set(drop_list))\n",
        "drop_list.sort()\n",
        "train_dataset.drop(drop_list , inplace = True)\n",
        "train_dataset = train_dataset.reset_index(drop=True)"
      ]
    },
    {
      "cell_type": "markdown",
      "metadata": {
        "id": "-4XQtNY1dvu4"
      },
      "source": [
        "### separate numerical and cate"
      ]
    },
    {
      "cell_type": "code",
      "execution_count": 5,
      "metadata": {
        "colab": {
          "base_uri": "https://localhost:8080/"
        },
        "id": "tnCIJVbPd0jg",
        "outputId": "b5008538-f051-4868-9504-480ee8d662ae"
      },
      "outputs": [
        {
          "name": "stdout",
          "output_type": "stream",
          "text": [
            "['ArrivalDateMonth', 'Meal', 'Country', 'MarketSegment', 'DistributionChannel', 'ReservedRoomType', 'AssignedRoomType', 'DepositType', 'CustomerType', 'ReservationStatus', 'IsCanceled', 'LeadTime', 'ArrivalDateYear', 'ArrivalDateWeekNumber', 'ArrivalDateDayOfMonth', 'StaysInWeekendNights', 'StaysInWeekNights', 'Adults', 'Children', 'Babies', 'IsRepeatedGuest', 'PreviousCancellations', 'PreviousBookingsNotCanceled', 'BookingChanges', 'DaysInWaitingList', 'ADR', 'RequiredCarParkingSpaces', 'TotalOfSpecialRequests']\n"
          ]
        }
      ],
      "source": [
        "# Selecting numerical columns\n",
        "numerical_data = train_dataset.select_dtypes(include=['int', 'float'])\n",
        "\n",
        "# Selecting categorical columns\n",
        "categorical_data = train_dataset.select_dtypes(include=['object'])\n",
        "\n",
        "# # Printing the selected columns\n",
        "# print(\"Numerical Columns:\")\n",
        "# print(numerical_data.columns.tolist())\n",
        "\n",
        "# print(\"\\nCategorical Columns:\")\n",
        "# print(categorical_data.columns.tolist())\n",
        "\n",
        "features = categorical_data.columns.tolist() + numerical_data.columns.tolist()\n",
        "print(features)"
      ]
    },
    {
      "cell_type": "code",
      "execution_count": 6,
      "metadata": {
        "colab": {
          "base_uri": "https://localhost:8080/"
        },
        "id": "JCpxS3qg0EMv",
        "outputId": "6d83467f-684a-41bb-b5ab-1aee2c06a0e0"
      },
      "outputs": [
        {
          "ename": "NameError",
          "evalue": "name 'standardscaler_train' is not defined",
          "output_type": "error",
          "traceback": [
            "\u001b[1;31m---------------------------------------------------------------------------\u001b[0m",
            "\u001b[1;31mNameError\u001b[0m                                 Traceback (most recent call last)",
            "Cell \u001b[1;32mIn[6], line 11\u001b[0m\n\u001b[0;32m      9\u001b[0m train_dataset[categorical_data\u001b[39m.\u001b[39mcolumns\u001b[39m.\u001b[39mtolist()] \u001b[39m=\u001b[39m train_dataset[categorical_data\u001b[39m.\u001b[39mcolumns\u001b[39m.\u001b[39mtolist()]\u001b[39m.\u001b[39mapply(LabelEncoder()\u001b[39m.\u001b[39mfit_transform)\n\u001b[0;32m     10\u001b[0m train_dataset_normalized \u001b[39m=\u001b[39m train_dataset \n\u001b[1;32m---> 11\u001b[0m train_dataset_normalized[features] \u001b[39m=\u001b[39m standardscaler_train\u001b[39m.\u001b[39mfit_transform(train_dataset[features])\n\u001b[0;32m     12\u001b[0m \u001b[39mprint\u001b[39m(train_dataset_normalized)\n",
            "\u001b[1;31mNameError\u001b[0m: name 'standardscaler_train' is not defined"
          ]
        }
      ],
      "source": [
        "\n",
        "from sklearn.preprocessing import StandardScaler\n",
        "from sklearn.preprocessing import OneHotEncoder\n",
        "from sklearn.preprocessing import LabelEncoder\n",
        "# standardscaler_train = StandardScaler()\n",
        "# standardscaler_train_y = StandardScaler()\n",
        "# y_train = np.reshape(y_train, (-1, 1))\n",
        "# y_train = standardscaler_train_y.fit_transform(y_train)\n",
        "\n",
        "train_dataset[categorical_data.columns.tolist()] = train_dataset[categorical_data.columns.tolist()].apply(LabelEncoder().fit_transform)\n",
        "train_dataset_normalized = train_dataset \n",
        "train_dataset_normalized[features] = standardscaler_train.fit_transform(train_dataset[features])\n",
        "# print(train_dataset_normalized)\n",
        "print(categorical_data.columns.tolist())"
      ]
    },
    {
      "cell_type": "markdown",
      "metadata": {
        "id": "GzVvHvS50_kW"
      },
      "source": [
        "###separate x and y"
      ]
    },
    {
      "cell_type": "code",
      "execution_count": 137,
      "metadata": {
        "id": "qL1qZqmQ1EV1"
      },
      "outputs": [],
      "source": [
        "y_train = train_dataset_normalized[\"ADR\"]\n",
        "X_train = train_dataset_normalized.drop(columns = 'ADR')"
      ]
    },
    {
      "cell_type": "markdown",
      "metadata": {
        "id": "dx7ciKDg1Tbf"
      },
      "source": [
        "## test preprocesing"
      ]
    },
    {
      "cell_type": "markdown",
      "metadata": {
        "id": "gUWNruow1Tbg"
      },
      "source": [
        "###find Undefined data and remove that row"
      ]
    },
    {
      "cell_type": "code",
      "execution_count": 138,
      "metadata": {
        "id": "nZ9IqD8C1Tbg"
      },
      "outputs": [],
      "source": [
        "drop_list = []\n",
        "for index, row in test_dataset.iterrows():\n",
        "    for column in test_dataset.columns:\n",
        "        if row[column] == \"Undefined\":\n",
        "            drop_list.append(index)\n",
        "desired_column = \"ADR\" \n",
        "counter = 0\n",
        "for index, row in test_dataset.iterrows():\n",
        "    counter=counter+1\n",
        "    if counter >79330 :\n",
        "      break\n",
        "    if row[desired_column] == 0:\n",
        "        drop_list.append(index)\n",
        "\n",
        "drop_list = list(set(drop_list))\n",
        "drop_list.sort()\n",
        "test_dataset.drop(drop_list , inplace = True)\n",
        "test_dataset = test_dataset.reset_index(drop=True)"
      ]
    },
    {
      "cell_type": "markdown",
      "metadata": {
        "id": "Dc87wYYb1Tbh"
      },
      "source": [
        "### separate numerical and cate"
      ]
    },
    {
      "cell_type": "code",
      "execution_count": 9,
      "metadata": {
        "colab": {
          "base_uri": "https://localhost:8080/"
        },
        "id": "_AJPN-BS1Tbh",
        "outputId": "e0def6b2-037c-4ae7-c14d-a5e6ed000cc8"
      },
      "outputs": [
        {
          "name": "stdout",
          "output_type": "stream",
          "text": [
            "['IsCanceled', 'LeadTime', 'ArrivalDateYear', 'ArrivalDateMonth', 'ArrivalDateWeekNumber', 'ArrivalDateDayOfMonth', 'StaysInWeekendNights', 'StaysInWeekNights', 'Adults', 'Children', 'Babies', 'Meal', 'Country', 'MarketSegment', 'DistributionChannel', 'IsRepeatedGuest', 'PreviousCancellations', 'PreviousBookingsNotCanceled', 'ReservedRoomType', 'AssignedRoomType', 'BookingChanges', 'DepositType', 'DaysInWaitingList', 'CustomerType', 'ADR', 'RequiredCarParkingSpaces', 'TotalOfSpecialRequests', 'ReservationStatus']\n",
            "['IsCanceled', 'LeadTime', 'ArrivalDateYear', 'ArrivalDateMonth', 'ArrivalDateWeekNumber', 'ArrivalDateDayOfMonth', 'StaysInWeekendNights', 'StaysInWeekNights', 'Adults', 'Children', 'Babies', 'Meal', 'Country', 'MarketSegment', 'DistributionChannel', 'IsRepeatedGuest', 'PreviousCancellations', 'PreviousBookingsNotCanceled', 'ReservedRoomType', 'AssignedRoomType', 'BookingChanges', 'DepositType', 'DaysInWaitingList', 'CustomerType', 'ADR', 'RequiredCarParkingSpaces', 'TotalOfSpecialRequests', 'ReservationStatus']\n"
          ]
        }
      ],
      "source": [
        "# Selecting numerical columns\n",
        "numerical_data = test_dataset.select_dtypes(include=['int', 'float'])\n",
        "\n",
        "# Selecting categorical columns\n",
        "categorical_data = test_dataset.select_dtypes(include=['object'])\n",
        "\n",
        "# # Printing the selected columns\n",
        "# print(\"Numerical Columns:\")\n",
        "# print(numerical_data.columns.tolist())\n",
        "\n",
        "# print(\"\\nCategorical Columns:\")\n",
        "# print(categorical_data.columns.tolist())\n",
        "\n",
        "features = categorical_data.columns.tolist() + numerical_data.columns.tolist()\n",
        "print(features)\n",
        "print(numerical_data.columns.tolist())"
      ]
    },
    {
      "cell_type": "code",
      "execution_count": 7,
      "metadata": {
        "colab": {
          "base_uri": "https://localhost:8080/"
        },
        "id": "k3wjBWAs1Tbh",
        "outputId": "8453a37a-94c6-4eda-878c-5f78b4541e19"
      },
      "outputs": [
        {
          "ename": "NameError",
          "evalue": "name 'standardscaler_train' is not defined",
          "output_type": "error",
          "traceback": [
            "\u001b[1;31m---------------------------------------------------------------------------\u001b[0m",
            "\u001b[1;31mNameError\u001b[0m                                 Traceback (most recent call last)",
            "Cell \u001b[1;32mIn[7], line 8\u001b[0m\n\u001b[0;32m      6\u001b[0m test_dataset[categorical_data\u001b[39m.\u001b[39mcolumns\u001b[39m.\u001b[39mtolist()] \u001b[39m=\u001b[39m test_dataset[categorical_data\u001b[39m.\u001b[39mcolumns\u001b[39m.\u001b[39mtolist()]\u001b[39m.\u001b[39mapply(LabelEncoder()\u001b[39m.\u001b[39mfit_transform)\n\u001b[0;32m      7\u001b[0m test_dataset_normalized \u001b[39m=\u001b[39m test_dataset\n\u001b[1;32m----> 8\u001b[0m test_dataset_normalized[features] \u001b[39m=\u001b[39m standardscaler_train\u001b[39m.\u001b[39mtransform(test_dataset[features])\n\u001b[0;32m      9\u001b[0m \u001b[39mprint\u001b[39m(categorical_data\u001b[39m.\u001b[39mcolumns\u001b[39m.\u001b[39mtolist())\n",
            "\u001b[1;31mNameError\u001b[0m: name 'standardscaler_train' is not defined"
          ]
        }
      ],
      "source": [
        "\n",
        "from sklearn.preprocessing import StandardScaler\n",
        "from sklearn.preprocessing import OneHotEncoder\n",
        "from sklearn.preprocessing import LabelEncoder\n",
        "test_scaler =StandardScaler()\n",
        "# y_test = standardscaler_test_y.fit_transform(y_test)\n",
        "test_dataset[categorical_data.columns.tolist()] = test_dataset[categorical_data.columns.tolist()].apply(LabelEncoder().fit_transform)\n",
        "test_dataset_normalized = test_dataset\n",
        "test_dataset_normalized[features] = standardscaler_train.transform(test_dataset[features])\n",
        "print(categorical_data.columns.tolist())"
      ]
    },
    {
      "cell_type": "markdown",
      "metadata": {
        "id": "DOmsIWw41Tbi"
      },
      "source": [
        "###separate x and y"
      ]
    },
    {
      "cell_type": "code",
      "execution_count": 141,
      "metadata": {
        "id": "-AiN8us11Tbi"
      },
      "outputs": [],
      "source": [
        "y_test = test_dataset_normalized[\"ADR\"]\n",
        "X_test = test_dataset_normalized.drop(columns = 'ADR')"
      ]
    },
    {
      "cell_type": "markdown",
      "metadata": {
        "id": "GZPhX2pR2T8f"
      },
      "source": [
        "## learning time"
      ]
    },
    {
      "cell_type": "code",
      "execution_count": 142,
      "metadata": {
        "id": "FgBHXwFg2a5E"
      },
      "outputs": [],
      "source": [
        "from sklearn.svm import SVR\n",
        "\n",
        "svr = SVR(kernel='rbf')\n",
        "svr.fit(X_train, y_train)\n",
        "y_pred = svr.predict(X_test)\n"
      ]
    },
    {
      "cell_type": "code",
      "execution_count": 143,
      "metadata": {
        "colab": {
          "base_uri": "https://localhost:8080/"
        },
        "id": "A_PkZcC-3AtU",
        "outputId": "3f6a182f-f37c-419c-fa12-3557c94346ac"
      },
      "outputs": [
        {
          "name": "stdout",
          "output_type": "stream",
          "text": [
            "SVR Training MSE: 0.6605444862777878\n",
            "SVR Training R2 Score: -0.4248320147706788\n"
          ]
        }
      ],
      "source": [
        "from sklearn.metrics import mean_squared_error, r2_score\n",
        "mse_test = mean_squared_error(y_test, y_pred)\n",
        "r2_test = r2_score(y_test, y_pred)\n",
        "print(\"SVR Training MSE:\", mse_test)\n",
        "print(\"SVR Training R2 Score:\", r2_test)\n"
      ]
    },
    {
      "cell_type": "markdown",
      "metadata": {
        "id": "QoekBgQg-2DR"
      },
      "source": [
        "saving data\n"
      ]
    },
    {
      "cell_type": "code",
      "execution_count": 147,
      "metadata": {
        "id": "3UdQbSWG-32a"
      },
      "outputs": [],
      "source": [
        "# y_pred_true =standardscaler_test_y.inverse_transform(y_pred)\n",
        "# y_test_true = standardscaler_test_y.inverse_transform(y_test)\n",
        "diff = y_test  - y_pred \n",
        "data = {'Predicted Price': y_pred, 'Real Price': y_test, 'Difference': diff}\n",
        "df = pd.DataFrame(data)\n",
        "df.to_excel('finall_result_Q7.xlsx', index=False)"
      ]
    },
    {
      "cell_type": "markdown",
      "metadata": {
        "id": "vW9eBxAM7HZ5"
      },
      "source": []
    }
  ],
  "metadata": {
    "accelerator": "GPU",
    "colab": {
      "collapsed_sections": [
        "USdShw7Q2Cnm",
        "-gNwnzfcN8l7",
        "4kGUaQR5N8l8",
        "ozA9PHR7fHf5",
        "-4XQtNY1dvu4"
      ],
      "gpuType": "T4",
      "provenance": []
    },
    "kernelspec": {
      "display_name": "Python 3",
      "name": "python3"
    },
    "language_info": {
      "codemirror_mode": {
        "name": "ipython",
        "version": 3
      },
      "file_extension": ".py",
      "mimetype": "text/x-python",
      "name": "python",
      "nbconvert_exporter": "python",
      "pygments_lexer": "ipython3",
      "version": "3.11.4"
    }
  },
  "nbformat": 4,
  "nbformat_minor": 0
}
